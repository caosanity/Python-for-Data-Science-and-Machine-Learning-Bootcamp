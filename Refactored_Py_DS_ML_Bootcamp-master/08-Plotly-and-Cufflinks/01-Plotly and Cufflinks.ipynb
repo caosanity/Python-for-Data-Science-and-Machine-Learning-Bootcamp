{
 "cells": [
  {
   "cell_type": "markdown",
   "metadata": {},
   "source": [
    "___\n",
    "\n",
    "<a href='http://www.pieriandata.com'> <img src='../Pierian_Data_Logo.png' /></a>\n",
    "___\n",
    "# Plotly and Cufflinks"
   ]
  },
  {
   "cell_type": "markdown",
   "metadata": {},
   "source": [
    "Plotly is a library that allows you to create interactive plots that you can use in dashboards or websites (you can save them as html files or static images).\n",
    "\n",
    "## Installation\n",
    "\n",
    "In order for this all to work, you'll need to install plotly and cufflinks to call plots directly off of a pandas dataframe. These libraries are not currently available through **conda** but are available through **pip**. Install the libraries at your command line/terminal using:\n",
    "\n",
    "    pip install plotly\n",
    "    pip install cufflinks\n",
    "\n",
    "** NOTE: Make sure you only have one installation of Python on your computer when you do this, otherwise the installation may not work. **\n",
    "\n",
    "## Imports and Set-up"
   ]
  },
  {
   "cell_type": "code",
   "execution_count": 3,
   "metadata": {},
   "outputs": [],
   "source": [
    "import pandas as pd\n",
    "import numpy as np\n",
    "%matplotlib inline"
   ]
  },
  {
   "cell_type": "code",
   "execution_count": 4,
   "metadata": {},
   "outputs": [
    {
     "name": "stdout",
     "output_type": "stream",
     "text": [
      "5.5.0\n"
     ]
    }
   ],
   "source": [
    "from plotly import __version__\n",
    "from plotly.offline import download_plotlyjs, init_notebook_mode, plot, iplot\n",
    "\n",
    "print(__version__) # requires version >= 1.9.0"
   ]
  },
  {
   "cell_type": "code",
   "execution_count": 5,
   "metadata": {},
   "outputs": [],
   "source": [
    "import cufflinks as cf"
   ]
  },
  {
   "cell_type": "code",
   "execution_count": 6,
   "metadata": {},
   "outputs": [
    {
     "data": {
      "text/html": [
       "        <script type=\"text/javascript\">\n",
       "        window.PlotlyConfig = {MathJaxConfig: 'local'};\n",
       "        if (window.MathJax) {MathJax.Hub.Config({SVG: {font: \"STIX-Web\"}});}\n",
       "        if (typeof require !== 'undefined') {\n",
       "        require.undef(\"plotly\");\n",
       "        requirejs.config({\n",
       "            paths: {\n",
       "                'plotly': ['https://cdn.plot.ly/plotly-2.8.3.min']\n",
       "            }\n",
       "        });\n",
       "        require(['plotly'], function(Plotly) {\n",
       "            window._Plotly = Plotly;\n",
       "        });\n",
       "        }\n",
       "        </script>\n",
       "        "
      ]
     },
     "metadata": {},
     "output_type": "display_data"
    }
   ],
   "source": [
    "# For Notebooks\n",
    "init_notebook_mode(connected=True)"
   ]
  },
  {
   "cell_type": "code",
   "execution_count": 7,
   "metadata": {},
   "outputs": [
    {
     "data": {
      "text/html": [
       "        <script type=\"text/javascript\">\n",
       "        window.PlotlyConfig = {MathJaxConfig: 'local'};\n",
       "        if (window.MathJax) {MathJax.Hub.Config({SVG: {font: \"STIX-Web\"}});}\n",
       "        if (typeof require !== 'undefined') {\n",
       "        require.undef(\"plotly\");\n",
       "        requirejs.config({\n",
       "            paths: {\n",
       "                'plotly': ['https://cdn.plot.ly/plotly-2.8.3.min']\n",
       "            }\n",
       "        });\n",
       "        require(['plotly'], function(Plotly) {\n",
       "            window._Plotly = Plotly;\n",
       "        });\n",
       "        }\n",
       "        </script>\n",
       "        "
      ]
     },
     "metadata": {},
     "output_type": "display_data"
    }
   ],
   "source": [
    "# For offline use\n",
    "cf.go_offline()"
   ]
  },
  {
   "cell_type": "markdown",
   "metadata": {},
   "source": [
    "### Fake Data"
   ]
  },
  {
   "cell_type": "code",
   "execution_count": 11,
   "metadata": {},
   "outputs": [],
   "source": [
    "df = pd.DataFrame(np.random.randn(100,4),columns='A B C D'.split())"
   ]
  },
  {
   "cell_type": "code",
   "execution_count": 12,
   "metadata": {},
   "outputs": [
    {
     "data": {
      "text/html": [
       "<div>\n",
       "<style scoped>\n",
       "    .dataframe tbody tr th:only-of-type {\n",
       "        vertical-align: middle;\n",
       "    }\n",
       "\n",
       "    .dataframe tbody tr th {\n",
       "        vertical-align: top;\n",
       "    }\n",
       "\n",
       "    .dataframe thead th {\n",
       "        text-align: right;\n",
       "    }\n",
       "</style>\n",
       "<table border=\"1\" class=\"dataframe\">\n",
       "  <thead>\n",
       "    <tr style=\"text-align: right;\">\n",
       "      <th></th>\n",
       "      <th>A</th>\n",
       "      <th>B</th>\n",
       "      <th>C</th>\n",
       "      <th>D</th>\n",
       "    </tr>\n",
       "  </thead>\n",
       "  <tbody>\n",
       "    <tr>\n",
       "      <th>0</th>\n",
       "      <td>0.660927</td>\n",
       "      <td>2.136914</td>\n",
       "      <td>0.243954</td>\n",
       "      <td>-0.389382</td>\n",
       "    </tr>\n",
       "    <tr>\n",
       "      <th>1</th>\n",
       "      <td>-0.628394</td>\n",
       "      <td>1.121823</td>\n",
       "      <td>-0.568486</td>\n",
       "      <td>0.848987</td>\n",
       "    </tr>\n",
       "    <tr>\n",
       "      <th>2</th>\n",
       "      <td>0.595829</td>\n",
       "      <td>0.265727</td>\n",
       "      <td>-0.398983</td>\n",
       "      <td>-0.303746</td>\n",
       "    </tr>\n",
       "    <tr>\n",
       "      <th>3</th>\n",
       "      <td>-0.252355</td>\n",
       "      <td>-0.630500</td>\n",
       "      <td>1.470445</td>\n",
       "      <td>-0.660105</td>\n",
       "    </tr>\n",
       "    <tr>\n",
       "      <th>4</th>\n",
       "      <td>-0.499114</td>\n",
       "      <td>2.167181</td>\n",
       "      <td>-0.877365</td>\n",
       "      <td>2.358017</td>\n",
       "    </tr>\n",
       "  </tbody>\n",
       "</table>\n",
       "</div>"
      ],
      "text/plain": [
       "          A         B         C         D\n",
       "0  0.660927  2.136914  0.243954 -0.389382\n",
       "1 -0.628394  1.121823 -0.568486  0.848987\n",
       "2  0.595829  0.265727 -0.398983 -0.303746\n",
       "3 -0.252355 -0.630500  1.470445 -0.660105\n",
       "4 -0.499114  2.167181 -0.877365  2.358017"
      ]
     },
     "execution_count": 12,
     "metadata": {},
     "output_type": "execute_result"
    }
   ],
   "source": [
    "df.head()"
   ]
  },
  {
   "cell_type": "code",
   "execution_count": 13,
   "metadata": {},
   "outputs": [],
   "source": [
    "df2 = pd.DataFrame({'Category':['A','B','C'],'Values':[32,43,50]})"
   ]
  },
  {
   "cell_type": "code",
   "execution_count": 14,
   "metadata": {},
   "outputs": [
    {
     "data": {
      "text/html": [
       "<div>\n",
       "<style scoped>\n",
       "    .dataframe tbody tr th:only-of-type {\n",
       "        vertical-align: middle;\n",
       "    }\n",
       "\n",
       "    .dataframe tbody tr th {\n",
       "        vertical-align: top;\n",
       "    }\n",
       "\n",
       "    .dataframe thead th {\n",
       "        text-align: right;\n",
       "    }\n",
       "</style>\n",
       "<table border=\"1\" class=\"dataframe\">\n",
       "  <thead>\n",
       "    <tr style=\"text-align: right;\">\n",
       "      <th></th>\n",
       "      <th>Category</th>\n",
       "      <th>Values</th>\n",
       "    </tr>\n",
       "  </thead>\n",
       "  <tbody>\n",
       "    <tr>\n",
       "      <th>0</th>\n",
       "      <td>A</td>\n",
       "      <td>32</td>\n",
       "    </tr>\n",
       "    <tr>\n",
       "      <th>1</th>\n",
       "      <td>B</td>\n",
       "      <td>43</td>\n",
       "    </tr>\n",
       "    <tr>\n",
       "      <th>2</th>\n",
       "      <td>C</td>\n",
       "      <td>50</td>\n",
       "    </tr>\n",
       "  </tbody>\n",
       "</table>\n",
       "</div>"
      ],
      "text/plain": [
       "  Category  Values\n",
       "0        A      32\n",
       "1        B      43\n",
       "2        C      50"
      ]
     },
     "execution_count": 14,
     "metadata": {},
     "output_type": "execute_result"
    }
   ],
   "source": [
    "df2.head()"
   ]
  },
  {
   "cell_type": "markdown",
   "metadata": {},
   "source": [
    "## Using Cufflinks and iplot()\n",
    "\n",
    "* scatter\n",
    "* bar\n",
    "* box\n",
    "* spread\n",
    "* ratio\n",
    "* heatmap\n",
    "* surface\n",
    "* histogram\n",
    "* bubble"
   ]
  },
  {
   "cell_type": "markdown",
   "metadata": {},
   "source": [
    "## Scatter"
   ]
  },
  {
   "cell_type": "code",
   "execution_count": 15,
   "metadata": {},
   "outputs": [
    {
     "data": {
      "application/vnd.plotly.v1+json": {
       "config": {
        "linkText": "Export to plot.ly",
        "plotlyServerURL": "https://plot.ly",
        "showLink": true
       },
       "data": [
        {
         "line": {
          "color": "rgba(255, 153, 51, 1.0)",
          "dash": "solid",
          "shape": "linear",
          "width": 1.3
         },
         "marker": {
          "size": 10,
          "symbol": "circle"
         },
         "mode": "markers",
         "name": "B",
         "text": "",
         "type": "scatter",
         "x": [
          0.6609269625981522,
          -0.6283942023252015,
          0.5958289057467888,
          -0.25235480998017024,
          -0.4991144493410042,
          1.5167690595310814,
          1.5862310771988744,
          -2.0038547936463633,
          0.15151721273618973,
          0.2589386222594662,
          -0.8055696610930111,
          0.8312013344819981,
          0.1303733282983725,
          -1.0396818423548286,
          0.6530713205398567,
          -0.6505989805969854,
          -0.18596098484788937,
          0.6054617971802655,
          -0.2811898686118027,
          -0.13912634769480767,
          0.8446396122125646,
          -0.68578985663953,
          -0.6531203665961344,
          -1.6731759119240543,
          2.209985229565079,
          0.3404983837596926,
          -0.6791549259903613,
          0.626551904680079,
          0.4365449907031151,
          0.22223603549504206,
          -0.05514042399957164,
          -0.5478591051219441,
          -0.272608358787428,
          0.13624914914319483,
          2.0107444355148316,
          -1.1295515219688383,
          -1.9308731102338974,
          -0.869451665441127,
          0.24225048593408174,
          0.5277492128113745,
          -0.39944870589815207,
          -0.3028181745654215,
          -0.36208010777438204,
          -0.6371805534587353,
          -0.5694189831819202,
          1.461096225783802,
          -0.4994736094715912,
          0.29929114541333546,
          1.2041695390914506,
          -0.9793564598366558,
          0.01807837432378152,
          -1.103587706826982,
          -0.18817011528619612,
          2.5352245967487885,
          -1.4285113376487508,
          0.1361915367915166,
          0.9006406460730992,
          -0.5298534434558503,
          -1.213528288936742,
          1.8601487302024202,
          0.3695423990074541,
          1.296044763586415,
          0.1395186998537509,
          1.719413311595714,
          1.2114653178792933,
          0.03910624479884292,
          0.2545787261537919,
          0.023686667231006552,
          0.8541797670508043,
          0.4593274411390989,
          1.0033874555379092,
          -0.2873415179522952,
          -0.9384778704654327,
          -0.40658629235198673,
          -2.158070369516635,
          -1.0527523510456966,
          -1.210264349440857,
          -0.8228197170689329,
          0.1435983858401079,
          0.08212759198765562,
          0.5047104711807551,
          -0.1288060629054838,
          1.6932702499770058,
          -0.6471071694000822,
          -0.6856545007792552,
          -1.4449240018310907,
          0.05111083881877059,
          -0.08977932715227151,
          1.2448916134290704,
          -0.10907787099641833,
          0.41576838297650387,
          0.034355047528476276,
          1.737306222848453,
          1.2879506488485895,
          -0.5445920228908319,
          -0.011791285460258594,
          -1.3429356371363272,
          0.340923499794586,
          0.7271609744140205,
          0.11415981620587828
         ],
         "y": [
          2.1369138719324097,
          1.1218232241102921,
          0.26572688661593546,
          -0.6305003101378791,
          2.167181040671889,
          -0.23150609074463332,
          1.5260914845192142,
          1.8996590584310187,
          -0.5308756528251863,
          -1.1285592958279023,
          -0.7791266507171293,
          -1.6911442048922218,
          0.03259993470017688,
          -1.5301542368770833,
          -0.943124496564741,
          0.6401111021980387,
          0.5555916097716914,
          -0.47944004993930484,
          -0.3734154861180155,
          -2.3193218374592033,
          -0.25769903978196274,
          1.0901689928043339,
          -0.3787309412507085,
          0.6941815251138934,
          -0.41055317577509276,
          -0.7938391689626703,
          -0.09216651037745185,
          1.0536237513050577,
          -0.01771299556433199,
          -1.1354493905039764,
          0.36405402739491627,
          -0.25022937939597756,
          1.5460158671741624,
          -0.08797194860936755,
          -0.2693182997508638,
          -1.6945406701465857,
          -1.6654886030470293,
          -0.8449708912564343,
          0.9057644458698647,
          0.4930488497054626,
          -0.514550577625808,
          0.08399712687451115,
          -0.7120181921708862,
          -0.22188650000595753,
          -0.996247575974823,
          -2.6283366939612494,
          -0.3806094830267701,
          0.1410881180140036,
          0.5544826175873403,
          0.32787605876710624,
          0.04302194321889322,
          1.4248894903070992,
          -1.2159827938969654,
          0.37057004231054885,
          -0.3998796372393718,
          0.09013059092878399,
          0.897677474178713,
          1.0996054030628408,
          0.04685669530975385,
          0.8705743484320358,
          -1.2928816250304203,
          -1.993744959568647,
          1.3576023433880942,
          0.5270461933088814,
          -1.1143133576599562,
          -0.4535757125183196,
          -1.9473052612596844,
          -0.1578392966742072,
          1.3490461776070415,
          0.49834492043962886,
          -0.3176243733857624,
          0.14317832901426178,
          1.9711251053897287,
          -0.6960179115421854,
          0.5202843097161529,
          0.7294212209929505,
          -0.02206115315984238,
          -1.7717378674646553,
          1.741175628507748,
          1.0629352168952446,
          0.1386737629402777,
          0.644833401664853,
          -1.158732454088803,
          -0.8893251447971611,
          -0.09115194355746586,
          -0.8369650243486435,
          0.18727737894972848,
          2.1398181622064754,
          0.9045169788207471,
          0.6135187489031853,
          -0.0163735787247299,
          -0.048123225921188305,
          -0.1934586058706064,
          -1.3068728615356302,
          -0.16814932656604875,
          -1.7608336285547592,
          -0.9560428706568221,
          -2.4038775493786373,
          -0.24616587387684877,
          0.9363418620845582
         ]
        }
       ],
       "layout": {
        "legend": {
         "bgcolor": "#F5F6F9",
         "font": {
          "color": "#4D5663"
         }
        },
        "paper_bgcolor": "#F5F6F9",
        "plot_bgcolor": "#F5F6F9",
        "template": {
         "data": {
          "bar": [
           {
            "error_x": {
             "color": "#2a3f5f"
            },
            "error_y": {
             "color": "#2a3f5f"
            },
            "marker": {
             "line": {
              "color": "#E5ECF6",
              "width": 0.5
             },
             "pattern": {
              "fillmode": "overlay",
              "size": 10,
              "solidity": 0.2
             }
            },
            "type": "bar"
           }
          ],
          "barpolar": [
           {
            "marker": {
             "line": {
              "color": "#E5ECF6",
              "width": 0.5
             },
             "pattern": {
              "fillmode": "overlay",
              "size": 10,
              "solidity": 0.2
             }
            },
            "type": "barpolar"
           }
          ],
          "carpet": [
           {
            "aaxis": {
             "endlinecolor": "#2a3f5f",
             "gridcolor": "white",
             "linecolor": "white",
             "minorgridcolor": "white",
             "startlinecolor": "#2a3f5f"
            },
            "baxis": {
             "endlinecolor": "#2a3f5f",
             "gridcolor": "white",
             "linecolor": "white",
             "minorgridcolor": "white",
             "startlinecolor": "#2a3f5f"
            },
            "type": "carpet"
           }
          ],
          "choropleth": [
           {
            "colorbar": {
             "outlinewidth": 0,
             "ticks": ""
            },
            "type": "choropleth"
           }
          ],
          "contour": [
           {
            "colorbar": {
             "outlinewidth": 0,
             "ticks": ""
            },
            "colorscale": [
             [
              0,
              "#0d0887"
             ],
             [
              0.1111111111111111,
              "#46039f"
             ],
             [
              0.2222222222222222,
              "#7201a8"
             ],
             [
              0.3333333333333333,
              "#9c179e"
             ],
             [
              0.4444444444444444,
              "#bd3786"
             ],
             [
              0.5555555555555556,
              "#d8576b"
             ],
             [
              0.6666666666666666,
              "#ed7953"
             ],
             [
              0.7777777777777778,
              "#fb9f3a"
             ],
             [
              0.8888888888888888,
              "#fdca26"
             ],
             [
              1,
              "#f0f921"
             ]
            ],
            "type": "contour"
           }
          ],
          "contourcarpet": [
           {
            "colorbar": {
             "outlinewidth": 0,
             "ticks": ""
            },
            "type": "contourcarpet"
           }
          ],
          "heatmap": [
           {
            "colorbar": {
             "outlinewidth": 0,
             "ticks": ""
            },
            "colorscale": [
             [
              0,
              "#0d0887"
             ],
             [
              0.1111111111111111,
              "#46039f"
             ],
             [
              0.2222222222222222,
              "#7201a8"
             ],
             [
              0.3333333333333333,
              "#9c179e"
             ],
             [
              0.4444444444444444,
              "#bd3786"
             ],
             [
              0.5555555555555556,
              "#d8576b"
             ],
             [
              0.6666666666666666,
              "#ed7953"
             ],
             [
              0.7777777777777778,
              "#fb9f3a"
             ],
             [
              0.8888888888888888,
              "#fdca26"
             ],
             [
              1,
              "#f0f921"
             ]
            ],
            "type": "heatmap"
           }
          ],
          "heatmapgl": [
           {
            "colorbar": {
             "outlinewidth": 0,
             "ticks": ""
            },
            "colorscale": [
             [
              0,
              "#0d0887"
             ],
             [
              0.1111111111111111,
              "#46039f"
             ],
             [
              0.2222222222222222,
              "#7201a8"
             ],
             [
              0.3333333333333333,
              "#9c179e"
             ],
             [
              0.4444444444444444,
              "#bd3786"
             ],
             [
              0.5555555555555556,
              "#d8576b"
             ],
             [
              0.6666666666666666,
              "#ed7953"
             ],
             [
              0.7777777777777778,
              "#fb9f3a"
             ],
             [
              0.8888888888888888,
              "#fdca26"
             ],
             [
              1,
              "#f0f921"
             ]
            ],
            "type": "heatmapgl"
           }
          ],
          "histogram": [
           {
            "marker": {
             "pattern": {
              "fillmode": "overlay",
              "size": 10,
              "solidity": 0.2
             }
            },
            "type": "histogram"
           }
          ],
          "histogram2d": [
           {
            "colorbar": {
             "outlinewidth": 0,
             "ticks": ""
            },
            "colorscale": [
             [
              0,
              "#0d0887"
             ],
             [
              0.1111111111111111,
              "#46039f"
             ],
             [
              0.2222222222222222,
              "#7201a8"
             ],
             [
              0.3333333333333333,
              "#9c179e"
             ],
             [
              0.4444444444444444,
              "#bd3786"
             ],
             [
              0.5555555555555556,
              "#d8576b"
             ],
             [
              0.6666666666666666,
              "#ed7953"
             ],
             [
              0.7777777777777778,
              "#fb9f3a"
             ],
             [
              0.8888888888888888,
              "#fdca26"
             ],
             [
              1,
              "#f0f921"
             ]
            ],
            "type": "histogram2d"
           }
          ],
          "histogram2dcontour": [
           {
            "colorbar": {
             "outlinewidth": 0,
             "ticks": ""
            },
            "colorscale": [
             [
              0,
              "#0d0887"
             ],
             [
              0.1111111111111111,
              "#46039f"
             ],
             [
              0.2222222222222222,
              "#7201a8"
             ],
             [
              0.3333333333333333,
              "#9c179e"
             ],
             [
              0.4444444444444444,
              "#bd3786"
             ],
             [
              0.5555555555555556,
              "#d8576b"
             ],
             [
              0.6666666666666666,
              "#ed7953"
             ],
             [
              0.7777777777777778,
              "#fb9f3a"
             ],
             [
              0.8888888888888888,
              "#fdca26"
             ],
             [
              1,
              "#f0f921"
             ]
            ],
            "type": "histogram2dcontour"
           }
          ],
          "mesh3d": [
           {
            "colorbar": {
             "outlinewidth": 0,
             "ticks": ""
            },
            "type": "mesh3d"
           }
          ],
          "parcoords": [
           {
            "line": {
             "colorbar": {
              "outlinewidth": 0,
              "ticks": ""
             }
            },
            "type": "parcoords"
           }
          ],
          "pie": [
           {
            "automargin": true,
            "type": "pie"
           }
          ],
          "scatter": [
           {
            "marker": {
             "colorbar": {
              "outlinewidth": 0,
              "ticks": ""
             }
            },
            "type": "scatter"
           }
          ],
          "scatter3d": [
           {
            "line": {
             "colorbar": {
              "outlinewidth": 0,
              "ticks": ""
             }
            },
            "marker": {
             "colorbar": {
              "outlinewidth": 0,
              "ticks": ""
             }
            },
            "type": "scatter3d"
           }
          ],
          "scattercarpet": [
           {
            "marker": {
             "colorbar": {
              "outlinewidth": 0,
              "ticks": ""
             }
            },
            "type": "scattercarpet"
           }
          ],
          "scattergeo": [
           {
            "marker": {
             "colorbar": {
              "outlinewidth": 0,
              "ticks": ""
             }
            },
            "type": "scattergeo"
           }
          ],
          "scattergl": [
           {
            "marker": {
             "colorbar": {
              "outlinewidth": 0,
              "ticks": ""
             }
            },
            "type": "scattergl"
           }
          ],
          "scattermapbox": [
           {
            "marker": {
             "colorbar": {
              "outlinewidth": 0,
              "ticks": ""
             }
            },
            "type": "scattermapbox"
           }
          ],
          "scatterpolar": [
           {
            "marker": {
             "colorbar": {
              "outlinewidth": 0,
              "ticks": ""
             }
            },
            "type": "scatterpolar"
           }
          ],
          "scatterpolargl": [
           {
            "marker": {
             "colorbar": {
              "outlinewidth": 0,
              "ticks": ""
             }
            },
            "type": "scatterpolargl"
           }
          ],
          "scatterternary": [
           {
            "marker": {
             "colorbar": {
              "outlinewidth": 0,
              "ticks": ""
             }
            },
            "type": "scatterternary"
           }
          ],
          "surface": [
           {
            "colorbar": {
             "outlinewidth": 0,
             "ticks": ""
            },
            "colorscale": [
             [
              0,
              "#0d0887"
             ],
             [
              0.1111111111111111,
              "#46039f"
             ],
             [
              0.2222222222222222,
              "#7201a8"
             ],
             [
              0.3333333333333333,
              "#9c179e"
             ],
             [
              0.4444444444444444,
              "#bd3786"
             ],
             [
              0.5555555555555556,
              "#d8576b"
             ],
             [
              0.6666666666666666,
              "#ed7953"
             ],
             [
              0.7777777777777778,
              "#fb9f3a"
             ],
             [
              0.8888888888888888,
              "#fdca26"
             ],
             [
              1,
              "#f0f921"
             ]
            ],
            "type": "surface"
           }
          ],
          "table": [
           {
            "cells": {
             "fill": {
              "color": "#EBF0F8"
             },
             "line": {
              "color": "white"
             }
            },
            "header": {
             "fill": {
              "color": "#C8D4E3"
             },
             "line": {
              "color": "white"
             }
            },
            "type": "table"
           }
          ]
         },
         "layout": {
          "annotationdefaults": {
           "arrowcolor": "#2a3f5f",
           "arrowhead": 0,
           "arrowwidth": 1
          },
          "autotypenumbers": "strict",
          "coloraxis": {
           "colorbar": {
            "outlinewidth": 0,
            "ticks": ""
           }
          },
          "colorscale": {
           "diverging": [
            [
             0,
             "#8e0152"
            ],
            [
             0.1,
             "#c51b7d"
            ],
            [
             0.2,
             "#de77ae"
            ],
            [
             0.3,
             "#f1b6da"
            ],
            [
             0.4,
             "#fde0ef"
            ],
            [
             0.5,
             "#f7f7f7"
            ],
            [
             0.6,
             "#e6f5d0"
            ],
            [
             0.7,
             "#b8e186"
            ],
            [
             0.8,
             "#7fbc41"
            ],
            [
             0.9,
             "#4d9221"
            ],
            [
             1,
             "#276419"
            ]
           ],
           "sequential": [
            [
             0,
             "#0d0887"
            ],
            [
             0.1111111111111111,
             "#46039f"
            ],
            [
             0.2222222222222222,
             "#7201a8"
            ],
            [
             0.3333333333333333,
             "#9c179e"
            ],
            [
             0.4444444444444444,
             "#bd3786"
            ],
            [
             0.5555555555555556,
             "#d8576b"
            ],
            [
             0.6666666666666666,
             "#ed7953"
            ],
            [
             0.7777777777777778,
             "#fb9f3a"
            ],
            [
             0.8888888888888888,
             "#fdca26"
            ],
            [
             1,
             "#f0f921"
            ]
           ],
           "sequentialminus": [
            [
             0,
             "#0d0887"
            ],
            [
             0.1111111111111111,
             "#46039f"
            ],
            [
             0.2222222222222222,
             "#7201a8"
            ],
            [
             0.3333333333333333,
             "#9c179e"
            ],
            [
             0.4444444444444444,
             "#bd3786"
            ],
            [
             0.5555555555555556,
             "#d8576b"
            ],
            [
             0.6666666666666666,
             "#ed7953"
            ],
            [
             0.7777777777777778,
             "#fb9f3a"
            ],
            [
             0.8888888888888888,
             "#fdca26"
            ],
            [
             1,
             "#f0f921"
            ]
           ]
          },
          "colorway": [
           "#636efa",
           "#EF553B",
           "#00cc96",
           "#ab63fa",
           "#FFA15A",
           "#19d3f3",
           "#FF6692",
           "#B6E880",
           "#FF97FF",
           "#FECB52"
          ],
          "font": {
           "color": "#2a3f5f"
          },
          "geo": {
           "bgcolor": "white",
           "lakecolor": "white",
           "landcolor": "#E5ECF6",
           "showlakes": true,
           "showland": true,
           "subunitcolor": "white"
          },
          "hoverlabel": {
           "align": "left"
          },
          "hovermode": "closest",
          "mapbox": {
           "style": "light"
          },
          "paper_bgcolor": "white",
          "plot_bgcolor": "#E5ECF6",
          "polar": {
           "angularaxis": {
            "gridcolor": "white",
            "linecolor": "white",
            "ticks": ""
           },
           "bgcolor": "#E5ECF6",
           "radialaxis": {
            "gridcolor": "white",
            "linecolor": "white",
            "ticks": ""
           }
          },
          "scene": {
           "xaxis": {
            "backgroundcolor": "#E5ECF6",
            "gridcolor": "white",
            "gridwidth": 2,
            "linecolor": "white",
            "showbackground": true,
            "ticks": "",
            "zerolinecolor": "white"
           },
           "yaxis": {
            "backgroundcolor": "#E5ECF6",
            "gridcolor": "white",
            "gridwidth": 2,
            "linecolor": "white",
            "showbackground": true,
            "ticks": "",
            "zerolinecolor": "white"
           },
           "zaxis": {
            "backgroundcolor": "#E5ECF6",
            "gridcolor": "white",
            "gridwidth": 2,
            "linecolor": "white",
            "showbackground": true,
            "ticks": "",
            "zerolinecolor": "white"
           }
          },
          "shapedefaults": {
           "line": {
            "color": "#2a3f5f"
           }
          },
          "ternary": {
           "aaxis": {
            "gridcolor": "white",
            "linecolor": "white",
            "ticks": ""
           },
           "baxis": {
            "gridcolor": "white",
            "linecolor": "white",
            "ticks": ""
           },
           "bgcolor": "#E5ECF6",
           "caxis": {
            "gridcolor": "white",
            "linecolor": "white",
            "ticks": ""
           }
          },
          "title": {
           "x": 0.05
          },
          "xaxis": {
           "automargin": true,
           "gridcolor": "white",
           "linecolor": "white",
           "ticks": "",
           "title": {
            "standoff": 15
           },
           "zerolinecolor": "white",
           "zerolinewidth": 2
          },
          "yaxis": {
           "automargin": true,
           "gridcolor": "white",
           "linecolor": "white",
           "ticks": "",
           "title": {
            "standoff": 15
           },
           "zerolinecolor": "white",
           "zerolinewidth": 2
          }
         }
        },
        "title": {
         "font": {
          "color": "#4D5663"
         }
        },
        "xaxis": {
         "gridcolor": "#E1E5ED",
         "showgrid": true,
         "tickfont": {
          "color": "#4D5663"
         },
         "title": {
          "font": {
           "color": "#4D5663"
          },
          "text": ""
         },
         "zerolinecolor": "#E1E5ED"
        },
        "yaxis": {
         "gridcolor": "#E1E5ED",
         "showgrid": true,
         "tickfont": {
          "color": "#4D5663"
         },
         "title": {
          "font": {
           "color": "#4D5663"
          },
          "text": ""
         },
         "zerolinecolor": "#E1E5ED"
        }
       }
      },
      "text/html": [
       "<div>                            <div id=\"8f491b6f-8aff-4e72-ae16-cf5684198e32\" class=\"plotly-graph-div\" style=\"height:525px; width:100%;\"></div>            <script type=\"text/javascript\">                require([\"plotly\"], function(Plotly) {                    window.PLOTLYENV=window.PLOTLYENV || {};\n",
       "                    window.PLOTLYENV.BASE_URL='https://plot.ly';                                    if (document.getElementById(\"8f491b6f-8aff-4e72-ae16-cf5684198e32\")) {                    Plotly.newPlot(                        \"8f491b6f-8aff-4e72-ae16-cf5684198e32\",                        [{\"line\":{\"color\":\"rgba(255, 153, 51, 1.0)\",\"dash\":\"solid\",\"shape\":\"linear\",\"width\":1.3},\"marker\":{\"size\":10,\"symbol\":\"circle\"},\"mode\":\"markers\",\"name\":\"B\",\"text\":\"\",\"x\":[0.6609269625981522,-0.6283942023252015,0.5958289057467888,-0.25235480998017024,-0.4991144493410042,1.5167690595310814,1.5862310771988744,-2.0038547936463633,0.15151721273618973,0.2589386222594662,-0.8055696610930111,0.8312013344819981,0.1303733282983725,-1.0396818423548286,0.6530713205398567,-0.6505989805969854,-0.18596098484788937,0.6054617971802655,-0.2811898686118027,-0.13912634769480767,0.8446396122125646,-0.68578985663953,-0.6531203665961344,-1.6731759119240543,2.209985229565079,0.3404983837596926,-0.6791549259903613,0.626551904680079,0.4365449907031151,0.22223603549504206,-0.05514042399957164,-0.5478591051219441,-0.272608358787428,0.13624914914319483,2.0107444355148316,-1.1295515219688383,-1.9308731102338974,-0.869451665441127,0.24225048593408174,0.5277492128113745,-0.39944870589815207,-0.3028181745654215,-0.36208010777438204,-0.6371805534587353,-0.5694189831819202,1.461096225783802,-0.4994736094715912,0.29929114541333546,1.2041695390914506,-0.9793564598366558,0.01807837432378152,-1.103587706826982,-0.18817011528619612,2.5352245967487885,-1.4285113376487508,0.1361915367915166,0.9006406460730992,-0.5298534434558503,-1.213528288936742,1.8601487302024202,0.3695423990074541,1.296044763586415,0.1395186998537509,1.719413311595714,1.2114653178792933,0.03910624479884292,0.2545787261537919,0.023686667231006552,0.8541797670508043,0.4593274411390989,1.0033874555379092,-0.2873415179522952,-0.9384778704654327,-0.40658629235198673,-2.158070369516635,-1.0527523510456966,-1.210264349440857,-0.8228197170689329,0.1435983858401079,0.08212759198765562,0.5047104711807551,-0.1288060629054838,1.6932702499770058,-0.6471071694000822,-0.6856545007792552,-1.4449240018310907,0.05111083881877059,-0.08977932715227151,1.2448916134290704,-0.10907787099641833,0.41576838297650387,0.034355047528476276,1.737306222848453,1.2879506488485895,-0.5445920228908319,-0.011791285460258594,-1.3429356371363272,0.340923499794586,0.7271609744140205,0.11415981620587828],\"y\":[2.1369138719324097,1.1218232241102921,0.26572688661593546,-0.6305003101378791,2.167181040671889,-0.23150609074463332,1.5260914845192142,1.8996590584310187,-0.5308756528251863,-1.1285592958279023,-0.7791266507171293,-1.6911442048922218,0.03259993470017688,-1.5301542368770833,-0.943124496564741,0.6401111021980387,0.5555916097716914,-0.47944004993930484,-0.3734154861180155,-2.3193218374592033,-0.25769903978196274,1.0901689928043339,-0.3787309412507085,0.6941815251138934,-0.41055317577509276,-0.7938391689626703,-0.09216651037745185,1.0536237513050577,-0.01771299556433199,-1.1354493905039764,0.36405402739491627,-0.25022937939597756,1.5460158671741624,-0.08797194860936755,-0.2693182997508638,-1.6945406701465857,-1.6654886030470293,-0.8449708912564343,0.9057644458698647,0.4930488497054626,-0.514550577625808,0.08399712687451115,-0.7120181921708862,-0.22188650000595753,-0.996247575974823,-2.6283366939612494,-0.3806094830267701,0.1410881180140036,0.5544826175873403,0.32787605876710624,0.04302194321889322,1.4248894903070992,-1.2159827938969654,0.37057004231054885,-0.3998796372393718,0.09013059092878399,0.897677474178713,1.0996054030628408,0.04685669530975385,0.8705743484320358,-1.2928816250304203,-1.993744959568647,1.3576023433880942,0.5270461933088814,-1.1143133576599562,-0.4535757125183196,-1.9473052612596844,-0.1578392966742072,1.3490461776070415,0.49834492043962886,-0.3176243733857624,0.14317832901426178,1.9711251053897287,-0.6960179115421854,0.5202843097161529,0.7294212209929505,-0.02206115315984238,-1.7717378674646553,1.741175628507748,1.0629352168952446,0.1386737629402777,0.644833401664853,-1.158732454088803,-0.8893251447971611,-0.09115194355746586,-0.8369650243486435,0.18727737894972848,2.1398181622064754,0.9045169788207471,0.6135187489031853,-0.0163735787247299,-0.048123225921188305,-0.1934586058706064,-1.3068728615356302,-0.16814932656604875,-1.7608336285547592,-0.9560428706568221,-2.4038775493786373,-0.24616587387684877,0.9363418620845582],\"type\":\"scatter\"}],                        {\"legend\":{\"bgcolor\":\"#F5F6F9\",\"font\":{\"color\":\"#4D5663\"}},\"paper_bgcolor\":\"#F5F6F9\",\"plot_bgcolor\":\"#F5F6F9\",\"template\":{\"data\":{\"barpolar\":[{\"marker\":{\"line\":{\"color\":\"#E5ECF6\",\"width\":0.5},\"pattern\":{\"fillmode\":\"overlay\",\"size\":10,\"solidity\":0.2}},\"type\":\"barpolar\"}],\"bar\":[{\"error_x\":{\"color\":\"#2a3f5f\"},\"error_y\":{\"color\":\"#2a3f5f\"},\"marker\":{\"line\":{\"color\":\"#E5ECF6\",\"width\":0.5},\"pattern\":{\"fillmode\":\"overlay\",\"size\":10,\"solidity\":0.2}},\"type\":\"bar\"}],\"carpet\":[{\"aaxis\":{\"endlinecolor\":\"#2a3f5f\",\"gridcolor\":\"white\",\"linecolor\":\"white\",\"minorgridcolor\":\"white\",\"startlinecolor\":\"#2a3f5f\"},\"baxis\":{\"endlinecolor\":\"#2a3f5f\",\"gridcolor\":\"white\",\"linecolor\":\"white\",\"minorgridcolor\":\"white\",\"startlinecolor\":\"#2a3f5f\"},\"type\":\"carpet\"}],\"choropleth\":[{\"colorbar\":{\"outlinewidth\":0,\"ticks\":\"\"},\"type\":\"choropleth\"}],\"contourcarpet\":[{\"colorbar\":{\"outlinewidth\":0,\"ticks\":\"\"},\"type\":\"contourcarpet\"}],\"contour\":[{\"colorbar\":{\"outlinewidth\":0,\"ticks\":\"\"},\"colorscale\":[[0.0,\"#0d0887\"],[0.1111111111111111,\"#46039f\"],[0.2222222222222222,\"#7201a8\"],[0.3333333333333333,\"#9c179e\"],[0.4444444444444444,\"#bd3786\"],[0.5555555555555556,\"#d8576b\"],[0.6666666666666666,\"#ed7953\"],[0.7777777777777778,\"#fb9f3a\"],[0.8888888888888888,\"#fdca26\"],[1.0,\"#f0f921\"]],\"type\":\"contour\"}],\"heatmapgl\":[{\"colorbar\":{\"outlinewidth\":0,\"ticks\":\"\"},\"colorscale\":[[0.0,\"#0d0887\"],[0.1111111111111111,\"#46039f\"],[0.2222222222222222,\"#7201a8\"],[0.3333333333333333,\"#9c179e\"],[0.4444444444444444,\"#bd3786\"],[0.5555555555555556,\"#d8576b\"],[0.6666666666666666,\"#ed7953\"],[0.7777777777777778,\"#fb9f3a\"],[0.8888888888888888,\"#fdca26\"],[1.0,\"#f0f921\"]],\"type\":\"heatmapgl\"}],\"heatmap\":[{\"colorbar\":{\"outlinewidth\":0,\"ticks\":\"\"},\"colorscale\":[[0.0,\"#0d0887\"],[0.1111111111111111,\"#46039f\"],[0.2222222222222222,\"#7201a8\"],[0.3333333333333333,\"#9c179e\"],[0.4444444444444444,\"#bd3786\"],[0.5555555555555556,\"#d8576b\"],[0.6666666666666666,\"#ed7953\"],[0.7777777777777778,\"#fb9f3a\"],[0.8888888888888888,\"#fdca26\"],[1.0,\"#f0f921\"]],\"type\":\"heatmap\"}],\"histogram2dcontour\":[{\"colorbar\":{\"outlinewidth\":0,\"ticks\":\"\"},\"colorscale\":[[0.0,\"#0d0887\"],[0.1111111111111111,\"#46039f\"],[0.2222222222222222,\"#7201a8\"],[0.3333333333333333,\"#9c179e\"],[0.4444444444444444,\"#bd3786\"],[0.5555555555555556,\"#d8576b\"],[0.6666666666666666,\"#ed7953\"],[0.7777777777777778,\"#fb9f3a\"],[0.8888888888888888,\"#fdca26\"],[1.0,\"#f0f921\"]],\"type\":\"histogram2dcontour\"}],\"histogram2d\":[{\"colorbar\":{\"outlinewidth\":0,\"ticks\":\"\"},\"colorscale\":[[0.0,\"#0d0887\"],[0.1111111111111111,\"#46039f\"],[0.2222222222222222,\"#7201a8\"],[0.3333333333333333,\"#9c179e\"],[0.4444444444444444,\"#bd3786\"],[0.5555555555555556,\"#d8576b\"],[0.6666666666666666,\"#ed7953\"],[0.7777777777777778,\"#fb9f3a\"],[0.8888888888888888,\"#fdca26\"],[1.0,\"#f0f921\"]],\"type\":\"histogram2d\"}],\"histogram\":[{\"marker\":{\"pattern\":{\"fillmode\":\"overlay\",\"size\":10,\"solidity\":0.2}},\"type\":\"histogram\"}],\"mesh3d\":[{\"colorbar\":{\"outlinewidth\":0,\"ticks\":\"\"},\"type\":\"mesh3d\"}],\"parcoords\":[{\"line\":{\"colorbar\":{\"outlinewidth\":0,\"ticks\":\"\"}},\"type\":\"parcoords\"}],\"pie\":[{\"automargin\":true,\"type\":\"pie\"}],\"scatter3d\":[{\"line\":{\"colorbar\":{\"outlinewidth\":0,\"ticks\":\"\"}},\"marker\":{\"colorbar\":{\"outlinewidth\":0,\"ticks\":\"\"}},\"type\":\"scatter3d\"}],\"scattercarpet\":[{\"marker\":{\"colorbar\":{\"outlinewidth\":0,\"ticks\":\"\"}},\"type\":\"scattercarpet\"}],\"scattergeo\":[{\"marker\":{\"colorbar\":{\"outlinewidth\":0,\"ticks\":\"\"}},\"type\":\"scattergeo\"}],\"scattergl\":[{\"marker\":{\"colorbar\":{\"outlinewidth\":0,\"ticks\":\"\"}},\"type\":\"scattergl\"}],\"scattermapbox\":[{\"marker\":{\"colorbar\":{\"outlinewidth\":0,\"ticks\":\"\"}},\"type\":\"scattermapbox\"}],\"scatterpolargl\":[{\"marker\":{\"colorbar\":{\"outlinewidth\":0,\"ticks\":\"\"}},\"type\":\"scatterpolargl\"}],\"scatterpolar\":[{\"marker\":{\"colorbar\":{\"outlinewidth\":0,\"ticks\":\"\"}},\"type\":\"scatterpolar\"}],\"scatter\":[{\"marker\":{\"colorbar\":{\"outlinewidth\":0,\"ticks\":\"\"}},\"type\":\"scatter\"}],\"scatterternary\":[{\"marker\":{\"colorbar\":{\"outlinewidth\":0,\"ticks\":\"\"}},\"type\":\"scatterternary\"}],\"surface\":[{\"colorbar\":{\"outlinewidth\":0,\"ticks\":\"\"},\"colorscale\":[[0.0,\"#0d0887\"],[0.1111111111111111,\"#46039f\"],[0.2222222222222222,\"#7201a8\"],[0.3333333333333333,\"#9c179e\"],[0.4444444444444444,\"#bd3786\"],[0.5555555555555556,\"#d8576b\"],[0.6666666666666666,\"#ed7953\"],[0.7777777777777778,\"#fb9f3a\"],[0.8888888888888888,\"#fdca26\"],[1.0,\"#f0f921\"]],\"type\":\"surface\"}],\"table\":[{\"cells\":{\"fill\":{\"color\":\"#EBF0F8\"},\"line\":{\"color\":\"white\"}},\"header\":{\"fill\":{\"color\":\"#C8D4E3\"},\"line\":{\"color\":\"white\"}},\"type\":\"table\"}]},\"layout\":{\"annotationdefaults\":{\"arrowcolor\":\"#2a3f5f\",\"arrowhead\":0,\"arrowwidth\":1},\"autotypenumbers\":\"strict\",\"coloraxis\":{\"colorbar\":{\"outlinewidth\":0,\"ticks\":\"\"}},\"colorscale\":{\"diverging\":[[0,\"#8e0152\"],[0.1,\"#c51b7d\"],[0.2,\"#de77ae\"],[0.3,\"#f1b6da\"],[0.4,\"#fde0ef\"],[0.5,\"#f7f7f7\"],[0.6,\"#e6f5d0\"],[0.7,\"#b8e186\"],[0.8,\"#7fbc41\"],[0.9,\"#4d9221\"],[1,\"#276419\"]],\"sequential\":[[0.0,\"#0d0887\"],[0.1111111111111111,\"#46039f\"],[0.2222222222222222,\"#7201a8\"],[0.3333333333333333,\"#9c179e\"],[0.4444444444444444,\"#bd3786\"],[0.5555555555555556,\"#d8576b\"],[0.6666666666666666,\"#ed7953\"],[0.7777777777777778,\"#fb9f3a\"],[0.8888888888888888,\"#fdca26\"],[1.0,\"#f0f921\"]],\"sequentialminus\":[[0.0,\"#0d0887\"],[0.1111111111111111,\"#46039f\"],[0.2222222222222222,\"#7201a8\"],[0.3333333333333333,\"#9c179e\"],[0.4444444444444444,\"#bd3786\"],[0.5555555555555556,\"#d8576b\"],[0.6666666666666666,\"#ed7953\"],[0.7777777777777778,\"#fb9f3a\"],[0.8888888888888888,\"#fdca26\"],[1.0,\"#f0f921\"]]},\"colorway\":[\"#636efa\",\"#EF553B\",\"#00cc96\",\"#ab63fa\",\"#FFA15A\",\"#19d3f3\",\"#FF6692\",\"#B6E880\",\"#FF97FF\",\"#FECB52\"],\"font\":{\"color\":\"#2a3f5f\"},\"geo\":{\"bgcolor\":\"white\",\"lakecolor\":\"white\",\"landcolor\":\"#E5ECF6\",\"showlakes\":true,\"showland\":true,\"subunitcolor\":\"white\"},\"hoverlabel\":{\"align\":\"left\"},\"hovermode\":\"closest\",\"mapbox\":{\"style\":\"light\"},\"paper_bgcolor\":\"white\",\"plot_bgcolor\":\"#E5ECF6\",\"polar\":{\"angularaxis\":{\"gridcolor\":\"white\",\"linecolor\":\"white\",\"ticks\":\"\"},\"bgcolor\":\"#E5ECF6\",\"radialaxis\":{\"gridcolor\":\"white\",\"linecolor\":\"white\",\"ticks\":\"\"}},\"scene\":{\"xaxis\":{\"backgroundcolor\":\"#E5ECF6\",\"gridcolor\":\"white\",\"gridwidth\":2,\"linecolor\":\"white\",\"showbackground\":true,\"ticks\":\"\",\"zerolinecolor\":\"white\"},\"yaxis\":{\"backgroundcolor\":\"#E5ECF6\",\"gridcolor\":\"white\",\"gridwidth\":2,\"linecolor\":\"white\",\"showbackground\":true,\"ticks\":\"\",\"zerolinecolor\":\"white\"},\"zaxis\":{\"backgroundcolor\":\"#E5ECF6\",\"gridcolor\":\"white\",\"gridwidth\":2,\"linecolor\":\"white\",\"showbackground\":true,\"ticks\":\"\",\"zerolinecolor\":\"white\"}},\"shapedefaults\":{\"line\":{\"color\":\"#2a3f5f\"}},\"ternary\":{\"aaxis\":{\"gridcolor\":\"white\",\"linecolor\":\"white\",\"ticks\":\"\"},\"baxis\":{\"gridcolor\":\"white\",\"linecolor\":\"white\",\"ticks\":\"\"},\"bgcolor\":\"#E5ECF6\",\"caxis\":{\"gridcolor\":\"white\",\"linecolor\":\"white\",\"ticks\":\"\"}},\"title\":{\"x\":0.05},\"xaxis\":{\"automargin\":true,\"gridcolor\":\"white\",\"linecolor\":\"white\",\"ticks\":\"\",\"title\":{\"standoff\":15},\"zerolinecolor\":\"white\",\"zerolinewidth\":2},\"yaxis\":{\"automargin\":true,\"gridcolor\":\"white\",\"linecolor\":\"white\",\"ticks\":\"\",\"title\":{\"standoff\":15},\"zerolinecolor\":\"white\",\"zerolinewidth\":2}}},\"title\":{\"font\":{\"color\":\"#4D5663\"}},\"xaxis\":{\"gridcolor\":\"#E1E5ED\",\"showgrid\":true,\"tickfont\":{\"color\":\"#4D5663\"},\"title\":{\"font\":{\"color\":\"#4D5663\"},\"text\":\"\"},\"zerolinecolor\":\"#E1E5ED\"},\"yaxis\":{\"gridcolor\":\"#E1E5ED\",\"showgrid\":true,\"tickfont\":{\"color\":\"#4D5663\"},\"title\":{\"font\":{\"color\":\"#4D5663\"},\"text\":\"\"},\"zerolinecolor\":\"#E1E5ED\"}},                        {\"showLink\": true, \"linkText\": \"Export to plot.ly\", \"plotlyServerURL\": \"https://plot.ly\", \"responsive\": true}                    ).then(function(){\n",
       "                            \n",
       "var gd = document.getElementById('8f491b6f-8aff-4e72-ae16-cf5684198e32');\n",
       "var x = new MutationObserver(function (mutations, observer) {{\n",
       "        var display = window.getComputedStyle(gd).display;\n",
       "        if (!display || display === 'none') {{\n",
       "            console.log([gd, 'removed!']);\n",
       "            Plotly.purge(gd);\n",
       "            observer.disconnect();\n",
       "        }}\n",
       "}});\n",
       "\n",
       "// Listen for the removal of the full notebook cells\n",
       "var notebookContainer = gd.closest('#notebook-container');\n",
       "if (notebookContainer) {{\n",
       "    x.observe(notebookContainer, {childList: true});\n",
       "}}\n",
       "\n",
       "// Listen for the clearing of the current output cell\n",
       "var outputEl = gd.closest('.output');\n",
       "if (outputEl) {{\n",
       "    x.observe(outputEl, {childList: true});\n",
       "}}\n",
       "\n",
       "                        })                };                });            </script>        </div>"
      ]
     },
     "metadata": {},
     "output_type": "display_data"
    }
   ],
   "source": [
    "df.iplot(kind='scatter',x='A',y='B',mode='markers',size=10)"
   ]
  },
  {
   "cell_type": "markdown",
   "metadata": {},
   "source": [
    "## Bar Plots"
   ]
  },
  {
   "cell_type": "code",
   "execution_count": 16,
   "metadata": {},
   "outputs": [
    {
     "data": {
      "application/vnd.plotly.v1+json": {
       "config": {
        "linkText": "Export to plot.ly",
        "plotlyServerURL": "https://plot.ly",
        "showLink": true
       },
       "data": [
        {
         "marker": {
          "color": "rgba(255, 153, 51, 0.6)",
          "line": {
           "color": "rgba(255, 153, 51, 1.0)",
           "width": 1
          }
         },
         "name": "Values",
         "orientation": "v",
         "text": "",
         "type": "bar",
         "x": [
          "A",
          "B",
          "C"
         ],
         "y": [
          32,
          43,
          50
         ]
        }
       ],
       "layout": {
        "legend": {
         "bgcolor": "#F5F6F9",
         "font": {
          "color": "#4D5663"
         }
        },
        "paper_bgcolor": "#F5F6F9",
        "plot_bgcolor": "#F5F6F9",
        "template": {
         "data": {
          "bar": [
           {
            "error_x": {
             "color": "#2a3f5f"
            },
            "error_y": {
             "color": "#2a3f5f"
            },
            "marker": {
             "line": {
              "color": "#E5ECF6",
              "width": 0.5
             },
             "pattern": {
              "fillmode": "overlay",
              "size": 10,
              "solidity": 0.2
             }
            },
            "type": "bar"
           }
          ],
          "barpolar": [
           {
            "marker": {
             "line": {
              "color": "#E5ECF6",
              "width": 0.5
             },
             "pattern": {
              "fillmode": "overlay",
              "size": 10,
              "solidity": 0.2
             }
            },
            "type": "barpolar"
           }
          ],
          "carpet": [
           {
            "aaxis": {
             "endlinecolor": "#2a3f5f",
             "gridcolor": "white",
             "linecolor": "white",
             "minorgridcolor": "white",
             "startlinecolor": "#2a3f5f"
            },
            "baxis": {
             "endlinecolor": "#2a3f5f",
             "gridcolor": "white",
             "linecolor": "white",
             "minorgridcolor": "white",
             "startlinecolor": "#2a3f5f"
            },
            "type": "carpet"
           }
          ],
          "choropleth": [
           {
            "colorbar": {
             "outlinewidth": 0,
             "ticks": ""
            },
            "type": "choropleth"
           }
          ],
          "contour": [
           {
            "colorbar": {
             "outlinewidth": 0,
             "ticks": ""
            },
            "colorscale": [
             [
              0,
              "#0d0887"
             ],
             [
              0.1111111111111111,
              "#46039f"
             ],
             [
              0.2222222222222222,
              "#7201a8"
             ],
             [
              0.3333333333333333,
              "#9c179e"
             ],
             [
              0.4444444444444444,
              "#bd3786"
             ],
             [
              0.5555555555555556,
              "#d8576b"
             ],
             [
              0.6666666666666666,
              "#ed7953"
             ],
             [
              0.7777777777777778,
              "#fb9f3a"
             ],
             [
              0.8888888888888888,
              "#fdca26"
             ],
             [
              1,
              "#f0f921"
             ]
            ],
            "type": "contour"
           }
          ],
          "contourcarpet": [
           {
            "colorbar": {
             "outlinewidth": 0,
             "ticks": ""
            },
            "type": "contourcarpet"
           }
          ],
          "heatmap": [
           {
            "colorbar": {
             "outlinewidth": 0,
             "ticks": ""
            },
            "colorscale": [
             [
              0,
              "#0d0887"
             ],
             [
              0.1111111111111111,
              "#46039f"
             ],
             [
              0.2222222222222222,
              "#7201a8"
             ],
             [
              0.3333333333333333,
              "#9c179e"
             ],
             [
              0.4444444444444444,
              "#bd3786"
             ],
             [
              0.5555555555555556,
              "#d8576b"
             ],
             [
              0.6666666666666666,
              "#ed7953"
             ],
             [
              0.7777777777777778,
              "#fb9f3a"
             ],
             [
              0.8888888888888888,
              "#fdca26"
             ],
             [
              1,
              "#f0f921"
             ]
            ],
            "type": "heatmap"
           }
          ],
          "heatmapgl": [
           {
            "colorbar": {
             "outlinewidth": 0,
             "ticks": ""
            },
            "colorscale": [
             [
              0,
              "#0d0887"
             ],
             [
              0.1111111111111111,
              "#46039f"
             ],
             [
              0.2222222222222222,
              "#7201a8"
             ],
             [
              0.3333333333333333,
              "#9c179e"
             ],
             [
              0.4444444444444444,
              "#bd3786"
             ],
             [
              0.5555555555555556,
              "#d8576b"
             ],
             [
              0.6666666666666666,
              "#ed7953"
             ],
             [
              0.7777777777777778,
              "#fb9f3a"
             ],
             [
              0.8888888888888888,
              "#fdca26"
             ],
             [
              1,
              "#f0f921"
             ]
            ],
            "type": "heatmapgl"
           }
          ],
          "histogram": [
           {
            "marker": {
             "pattern": {
              "fillmode": "overlay",
              "size": 10,
              "solidity": 0.2
             }
            },
            "type": "histogram"
           }
          ],
          "histogram2d": [
           {
            "colorbar": {
             "outlinewidth": 0,
             "ticks": ""
            },
            "colorscale": [
             [
              0,
              "#0d0887"
             ],
             [
              0.1111111111111111,
              "#46039f"
             ],
             [
              0.2222222222222222,
              "#7201a8"
             ],
             [
              0.3333333333333333,
              "#9c179e"
             ],
             [
              0.4444444444444444,
              "#bd3786"
             ],
             [
              0.5555555555555556,
              "#d8576b"
             ],
             [
              0.6666666666666666,
              "#ed7953"
             ],
             [
              0.7777777777777778,
              "#fb9f3a"
             ],
             [
              0.8888888888888888,
              "#fdca26"
             ],
             [
              1,
              "#f0f921"
             ]
            ],
            "type": "histogram2d"
           }
          ],
          "histogram2dcontour": [
           {
            "colorbar": {
             "outlinewidth": 0,
             "ticks": ""
            },
            "colorscale": [
             [
              0,
              "#0d0887"
             ],
             [
              0.1111111111111111,
              "#46039f"
             ],
             [
              0.2222222222222222,
              "#7201a8"
             ],
             [
              0.3333333333333333,
              "#9c179e"
             ],
             [
              0.4444444444444444,
              "#bd3786"
             ],
             [
              0.5555555555555556,
              "#d8576b"
             ],
             [
              0.6666666666666666,
              "#ed7953"
             ],
             [
              0.7777777777777778,
              "#fb9f3a"
             ],
             [
              0.8888888888888888,
              "#fdca26"
             ],
             [
              1,
              "#f0f921"
             ]
            ],
            "type": "histogram2dcontour"
           }
          ],
          "mesh3d": [
           {
            "colorbar": {
             "outlinewidth": 0,
             "ticks": ""
            },
            "type": "mesh3d"
           }
          ],
          "parcoords": [
           {
            "line": {
             "colorbar": {
              "outlinewidth": 0,
              "ticks": ""
             }
            },
            "type": "parcoords"
           }
          ],
          "pie": [
           {
            "automargin": true,
            "type": "pie"
           }
          ],
          "scatter": [
           {
            "marker": {
             "colorbar": {
              "outlinewidth": 0,
              "ticks": ""
             }
            },
            "type": "scatter"
           }
          ],
          "scatter3d": [
           {
            "line": {
             "colorbar": {
              "outlinewidth": 0,
              "ticks": ""
             }
            },
            "marker": {
             "colorbar": {
              "outlinewidth": 0,
              "ticks": ""
             }
            },
            "type": "scatter3d"
           }
          ],
          "scattercarpet": [
           {
            "marker": {
             "colorbar": {
              "outlinewidth": 0,
              "ticks": ""
             }
            },
            "type": "scattercarpet"
           }
          ],
          "scattergeo": [
           {
            "marker": {
             "colorbar": {
              "outlinewidth": 0,
              "ticks": ""
             }
            },
            "type": "scattergeo"
           }
          ],
          "scattergl": [
           {
            "marker": {
             "colorbar": {
              "outlinewidth": 0,
              "ticks": ""
             }
            },
            "type": "scattergl"
           }
          ],
          "scattermapbox": [
           {
            "marker": {
             "colorbar": {
              "outlinewidth": 0,
              "ticks": ""
             }
            },
            "type": "scattermapbox"
           }
          ],
          "scatterpolar": [
           {
            "marker": {
             "colorbar": {
              "outlinewidth": 0,
              "ticks": ""
             }
            },
            "type": "scatterpolar"
           }
          ],
          "scatterpolargl": [
           {
            "marker": {
             "colorbar": {
              "outlinewidth": 0,
              "ticks": ""
             }
            },
            "type": "scatterpolargl"
           }
          ],
          "scatterternary": [
           {
            "marker": {
             "colorbar": {
              "outlinewidth": 0,
              "ticks": ""
             }
            },
            "type": "scatterternary"
           }
          ],
          "surface": [
           {
            "colorbar": {
             "outlinewidth": 0,
             "ticks": ""
            },
            "colorscale": [
             [
              0,
              "#0d0887"
             ],
             [
              0.1111111111111111,
              "#46039f"
             ],
             [
              0.2222222222222222,
              "#7201a8"
             ],
             [
              0.3333333333333333,
              "#9c179e"
             ],
             [
              0.4444444444444444,
              "#bd3786"
             ],
             [
              0.5555555555555556,
              "#d8576b"
             ],
             [
              0.6666666666666666,
              "#ed7953"
             ],
             [
              0.7777777777777778,
              "#fb9f3a"
             ],
             [
              0.8888888888888888,
              "#fdca26"
             ],
             [
              1,
              "#f0f921"
             ]
            ],
            "type": "surface"
           }
          ],
          "table": [
           {
            "cells": {
             "fill": {
              "color": "#EBF0F8"
             },
             "line": {
              "color": "white"
             }
            },
            "header": {
             "fill": {
              "color": "#C8D4E3"
             },
             "line": {
              "color": "white"
             }
            },
            "type": "table"
           }
          ]
         },
         "layout": {
          "annotationdefaults": {
           "arrowcolor": "#2a3f5f",
           "arrowhead": 0,
           "arrowwidth": 1
          },
          "autotypenumbers": "strict",
          "coloraxis": {
           "colorbar": {
            "outlinewidth": 0,
            "ticks": ""
           }
          },
          "colorscale": {
           "diverging": [
            [
             0,
             "#8e0152"
            ],
            [
             0.1,
             "#c51b7d"
            ],
            [
             0.2,
             "#de77ae"
            ],
            [
             0.3,
             "#f1b6da"
            ],
            [
             0.4,
             "#fde0ef"
            ],
            [
             0.5,
             "#f7f7f7"
            ],
            [
             0.6,
             "#e6f5d0"
            ],
            [
             0.7,
             "#b8e186"
            ],
            [
             0.8,
             "#7fbc41"
            ],
            [
             0.9,
             "#4d9221"
            ],
            [
             1,
             "#276419"
            ]
           ],
           "sequential": [
            [
             0,
             "#0d0887"
            ],
            [
             0.1111111111111111,
             "#46039f"
            ],
            [
             0.2222222222222222,
             "#7201a8"
            ],
            [
             0.3333333333333333,
             "#9c179e"
            ],
            [
             0.4444444444444444,
             "#bd3786"
            ],
            [
             0.5555555555555556,
             "#d8576b"
            ],
            [
             0.6666666666666666,
             "#ed7953"
            ],
            [
             0.7777777777777778,
             "#fb9f3a"
            ],
            [
             0.8888888888888888,
             "#fdca26"
            ],
            [
             1,
             "#f0f921"
            ]
           ],
           "sequentialminus": [
            [
             0,
             "#0d0887"
            ],
            [
             0.1111111111111111,
             "#46039f"
            ],
            [
             0.2222222222222222,
             "#7201a8"
            ],
            [
             0.3333333333333333,
             "#9c179e"
            ],
            [
             0.4444444444444444,
             "#bd3786"
            ],
            [
             0.5555555555555556,
             "#d8576b"
            ],
            [
             0.6666666666666666,
             "#ed7953"
            ],
            [
             0.7777777777777778,
             "#fb9f3a"
            ],
            [
             0.8888888888888888,
             "#fdca26"
            ],
            [
             1,
             "#f0f921"
            ]
           ]
          },
          "colorway": [
           "#636efa",
           "#EF553B",
           "#00cc96",
           "#ab63fa",
           "#FFA15A",
           "#19d3f3",
           "#FF6692",
           "#B6E880",
           "#FF97FF",
           "#FECB52"
          ],
          "font": {
           "color": "#2a3f5f"
          },
          "geo": {
           "bgcolor": "white",
           "lakecolor": "white",
           "landcolor": "#E5ECF6",
           "showlakes": true,
           "showland": true,
           "subunitcolor": "white"
          },
          "hoverlabel": {
           "align": "left"
          },
          "hovermode": "closest",
          "mapbox": {
           "style": "light"
          },
          "paper_bgcolor": "white",
          "plot_bgcolor": "#E5ECF6",
          "polar": {
           "angularaxis": {
            "gridcolor": "white",
            "linecolor": "white",
            "ticks": ""
           },
           "bgcolor": "#E5ECF6",
           "radialaxis": {
            "gridcolor": "white",
            "linecolor": "white",
            "ticks": ""
           }
          },
          "scene": {
           "xaxis": {
            "backgroundcolor": "#E5ECF6",
            "gridcolor": "white",
            "gridwidth": 2,
            "linecolor": "white",
            "showbackground": true,
            "ticks": "",
            "zerolinecolor": "white"
           },
           "yaxis": {
            "backgroundcolor": "#E5ECF6",
            "gridcolor": "white",
            "gridwidth": 2,
            "linecolor": "white",
            "showbackground": true,
            "ticks": "",
            "zerolinecolor": "white"
           },
           "zaxis": {
            "backgroundcolor": "#E5ECF6",
            "gridcolor": "white",
            "gridwidth": 2,
            "linecolor": "white",
            "showbackground": true,
            "ticks": "",
            "zerolinecolor": "white"
           }
          },
          "shapedefaults": {
           "line": {
            "color": "#2a3f5f"
           }
          },
          "ternary": {
           "aaxis": {
            "gridcolor": "white",
            "linecolor": "white",
            "ticks": ""
           },
           "baxis": {
            "gridcolor": "white",
            "linecolor": "white",
            "ticks": ""
           },
           "bgcolor": "#E5ECF6",
           "caxis": {
            "gridcolor": "white",
            "linecolor": "white",
            "ticks": ""
           }
          },
          "title": {
           "x": 0.05
          },
          "xaxis": {
           "automargin": true,
           "gridcolor": "white",
           "linecolor": "white",
           "ticks": "",
           "title": {
            "standoff": 15
           },
           "zerolinecolor": "white",
           "zerolinewidth": 2
          },
          "yaxis": {
           "automargin": true,
           "gridcolor": "white",
           "linecolor": "white",
           "ticks": "",
           "title": {
            "standoff": 15
           },
           "zerolinecolor": "white",
           "zerolinewidth": 2
          }
         }
        },
        "title": {
         "font": {
          "color": "#4D5663"
         }
        },
        "xaxis": {
         "gridcolor": "#E1E5ED",
         "showgrid": true,
         "tickfont": {
          "color": "#4D5663"
         },
         "title": {
          "font": {
           "color": "#4D5663"
          },
          "text": ""
         },
         "zerolinecolor": "#E1E5ED"
        },
        "yaxis": {
         "gridcolor": "#E1E5ED",
         "showgrid": true,
         "tickfont": {
          "color": "#4D5663"
         },
         "title": {
          "font": {
           "color": "#4D5663"
          },
          "text": ""
         },
         "zerolinecolor": "#E1E5ED"
        }
       }
      },
      "text/html": [
       "<div>                            <div id=\"2127da69-45bc-44d1-93e3-9d816efeaac3\" class=\"plotly-graph-div\" style=\"height:525px; width:100%;\"></div>            <script type=\"text/javascript\">                require([\"plotly\"], function(Plotly) {                    window.PLOTLYENV=window.PLOTLYENV || {};\n",
       "                    window.PLOTLYENV.BASE_URL='https://plot.ly';                                    if (document.getElementById(\"2127da69-45bc-44d1-93e3-9d816efeaac3\")) {                    Plotly.newPlot(                        \"2127da69-45bc-44d1-93e3-9d816efeaac3\",                        [{\"marker\":{\"color\":\"rgba(255, 153, 51, 0.6)\",\"line\":{\"color\":\"rgba(255, 153, 51, 1.0)\",\"width\":1}},\"name\":\"Values\",\"orientation\":\"v\",\"text\":\"\",\"x\":[\"A\",\"B\",\"C\"],\"y\":[32,43,50],\"type\":\"bar\"}],                        {\"legend\":{\"bgcolor\":\"#F5F6F9\",\"font\":{\"color\":\"#4D5663\"}},\"paper_bgcolor\":\"#F5F6F9\",\"plot_bgcolor\":\"#F5F6F9\",\"template\":{\"data\":{\"barpolar\":[{\"marker\":{\"line\":{\"color\":\"#E5ECF6\",\"width\":0.5},\"pattern\":{\"fillmode\":\"overlay\",\"size\":10,\"solidity\":0.2}},\"type\":\"barpolar\"}],\"bar\":[{\"error_x\":{\"color\":\"#2a3f5f\"},\"error_y\":{\"color\":\"#2a3f5f\"},\"marker\":{\"line\":{\"color\":\"#E5ECF6\",\"width\":0.5},\"pattern\":{\"fillmode\":\"overlay\",\"size\":10,\"solidity\":0.2}},\"type\":\"bar\"}],\"carpet\":[{\"aaxis\":{\"endlinecolor\":\"#2a3f5f\",\"gridcolor\":\"white\",\"linecolor\":\"white\",\"minorgridcolor\":\"white\",\"startlinecolor\":\"#2a3f5f\"},\"baxis\":{\"endlinecolor\":\"#2a3f5f\",\"gridcolor\":\"white\",\"linecolor\":\"white\",\"minorgridcolor\":\"white\",\"startlinecolor\":\"#2a3f5f\"},\"type\":\"carpet\"}],\"choropleth\":[{\"colorbar\":{\"outlinewidth\":0,\"ticks\":\"\"},\"type\":\"choropleth\"}],\"contourcarpet\":[{\"colorbar\":{\"outlinewidth\":0,\"ticks\":\"\"},\"type\":\"contourcarpet\"}],\"contour\":[{\"colorbar\":{\"outlinewidth\":0,\"ticks\":\"\"},\"colorscale\":[[0.0,\"#0d0887\"],[0.1111111111111111,\"#46039f\"],[0.2222222222222222,\"#7201a8\"],[0.3333333333333333,\"#9c179e\"],[0.4444444444444444,\"#bd3786\"],[0.5555555555555556,\"#d8576b\"],[0.6666666666666666,\"#ed7953\"],[0.7777777777777778,\"#fb9f3a\"],[0.8888888888888888,\"#fdca26\"],[1.0,\"#f0f921\"]],\"type\":\"contour\"}],\"heatmapgl\":[{\"colorbar\":{\"outlinewidth\":0,\"ticks\":\"\"},\"colorscale\":[[0.0,\"#0d0887\"],[0.1111111111111111,\"#46039f\"],[0.2222222222222222,\"#7201a8\"],[0.3333333333333333,\"#9c179e\"],[0.4444444444444444,\"#bd3786\"],[0.5555555555555556,\"#d8576b\"],[0.6666666666666666,\"#ed7953\"],[0.7777777777777778,\"#fb9f3a\"],[0.8888888888888888,\"#fdca26\"],[1.0,\"#f0f921\"]],\"type\":\"heatmapgl\"}],\"heatmap\":[{\"colorbar\":{\"outlinewidth\":0,\"ticks\":\"\"},\"colorscale\":[[0.0,\"#0d0887\"],[0.1111111111111111,\"#46039f\"],[0.2222222222222222,\"#7201a8\"],[0.3333333333333333,\"#9c179e\"],[0.4444444444444444,\"#bd3786\"],[0.5555555555555556,\"#d8576b\"],[0.6666666666666666,\"#ed7953\"],[0.7777777777777778,\"#fb9f3a\"],[0.8888888888888888,\"#fdca26\"],[1.0,\"#f0f921\"]],\"type\":\"heatmap\"}],\"histogram2dcontour\":[{\"colorbar\":{\"outlinewidth\":0,\"ticks\":\"\"},\"colorscale\":[[0.0,\"#0d0887\"],[0.1111111111111111,\"#46039f\"],[0.2222222222222222,\"#7201a8\"],[0.3333333333333333,\"#9c179e\"],[0.4444444444444444,\"#bd3786\"],[0.5555555555555556,\"#d8576b\"],[0.6666666666666666,\"#ed7953\"],[0.7777777777777778,\"#fb9f3a\"],[0.8888888888888888,\"#fdca26\"],[1.0,\"#f0f921\"]],\"type\":\"histogram2dcontour\"}],\"histogram2d\":[{\"colorbar\":{\"outlinewidth\":0,\"ticks\":\"\"},\"colorscale\":[[0.0,\"#0d0887\"],[0.1111111111111111,\"#46039f\"],[0.2222222222222222,\"#7201a8\"],[0.3333333333333333,\"#9c179e\"],[0.4444444444444444,\"#bd3786\"],[0.5555555555555556,\"#d8576b\"],[0.6666666666666666,\"#ed7953\"],[0.7777777777777778,\"#fb9f3a\"],[0.8888888888888888,\"#fdca26\"],[1.0,\"#f0f921\"]],\"type\":\"histogram2d\"}],\"histogram\":[{\"marker\":{\"pattern\":{\"fillmode\":\"overlay\",\"size\":10,\"solidity\":0.2}},\"type\":\"histogram\"}],\"mesh3d\":[{\"colorbar\":{\"outlinewidth\":0,\"ticks\":\"\"},\"type\":\"mesh3d\"}],\"parcoords\":[{\"line\":{\"colorbar\":{\"outlinewidth\":0,\"ticks\":\"\"}},\"type\":\"parcoords\"}],\"pie\":[{\"automargin\":true,\"type\":\"pie\"}],\"scatter3d\":[{\"line\":{\"colorbar\":{\"outlinewidth\":0,\"ticks\":\"\"}},\"marker\":{\"colorbar\":{\"outlinewidth\":0,\"ticks\":\"\"}},\"type\":\"scatter3d\"}],\"scattercarpet\":[{\"marker\":{\"colorbar\":{\"outlinewidth\":0,\"ticks\":\"\"}},\"type\":\"scattercarpet\"}],\"scattergeo\":[{\"marker\":{\"colorbar\":{\"outlinewidth\":0,\"ticks\":\"\"}},\"type\":\"scattergeo\"}],\"scattergl\":[{\"marker\":{\"colorbar\":{\"outlinewidth\":0,\"ticks\":\"\"}},\"type\":\"scattergl\"}],\"scattermapbox\":[{\"marker\":{\"colorbar\":{\"outlinewidth\":0,\"ticks\":\"\"}},\"type\":\"scattermapbox\"}],\"scatterpolargl\":[{\"marker\":{\"colorbar\":{\"outlinewidth\":0,\"ticks\":\"\"}},\"type\":\"scatterpolargl\"}],\"scatterpolar\":[{\"marker\":{\"colorbar\":{\"outlinewidth\":0,\"ticks\":\"\"}},\"type\":\"scatterpolar\"}],\"scatter\":[{\"marker\":{\"colorbar\":{\"outlinewidth\":0,\"ticks\":\"\"}},\"type\":\"scatter\"}],\"scatterternary\":[{\"marker\":{\"colorbar\":{\"outlinewidth\":0,\"ticks\":\"\"}},\"type\":\"scatterternary\"}],\"surface\":[{\"colorbar\":{\"outlinewidth\":0,\"ticks\":\"\"},\"colorscale\":[[0.0,\"#0d0887\"],[0.1111111111111111,\"#46039f\"],[0.2222222222222222,\"#7201a8\"],[0.3333333333333333,\"#9c179e\"],[0.4444444444444444,\"#bd3786\"],[0.5555555555555556,\"#d8576b\"],[0.6666666666666666,\"#ed7953\"],[0.7777777777777778,\"#fb9f3a\"],[0.8888888888888888,\"#fdca26\"],[1.0,\"#f0f921\"]],\"type\":\"surface\"}],\"table\":[{\"cells\":{\"fill\":{\"color\":\"#EBF0F8\"},\"line\":{\"color\":\"white\"}},\"header\":{\"fill\":{\"color\":\"#C8D4E3\"},\"line\":{\"color\":\"white\"}},\"type\":\"table\"}]},\"layout\":{\"annotationdefaults\":{\"arrowcolor\":\"#2a3f5f\",\"arrowhead\":0,\"arrowwidth\":1},\"autotypenumbers\":\"strict\",\"coloraxis\":{\"colorbar\":{\"outlinewidth\":0,\"ticks\":\"\"}},\"colorscale\":{\"diverging\":[[0,\"#8e0152\"],[0.1,\"#c51b7d\"],[0.2,\"#de77ae\"],[0.3,\"#f1b6da\"],[0.4,\"#fde0ef\"],[0.5,\"#f7f7f7\"],[0.6,\"#e6f5d0\"],[0.7,\"#b8e186\"],[0.8,\"#7fbc41\"],[0.9,\"#4d9221\"],[1,\"#276419\"]],\"sequential\":[[0.0,\"#0d0887\"],[0.1111111111111111,\"#46039f\"],[0.2222222222222222,\"#7201a8\"],[0.3333333333333333,\"#9c179e\"],[0.4444444444444444,\"#bd3786\"],[0.5555555555555556,\"#d8576b\"],[0.6666666666666666,\"#ed7953\"],[0.7777777777777778,\"#fb9f3a\"],[0.8888888888888888,\"#fdca26\"],[1.0,\"#f0f921\"]],\"sequentialminus\":[[0.0,\"#0d0887\"],[0.1111111111111111,\"#46039f\"],[0.2222222222222222,\"#7201a8\"],[0.3333333333333333,\"#9c179e\"],[0.4444444444444444,\"#bd3786\"],[0.5555555555555556,\"#d8576b\"],[0.6666666666666666,\"#ed7953\"],[0.7777777777777778,\"#fb9f3a\"],[0.8888888888888888,\"#fdca26\"],[1.0,\"#f0f921\"]]},\"colorway\":[\"#636efa\",\"#EF553B\",\"#00cc96\",\"#ab63fa\",\"#FFA15A\",\"#19d3f3\",\"#FF6692\",\"#B6E880\",\"#FF97FF\",\"#FECB52\"],\"font\":{\"color\":\"#2a3f5f\"},\"geo\":{\"bgcolor\":\"white\",\"lakecolor\":\"white\",\"landcolor\":\"#E5ECF6\",\"showlakes\":true,\"showland\":true,\"subunitcolor\":\"white\"},\"hoverlabel\":{\"align\":\"left\"},\"hovermode\":\"closest\",\"mapbox\":{\"style\":\"light\"},\"paper_bgcolor\":\"white\",\"plot_bgcolor\":\"#E5ECF6\",\"polar\":{\"angularaxis\":{\"gridcolor\":\"white\",\"linecolor\":\"white\",\"ticks\":\"\"},\"bgcolor\":\"#E5ECF6\",\"radialaxis\":{\"gridcolor\":\"white\",\"linecolor\":\"white\",\"ticks\":\"\"}},\"scene\":{\"xaxis\":{\"backgroundcolor\":\"#E5ECF6\",\"gridcolor\":\"white\",\"gridwidth\":2,\"linecolor\":\"white\",\"showbackground\":true,\"ticks\":\"\",\"zerolinecolor\":\"white\"},\"yaxis\":{\"backgroundcolor\":\"#E5ECF6\",\"gridcolor\":\"white\",\"gridwidth\":2,\"linecolor\":\"white\",\"showbackground\":true,\"ticks\":\"\",\"zerolinecolor\":\"white\"},\"zaxis\":{\"backgroundcolor\":\"#E5ECF6\",\"gridcolor\":\"white\",\"gridwidth\":2,\"linecolor\":\"white\",\"showbackground\":true,\"ticks\":\"\",\"zerolinecolor\":\"white\"}},\"shapedefaults\":{\"line\":{\"color\":\"#2a3f5f\"}},\"ternary\":{\"aaxis\":{\"gridcolor\":\"white\",\"linecolor\":\"white\",\"ticks\":\"\"},\"baxis\":{\"gridcolor\":\"white\",\"linecolor\":\"white\",\"ticks\":\"\"},\"bgcolor\":\"#E5ECF6\",\"caxis\":{\"gridcolor\":\"white\",\"linecolor\":\"white\",\"ticks\":\"\"}},\"title\":{\"x\":0.05},\"xaxis\":{\"automargin\":true,\"gridcolor\":\"white\",\"linecolor\":\"white\",\"ticks\":\"\",\"title\":{\"standoff\":15},\"zerolinecolor\":\"white\",\"zerolinewidth\":2},\"yaxis\":{\"automargin\":true,\"gridcolor\":\"white\",\"linecolor\":\"white\",\"ticks\":\"\",\"title\":{\"standoff\":15},\"zerolinecolor\":\"white\",\"zerolinewidth\":2}}},\"title\":{\"font\":{\"color\":\"#4D5663\"}},\"xaxis\":{\"gridcolor\":\"#E1E5ED\",\"showgrid\":true,\"tickfont\":{\"color\":\"#4D5663\"},\"title\":{\"font\":{\"color\":\"#4D5663\"},\"text\":\"\"},\"zerolinecolor\":\"#E1E5ED\"},\"yaxis\":{\"gridcolor\":\"#E1E5ED\",\"showgrid\":true,\"tickfont\":{\"color\":\"#4D5663\"},\"title\":{\"font\":{\"color\":\"#4D5663\"},\"text\":\"\"},\"zerolinecolor\":\"#E1E5ED\"}},                        {\"showLink\": true, \"linkText\": \"Export to plot.ly\", \"plotlyServerURL\": \"https://plot.ly\", \"responsive\": true}                    ).then(function(){\n",
       "                            \n",
       "var gd = document.getElementById('2127da69-45bc-44d1-93e3-9d816efeaac3');\n",
       "var x = new MutationObserver(function (mutations, observer) {{\n",
       "        var display = window.getComputedStyle(gd).display;\n",
       "        if (!display || display === 'none') {{\n",
       "            console.log([gd, 'removed!']);\n",
       "            Plotly.purge(gd);\n",
       "            observer.disconnect();\n",
       "        }}\n",
       "}});\n",
       "\n",
       "// Listen for the removal of the full notebook cells\n",
       "var notebookContainer = gd.closest('#notebook-container');\n",
       "if (notebookContainer) {{\n",
       "    x.observe(notebookContainer, {childList: true});\n",
       "}}\n",
       "\n",
       "// Listen for the clearing of the current output cell\n",
       "var outputEl = gd.closest('.output');\n",
       "if (outputEl) {{\n",
       "    x.observe(outputEl, {childList: true});\n",
       "}}\n",
       "\n",
       "                        })                };                });            </script>        </div>"
      ]
     },
     "metadata": {},
     "output_type": "display_data"
    }
   ],
   "source": [
    "df2.iplot(kind='bar',x='Category',y='Values')"
   ]
  },
  {
   "cell_type": "code",
   "execution_count": 17,
   "metadata": {},
   "outputs": [
    {
     "data": {
      "application/vnd.plotly.v1+json": {
       "config": {
        "linkText": "Export to plot.ly",
        "plotlyServerURL": "https://plot.ly",
        "showLink": true
       },
       "data": [
        {
         "marker": {
          "color": "rgba(255, 153, 51, 0.6)",
          "line": {
           "color": "rgba(255, 153, 51, 1.0)",
           "width": 1
          }
         },
         "name": "None",
         "orientation": "v",
         "text": "",
         "type": "bar",
         "x": [
          "A",
          "B",
          "C",
          "D"
         ],
         "y": [
          100,
          100,
          100,
          100
         ]
        }
       ],
       "layout": {
        "legend": {
         "bgcolor": "#F5F6F9",
         "font": {
          "color": "#4D5663"
         }
        },
        "paper_bgcolor": "#F5F6F9",
        "plot_bgcolor": "#F5F6F9",
        "template": {
         "data": {
          "bar": [
           {
            "error_x": {
             "color": "#2a3f5f"
            },
            "error_y": {
             "color": "#2a3f5f"
            },
            "marker": {
             "line": {
              "color": "#E5ECF6",
              "width": 0.5
             },
             "pattern": {
              "fillmode": "overlay",
              "size": 10,
              "solidity": 0.2
             }
            },
            "type": "bar"
           }
          ],
          "barpolar": [
           {
            "marker": {
             "line": {
              "color": "#E5ECF6",
              "width": 0.5
             },
             "pattern": {
              "fillmode": "overlay",
              "size": 10,
              "solidity": 0.2
             }
            },
            "type": "barpolar"
           }
          ],
          "carpet": [
           {
            "aaxis": {
             "endlinecolor": "#2a3f5f",
             "gridcolor": "white",
             "linecolor": "white",
             "minorgridcolor": "white",
             "startlinecolor": "#2a3f5f"
            },
            "baxis": {
             "endlinecolor": "#2a3f5f",
             "gridcolor": "white",
             "linecolor": "white",
             "minorgridcolor": "white",
             "startlinecolor": "#2a3f5f"
            },
            "type": "carpet"
           }
          ],
          "choropleth": [
           {
            "colorbar": {
             "outlinewidth": 0,
             "ticks": ""
            },
            "type": "choropleth"
           }
          ],
          "contour": [
           {
            "colorbar": {
             "outlinewidth": 0,
             "ticks": ""
            },
            "colorscale": [
             [
              0,
              "#0d0887"
             ],
             [
              0.1111111111111111,
              "#46039f"
             ],
             [
              0.2222222222222222,
              "#7201a8"
             ],
             [
              0.3333333333333333,
              "#9c179e"
             ],
             [
              0.4444444444444444,
              "#bd3786"
             ],
             [
              0.5555555555555556,
              "#d8576b"
             ],
             [
              0.6666666666666666,
              "#ed7953"
             ],
             [
              0.7777777777777778,
              "#fb9f3a"
             ],
             [
              0.8888888888888888,
              "#fdca26"
             ],
             [
              1,
              "#f0f921"
             ]
            ],
            "type": "contour"
           }
          ],
          "contourcarpet": [
           {
            "colorbar": {
             "outlinewidth": 0,
             "ticks": ""
            },
            "type": "contourcarpet"
           }
          ],
          "heatmap": [
           {
            "colorbar": {
             "outlinewidth": 0,
             "ticks": ""
            },
            "colorscale": [
             [
              0,
              "#0d0887"
             ],
             [
              0.1111111111111111,
              "#46039f"
             ],
             [
              0.2222222222222222,
              "#7201a8"
             ],
             [
              0.3333333333333333,
              "#9c179e"
             ],
             [
              0.4444444444444444,
              "#bd3786"
             ],
             [
              0.5555555555555556,
              "#d8576b"
             ],
             [
              0.6666666666666666,
              "#ed7953"
             ],
             [
              0.7777777777777778,
              "#fb9f3a"
             ],
             [
              0.8888888888888888,
              "#fdca26"
             ],
             [
              1,
              "#f0f921"
             ]
            ],
            "type": "heatmap"
           }
          ],
          "heatmapgl": [
           {
            "colorbar": {
             "outlinewidth": 0,
             "ticks": ""
            },
            "colorscale": [
             [
              0,
              "#0d0887"
             ],
             [
              0.1111111111111111,
              "#46039f"
             ],
             [
              0.2222222222222222,
              "#7201a8"
             ],
             [
              0.3333333333333333,
              "#9c179e"
             ],
             [
              0.4444444444444444,
              "#bd3786"
             ],
             [
              0.5555555555555556,
              "#d8576b"
             ],
             [
              0.6666666666666666,
              "#ed7953"
             ],
             [
              0.7777777777777778,
              "#fb9f3a"
             ],
             [
              0.8888888888888888,
              "#fdca26"
             ],
             [
              1,
              "#f0f921"
             ]
            ],
            "type": "heatmapgl"
           }
          ],
          "histogram": [
           {
            "marker": {
             "pattern": {
              "fillmode": "overlay",
              "size": 10,
              "solidity": 0.2
             }
            },
            "type": "histogram"
           }
          ],
          "histogram2d": [
           {
            "colorbar": {
             "outlinewidth": 0,
             "ticks": ""
            },
            "colorscale": [
             [
              0,
              "#0d0887"
             ],
             [
              0.1111111111111111,
              "#46039f"
             ],
             [
              0.2222222222222222,
              "#7201a8"
             ],
             [
              0.3333333333333333,
              "#9c179e"
             ],
             [
              0.4444444444444444,
              "#bd3786"
             ],
             [
              0.5555555555555556,
              "#d8576b"
             ],
             [
              0.6666666666666666,
              "#ed7953"
             ],
             [
              0.7777777777777778,
              "#fb9f3a"
             ],
             [
              0.8888888888888888,
              "#fdca26"
             ],
             [
              1,
              "#f0f921"
             ]
            ],
            "type": "histogram2d"
           }
          ],
          "histogram2dcontour": [
           {
            "colorbar": {
             "outlinewidth": 0,
             "ticks": ""
            },
            "colorscale": [
             [
              0,
              "#0d0887"
             ],
             [
              0.1111111111111111,
              "#46039f"
             ],
             [
              0.2222222222222222,
              "#7201a8"
             ],
             [
              0.3333333333333333,
              "#9c179e"
             ],
             [
              0.4444444444444444,
              "#bd3786"
             ],
             [
              0.5555555555555556,
              "#d8576b"
             ],
             [
              0.6666666666666666,
              "#ed7953"
             ],
             [
              0.7777777777777778,
              "#fb9f3a"
             ],
             [
              0.8888888888888888,
              "#fdca26"
             ],
             [
              1,
              "#f0f921"
             ]
            ],
            "type": "histogram2dcontour"
           }
          ],
          "mesh3d": [
           {
            "colorbar": {
             "outlinewidth": 0,
             "ticks": ""
            },
            "type": "mesh3d"
           }
          ],
          "parcoords": [
           {
            "line": {
             "colorbar": {
              "outlinewidth": 0,
              "ticks": ""
             }
            },
            "type": "parcoords"
           }
          ],
          "pie": [
           {
            "automargin": true,
            "type": "pie"
           }
          ],
          "scatter": [
           {
            "marker": {
             "colorbar": {
              "outlinewidth": 0,
              "ticks": ""
             }
            },
            "type": "scatter"
           }
          ],
          "scatter3d": [
           {
            "line": {
             "colorbar": {
              "outlinewidth": 0,
              "ticks": ""
             }
            },
            "marker": {
             "colorbar": {
              "outlinewidth": 0,
              "ticks": ""
             }
            },
            "type": "scatter3d"
           }
          ],
          "scattercarpet": [
           {
            "marker": {
             "colorbar": {
              "outlinewidth": 0,
              "ticks": ""
             }
            },
            "type": "scattercarpet"
           }
          ],
          "scattergeo": [
           {
            "marker": {
             "colorbar": {
              "outlinewidth": 0,
              "ticks": ""
             }
            },
            "type": "scattergeo"
           }
          ],
          "scattergl": [
           {
            "marker": {
             "colorbar": {
              "outlinewidth": 0,
              "ticks": ""
             }
            },
            "type": "scattergl"
           }
          ],
          "scattermapbox": [
           {
            "marker": {
             "colorbar": {
              "outlinewidth": 0,
              "ticks": ""
             }
            },
            "type": "scattermapbox"
           }
          ],
          "scatterpolar": [
           {
            "marker": {
             "colorbar": {
              "outlinewidth": 0,
              "ticks": ""
             }
            },
            "type": "scatterpolar"
           }
          ],
          "scatterpolargl": [
           {
            "marker": {
             "colorbar": {
              "outlinewidth": 0,
              "ticks": ""
             }
            },
            "type": "scatterpolargl"
           }
          ],
          "scatterternary": [
           {
            "marker": {
             "colorbar": {
              "outlinewidth": 0,
              "ticks": ""
             }
            },
            "type": "scatterternary"
           }
          ],
          "surface": [
           {
            "colorbar": {
             "outlinewidth": 0,
             "ticks": ""
            },
            "colorscale": [
             [
              0,
              "#0d0887"
             ],
             [
              0.1111111111111111,
              "#46039f"
             ],
             [
              0.2222222222222222,
              "#7201a8"
             ],
             [
              0.3333333333333333,
              "#9c179e"
             ],
             [
              0.4444444444444444,
              "#bd3786"
             ],
             [
              0.5555555555555556,
              "#d8576b"
             ],
             [
              0.6666666666666666,
              "#ed7953"
             ],
             [
              0.7777777777777778,
              "#fb9f3a"
             ],
             [
              0.8888888888888888,
              "#fdca26"
             ],
             [
              1,
              "#f0f921"
             ]
            ],
            "type": "surface"
           }
          ],
          "table": [
           {
            "cells": {
             "fill": {
              "color": "#EBF0F8"
             },
             "line": {
              "color": "white"
             }
            },
            "header": {
             "fill": {
              "color": "#C8D4E3"
             },
             "line": {
              "color": "white"
             }
            },
            "type": "table"
           }
          ]
         },
         "layout": {
          "annotationdefaults": {
           "arrowcolor": "#2a3f5f",
           "arrowhead": 0,
           "arrowwidth": 1
          },
          "autotypenumbers": "strict",
          "coloraxis": {
           "colorbar": {
            "outlinewidth": 0,
            "ticks": ""
           }
          },
          "colorscale": {
           "diverging": [
            [
             0,
             "#8e0152"
            ],
            [
             0.1,
             "#c51b7d"
            ],
            [
             0.2,
             "#de77ae"
            ],
            [
             0.3,
             "#f1b6da"
            ],
            [
             0.4,
             "#fde0ef"
            ],
            [
             0.5,
             "#f7f7f7"
            ],
            [
             0.6,
             "#e6f5d0"
            ],
            [
             0.7,
             "#b8e186"
            ],
            [
             0.8,
             "#7fbc41"
            ],
            [
             0.9,
             "#4d9221"
            ],
            [
             1,
             "#276419"
            ]
           ],
           "sequential": [
            [
             0,
             "#0d0887"
            ],
            [
             0.1111111111111111,
             "#46039f"
            ],
            [
             0.2222222222222222,
             "#7201a8"
            ],
            [
             0.3333333333333333,
             "#9c179e"
            ],
            [
             0.4444444444444444,
             "#bd3786"
            ],
            [
             0.5555555555555556,
             "#d8576b"
            ],
            [
             0.6666666666666666,
             "#ed7953"
            ],
            [
             0.7777777777777778,
             "#fb9f3a"
            ],
            [
             0.8888888888888888,
             "#fdca26"
            ],
            [
             1,
             "#f0f921"
            ]
           ],
           "sequentialminus": [
            [
             0,
             "#0d0887"
            ],
            [
             0.1111111111111111,
             "#46039f"
            ],
            [
             0.2222222222222222,
             "#7201a8"
            ],
            [
             0.3333333333333333,
             "#9c179e"
            ],
            [
             0.4444444444444444,
             "#bd3786"
            ],
            [
             0.5555555555555556,
             "#d8576b"
            ],
            [
             0.6666666666666666,
             "#ed7953"
            ],
            [
             0.7777777777777778,
             "#fb9f3a"
            ],
            [
             0.8888888888888888,
             "#fdca26"
            ],
            [
             1,
             "#f0f921"
            ]
           ]
          },
          "colorway": [
           "#636efa",
           "#EF553B",
           "#00cc96",
           "#ab63fa",
           "#FFA15A",
           "#19d3f3",
           "#FF6692",
           "#B6E880",
           "#FF97FF",
           "#FECB52"
          ],
          "font": {
           "color": "#2a3f5f"
          },
          "geo": {
           "bgcolor": "white",
           "lakecolor": "white",
           "landcolor": "#E5ECF6",
           "showlakes": true,
           "showland": true,
           "subunitcolor": "white"
          },
          "hoverlabel": {
           "align": "left"
          },
          "hovermode": "closest",
          "mapbox": {
           "style": "light"
          },
          "paper_bgcolor": "white",
          "plot_bgcolor": "#E5ECF6",
          "polar": {
           "angularaxis": {
            "gridcolor": "white",
            "linecolor": "white",
            "ticks": ""
           },
           "bgcolor": "#E5ECF6",
           "radialaxis": {
            "gridcolor": "white",
            "linecolor": "white",
            "ticks": ""
           }
          },
          "scene": {
           "xaxis": {
            "backgroundcolor": "#E5ECF6",
            "gridcolor": "white",
            "gridwidth": 2,
            "linecolor": "white",
            "showbackground": true,
            "ticks": "",
            "zerolinecolor": "white"
           },
           "yaxis": {
            "backgroundcolor": "#E5ECF6",
            "gridcolor": "white",
            "gridwidth": 2,
            "linecolor": "white",
            "showbackground": true,
            "ticks": "",
            "zerolinecolor": "white"
           },
           "zaxis": {
            "backgroundcolor": "#E5ECF6",
            "gridcolor": "white",
            "gridwidth": 2,
            "linecolor": "white",
            "showbackground": true,
            "ticks": "",
            "zerolinecolor": "white"
           }
          },
          "shapedefaults": {
           "line": {
            "color": "#2a3f5f"
           }
          },
          "ternary": {
           "aaxis": {
            "gridcolor": "white",
            "linecolor": "white",
            "ticks": ""
           },
           "baxis": {
            "gridcolor": "white",
            "linecolor": "white",
            "ticks": ""
           },
           "bgcolor": "#E5ECF6",
           "caxis": {
            "gridcolor": "white",
            "linecolor": "white",
            "ticks": ""
           }
          },
          "title": {
           "x": 0.05
          },
          "xaxis": {
           "automargin": true,
           "gridcolor": "white",
           "linecolor": "white",
           "ticks": "",
           "title": {
            "standoff": 15
           },
           "zerolinecolor": "white",
           "zerolinewidth": 2
          },
          "yaxis": {
           "automargin": true,
           "gridcolor": "white",
           "linecolor": "white",
           "ticks": "",
           "title": {
            "standoff": 15
           },
           "zerolinecolor": "white",
           "zerolinewidth": 2
          }
         }
        },
        "title": {
         "font": {
          "color": "#4D5663"
         }
        },
        "xaxis": {
         "gridcolor": "#E1E5ED",
         "showgrid": true,
         "tickfont": {
          "color": "#4D5663"
         },
         "title": {
          "font": {
           "color": "#4D5663"
          },
          "text": ""
         },
         "zerolinecolor": "#E1E5ED"
        },
        "yaxis": {
         "gridcolor": "#E1E5ED",
         "showgrid": true,
         "tickfont": {
          "color": "#4D5663"
         },
         "title": {
          "font": {
           "color": "#4D5663"
          },
          "text": ""
         },
         "zerolinecolor": "#E1E5ED"
        }
       }
      },
      "text/html": [
       "<div>                            <div id=\"9ebd4028-14b4-4199-9422-b41ac5c4e530\" class=\"plotly-graph-div\" style=\"height:525px; width:100%;\"></div>            <script type=\"text/javascript\">                require([\"plotly\"], function(Plotly) {                    window.PLOTLYENV=window.PLOTLYENV || {};\n",
       "                    window.PLOTLYENV.BASE_URL='https://plot.ly';                                    if (document.getElementById(\"9ebd4028-14b4-4199-9422-b41ac5c4e530\")) {                    Plotly.newPlot(                        \"9ebd4028-14b4-4199-9422-b41ac5c4e530\",                        [{\"marker\":{\"color\":\"rgba(255, 153, 51, 0.6)\",\"line\":{\"color\":\"rgba(255, 153, 51, 1.0)\",\"width\":1}},\"name\":\"None\",\"orientation\":\"v\",\"text\":\"\",\"x\":[\"A\",\"B\",\"C\",\"D\"],\"y\":[100,100,100,100],\"type\":\"bar\"}],                        {\"legend\":{\"bgcolor\":\"#F5F6F9\",\"font\":{\"color\":\"#4D5663\"}},\"paper_bgcolor\":\"#F5F6F9\",\"plot_bgcolor\":\"#F5F6F9\",\"template\":{\"data\":{\"barpolar\":[{\"marker\":{\"line\":{\"color\":\"#E5ECF6\",\"width\":0.5},\"pattern\":{\"fillmode\":\"overlay\",\"size\":10,\"solidity\":0.2}},\"type\":\"barpolar\"}],\"bar\":[{\"error_x\":{\"color\":\"#2a3f5f\"},\"error_y\":{\"color\":\"#2a3f5f\"},\"marker\":{\"line\":{\"color\":\"#E5ECF6\",\"width\":0.5},\"pattern\":{\"fillmode\":\"overlay\",\"size\":10,\"solidity\":0.2}},\"type\":\"bar\"}],\"carpet\":[{\"aaxis\":{\"endlinecolor\":\"#2a3f5f\",\"gridcolor\":\"white\",\"linecolor\":\"white\",\"minorgridcolor\":\"white\",\"startlinecolor\":\"#2a3f5f\"},\"baxis\":{\"endlinecolor\":\"#2a3f5f\",\"gridcolor\":\"white\",\"linecolor\":\"white\",\"minorgridcolor\":\"white\",\"startlinecolor\":\"#2a3f5f\"},\"type\":\"carpet\"}],\"choropleth\":[{\"colorbar\":{\"outlinewidth\":0,\"ticks\":\"\"},\"type\":\"choropleth\"}],\"contourcarpet\":[{\"colorbar\":{\"outlinewidth\":0,\"ticks\":\"\"},\"type\":\"contourcarpet\"}],\"contour\":[{\"colorbar\":{\"outlinewidth\":0,\"ticks\":\"\"},\"colorscale\":[[0.0,\"#0d0887\"],[0.1111111111111111,\"#46039f\"],[0.2222222222222222,\"#7201a8\"],[0.3333333333333333,\"#9c179e\"],[0.4444444444444444,\"#bd3786\"],[0.5555555555555556,\"#d8576b\"],[0.6666666666666666,\"#ed7953\"],[0.7777777777777778,\"#fb9f3a\"],[0.8888888888888888,\"#fdca26\"],[1.0,\"#f0f921\"]],\"type\":\"contour\"}],\"heatmapgl\":[{\"colorbar\":{\"outlinewidth\":0,\"ticks\":\"\"},\"colorscale\":[[0.0,\"#0d0887\"],[0.1111111111111111,\"#46039f\"],[0.2222222222222222,\"#7201a8\"],[0.3333333333333333,\"#9c179e\"],[0.4444444444444444,\"#bd3786\"],[0.5555555555555556,\"#d8576b\"],[0.6666666666666666,\"#ed7953\"],[0.7777777777777778,\"#fb9f3a\"],[0.8888888888888888,\"#fdca26\"],[1.0,\"#f0f921\"]],\"type\":\"heatmapgl\"}],\"heatmap\":[{\"colorbar\":{\"outlinewidth\":0,\"ticks\":\"\"},\"colorscale\":[[0.0,\"#0d0887\"],[0.1111111111111111,\"#46039f\"],[0.2222222222222222,\"#7201a8\"],[0.3333333333333333,\"#9c179e\"],[0.4444444444444444,\"#bd3786\"],[0.5555555555555556,\"#d8576b\"],[0.6666666666666666,\"#ed7953\"],[0.7777777777777778,\"#fb9f3a\"],[0.8888888888888888,\"#fdca26\"],[1.0,\"#f0f921\"]],\"type\":\"heatmap\"}],\"histogram2dcontour\":[{\"colorbar\":{\"outlinewidth\":0,\"ticks\":\"\"},\"colorscale\":[[0.0,\"#0d0887\"],[0.1111111111111111,\"#46039f\"],[0.2222222222222222,\"#7201a8\"],[0.3333333333333333,\"#9c179e\"],[0.4444444444444444,\"#bd3786\"],[0.5555555555555556,\"#d8576b\"],[0.6666666666666666,\"#ed7953\"],[0.7777777777777778,\"#fb9f3a\"],[0.8888888888888888,\"#fdca26\"],[1.0,\"#f0f921\"]],\"type\":\"histogram2dcontour\"}],\"histogram2d\":[{\"colorbar\":{\"outlinewidth\":0,\"ticks\":\"\"},\"colorscale\":[[0.0,\"#0d0887\"],[0.1111111111111111,\"#46039f\"],[0.2222222222222222,\"#7201a8\"],[0.3333333333333333,\"#9c179e\"],[0.4444444444444444,\"#bd3786\"],[0.5555555555555556,\"#d8576b\"],[0.6666666666666666,\"#ed7953\"],[0.7777777777777778,\"#fb9f3a\"],[0.8888888888888888,\"#fdca26\"],[1.0,\"#f0f921\"]],\"type\":\"histogram2d\"}],\"histogram\":[{\"marker\":{\"pattern\":{\"fillmode\":\"overlay\",\"size\":10,\"solidity\":0.2}},\"type\":\"histogram\"}],\"mesh3d\":[{\"colorbar\":{\"outlinewidth\":0,\"ticks\":\"\"},\"type\":\"mesh3d\"}],\"parcoords\":[{\"line\":{\"colorbar\":{\"outlinewidth\":0,\"ticks\":\"\"}},\"type\":\"parcoords\"}],\"pie\":[{\"automargin\":true,\"type\":\"pie\"}],\"scatter3d\":[{\"line\":{\"colorbar\":{\"outlinewidth\":0,\"ticks\":\"\"}},\"marker\":{\"colorbar\":{\"outlinewidth\":0,\"ticks\":\"\"}},\"type\":\"scatter3d\"}],\"scattercarpet\":[{\"marker\":{\"colorbar\":{\"outlinewidth\":0,\"ticks\":\"\"}},\"type\":\"scattercarpet\"}],\"scattergeo\":[{\"marker\":{\"colorbar\":{\"outlinewidth\":0,\"ticks\":\"\"}},\"type\":\"scattergeo\"}],\"scattergl\":[{\"marker\":{\"colorbar\":{\"outlinewidth\":0,\"ticks\":\"\"}},\"type\":\"scattergl\"}],\"scattermapbox\":[{\"marker\":{\"colorbar\":{\"outlinewidth\":0,\"ticks\":\"\"}},\"type\":\"scattermapbox\"}],\"scatterpolargl\":[{\"marker\":{\"colorbar\":{\"outlinewidth\":0,\"ticks\":\"\"}},\"type\":\"scatterpolargl\"}],\"scatterpolar\":[{\"marker\":{\"colorbar\":{\"outlinewidth\":0,\"ticks\":\"\"}},\"type\":\"scatterpolar\"}],\"scatter\":[{\"marker\":{\"colorbar\":{\"outlinewidth\":0,\"ticks\":\"\"}},\"type\":\"scatter\"}],\"scatterternary\":[{\"marker\":{\"colorbar\":{\"outlinewidth\":0,\"ticks\":\"\"}},\"type\":\"scatterternary\"}],\"surface\":[{\"colorbar\":{\"outlinewidth\":0,\"ticks\":\"\"},\"colorscale\":[[0.0,\"#0d0887\"],[0.1111111111111111,\"#46039f\"],[0.2222222222222222,\"#7201a8\"],[0.3333333333333333,\"#9c179e\"],[0.4444444444444444,\"#bd3786\"],[0.5555555555555556,\"#d8576b\"],[0.6666666666666666,\"#ed7953\"],[0.7777777777777778,\"#fb9f3a\"],[0.8888888888888888,\"#fdca26\"],[1.0,\"#f0f921\"]],\"type\":\"surface\"}],\"table\":[{\"cells\":{\"fill\":{\"color\":\"#EBF0F8\"},\"line\":{\"color\":\"white\"}},\"header\":{\"fill\":{\"color\":\"#C8D4E3\"},\"line\":{\"color\":\"white\"}},\"type\":\"table\"}]},\"layout\":{\"annotationdefaults\":{\"arrowcolor\":\"#2a3f5f\",\"arrowhead\":0,\"arrowwidth\":1},\"autotypenumbers\":\"strict\",\"coloraxis\":{\"colorbar\":{\"outlinewidth\":0,\"ticks\":\"\"}},\"colorscale\":{\"diverging\":[[0,\"#8e0152\"],[0.1,\"#c51b7d\"],[0.2,\"#de77ae\"],[0.3,\"#f1b6da\"],[0.4,\"#fde0ef\"],[0.5,\"#f7f7f7\"],[0.6,\"#e6f5d0\"],[0.7,\"#b8e186\"],[0.8,\"#7fbc41\"],[0.9,\"#4d9221\"],[1,\"#276419\"]],\"sequential\":[[0.0,\"#0d0887\"],[0.1111111111111111,\"#46039f\"],[0.2222222222222222,\"#7201a8\"],[0.3333333333333333,\"#9c179e\"],[0.4444444444444444,\"#bd3786\"],[0.5555555555555556,\"#d8576b\"],[0.6666666666666666,\"#ed7953\"],[0.7777777777777778,\"#fb9f3a\"],[0.8888888888888888,\"#fdca26\"],[1.0,\"#f0f921\"]],\"sequentialminus\":[[0.0,\"#0d0887\"],[0.1111111111111111,\"#46039f\"],[0.2222222222222222,\"#7201a8\"],[0.3333333333333333,\"#9c179e\"],[0.4444444444444444,\"#bd3786\"],[0.5555555555555556,\"#d8576b\"],[0.6666666666666666,\"#ed7953\"],[0.7777777777777778,\"#fb9f3a\"],[0.8888888888888888,\"#fdca26\"],[1.0,\"#f0f921\"]]},\"colorway\":[\"#636efa\",\"#EF553B\",\"#00cc96\",\"#ab63fa\",\"#FFA15A\",\"#19d3f3\",\"#FF6692\",\"#B6E880\",\"#FF97FF\",\"#FECB52\"],\"font\":{\"color\":\"#2a3f5f\"},\"geo\":{\"bgcolor\":\"white\",\"lakecolor\":\"white\",\"landcolor\":\"#E5ECF6\",\"showlakes\":true,\"showland\":true,\"subunitcolor\":\"white\"},\"hoverlabel\":{\"align\":\"left\"},\"hovermode\":\"closest\",\"mapbox\":{\"style\":\"light\"},\"paper_bgcolor\":\"white\",\"plot_bgcolor\":\"#E5ECF6\",\"polar\":{\"angularaxis\":{\"gridcolor\":\"white\",\"linecolor\":\"white\",\"ticks\":\"\"},\"bgcolor\":\"#E5ECF6\",\"radialaxis\":{\"gridcolor\":\"white\",\"linecolor\":\"white\",\"ticks\":\"\"}},\"scene\":{\"xaxis\":{\"backgroundcolor\":\"#E5ECF6\",\"gridcolor\":\"white\",\"gridwidth\":2,\"linecolor\":\"white\",\"showbackground\":true,\"ticks\":\"\",\"zerolinecolor\":\"white\"},\"yaxis\":{\"backgroundcolor\":\"#E5ECF6\",\"gridcolor\":\"white\",\"gridwidth\":2,\"linecolor\":\"white\",\"showbackground\":true,\"ticks\":\"\",\"zerolinecolor\":\"white\"},\"zaxis\":{\"backgroundcolor\":\"#E5ECF6\",\"gridcolor\":\"white\",\"gridwidth\":2,\"linecolor\":\"white\",\"showbackground\":true,\"ticks\":\"\",\"zerolinecolor\":\"white\"}},\"shapedefaults\":{\"line\":{\"color\":\"#2a3f5f\"}},\"ternary\":{\"aaxis\":{\"gridcolor\":\"white\",\"linecolor\":\"white\",\"ticks\":\"\"},\"baxis\":{\"gridcolor\":\"white\",\"linecolor\":\"white\",\"ticks\":\"\"},\"bgcolor\":\"#E5ECF6\",\"caxis\":{\"gridcolor\":\"white\",\"linecolor\":\"white\",\"ticks\":\"\"}},\"title\":{\"x\":0.05},\"xaxis\":{\"automargin\":true,\"gridcolor\":\"white\",\"linecolor\":\"white\",\"ticks\":\"\",\"title\":{\"standoff\":15},\"zerolinecolor\":\"white\",\"zerolinewidth\":2},\"yaxis\":{\"automargin\":true,\"gridcolor\":\"white\",\"linecolor\":\"white\",\"ticks\":\"\",\"title\":{\"standoff\":15},\"zerolinecolor\":\"white\",\"zerolinewidth\":2}}},\"title\":{\"font\":{\"color\":\"#4D5663\"}},\"xaxis\":{\"gridcolor\":\"#E1E5ED\",\"showgrid\":true,\"tickfont\":{\"color\":\"#4D5663\"},\"title\":{\"font\":{\"color\":\"#4D5663\"},\"text\":\"\"},\"zerolinecolor\":\"#E1E5ED\"},\"yaxis\":{\"gridcolor\":\"#E1E5ED\",\"showgrid\":true,\"tickfont\":{\"color\":\"#4D5663\"},\"title\":{\"font\":{\"color\":\"#4D5663\"},\"text\":\"\"},\"zerolinecolor\":\"#E1E5ED\"}},                        {\"showLink\": true, \"linkText\": \"Export to plot.ly\", \"plotlyServerURL\": \"https://plot.ly\", \"responsive\": true}                    ).then(function(){\n",
       "                            \n",
       "var gd = document.getElementById('9ebd4028-14b4-4199-9422-b41ac5c4e530');\n",
       "var x = new MutationObserver(function (mutations, observer) {{\n",
       "        var display = window.getComputedStyle(gd).display;\n",
       "        if (!display || display === 'none') {{\n",
       "            console.log([gd, 'removed!']);\n",
       "            Plotly.purge(gd);\n",
       "            observer.disconnect();\n",
       "        }}\n",
       "}});\n",
       "\n",
       "// Listen for the removal of the full notebook cells\n",
       "var notebookContainer = gd.closest('#notebook-container');\n",
       "if (notebookContainer) {{\n",
       "    x.observe(notebookContainer, {childList: true});\n",
       "}}\n",
       "\n",
       "// Listen for the clearing of the current output cell\n",
       "var outputEl = gd.closest('.output');\n",
       "if (outputEl) {{\n",
       "    x.observe(outputEl, {childList: true});\n",
       "}}\n",
       "\n",
       "                        })                };                });            </script>        </div>"
      ]
     },
     "metadata": {},
     "output_type": "display_data"
    }
   ],
   "source": [
    "df.count().iplot(kind='bar')"
   ]
  },
  {
   "cell_type": "markdown",
   "metadata": {},
   "source": [
    "## Boxplots"
   ]
  },
  {
   "cell_type": "code",
   "execution_count": 18,
   "metadata": {},
   "outputs": [
    {
     "data": {
      "application/vnd.plotly.v1+json": {
       "config": {
        "linkText": "Export to plot.ly",
        "plotlyServerURL": "https://plot.ly",
        "showLink": true
       },
       "data": [
        {
         "boxpoints": false,
         "line": {
          "width": 1.3
         },
         "marker": {
          "color": "rgba(255, 153, 51, 1.0)"
         },
         "name": "A",
         "orientation": "v",
         "type": "box",
         "y": [
          0.6609269625981522,
          -0.6283942023252015,
          0.5958289057467888,
          -0.25235480998017024,
          -0.4991144493410042,
          1.5167690595310814,
          1.5862310771988744,
          -2.0038547936463633,
          0.15151721273618973,
          0.2589386222594662,
          -0.8055696610930111,
          0.8312013344819981,
          0.1303733282983725,
          -1.0396818423548286,
          0.6530713205398567,
          -0.6505989805969854,
          -0.18596098484788937,
          0.6054617971802655,
          -0.2811898686118027,
          -0.13912634769480767,
          0.8446396122125646,
          -0.68578985663953,
          -0.6531203665961344,
          -1.6731759119240543,
          2.209985229565079,
          0.3404983837596926,
          -0.6791549259903613,
          0.626551904680079,
          0.4365449907031151,
          0.22223603549504206,
          -0.05514042399957164,
          -0.5478591051219441,
          -0.272608358787428,
          0.13624914914319483,
          2.0107444355148316,
          -1.1295515219688383,
          -1.9308731102338974,
          -0.869451665441127,
          0.24225048593408174,
          0.5277492128113745,
          -0.39944870589815207,
          -0.3028181745654215,
          -0.36208010777438204,
          -0.6371805534587353,
          -0.5694189831819202,
          1.461096225783802,
          -0.4994736094715912,
          0.29929114541333546,
          1.2041695390914506,
          -0.9793564598366558,
          0.01807837432378152,
          -1.103587706826982,
          -0.18817011528619612,
          2.5352245967487885,
          -1.4285113376487508,
          0.1361915367915166,
          0.9006406460730992,
          -0.5298534434558503,
          -1.213528288936742,
          1.8601487302024202,
          0.3695423990074541,
          1.296044763586415,
          0.1395186998537509,
          1.719413311595714,
          1.2114653178792933,
          0.03910624479884292,
          0.2545787261537919,
          0.023686667231006552,
          0.8541797670508043,
          0.4593274411390989,
          1.0033874555379092,
          -0.2873415179522952,
          -0.9384778704654327,
          -0.40658629235198673,
          -2.158070369516635,
          -1.0527523510456966,
          -1.210264349440857,
          -0.8228197170689329,
          0.1435983858401079,
          0.08212759198765562,
          0.5047104711807551,
          -0.1288060629054838,
          1.6932702499770058,
          -0.6471071694000822,
          -0.6856545007792552,
          -1.4449240018310907,
          0.05111083881877059,
          -0.08977932715227151,
          1.2448916134290704,
          -0.10907787099641833,
          0.41576838297650387,
          0.034355047528476276,
          1.737306222848453,
          1.2879506488485895,
          -0.5445920228908319,
          -0.011791285460258594,
          -1.3429356371363272,
          0.340923499794586,
          0.7271609744140205,
          0.11415981620587828
         ]
        },
        {
         "boxpoints": false,
         "line": {
          "width": 1.3
         },
         "marker": {
          "color": "rgba(55, 128, 191, 1.0)"
         },
         "name": "B",
         "orientation": "v",
         "type": "box",
         "y": [
          2.1369138719324097,
          1.1218232241102921,
          0.26572688661593546,
          -0.6305003101378791,
          2.167181040671889,
          -0.23150609074463332,
          1.5260914845192142,
          1.8996590584310187,
          -0.5308756528251863,
          -1.1285592958279023,
          -0.7791266507171293,
          -1.6911442048922218,
          0.03259993470017688,
          -1.5301542368770833,
          -0.943124496564741,
          0.6401111021980387,
          0.5555916097716914,
          -0.47944004993930484,
          -0.3734154861180155,
          -2.3193218374592033,
          -0.25769903978196274,
          1.0901689928043339,
          -0.3787309412507085,
          0.6941815251138934,
          -0.41055317577509276,
          -0.7938391689626703,
          -0.09216651037745185,
          1.0536237513050577,
          -0.01771299556433199,
          -1.1354493905039764,
          0.36405402739491627,
          -0.25022937939597756,
          1.5460158671741624,
          -0.08797194860936755,
          -0.2693182997508638,
          -1.6945406701465857,
          -1.6654886030470293,
          -0.8449708912564343,
          0.9057644458698647,
          0.4930488497054626,
          -0.514550577625808,
          0.08399712687451115,
          -0.7120181921708862,
          -0.22188650000595753,
          -0.996247575974823,
          -2.6283366939612494,
          -0.3806094830267701,
          0.1410881180140036,
          0.5544826175873403,
          0.32787605876710624,
          0.04302194321889322,
          1.4248894903070992,
          -1.2159827938969654,
          0.37057004231054885,
          -0.3998796372393718,
          0.09013059092878399,
          0.897677474178713,
          1.0996054030628408,
          0.04685669530975385,
          0.8705743484320358,
          -1.2928816250304203,
          -1.993744959568647,
          1.3576023433880942,
          0.5270461933088814,
          -1.1143133576599562,
          -0.4535757125183196,
          -1.9473052612596844,
          -0.1578392966742072,
          1.3490461776070415,
          0.49834492043962886,
          -0.3176243733857624,
          0.14317832901426178,
          1.9711251053897287,
          -0.6960179115421854,
          0.5202843097161529,
          0.7294212209929505,
          -0.02206115315984238,
          -1.7717378674646553,
          1.741175628507748,
          1.0629352168952446,
          0.1386737629402777,
          0.644833401664853,
          -1.158732454088803,
          -0.8893251447971611,
          -0.09115194355746586,
          -0.8369650243486435,
          0.18727737894972848,
          2.1398181622064754,
          0.9045169788207471,
          0.6135187489031853,
          -0.0163735787247299,
          -0.048123225921188305,
          -0.1934586058706064,
          -1.3068728615356302,
          -0.16814932656604875,
          -1.7608336285547592,
          -0.9560428706568221,
          -2.4038775493786373,
          -0.24616587387684877,
          0.9363418620845582
         ]
        },
        {
         "boxpoints": false,
         "line": {
          "width": 1.3
         },
         "marker": {
          "color": "rgba(50, 171, 96, 1.0)"
         },
         "name": "C",
         "orientation": "v",
         "type": "box",
         "y": [
          0.2439544173558018,
          -0.5684860107771211,
          -0.39898336378134686,
          1.470445041967711,
          -0.8773646037251458,
          -1.3143521510244864,
          -0.6404540305233106,
          0.4208695834921709,
          0.1369830135697895,
          0.16164426437240773,
          -0.48579684965386133,
          0.10355648639856779,
          -0.7710465929877407,
          -0.19655171644819658,
          -1.6874712292595653,
          0.16757349392598925,
          1.2352849658466538,
          1.9574703413992662,
          1.2545877496858209,
          -0.5533735282763952,
          -1.9491838402304684,
          1.244690755258954,
          -2.092936179509895,
          -0.49658554221157797,
          -0.10746330738245898,
          1.8763769603952432,
          -0.7580830324982493,
          0.06806291941946263,
          -0.6752128028794379,
          -0.27883481594403464,
          0.24875502527288698,
          0.9934733870085766,
          1.1283205574627364,
          -1.1035597601588403,
          0.2816885607013435,
          -0.8319620583099021,
          -0.40064131378379686,
          1.4038953274465265,
          1.3998944991431672,
          -1.601486589007531,
          0.47391924423921605,
          0.466746114389561,
          0.9706083084817316,
          -0.04422878710039364,
          1.2676192525955698,
          -0.639408276402107,
          0.07520932095837224,
          -0.31907617311424424,
          -1.27764933100713,
          -0.5735550334589399,
          -0.026513052803373932,
          0.14937265522033397,
          0.13953507121983863,
          0.41307879494989813,
          0.45338753498149464,
          0.6234672068628964,
          -2.2765535658276685,
          0.7274341648676981,
          1.004824722296655,
          0.3954456500779527,
          2.3305354500608817,
          -1.8379781873764833,
          -0.7011796333379808,
          -1.0694965445897895,
          -0.388901381539195,
          -1.0462176218354262,
          0.6491021007853509,
          -0.8977083133767135,
          -1.4110833048295905,
          0.7149029038856394,
          -0.3910418380594732,
          1.253219176603211,
          -1.0296354258652898,
          -1.2588421948687074,
          0.3838126435700305,
          2.1439286995244116,
          0.7971571704041353,
          2.237661163598857,
          0.6427542650076359,
          1.2442294164108993,
          -0.22921932764592964,
          -0.44381739891857996,
          0.3906272403800916,
          0.4019060087220604,
          -0.1757975914727586,
          0.39091530437661526,
          0.8840655686042812,
          0.05371136442471388,
          0.7474346171342512,
          0.8997005175577352,
          1.2818203813912323,
          2.450606354714322,
          0.11240836638800612,
          0.3887304812772784,
          0.11356804428669474,
          0.08523393662899097,
          0.7643488562233913,
          -0.5167860270016906,
          -0.9161526975648713,
          -0.09325293782302599
         ]
        },
        {
         "boxpoints": false,
         "line": {
          "width": 1.3
         },
         "marker": {
          "color": "rgba(128, 0, 128, 1.0)"
         },
         "name": "D",
         "orientation": "v",
         "type": "box",
         "y": [
          -0.38938243741545403,
          0.8489870102957672,
          -0.3037458275459016,
          -0.6601049835781777,
          2.3580169677027394,
          0.5199439178609391,
          -0.3264757284875137,
          0.08630614808557951,
          -0.07995943538715375,
          0.9075978302810658,
          -0.6869005754865015,
          0.5204940139574966,
          -1.4761755865027963,
          0.31485011426256515,
          -0.521991690547675,
          -0.8130119308449821,
          -0.8511772824913525,
          0.4412605402390498,
          0.20492502248403782,
          -0.7600969305704209,
          1.3650806344044095,
          1.5839595788195793,
          -0.9255533579202732,
          1.4260526921993562,
          0.2211794800671896,
          -1.0057678764610622,
          -0.3172025255670704,
          0.35567762720637663,
          -1.256020916493353,
          -0.9431848440272603,
          -0.44312395586168113,
          0.5413545937825133,
          0.29866464427822986,
          0.9309374378225036,
          1.0927320222137886,
          0.6816329826138551,
          0.16945769860772733,
          -1.0562541561312082,
          0.43800782817833045,
          -0.614934475248173,
          -1.842040183576977,
          -0.36461688319188806,
          0.11804081037877812,
          -1.927908187932504,
          0.3875613384845141,
          2.3166938534833545,
          0.25507309886563106,
          -0.06376455573532246,
          0.22324627350088297,
          0.057930036902700044,
          0.26628277279917173,
          1.2990220920644695,
          0.2628516155084871,
          -0.2704546918745566,
          0.5331619389656265,
          -0.7149920309330231,
          0.10510439172378729,
          0.041384538695561884,
          0.6962859355005034,
          0.13714925026171573,
          -0.6758391677591793,
          0.3911853570002575,
          2.090479530429213,
          0.5677335771284356,
          -0.5662444899254707,
          -0.2243214040452147,
          0.476652994096476,
          -0.6313101423242503,
          -1.0956168384509517,
          -0.3473630783534499,
          -0.0913453019635285,
          0.1660749685581784,
          -0.6324153506118001,
          1.336531017436755,
          -0.48529282414607117,
          0.05226631998588901,
          0.1786405084274815,
          1.4112386708662197,
          0.6557611592320337,
          -0.3601867173190986,
          0.44016375794179113,
          0.0625280426120296,
          -0.5805898085736471,
          -1.8303599503308512,
          0.35565673033556766,
          -1.7749873678146948,
          -0.008702600419621702,
          -0.946621571415386,
          0.28732863502550626,
          0.680168656572631,
          -1.639659854305356,
          -0.43267660234242605,
          0.7339263210111374,
          0.9403153768938592,
          0.03896750343386187,
          0.9915484870007537,
          -0.21926305314552225,
          1.5997595841722492,
          0.5061382897962495,
          0.11521369883971239
         ]
        }
       ],
       "layout": {
        "legend": {
         "bgcolor": "#F5F6F9",
         "font": {
          "color": "#4D5663"
         }
        },
        "paper_bgcolor": "#F5F6F9",
        "plot_bgcolor": "#F5F6F9",
        "template": {
         "data": {
          "bar": [
           {
            "error_x": {
             "color": "#2a3f5f"
            },
            "error_y": {
             "color": "#2a3f5f"
            },
            "marker": {
             "line": {
              "color": "#E5ECF6",
              "width": 0.5
             },
             "pattern": {
              "fillmode": "overlay",
              "size": 10,
              "solidity": 0.2
             }
            },
            "type": "bar"
           }
          ],
          "barpolar": [
           {
            "marker": {
             "line": {
              "color": "#E5ECF6",
              "width": 0.5
             },
             "pattern": {
              "fillmode": "overlay",
              "size": 10,
              "solidity": 0.2
             }
            },
            "type": "barpolar"
           }
          ],
          "carpet": [
           {
            "aaxis": {
             "endlinecolor": "#2a3f5f",
             "gridcolor": "white",
             "linecolor": "white",
             "minorgridcolor": "white",
             "startlinecolor": "#2a3f5f"
            },
            "baxis": {
             "endlinecolor": "#2a3f5f",
             "gridcolor": "white",
             "linecolor": "white",
             "minorgridcolor": "white",
             "startlinecolor": "#2a3f5f"
            },
            "type": "carpet"
           }
          ],
          "choropleth": [
           {
            "colorbar": {
             "outlinewidth": 0,
             "ticks": ""
            },
            "type": "choropleth"
           }
          ],
          "contour": [
           {
            "colorbar": {
             "outlinewidth": 0,
             "ticks": ""
            },
            "colorscale": [
             [
              0,
              "#0d0887"
             ],
             [
              0.1111111111111111,
              "#46039f"
             ],
             [
              0.2222222222222222,
              "#7201a8"
             ],
             [
              0.3333333333333333,
              "#9c179e"
             ],
             [
              0.4444444444444444,
              "#bd3786"
             ],
             [
              0.5555555555555556,
              "#d8576b"
             ],
             [
              0.6666666666666666,
              "#ed7953"
             ],
             [
              0.7777777777777778,
              "#fb9f3a"
             ],
             [
              0.8888888888888888,
              "#fdca26"
             ],
             [
              1,
              "#f0f921"
             ]
            ],
            "type": "contour"
           }
          ],
          "contourcarpet": [
           {
            "colorbar": {
             "outlinewidth": 0,
             "ticks": ""
            },
            "type": "contourcarpet"
           }
          ],
          "heatmap": [
           {
            "colorbar": {
             "outlinewidth": 0,
             "ticks": ""
            },
            "colorscale": [
             [
              0,
              "#0d0887"
             ],
             [
              0.1111111111111111,
              "#46039f"
             ],
             [
              0.2222222222222222,
              "#7201a8"
             ],
             [
              0.3333333333333333,
              "#9c179e"
             ],
             [
              0.4444444444444444,
              "#bd3786"
             ],
             [
              0.5555555555555556,
              "#d8576b"
             ],
             [
              0.6666666666666666,
              "#ed7953"
             ],
             [
              0.7777777777777778,
              "#fb9f3a"
             ],
             [
              0.8888888888888888,
              "#fdca26"
             ],
             [
              1,
              "#f0f921"
             ]
            ],
            "type": "heatmap"
           }
          ],
          "heatmapgl": [
           {
            "colorbar": {
             "outlinewidth": 0,
             "ticks": ""
            },
            "colorscale": [
             [
              0,
              "#0d0887"
             ],
             [
              0.1111111111111111,
              "#46039f"
             ],
             [
              0.2222222222222222,
              "#7201a8"
             ],
             [
              0.3333333333333333,
              "#9c179e"
             ],
             [
              0.4444444444444444,
              "#bd3786"
             ],
             [
              0.5555555555555556,
              "#d8576b"
             ],
             [
              0.6666666666666666,
              "#ed7953"
             ],
             [
              0.7777777777777778,
              "#fb9f3a"
             ],
             [
              0.8888888888888888,
              "#fdca26"
             ],
             [
              1,
              "#f0f921"
             ]
            ],
            "type": "heatmapgl"
           }
          ],
          "histogram": [
           {
            "marker": {
             "pattern": {
              "fillmode": "overlay",
              "size": 10,
              "solidity": 0.2
             }
            },
            "type": "histogram"
           }
          ],
          "histogram2d": [
           {
            "colorbar": {
             "outlinewidth": 0,
             "ticks": ""
            },
            "colorscale": [
             [
              0,
              "#0d0887"
             ],
             [
              0.1111111111111111,
              "#46039f"
             ],
             [
              0.2222222222222222,
              "#7201a8"
             ],
             [
              0.3333333333333333,
              "#9c179e"
             ],
             [
              0.4444444444444444,
              "#bd3786"
             ],
             [
              0.5555555555555556,
              "#d8576b"
             ],
             [
              0.6666666666666666,
              "#ed7953"
             ],
             [
              0.7777777777777778,
              "#fb9f3a"
             ],
             [
              0.8888888888888888,
              "#fdca26"
             ],
             [
              1,
              "#f0f921"
             ]
            ],
            "type": "histogram2d"
           }
          ],
          "histogram2dcontour": [
           {
            "colorbar": {
             "outlinewidth": 0,
             "ticks": ""
            },
            "colorscale": [
             [
              0,
              "#0d0887"
             ],
             [
              0.1111111111111111,
              "#46039f"
             ],
             [
              0.2222222222222222,
              "#7201a8"
             ],
             [
              0.3333333333333333,
              "#9c179e"
             ],
             [
              0.4444444444444444,
              "#bd3786"
             ],
             [
              0.5555555555555556,
              "#d8576b"
             ],
             [
              0.6666666666666666,
              "#ed7953"
             ],
             [
              0.7777777777777778,
              "#fb9f3a"
             ],
             [
              0.8888888888888888,
              "#fdca26"
             ],
             [
              1,
              "#f0f921"
             ]
            ],
            "type": "histogram2dcontour"
           }
          ],
          "mesh3d": [
           {
            "colorbar": {
             "outlinewidth": 0,
             "ticks": ""
            },
            "type": "mesh3d"
           }
          ],
          "parcoords": [
           {
            "line": {
             "colorbar": {
              "outlinewidth": 0,
              "ticks": ""
             }
            },
            "type": "parcoords"
           }
          ],
          "pie": [
           {
            "automargin": true,
            "type": "pie"
           }
          ],
          "scatter": [
           {
            "marker": {
             "colorbar": {
              "outlinewidth": 0,
              "ticks": ""
             }
            },
            "type": "scatter"
           }
          ],
          "scatter3d": [
           {
            "line": {
             "colorbar": {
              "outlinewidth": 0,
              "ticks": ""
             }
            },
            "marker": {
             "colorbar": {
              "outlinewidth": 0,
              "ticks": ""
             }
            },
            "type": "scatter3d"
           }
          ],
          "scattercarpet": [
           {
            "marker": {
             "colorbar": {
              "outlinewidth": 0,
              "ticks": ""
             }
            },
            "type": "scattercarpet"
           }
          ],
          "scattergeo": [
           {
            "marker": {
             "colorbar": {
              "outlinewidth": 0,
              "ticks": ""
             }
            },
            "type": "scattergeo"
           }
          ],
          "scattergl": [
           {
            "marker": {
             "colorbar": {
              "outlinewidth": 0,
              "ticks": ""
             }
            },
            "type": "scattergl"
           }
          ],
          "scattermapbox": [
           {
            "marker": {
             "colorbar": {
              "outlinewidth": 0,
              "ticks": ""
             }
            },
            "type": "scattermapbox"
           }
          ],
          "scatterpolar": [
           {
            "marker": {
             "colorbar": {
              "outlinewidth": 0,
              "ticks": ""
             }
            },
            "type": "scatterpolar"
           }
          ],
          "scatterpolargl": [
           {
            "marker": {
             "colorbar": {
              "outlinewidth": 0,
              "ticks": ""
             }
            },
            "type": "scatterpolargl"
           }
          ],
          "scatterternary": [
           {
            "marker": {
             "colorbar": {
              "outlinewidth": 0,
              "ticks": ""
             }
            },
            "type": "scatterternary"
           }
          ],
          "surface": [
           {
            "colorbar": {
             "outlinewidth": 0,
             "ticks": ""
            },
            "colorscale": [
             [
              0,
              "#0d0887"
             ],
             [
              0.1111111111111111,
              "#46039f"
             ],
             [
              0.2222222222222222,
              "#7201a8"
             ],
             [
              0.3333333333333333,
              "#9c179e"
             ],
             [
              0.4444444444444444,
              "#bd3786"
             ],
             [
              0.5555555555555556,
              "#d8576b"
             ],
             [
              0.6666666666666666,
              "#ed7953"
             ],
             [
              0.7777777777777778,
              "#fb9f3a"
             ],
             [
              0.8888888888888888,
              "#fdca26"
             ],
             [
              1,
              "#f0f921"
             ]
            ],
            "type": "surface"
           }
          ],
          "table": [
           {
            "cells": {
             "fill": {
              "color": "#EBF0F8"
             },
             "line": {
              "color": "white"
             }
            },
            "header": {
             "fill": {
              "color": "#C8D4E3"
             },
             "line": {
              "color": "white"
             }
            },
            "type": "table"
           }
          ]
         },
         "layout": {
          "annotationdefaults": {
           "arrowcolor": "#2a3f5f",
           "arrowhead": 0,
           "arrowwidth": 1
          },
          "autotypenumbers": "strict",
          "coloraxis": {
           "colorbar": {
            "outlinewidth": 0,
            "ticks": ""
           }
          },
          "colorscale": {
           "diverging": [
            [
             0,
             "#8e0152"
            ],
            [
             0.1,
             "#c51b7d"
            ],
            [
             0.2,
             "#de77ae"
            ],
            [
             0.3,
             "#f1b6da"
            ],
            [
             0.4,
             "#fde0ef"
            ],
            [
             0.5,
             "#f7f7f7"
            ],
            [
             0.6,
             "#e6f5d0"
            ],
            [
             0.7,
             "#b8e186"
            ],
            [
             0.8,
             "#7fbc41"
            ],
            [
             0.9,
             "#4d9221"
            ],
            [
             1,
             "#276419"
            ]
           ],
           "sequential": [
            [
             0,
             "#0d0887"
            ],
            [
             0.1111111111111111,
             "#46039f"
            ],
            [
             0.2222222222222222,
             "#7201a8"
            ],
            [
             0.3333333333333333,
             "#9c179e"
            ],
            [
             0.4444444444444444,
             "#bd3786"
            ],
            [
             0.5555555555555556,
             "#d8576b"
            ],
            [
             0.6666666666666666,
             "#ed7953"
            ],
            [
             0.7777777777777778,
             "#fb9f3a"
            ],
            [
             0.8888888888888888,
             "#fdca26"
            ],
            [
             1,
             "#f0f921"
            ]
           ],
           "sequentialminus": [
            [
             0,
             "#0d0887"
            ],
            [
             0.1111111111111111,
             "#46039f"
            ],
            [
             0.2222222222222222,
             "#7201a8"
            ],
            [
             0.3333333333333333,
             "#9c179e"
            ],
            [
             0.4444444444444444,
             "#bd3786"
            ],
            [
             0.5555555555555556,
             "#d8576b"
            ],
            [
             0.6666666666666666,
             "#ed7953"
            ],
            [
             0.7777777777777778,
             "#fb9f3a"
            ],
            [
             0.8888888888888888,
             "#fdca26"
            ],
            [
             1,
             "#f0f921"
            ]
           ]
          },
          "colorway": [
           "#636efa",
           "#EF553B",
           "#00cc96",
           "#ab63fa",
           "#FFA15A",
           "#19d3f3",
           "#FF6692",
           "#B6E880",
           "#FF97FF",
           "#FECB52"
          ],
          "font": {
           "color": "#2a3f5f"
          },
          "geo": {
           "bgcolor": "white",
           "lakecolor": "white",
           "landcolor": "#E5ECF6",
           "showlakes": true,
           "showland": true,
           "subunitcolor": "white"
          },
          "hoverlabel": {
           "align": "left"
          },
          "hovermode": "closest",
          "mapbox": {
           "style": "light"
          },
          "paper_bgcolor": "white",
          "plot_bgcolor": "#E5ECF6",
          "polar": {
           "angularaxis": {
            "gridcolor": "white",
            "linecolor": "white",
            "ticks": ""
           },
           "bgcolor": "#E5ECF6",
           "radialaxis": {
            "gridcolor": "white",
            "linecolor": "white",
            "ticks": ""
           }
          },
          "scene": {
           "xaxis": {
            "backgroundcolor": "#E5ECF6",
            "gridcolor": "white",
            "gridwidth": 2,
            "linecolor": "white",
            "showbackground": true,
            "ticks": "",
            "zerolinecolor": "white"
           },
           "yaxis": {
            "backgroundcolor": "#E5ECF6",
            "gridcolor": "white",
            "gridwidth": 2,
            "linecolor": "white",
            "showbackground": true,
            "ticks": "",
            "zerolinecolor": "white"
           },
           "zaxis": {
            "backgroundcolor": "#E5ECF6",
            "gridcolor": "white",
            "gridwidth": 2,
            "linecolor": "white",
            "showbackground": true,
            "ticks": "",
            "zerolinecolor": "white"
           }
          },
          "shapedefaults": {
           "line": {
            "color": "#2a3f5f"
           }
          },
          "ternary": {
           "aaxis": {
            "gridcolor": "white",
            "linecolor": "white",
            "ticks": ""
           },
           "baxis": {
            "gridcolor": "white",
            "linecolor": "white",
            "ticks": ""
           },
           "bgcolor": "#E5ECF6",
           "caxis": {
            "gridcolor": "white",
            "linecolor": "white",
            "ticks": ""
           }
          },
          "title": {
           "x": 0.05
          },
          "xaxis": {
           "automargin": true,
           "gridcolor": "white",
           "linecolor": "white",
           "ticks": "",
           "title": {
            "standoff": 15
           },
           "zerolinecolor": "white",
           "zerolinewidth": 2
          },
          "yaxis": {
           "automargin": true,
           "gridcolor": "white",
           "linecolor": "white",
           "ticks": "",
           "title": {
            "standoff": 15
           },
           "zerolinecolor": "white",
           "zerolinewidth": 2
          }
         }
        },
        "title": {
         "font": {
          "color": "#4D5663"
         }
        },
        "xaxis": {
         "gridcolor": "#E1E5ED",
         "showgrid": true,
         "tickfont": {
          "color": "#4D5663"
         },
         "title": {
          "font": {
           "color": "#4D5663"
          },
          "text": ""
         },
         "zerolinecolor": "#E1E5ED"
        },
        "yaxis": {
         "gridcolor": "#E1E5ED",
         "showgrid": true,
         "tickfont": {
          "color": "#4D5663"
         },
         "title": {
          "font": {
           "color": "#4D5663"
          },
          "text": ""
         },
         "zerolinecolor": "#E1E5ED"
        }
       }
      },
      "text/html": [
       "<div>                            <div id=\"f727eb26-f112-4b93-bfd7-3e7790eb437f\" class=\"plotly-graph-div\" style=\"height:525px; width:100%;\"></div>            <script type=\"text/javascript\">                require([\"plotly\"], function(Plotly) {                    window.PLOTLYENV=window.PLOTLYENV || {};\n",
       "                    window.PLOTLYENV.BASE_URL='https://plot.ly';                                    if (document.getElementById(\"f727eb26-f112-4b93-bfd7-3e7790eb437f\")) {                    Plotly.newPlot(                        \"f727eb26-f112-4b93-bfd7-3e7790eb437f\",                        [{\"boxpoints\":false,\"line\":{\"width\":1.3},\"marker\":{\"color\":\"rgba(255, 153, 51, 1.0)\"},\"name\":\"A\",\"orientation\":\"v\",\"y\":[0.6609269625981522,-0.6283942023252015,0.5958289057467888,-0.25235480998017024,-0.4991144493410042,1.5167690595310814,1.5862310771988744,-2.0038547936463633,0.15151721273618973,0.2589386222594662,-0.8055696610930111,0.8312013344819981,0.1303733282983725,-1.0396818423548286,0.6530713205398567,-0.6505989805969854,-0.18596098484788937,0.6054617971802655,-0.2811898686118027,-0.13912634769480767,0.8446396122125646,-0.68578985663953,-0.6531203665961344,-1.6731759119240543,2.209985229565079,0.3404983837596926,-0.6791549259903613,0.626551904680079,0.4365449907031151,0.22223603549504206,-0.05514042399957164,-0.5478591051219441,-0.272608358787428,0.13624914914319483,2.0107444355148316,-1.1295515219688383,-1.9308731102338974,-0.869451665441127,0.24225048593408174,0.5277492128113745,-0.39944870589815207,-0.3028181745654215,-0.36208010777438204,-0.6371805534587353,-0.5694189831819202,1.461096225783802,-0.4994736094715912,0.29929114541333546,1.2041695390914506,-0.9793564598366558,0.01807837432378152,-1.103587706826982,-0.18817011528619612,2.5352245967487885,-1.4285113376487508,0.1361915367915166,0.9006406460730992,-0.5298534434558503,-1.213528288936742,1.8601487302024202,0.3695423990074541,1.296044763586415,0.1395186998537509,1.719413311595714,1.2114653178792933,0.03910624479884292,0.2545787261537919,0.023686667231006552,0.8541797670508043,0.4593274411390989,1.0033874555379092,-0.2873415179522952,-0.9384778704654327,-0.40658629235198673,-2.158070369516635,-1.0527523510456966,-1.210264349440857,-0.8228197170689329,0.1435983858401079,0.08212759198765562,0.5047104711807551,-0.1288060629054838,1.6932702499770058,-0.6471071694000822,-0.6856545007792552,-1.4449240018310907,0.05111083881877059,-0.08977932715227151,1.2448916134290704,-0.10907787099641833,0.41576838297650387,0.034355047528476276,1.737306222848453,1.2879506488485895,-0.5445920228908319,-0.011791285460258594,-1.3429356371363272,0.340923499794586,0.7271609744140205,0.11415981620587828],\"type\":\"box\"},{\"boxpoints\":false,\"line\":{\"width\":1.3},\"marker\":{\"color\":\"rgba(55, 128, 191, 1.0)\"},\"name\":\"B\",\"orientation\":\"v\",\"y\":[2.1369138719324097,1.1218232241102921,0.26572688661593546,-0.6305003101378791,2.167181040671889,-0.23150609074463332,1.5260914845192142,1.8996590584310187,-0.5308756528251863,-1.1285592958279023,-0.7791266507171293,-1.6911442048922218,0.03259993470017688,-1.5301542368770833,-0.943124496564741,0.6401111021980387,0.5555916097716914,-0.47944004993930484,-0.3734154861180155,-2.3193218374592033,-0.25769903978196274,1.0901689928043339,-0.3787309412507085,0.6941815251138934,-0.41055317577509276,-0.7938391689626703,-0.09216651037745185,1.0536237513050577,-0.01771299556433199,-1.1354493905039764,0.36405402739491627,-0.25022937939597756,1.5460158671741624,-0.08797194860936755,-0.2693182997508638,-1.6945406701465857,-1.6654886030470293,-0.8449708912564343,0.9057644458698647,0.4930488497054626,-0.514550577625808,0.08399712687451115,-0.7120181921708862,-0.22188650000595753,-0.996247575974823,-2.6283366939612494,-0.3806094830267701,0.1410881180140036,0.5544826175873403,0.32787605876710624,0.04302194321889322,1.4248894903070992,-1.2159827938969654,0.37057004231054885,-0.3998796372393718,0.09013059092878399,0.897677474178713,1.0996054030628408,0.04685669530975385,0.8705743484320358,-1.2928816250304203,-1.993744959568647,1.3576023433880942,0.5270461933088814,-1.1143133576599562,-0.4535757125183196,-1.9473052612596844,-0.1578392966742072,1.3490461776070415,0.49834492043962886,-0.3176243733857624,0.14317832901426178,1.9711251053897287,-0.6960179115421854,0.5202843097161529,0.7294212209929505,-0.02206115315984238,-1.7717378674646553,1.741175628507748,1.0629352168952446,0.1386737629402777,0.644833401664853,-1.158732454088803,-0.8893251447971611,-0.09115194355746586,-0.8369650243486435,0.18727737894972848,2.1398181622064754,0.9045169788207471,0.6135187489031853,-0.0163735787247299,-0.048123225921188305,-0.1934586058706064,-1.3068728615356302,-0.16814932656604875,-1.7608336285547592,-0.9560428706568221,-2.4038775493786373,-0.24616587387684877,0.9363418620845582],\"type\":\"box\"},{\"boxpoints\":false,\"line\":{\"width\":1.3},\"marker\":{\"color\":\"rgba(50, 171, 96, 1.0)\"},\"name\":\"C\",\"orientation\":\"v\",\"y\":[0.2439544173558018,-0.5684860107771211,-0.39898336378134686,1.470445041967711,-0.8773646037251458,-1.3143521510244864,-0.6404540305233106,0.4208695834921709,0.1369830135697895,0.16164426437240773,-0.48579684965386133,0.10355648639856779,-0.7710465929877407,-0.19655171644819658,-1.6874712292595653,0.16757349392598925,1.2352849658466538,1.9574703413992662,1.2545877496858209,-0.5533735282763952,-1.9491838402304684,1.244690755258954,-2.092936179509895,-0.49658554221157797,-0.10746330738245898,1.8763769603952432,-0.7580830324982493,0.06806291941946263,-0.6752128028794379,-0.27883481594403464,0.24875502527288698,0.9934733870085766,1.1283205574627364,-1.1035597601588403,0.2816885607013435,-0.8319620583099021,-0.40064131378379686,1.4038953274465265,1.3998944991431672,-1.601486589007531,0.47391924423921605,0.466746114389561,0.9706083084817316,-0.04422878710039364,1.2676192525955698,-0.639408276402107,0.07520932095837224,-0.31907617311424424,-1.27764933100713,-0.5735550334589399,-0.026513052803373932,0.14937265522033397,0.13953507121983863,0.41307879494989813,0.45338753498149464,0.6234672068628964,-2.2765535658276685,0.7274341648676981,1.004824722296655,0.3954456500779527,2.3305354500608817,-1.8379781873764833,-0.7011796333379808,-1.0694965445897895,-0.388901381539195,-1.0462176218354262,0.6491021007853509,-0.8977083133767135,-1.4110833048295905,0.7149029038856394,-0.3910418380594732,1.253219176603211,-1.0296354258652898,-1.2588421948687074,0.3838126435700305,2.1439286995244116,0.7971571704041353,2.237661163598857,0.6427542650076359,1.2442294164108993,-0.22921932764592964,-0.44381739891857996,0.3906272403800916,0.4019060087220604,-0.1757975914727586,0.39091530437661526,0.8840655686042812,0.05371136442471388,0.7474346171342512,0.8997005175577352,1.2818203813912323,2.450606354714322,0.11240836638800612,0.3887304812772784,0.11356804428669474,0.08523393662899097,0.7643488562233913,-0.5167860270016906,-0.9161526975648713,-0.09325293782302599],\"type\":\"box\"},{\"boxpoints\":false,\"line\":{\"width\":1.3},\"marker\":{\"color\":\"rgba(128, 0, 128, 1.0)\"},\"name\":\"D\",\"orientation\":\"v\",\"y\":[-0.38938243741545403,0.8489870102957672,-0.3037458275459016,-0.6601049835781777,2.3580169677027394,0.5199439178609391,-0.3264757284875137,0.08630614808557951,-0.07995943538715375,0.9075978302810658,-0.6869005754865015,0.5204940139574966,-1.4761755865027963,0.31485011426256515,-0.521991690547675,-0.8130119308449821,-0.8511772824913525,0.4412605402390498,0.20492502248403782,-0.7600969305704209,1.3650806344044095,1.5839595788195793,-0.9255533579202732,1.4260526921993562,0.2211794800671896,-1.0057678764610622,-0.3172025255670704,0.35567762720637663,-1.256020916493353,-0.9431848440272603,-0.44312395586168113,0.5413545937825133,0.29866464427822986,0.9309374378225036,1.0927320222137886,0.6816329826138551,0.16945769860772733,-1.0562541561312082,0.43800782817833045,-0.614934475248173,-1.842040183576977,-0.36461688319188806,0.11804081037877812,-1.927908187932504,0.3875613384845141,2.3166938534833545,0.25507309886563106,-0.06376455573532246,0.22324627350088297,0.057930036902700044,0.26628277279917173,1.2990220920644695,0.2628516155084871,-0.2704546918745566,0.5331619389656265,-0.7149920309330231,0.10510439172378729,0.041384538695561884,0.6962859355005034,0.13714925026171573,-0.6758391677591793,0.3911853570002575,2.090479530429213,0.5677335771284356,-0.5662444899254707,-0.2243214040452147,0.476652994096476,-0.6313101423242503,-1.0956168384509517,-0.3473630783534499,-0.0913453019635285,0.1660749685581784,-0.6324153506118001,1.336531017436755,-0.48529282414607117,0.05226631998588901,0.1786405084274815,1.4112386708662197,0.6557611592320337,-0.3601867173190986,0.44016375794179113,0.0625280426120296,-0.5805898085736471,-1.8303599503308512,0.35565673033556766,-1.7749873678146948,-0.008702600419621702,-0.946621571415386,0.28732863502550626,0.680168656572631,-1.639659854305356,-0.43267660234242605,0.7339263210111374,0.9403153768938592,0.03896750343386187,0.9915484870007537,-0.21926305314552225,1.5997595841722492,0.5061382897962495,0.11521369883971239],\"type\":\"box\"}],                        {\"legend\":{\"bgcolor\":\"#F5F6F9\",\"font\":{\"color\":\"#4D5663\"}},\"paper_bgcolor\":\"#F5F6F9\",\"plot_bgcolor\":\"#F5F6F9\",\"template\":{\"data\":{\"barpolar\":[{\"marker\":{\"line\":{\"color\":\"#E5ECF6\",\"width\":0.5},\"pattern\":{\"fillmode\":\"overlay\",\"size\":10,\"solidity\":0.2}},\"type\":\"barpolar\"}],\"bar\":[{\"error_x\":{\"color\":\"#2a3f5f\"},\"error_y\":{\"color\":\"#2a3f5f\"},\"marker\":{\"line\":{\"color\":\"#E5ECF6\",\"width\":0.5},\"pattern\":{\"fillmode\":\"overlay\",\"size\":10,\"solidity\":0.2}},\"type\":\"bar\"}],\"carpet\":[{\"aaxis\":{\"endlinecolor\":\"#2a3f5f\",\"gridcolor\":\"white\",\"linecolor\":\"white\",\"minorgridcolor\":\"white\",\"startlinecolor\":\"#2a3f5f\"},\"baxis\":{\"endlinecolor\":\"#2a3f5f\",\"gridcolor\":\"white\",\"linecolor\":\"white\",\"minorgridcolor\":\"white\",\"startlinecolor\":\"#2a3f5f\"},\"type\":\"carpet\"}],\"choropleth\":[{\"colorbar\":{\"outlinewidth\":0,\"ticks\":\"\"},\"type\":\"choropleth\"}],\"contourcarpet\":[{\"colorbar\":{\"outlinewidth\":0,\"ticks\":\"\"},\"type\":\"contourcarpet\"}],\"contour\":[{\"colorbar\":{\"outlinewidth\":0,\"ticks\":\"\"},\"colorscale\":[[0.0,\"#0d0887\"],[0.1111111111111111,\"#46039f\"],[0.2222222222222222,\"#7201a8\"],[0.3333333333333333,\"#9c179e\"],[0.4444444444444444,\"#bd3786\"],[0.5555555555555556,\"#d8576b\"],[0.6666666666666666,\"#ed7953\"],[0.7777777777777778,\"#fb9f3a\"],[0.8888888888888888,\"#fdca26\"],[1.0,\"#f0f921\"]],\"type\":\"contour\"}],\"heatmapgl\":[{\"colorbar\":{\"outlinewidth\":0,\"ticks\":\"\"},\"colorscale\":[[0.0,\"#0d0887\"],[0.1111111111111111,\"#46039f\"],[0.2222222222222222,\"#7201a8\"],[0.3333333333333333,\"#9c179e\"],[0.4444444444444444,\"#bd3786\"],[0.5555555555555556,\"#d8576b\"],[0.6666666666666666,\"#ed7953\"],[0.7777777777777778,\"#fb9f3a\"],[0.8888888888888888,\"#fdca26\"],[1.0,\"#f0f921\"]],\"type\":\"heatmapgl\"}],\"heatmap\":[{\"colorbar\":{\"outlinewidth\":0,\"ticks\":\"\"},\"colorscale\":[[0.0,\"#0d0887\"],[0.1111111111111111,\"#46039f\"],[0.2222222222222222,\"#7201a8\"],[0.3333333333333333,\"#9c179e\"],[0.4444444444444444,\"#bd3786\"],[0.5555555555555556,\"#d8576b\"],[0.6666666666666666,\"#ed7953\"],[0.7777777777777778,\"#fb9f3a\"],[0.8888888888888888,\"#fdca26\"],[1.0,\"#f0f921\"]],\"type\":\"heatmap\"}],\"histogram2dcontour\":[{\"colorbar\":{\"outlinewidth\":0,\"ticks\":\"\"},\"colorscale\":[[0.0,\"#0d0887\"],[0.1111111111111111,\"#46039f\"],[0.2222222222222222,\"#7201a8\"],[0.3333333333333333,\"#9c179e\"],[0.4444444444444444,\"#bd3786\"],[0.5555555555555556,\"#d8576b\"],[0.6666666666666666,\"#ed7953\"],[0.7777777777777778,\"#fb9f3a\"],[0.8888888888888888,\"#fdca26\"],[1.0,\"#f0f921\"]],\"type\":\"histogram2dcontour\"}],\"histogram2d\":[{\"colorbar\":{\"outlinewidth\":0,\"ticks\":\"\"},\"colorscale\":[[0.0,\"#0d0887\"],[0.1111111111111111,\"#46039f\"],[0.2222222222222222,\"#7201a8\"],[0.3333333333333333,\"#9c179e\"],[0.4444444444444444,\"#bd3786\"],[0.5555555555555556,\"#d8576b\"],[0.6666666666666666,\"#ed7953\"],[0.7777777777777778,\"#fb9f3a\"],[0.8888888888888888,\"#fdca26\"],[1.0,\"#f0f921\"]],\"type\":\"histogram2d\"}],\"histogram\":[{\"marker\":{\"pattern\":{\"fillmode\":\"overlay\",\"size\":10,\"solidity\":0.2}},\"type\":\"histogram\"}],\"mesh3d\":[{\"colorbar\":{\"outlinewidth\":0,\"ticks\":\"\"},\"type\":\"mesh3d\"}],\"parcoords\":[{\"line\":{\"colorbar\":{\"outlinewidth\":0,\"ticks\":\"\"}},\"type\":\"parcoords\"}],\"pie\":[{\"automargin\":true,\"type\":\"pie\"}],\"scatter3d\":[{\"line\":{\"colorbar\":{\"outlinewidth\":0,\"ticks\":\"\"}},\"marker\":{\"colorbar\":{\"outlinewidth\":0,\"ticks\":\"\"}},\"type\":\"scatter3d\"}],\"scattercarpet\":[{\"marker\":{\"colorbar\":{\"outlinewidth\":0,\"ticks\":\"\"}},\"type\":\"scattercarpet\"}],\"scattergeo\":[{\"marker\":{\"colorbar\":{\"outlinewidth\":0,\"ticks\":\"\"}},\"type\":\"scattergeo\"}],\"scattergl\":[{\"marker\":{\"colorbar\":{\"outlinewidth\":0,\"ticks\":\"\"}},\"type\":\"scattergl\"}],\"scattermapbox\":[{\"marker\":{\"colorbar\":{\"outlinewidth\":0,\"ticks\":\"\"}},\"type\":\"scattermapbox\"}],\"scatterpolargl\":[{\"marker\":{\"colorbar\":{\"outlinewidth\":0,\"ticks\":\"\"}},\"type\":\"scatterpolargl\"}],\"scatterpolar\":[{\"marker\":{\"colorbar\":{\"outlinewidth\":0,\"ticks\":\"\"}},\"type\":\"scatterpolar\"}],\"scatter\":[{\"marker\":{\"colorbar\":{\"outlinewidth\":0,\"ticks\":\"\"}},\"type\":\"scatter\"}],\"scatterternary\":[{\"marker\":{\"colorbar\":{\"outlinewidth\":0,\"ticks\":\"\"}},\"type\":\"scatterternary\"}],\"surface\":[{\"colorbar\":{\"outlinewidth\":0,\"ticks\":\"\"},\"colorscale\":[[0.0,\"#0d0887\"],[0.1111111111111111,\"#46039f\"],[0.2222222222222222,\"#7201a8\"],[0.3333333333333333,\"#9c179e\"],[0.4444444444444444,\"#bd3786\"],[0.5555555555555556,\"#d8576b\"],[0.6666666666666666,\"#ed7953\"],[0.7777777777777778,\"#fb9f3a\"],[0.8888888888888888,\"#fdca26\"],[1.0,\"#f0f921\"]],\"type\":\"surface\"}],\"table\":[{\"cells\":{\"fill\":{\"color\":\"#EBF0F8\"},\"line\":{\"color\":\"white\"}},\"header\":{\"fill\":{\"color\":\"#C8D4E3\"},\"line\":{\"color\":\"white\"}},\"type\":\"table\"}]},\"layout\":{\"annotationdefaults\":{\"arrowcolor\":\"#2a3f5f\",\"arrowhead\":0,\"arrowwidth\":1},\"autotypenumbers\":\"strict\",\"coloraxis\":{\"colorbar\":{\"outlinewidth\":0,\"ticks\":\"\"}},\"colorscale\":{\"diverging\":[[0,\"#8e0152\"],[0.1,\"#c51b7d\"],[0.2,\"#de77ae\"],[0.3,\"#f1b6da\"],[0.4,\"#fde0ef\"],[0.5,\"#f7f7f7\"],[0.6,\"#e6f5d0\"],[0.7,\"#b8e186\"],[0.8,\"#7fbc41\"],[0.9,\"#4d9221\"],[1,\"#276419\"]],\"sequential\":[[0.0,\"#0d0887\"],[0.1111111111111111,\"#46039f\"],[0.2222222222222222,\"#7201a8\"],[0.3333333333333333,\"#9c179e\"],[0.4444444444444444,\"#bd3786\"],[0.5555555555555556,\"#d8576b\"],[0.6666666666666666,\"#ed7953\"],[0.7777777777777778,\"#fb9f3a\"],[0.8888888888888888,\"#fdca26\"],[1.0,\"#f0f921\"]],\"sequentialminus\":[[0.0,\"#0d0887\"],[0.1111111111111111,\"#46039f\"],[0.2222222222222222,\"#7201a8\"],[0.3333333333333333,\"#9c179e\"],[0.4444444444444444,\"#bd3786\"],[0.5555555555555556,\"#d8576b\"],[0.6666666666666666,\"#ed7953\"],[0.7777777777777778,\"#fb9f3a\"],[0.8888888888888888,\"#fdca26\"],[1.0,\"#f0f921\"]]},\"colorway\":[\"#636efa\",\"#EF553B\",\"#00cc96\",\"#ab63fa\",\"#FFA15A\",\"#19d3f3\",\"#FF6692\",\"#B6E880\",\"#FF97FF\",\"#FECB52\"],\"font\":{\"color\":\"#2a3f5f\"},\"geo\":{\"bgcolor\":\"white\",\"lakecolor\":\"white\",\"landcolor\":\"#E5ECF6\",\"showlakes\":true,\"showland\":true,\"subunitcolor\":\"white\"},\"hoverlabel\":{\"align\":\"left\"},\"hovermode\":\"closest\",\"mapbox\":{\"style\":\"light\"},\"paper_bgcolor\":\"white\",\"plot_bgcolor\":\"#E5ECF6\",\"polar\":{\"angularaxis\":{\"gridcolor\":\"white\",\"linecolor\":\"white\",\"ticks\":\"\"},\"bgcolor\":\"#E5ECF6\",\"radialaxis\":{\"gridcolor\":\"white\",\"linecolor\":\"white\",\"ticks\":\"\"}},\"scene\":{\"xaxis\":{\"backgroundcolor\":\"#E5ECF6\",\"gridcolor\":\"white\",\"gridwidth\":2,\"linecolor\":\"white\",\"showbackground\":true,\"ticks\":\"\",\"zerolinecolor\":\"white\"},\"yaxis\":{\"backgroundcolor\":\"#E5ECF6\",\"gridcolor\":\"white\",\"gridwidth\":2,\"linecolor\":\"white\",\"showbackground\":true,\"ticks\":\"\",\"zerolinecolor\":\"white\"},\"zaxis\":{\"backgroundcolor\":\"#E5ECF6\",\"gridcolor\":\"white\",\"gridwidth\":2,\"linecolor\":\"white\",\"showbackground\":true,\"ticks\":\"\",\"zerolinecolor\":\"white\"}},\"shapedefaults\":{\"line\":{\"color\":\"#2a3f5f\"}},\"ternary\":{\"aaxis\":{\"gridcolor\":\"white\",\"linecolor\":\"white\",\"ticks\":\"\"},\"baxis\":{\"gridcolor\":\"white\",\"linecolor\":\"white\",\"ticks\":\"\"},\"bgcolor\":\"#E5ECF6\",\"caxis\":{\"gridcolor\":\"white\",\"linecolor\":\"white\",\"ticks\":\"\"}},\"title\":{\"x\":0.05},\"xaxis\":{\"automargin\":true,\"gridcolor\":\"white\",\"linecolor\":\"white\",\"ticks\":\"\",\"title\":{\"standoff\":15},\"zerolinecolor\":\"white\",\"zerolinewidth\":2},\"yaxis\":{\"automargin\":true,\"gridcolor\":\"white\",\"linecolor\":\"white\",\"ticks\":\"\",\"title\":{\"standoff\":15},\"zerolinecolor\":\"white\",\"zerolinewidth\":2}}},\"title\":{\"font\":{\"color\":\"#4D5663\"}},\"xaxis\":{\"gridcolor\":\"#E1E5ED\",\"showgrid\":true,\"tickfont\":{\"color\":\"#4D5663\"},\"title\":{\"font\":{\"color\":\"#4D5663\"},\"text\":\"\"},\"zerolinecolor\":\"#E1E5ED\"},\"yaxis\":{\"gridcolor\":\"#E1E5ED\",\"showgrid\":true,\"tickfont\":{\"color\":\"#4D5663\"},\"title\":{\"font\":{\"color\":\"#4D5663\"},\"text\":\"\"},\"zerolinecolor\":\"#E1E5ED\"}},                        {\"showLink\": true, \"linkText\": \"Export to plot.ly\", \"plotlyServerURL\": \"https://plot.ly\", \"responsive\": true}                    ).then(function(){\n",
       "                            \n",
       "var gd = document.getElementById('f727eb26-f112-4b93-bfd7-3e7790eb437f');\n",
       "var x = new MutationObserver(function (mutations, observer) {{\n",
       "        var display = window.getComputedStyle(gd).display;\n",
       "        if (!display || display === 'none') {{\n",
       "            console.log([gd, 'removed!']);\n",
       "            Plotly.purge(gd);\n",
       "            observer.disconnect();\n",
       "        }}\n",
       "}});\n",
       "\n",
       "// Listen for the removal of the full notebook cells\n",
       "var notebookContainer = gd.closest('#notebook-container');\n",
       "if (notebookContainer) {{\n",
       "    x.observe(notebookContainer, {childList: true});\n",
       "}}\n",
       "\n",
       "// Listen for the clearing of the current output cell\n",
       "var outputEl = gd.closest('.output');\n",
       "if (outputEl) {{\n",
       "    x.observe(outputEl, {childList: true});\n",
       "}}\n",
       "\n",
       "                        })                };                });            </script>        </div>"
      ]
     },
     "metadata": {},
     "output_type": "display_data"
    }
   ],
   "source": [
    "df.iplot(kind='box')"
   ]
  },
  {
   "cell_type": "markdown",
   "metadata": {},
   "source": [
    "## 3d Surface"
   ]
  },
  {
   "cell_type": "code",
   "execution_count": 19,
   "metadata": {},
   "outputs": [
    {
     "data": {
      "application/vnd.plotly.v1+json": {
       "config": {
        "linkText": "Export to plot.ly",
        "plotlyServerURL": "https://plot.ly",
        "showLink": true
       },
       "data": [
        {
         "colorscale": [
          [
           0,
           "rgb(165,0,38)"
          ],
          [
           0.1,
           "rgb(215,48,39)"
          ],
          [
           0.2,
           "rgb(244,109,67)"
          ],
          [
           0.3,
           "rgb(253,174,97)"
          ],
          [
           0.4,
           "rgb(254,224,144)"
          ],
          [
           0.5,
           "rgb(255,255,191)"
          ],
          [
           0.6,
           "rgb(224,243,248)"
          ],
          [
           0.7,
           "rgb(171,217,233)"
          ],
          [
           0.8,
           "rgb(116,173,209)"
          ],
          [
           0.9,
           "rgb(69,117,180)"
          ],
          [
           1,
           "rgb(49,54,149)"
          ]
         ],
         "type": "surface",
         "x": [
          0,
          1,
          2,
          3,
          4
         ],
         "y": [
          "x",
          "y",
          "z"
         ],
         "z": [
          [
           1,
           2,
           3,
           4,
           5
          ],
          [
           10,
           20,
           30,
           20,
           10
          ],
          [
           5,
           4,
           3,
           2,
           1
          ]
         ]
        }
       ],
       "layout": {
        "legend": {
         "bgcolor": "#F5F6F9",
         "font": {
          "color": "#4D5663"
         }
        },
        "paper_bgcolor": "#F5F6F9",
        "plot_bgcolor": "#F5F6F9",
        "template": {
         "data": {
          "bar": [
           {
            "error_x": {
             "color": "#2a3f5f"
            },
            "error_y": {
             "color": "#2a3f5f"
            },
            "marker": {
             "line": {
              "color": "#E5ECF6",
              "width": 0.5
             },
             "pattern": {
              "fillmode": "overlay",
              "size": 10,
              "solidity": 0.2
             }
            },
            "type": "bar"
           }
          ],
          "barpolar": [
           {
            "marker": {
             "line": {
              "color": "#E5ECF6",
              "width": 0.5
             },
             "pattern": {
              "fillmode": "overlay",
              "size": 10,
              "solidity": 0.2
             }
            },
            "type": "barpolar"
           }
          ],
          "carpet": [
           {
            "aaxis": {
             "endlinecolor": "#2a3f5f",
             "gridcolor": "white",
             "linecolor": "white",
             "minorgridcolor": "white",
             "startlinecolor": "#2a3f5f"
            },
            "baxis": {
             "endlinecolor": "#2a3f5f",
             "gridcolor": "white",
             "linecolor": "white",
             "minorgridcolor": "white",
             "startlinecolor": "#2a3f5f"
            },
            "type": "carpet"
           }
          ],
          "choropleth": [
           {
            "colorbar": {
             "outlinewidth": 0,
             "ticks": ""
            },
            "type": "choropleth"
           }
          ],
          "contour": [
           {
            "colorbar": {
             "outlinewidth": 0,
             "ticks": ""
            },
            "colorscale": [
             [
              0,
              "#0d0887"
             ],
             [
              0.1111111111111111,
              "#46039f"
             ],
             [
              0.2222222222222222,
              "#7201a8"
             ],
             [
              0.3333333333333333,
              "#9c179e"
             ],
             [
              0.4444444444444444,
              "#bd3786"
             ],
             [
              0.5555555555555556,
              "#d8576b"
             ],
             [
              0.6666666666666666,
              "#ed7953"
             ],
             [
              0.7777777777777778,
              "#fb9f3a"
             ],
             [
              0.8888888888888888,
              "#fdca26"
             ],
             [
              1,
              "#f0f921"
             ]
            ],
            "type": "contour"
           }
          ],
          "contourcarpet": [
           {
            "colorbar": {
             "outlinewidth": 0,
             "ticks": ""
            },
            "type": "contourcarpet"
           }
          ],
          "heatmap": [
           {
            "colorbar": {
             "outlinewidth": 0,
             "ticks": ""
            },
            "colorscale": [
             [
              0,
              "#0d0887"
             ],
             [
              0.1111111111111111,
              "#46039f"
             ],
             [
              0.2222222222222222,
              "#7201a8"
             ],
             [
              0.3333333333333333,
              "#9c179e"
             ],
             [
              0.4444444444444444,
              "#bd3786"
             ],
             [
              0.5555555555555556,
              "#d8576b"
             ],
             [
              0.6666666666666666,
              "#ed7953"
             ],
             [
              0.7777777777777778,
              "#fb9f3a"
             ],
             [
              0.8888888888888888,
              "#fdca26"
             ],
             [
              1,
              "#f0f921"
             ]
            ],
            "type": "heatmap"
           }
          ],
          "heatmapgl": [
           {
            "colorbar": {
             "outlinewidth": 0,
             "ticks": ""
            },
            "colorscale": [
             [
              0,
              "#0d0887"
             ],
             [
              0.1111111111111111,
              "#46039f"
             ],
             [
              0.2222222222222222,
              "#7201a8"
             ],
             [
              0.3333333333333333,
              "#9c179e"
             ],
             [
              0.4444444444444444,
              "#bd3786"
             ],
             [
              0.5555555555555556,
              "#d8576b"
             ],
             [
              0.6666666666666666,
              "#ed7953"
             ],
             [
              0.7777777777777778,
              "#fb9f3a"
             ],
             [
              0.8888888888888888,
              "#fdca26"
             ],
             [
              1,
              "#f0f921"
             ]
            ],
            "type": "heatmapgl"
           }
          ],
          "histogram": [
           {
            "marker": {
             "pattern": {
              "fillmode": "overlay",
              "size": 10,
              "solidity": 0.2
             }
            },
            "type": "histogram"
           }
          ],
          "histogram2d": [
           {
            "colorbar": {
             "outlinewidth": 0,
             "ticks": ""
            },
            "colorscale": [
             [
              0,
              "#0d0887"
             ],
             [
              0.1111111111111111,
              "#46039f"
             ],
             [
              0.2222222222222222,
              "#7201a8"
             ],
             [
              0.3333333333333333,
              "#9c179e"
             ],
             [
              0.4444444444444444,
              "#bd3786"
             ],
             [
              0.5555555555555556,
              "#d8576b"
             ],
             [
              0.6666666666666666,
              "#ed7953"
             ],
             [
              0.7777777777777778,
              "#fb9f3a"
             ],
             [
              0.8888888888888888,
              "#fdca26"
             ],
             [
              1,
              "#f0f921"
             ]
            ],
            "type": "histogram2d"
           }
          ],
          "histogram2dcontour": [
           {
            "colorbar": {
             "outlinewidth": 0,
             "ticks": ""
            },
            "colorscale": [
             [
              0,
              "#0d0887"
             ],
             [
              0.1111111111111111,
              "#46039f"
             ],
             [
              0.2222222222222222,
              "#7201a8"
             ],
             [
              0.3333333333333333,
              "#9c179e"
             ],
             [
              0.4444444444444444,
              "#bd3786"
             ],
             [
              0.5555555555555556,
              "#d8576b"
             ],
             [
              0.6666666666666666,
              "#ed7953"
             ],
             [
              0.7777777777777778,
              "#fb9f3a"
             ],
             [
              0.8888888888888888,
              "#fdca26"
             ],
             [
              1,
              "#f0f921"
             ]
            ],
            "type": "histogram2dcontour"
           }
          ],
          "mesh3d": [
           {
            "colorbar": {
             "outlinewidth": 0,
             "ticks": ""
            },
            "type": "mesh3d"
           }
          ],
          "parcoords": [
           {
            "line": {
             "colorbar": {
              "outlinewidth": 0,
              "ticks": ""
             }
            },
            "type": "parcoords"
           }
          ],
          "pie": [
           {
            "automargin": true,
            "type": "pie"
           }
          ],
          "scatter": [
           {
            "marker": {
             "colorbar": {
              "outlinewidth": 0,
              "ticks": ""
             }
            },
            "type": "scatter"
           }
          ],
          "scatter3d": [
           {
            "line": {
             "colorbar": {
              "outlinewidth": 0,
              "ticks": ""
             }
            },
            "marker": {
             "colorbar": {
              "outlinewidth": 0,
              "ticks": ""
             }
            },
            "type": "scatter3d"
           }
          ],
          "scattercarpet": [
           {
            "marker": {
             "colorbar": {
              "outlinewidth": 0,
              "ticks": ""
             }
            },
            "type": "scattercarpet"
           }
          ],
          "scattergeo": [
           {
            "marker": {
             "colorbar": {
              "outlinewidth": 0,
              "ticks": ""
             }
            },
            "type": "scattergeo"
           }
          ],
          "scattergl": [
           {
            "marker": {
             "colorbar": {
              "outlinewidth": 0,
              "ticks": ""
             }
            },
            "type": "scattergl"
           }
          ],
          "scattermapbox": [
           {
            "marker": {
             "colorbar": {
              "outlinewidth": 0,
              "ticks": ""
             }
            },
            "type": "scattermapbox"
           }
          ],
          "scatterpolar": [
           {
            "marker": {
             "colorbar": {
              "outlinewidth": 0,
              "ticks": ""
             }
            },
            "type": "scatterpolar"
           }
          ],
          "scatterpolargl": [
           {
            "marker": {
             "colorbar": {
              "outlinewidth": 0,
              "ticks": ""
             }
            },
            "type": "scatterpolargl"
           }
          ],
          "scatterternary": [
           {
            "marker": {
             "colorbar": {
              "outlinewidth": 0,
              "ticks": ""
             }
            },
            "type": "scatterternary"
           }
          ],
          "surface": [
           {
            "colorbar": {
             "outlinewidth": 0,
             "ticks": ""
            },
            "colorscale": [
             [
              0,
              "#0d0887"
             ],
             [
              0.1111111111111111,
              "#46039f"
             ],
             [
              0.2222222222222222,
              "#7201a8"
             ],
             [
              0.3333333333333333,
              "#9c179e"
             ],
             [
              0.4444444444444444,
              "#bd3786"
             ],
             [
              0.5555555555555556,
              "#d8576b"
             ],
             [
              0.6666666666666666,
              "#ed7953"
             ],
             [
              0.7777777777777778,
              "#fb9f3a"
             ],
             [
              0.8888888888888888,
              "#fdca26"
             ],
             [
              1,
              "#f0f921"
             ]
            ],
            "type": "surface"
           }
          ],
          "table": [
           {
            "cells": {
             "fill": {
              "color": "#EBF0F8"
             },
             "line": {
              "color": "white"
             }
            },
            "header": {
             "fill": {
              "color": "#C8D4E3"
             },
             "line": {
              "color": "white"
             }
            },
            "type": "table"
           }
          ]
         },
         "layout": {
          "annotationdefaults": {
           "arrowcolor": "#2a3f5f",
           "arrowhead": 0,
           "arrowwidth": 1
          },
          "autotypenumbers": "strict",
          "coloraxis": {
           "colorbar": {
            "outlinewidth": 0,
            "ticks": ""
           }
          },
          "colorscale": {
           "diverging": [
            [
             0,
             "#8e0152"
            ],
            [
             0.1,
             "#c51b7d"
            ],
            [
             0.2,
             "#de77ae"
            ],
            [
             0.3,
             "#f1b6da"
            ],
            [
             0.4,
             "#fde0ef"
            ],
            [
             0.5,
             "#f7f7f7"
            ],
            [
             0.6,
             "#e6f5d0"
            ],
            [
             0.7,
             "#b8e186"
            ],
            [
             0.8,
             "#7fbc41"
            ],
            [
             0.9,
             "#4d9221"
            ],
            [
             1,
             "#276419"
            ]
           ],
           "sequential": [
            [
             0,
             "#0d0887"
            ],
            [
             0.1111111111111111,
             "#46039f"
            ],
            [
             0.2222222222222222,
             "#7201a8"
            ],
            [
             0.3333333333333333,
             "#9c179e"
            ],
            [
             0.4444444444444444,
             "#bd3786"
            ],
            [
             0.5555555555555556,
             "#d8576b"
            ],
            [
             0.6666666666666666,
             "#ed7953"
            ],
            [
             0.7777777777777778,
             "#fb9f3a"
            ],
            [
             0.8888888888888888,
             "#fdca26"
            ],
            [
             1,
             "#f0f921"
            ]
           ],
           "sequentialminus": [
            [
             0,
             "#0d0887"
            ],
            [
             0.1111111111111111,
             "#46039f"
            ],
            [
             0.2222222222222222,
             "#7201a8"
            ],
            [
             0.3333333333333333,
             "#9c179e"
            ],
            [
             0.4444444444444444,
             "#bd3786"
            ],
            [
             0.5555555555555556,
             "#d8576b"
            ],
            [
             0.6666666666666666,
             "#ed7953"
            ],
            [
             0.7777777777777778,
             "#fb9f3a"
            ],
            [
             0.8888888888888888,
             "#fdca26"
            ],
            [
             1,
             "#f0f921"
            ]
           ]
          },
          "colorway": [
           "#636efa",
           "#EF553B",
           "#00cc96",
           "#ab63fa",
           "#FFA15A",
           "#19d3f3",
           "#FF6692",
           "#B6E880",
           "#FF97FF",
           "#FECB52"
          ],
          "font": {
           "color": "#2a3f5f"
          },
          "geo": {
           "bgcolor": "white",
           "lakecolor": "white",
           "landcolor": "#E5ECF6",
           "showlakes": true,
           "showland": true,
           "subunitcolor": "white"
          },
          "hoverlabel": {
           "align": "left"
          },
          "hovermode": "closest",
          "mapbox": {
           "style": "light"
          },
          "paper_bgcolor": "white",
          "plot_bgcolor": "#E5ECF6",
          "polar": {
           "angularaxis": {
            "gridcolor": "white",
            "linecolor": "white",
            "ticks": ""
           },
           "bgcolor": "#E5ECF6",
           "radialaxis": {
            "gridcolor": "white",
            "linecolor": "white",
            "ticks": ""
           }
          },
          "scene": {
           "xaxis": {
            "backgroundcolor": "#E5ECF6",
            "gridcolor": "white",
            "gridwidth": 2,
            "linecolor": "white",
            "showbackground": true,
            "ticks": "",
            "zerolinecolor": "white"
           },
           "yaxis": {
            "backgroundcolor": "#E5ECF6",
            "gridcolor": "white",
            "gridwidth": 2,
            "linecolor": "white",
            "showbackground": true,
            "ticks": "",
            "zerolinecolor": "white"
           },
           "zaxis": {
            "backgroundcolor": "#E5ECF6",
            "gridcolor": "white",
            "gridwidth": 2,
            "linecolor": "white",
            "showbackground": true,
            "ticks": "",
            "zerolinecolor": "white"
           }
          },
          "shapedefaults": {
           "line": {
            "color": "#2a3f5f"
           }
          },
          "ternary": {
           "aaxis": {
            "gridcolor": "white",
            "linecolor": "white",
            "ticks": ""
           },
           "baxis": {
            "gridcolor": "white",
            "linecolor": "white",
            "ticks": ""
           },
           "bgcolor": "#E5ECF6",
           "caxis": {
            "gridcolor": "white",
            "linecolor": "white",
            "ticks": ""
           }
          },
          "title": {
           "x": 0.05
          },
          "xaxis": {
           "automargin": true,
           "gridcolor": "white",
           "linecolor": "white",
           "ticks": "",
           "title": {
            "standoff": 15
           },
           "zerolinecolor": "white",
           "zerolinewidth": 2
          },
          "yaxis": {
           "automargin": true,
           "gridcolor": "white",
           "linecolor": "white",
           "ticks": "",
           "title": {
            "standoff": 15
           },
           "zerolinecolor": "white",
           "zerolinewidth": 2
          }
         }
        },
        "title": {
         "font": {
          "color": "#4D5663"
         }
        },
        "xaxis": {
         "gridcolor": "#E1E5ED",
         "showgrid": true,
         "tickfont": {
          "color": "#4D5663"
         },
         "title": {
          "font": {
           "color": "#4D5663"
          },
          "text": ""
         },
         "zerolinecolor": "#E1E5ED"
        },
        "yaxis": {
         "gridcolor": "#E1E5ED",
         "showgrid": true,
         "tickfont": {
          "color": "#4D5663"
         },
         "title": {
          "font": {
           "color": "#4D5663"
          },
          "text": ""
         },
         "zerolinecolor": "#E1E5ED"
        }
       }
      },
      "text/html": [
       "<div>                            <div id=\"b02313dd-57a3-4604-af55-6434adc1163b\" class=\"plotly-graph-div\" style=\"height:525px; width:100%;\"></div>            <script type=\"text/javascript\">                require([\"plotly\"], function(Plotly) {                    window.PLOTLYENV=window.PLOTLYENV || {};\n",
       "                    window.PLOTLYENV.BASE_URL='https://plot.ly';                                    if (document.getElementById(\"b02313dd-57a3-4604-af55-6434adc1163b\")) {                    Plotly.newPlot(                        \"b02313dd-57a3-4604-af55-6434adc1163b\",                        [{\"colorscale\":[[0.0,\"rgb(165,0,38)\"],[0.1,\"rgb(215,48,39)\"],[0.2,\"rgb(244,109,67)\"],[0.3,\"rgb(253,174,97)\"],[0.4,\"rgb(254,224,144)\"],[0.5,\"rgb(255,255,191)\"],[0.6,\"rgb(224,243,248)\"],[0.7,\"rgb(171,217,233)\"],[0.8,\"rgb(116,173,209)\"],[0.9,\"rgb(69,117,180)\"],[1.0,\"rgb(49,54,149)\"]],\"x\":[0,1,2,3,4],\"y\":[\"x\",\"y\",\"z\"],\"z\":[[1,2,3,4,5],[10,20,30,20,10],[5,4,3,2,1]],\"type\":\"surface\"}],                        {\"legend\":{\"bgcolor\":\"#F5F6F9\",\"font\":{\"color\":\"#4D5663\"}},\"paper_bgcolor\":\"#F5F6F9\",\"plot_bgcolor\":\"#F5F6F9\",\"template\":{\"data\":{\"barpolar\":[{\"marker\":{\"line\":{\"color\":\"#E5ECF6\",\"width\":0.5},\"pattern\":{\"fillmode\":\"overlay\",\"size\":10,\"solidity\":0.2}},\"type\":\"barpolar\"}],\"bar\":[{\"error_x\":{\"color\":\"#2a3f5f\"},\"error_y\":{\"color\":\"#2a3f5f\"},\"marker\":{\"line\":{\"color\":\"#E5ECF6\",\"width\":0.5},\"pattern\":{\"fillmode\":\"overlay\",\"size\":10,\"solidity\":0.2}},\"type\":\"bar\"}],\"carpet\":[{\"aaxis\":{\"endlinecolor\":\"#2a3f5f\",\"gridcolor\":\"white\",\"linecolor\":\"white\",\"minorgridcolor\":\"white\",\"startlinecolor\":\"#2a3f5f\"},\"baxis\":{\"endlinecolor\":\"#2a3f5f\",\"gridcolor\":\"white\",\"linecolor\":\"white\",\"minorgridcolor\":\"white\",\"startlinecolor\":\"#2a3f5f\"},\"type\":\"carpet\"}],\"choropleth\":[{\"colorbar\":{\"outlinewidth\":0,\"ticks\":\"\"},\"type\":\"choropleth\"}],\"contourcarpet\":[{\"colorbar\":{\"outlinewidth\":0,\"ticks\":\"\"},\"type\":\"contourcarpet\"}],\"contour\":[{\"colorbar\":{\"outlinewidth\":0,\"ticks\":\"\"},\"colorscale\":[[0.0,\"#0d0887\"],[0.1111111111111111,\"#46039f\"],[0.2222222222222222,\"#7201a8\"],[0.3333333333333333,\"#9c179e\"],[0.4444444444444444,\"#bd3786\"],[0.5555555555555556,\"#d8576b\"],[0.6666666666666666,\"#ed7953\"],[0.7777777777777778,\"#fb9f3a\"],[0.8888888888888888,\"#fdca26\"],[1.0,\"#f0f921\"]],\"type\":\"contour\"}],\"heatmapgl\":[{\"colorbar\":{\"outlinewidth\":0,\"ticks\":\"\"},\"colorscale\":[[0.0,\"#0d0887\"],[0.1111111111111111,\"#46039f\"],[0.2222222222222222,\"#7201a8\"],[0.3333333333333333,\"#9c179e\"],[0.4444444444444444,\"#bd3786\"],[0.5555555555555556,\"#d8576b\"],[0.6666666666666666,\"#ed7953\"],[0.7777777777777778,\"#fb9f3a\"],[0.8888888888888888,\"#fdca26\"],[1.0,\"#f0f921\"]],\"type\":\"heatmapgl\"}],\"heatmap\":[{\"colorbar\":{\"outlinewidth\":0,\"ticks\":\"\"},\"colorscale\":[[0.0,\"#0d0887\"],[0.1111111111111111,\"#46039f\"],[0.2222222222222222,\"#7201a8\"],[0.3333333333333333,\"#9c179e\"],[0.4444444444444444,\"#bd3786\"],[0.5555555555555556,\"#d8576b\"],[0.6666666666666666,\"#ed7953\"],[0.7777777777777778,\"#fb9f3a\"],[0.8888888888888888,\"#fdca26\"],[1.0,\"#f0f921\"]],\"type\":\"heatmap\"}],\"histogram2dcontour\":[{\"colorbar\":{\"outlinewidth\":0,\"ticks\":\"\"},\"colorscale\":[[0.0,\"#0d0887\"],[0.1111111111111111,\"#46039f\"],[0.2222222222222222,\"#7201a8\"],[0.3333333333333333,\"#9c179e\"],[0.4444444444444444,\"#bd3786\"],[0.5555555555555556,\"#d8576b\"],[0.6666666666666666,\"#ed7953\"],[0.7777777777777778,\"#fb9f3a\"],[0.8888888888888888,\"#fdca26\"],[1.0,\"#f0f921\"]],\"type\":\"histogram2dcontour\"}],\"histogram2d\":[{\"colorbar\":{\"outlinewidth\":0,\"ticks\":\"\"},\"colorscale\":[[0.0,\"#0d0887\"],[0.1111111111111111,\"#46039f\"],[0.2222222222222222,\"#7201a8\"],[0.3333333333333333,\"#9c179e\"],[0.4444444444444444,\"#bd3786\"],[0.5555555555555556,\"#d8576b\"],[0.6666666666666666,\"#ed7953\"],[0.7777777777777778,\"#fb9f3a\"],[0.8888888888888888,\"#fdca26\"],[1.0,\"#f0f921\"]],\"type\":\"histogram2d\"}],\"histogram\":[{\"marker\":{\"pattern\":{\"fillmode\":\"overlay\",\"size\":10,\"solidity\":0.2}},\"type\":\"histogram\"}],\"mesh3d\":[{\"colorbar\":{\"outlinewidth\":0,\"ticks\":\"\"},\"type\":\"mesh3d\"}],\"parcoords\":[{\"line\":{\"colorbar\":{\"outlinewidth\":0,\"ticks\":\"\"}},\"type\":\"parcoords\"}],\"pie\":[{\"automargin\":true,\"type\":\"pie\"}],\"scatter3d\":[{\"line\":{\"colorbar\":{\"outlinewidth\":0,\"ticks\":\"\"}},\"marker\":{\"colorbar\":{\"outlinewidth\":0,\"ticks\":\"\"}},\"type\":\"scatter3d\"}],\"scattercarpet\":[{\"marker\":{\"colorbar\":{\"outlinewidth\":0,\"ticks\":\"\"}},\"type\":\"scattercarpet\"}],\"scattergeo\":[{\"marker\":{\"colorbar\":{\"outlinewidth\":0,\"ticks\":\"\"}},\"type\":\"scattergeo\"}],\"scattergl\":[{\"marker\":{\"colorbar\":{\"outlinewidth\":0,\"ticks\":\"\"}},\"type\":\"scattergl\"}],\"scattermapbox\":[{\"marker\":{\"colorbar\":{\"outlinewidth\":0,\"ticks\":\"\"}},\"type\":\"scattermapbox\"}],\"scatterpolargl\":[{\"marker\":{\"colorbar\":{\"outlinewidth\":0,\"ticks\":\"\"}},\"type\":\"scatterpolargl\"}],\"scatterpolar\":[{\"marker\":{\"colorbar\":{\"outlinewidth\":0,\"ticks\":\"\"}},\"type\":\"scatterpolar\"}],\"scatter\":[{\"marker\":{\"colorbar\":{\"outlinewidth\":0,\"ticks\":\"\"}},\"type\":\"scatter\"}],\"scatterternary\":[{\"marker\":{\"colorbar\":{\"outlinewidth\":0,\"ticks\":\"\"}},\"type\":\"scatterternary\"}],\"surface\":[{\"colorbar\":{\"outlinewidth\":0,\"ticks\":\"\"},\"colorscale\":[[0.0,\"#0d0887\"],[0.1111111111111111,\"#46039f\"],[0.2222222222222222,\"#7201a8\"],[0.3333333333333333,\"#9c179e\"],[0.4444444444444444,\"#bd3786\"],[0.5555555555555556,\"#d8576b\"],[0.6666666666666666,\"#ed7953\"],[0.7777777777777778,\"#fb9f3a\"],[0.8888888888888888,\"#fdca26\"],[1.0,\"#f0f921\"]],\"type\":\"surface\"}],\"table\":[{\"cells\":{\"fill\":{\"color\":\"#EBF0F8\"},\"line\":{\"color\":\"white\"}},\"header\":{\"fill\":{\"color\":\"#C8D4E3\"},\"line\":{\"color\":\"white\"}},\"type\":\"table\"}]},\"layout\":{\"annotationdefaults\":{\"arrowcolor\":\"#2a3f5f\",\"arrowhead\":0,\"arrowwidth\":1},\"autotypenumbers\":\"strict\",\"coloraxis\":{\"colorbar\":{\"outlinewidth\":0,\"ticks\":\"\"}},\"colorscale\":{\"diverging\":[[0,\"#8e0152\"],[0.1,\"#c51b7d\"],[0.2,\"#de77ae\"],[0.3,\"#f1b6da\"],[0.4,\"#fde0ef\"],[0.5,\"#f7f7f7\"],[0.6,\"#e6f5d0\"],[0.7,\"#b8e186\"],[0.8,\"#7fbc41\"],[0.9,\"#4d9221\"],[1,\"#276419\"]],\"sequential\":[[0.0,\"#0d0887\"],[0.1111111111111111,\"#46039f\"],[0.2222222222222222,\"#7201a8\"],[0.3333333333333333,\"#9c179e\"],[0.4444444444444444,\"#bd3786\"],[0.5555555555555556,\"#d8576b\"],[0.6666666666666666,\"#ed7953\"],[0.7777777777777778,\"#fb9f3a\"],[0.8888888888888888,\"#fdca26\"],[1.0,\"#f0f921\"]],\"sequentialminus\":[[0.0,\"#0d0887\"],[0.1111111111111111,\"#46039f\"],[0.2222222222222222,\"#7201a8\"],[0.3333333333333333,\"#9c179e\"],[0.4444444444444444,\"#bd3786\"],[0.5555555555555556,\"#d8576b\"],[0.6666666666666666,\"#ed7953\"],[0.7777777777777778,\"#fb9f3a\"],[0.8888888888888888,\"#fdca26\"],[1.0,\"#f0f921\"]]},\"colorway\":[\"#636efa\",\"#EF553B\",\"#00cc96\",\"#ab63fa\",\"#FFA15A\",\"#19d3f3\",\"#FF6692\",\"#B6E880\",\"#FF97FF\",\"#FECB52\"],\"font\":{\"color\":\"#2a3f5f\"},\"geo\":{\"bgcolor\":\"white\",\"lakecolor\":\"white\",\"landcolor\":\"#E5ECF6\",\"showlakes\":true,\"showland\":true,\"subunitcolor\":\"white\"},\"hoverlabel\":{\"align\":\"left\"},\"hovermode\":\"closest\",\"mapbox\":{\"style\":\"light\"},\"paper_bgcolor\":\"white\",\"plot_bgcolor\":\"#E5ECF6\",\"polar\":{\"angularaxis\":{\"gridcolor\":\"white\",\"linecolor\":\"white\",\"ticks\":\"\"},\"bgcolor\":\"#E5ECF6\",\"radialaxis\":{\"gridcolor\":\"white\",\"linecolor\":\"white\",\"ticks\":\"\"}},\"scene\":{\"xaxis\":{\"backgroundcolor\":\"#E5ECF6\",\"gridcolor\":\"white\",\"gridwidth\":2,\"linecolor\":\"white\",\"showbackground\":true,\"ticks\":\"\",\"zerolinecolor\":\"white\"},\"yaxis\":{\"backgroundcolor\":\"#E5ECF6\",\"gridcolor\":\"white\",\"gridwidth\":2,\"linecolor\":\"white\",\"showbackground\":true,\"ticks\":\"\",\"zerolinecolor\":\"white\"},\"zaxis\":{\"backgroundcolor\":\"#E5ECF6\",\"gridcolor\":\"white\",\"gridwidth\":2,\"linecolor\":\"white\",\"showbackground\":true,\"ticks\":\"\",\"zerolinecolor\":\"white\"}},\"shapedefaults\":{\"line\":{\"color\":\"#2a3f5f\"}},\"ternary\":{\"aaxis\":{\"gridcolor\":\"white\",\"linecolor\":\"white\",\"ticks\":\"\"},\"baxis\":{\"gridcolor\":\"white\",\"linecolor\":\"white\",\"ticks\":\"\"},\"bgcolor\":\"#E5ECF6\",\"caxis\":{\"gridcolor\":\"white\",\"linecolor\":\"white\",\"ticks\":\"\"}},\"title\":{\"x\":0.05},\"xaxis\":{\"automargin\":true,\"gridcolor\":\"white\",\"linecolor\":\"white\",\"ticks\":\"\",\"title\":{\"standoff\":15},\"zerolinecolor\":\"white\",\"zerolinewidth\":2},\"yaxis\":{\"automargin\":true,\"gridcolor\":\"white\",\"linecolor\":\"white\",\"ticks\":\"\",\"title\":{\"standoff\":15},\"zerolinecolor\":\"white\",\"zerolinewidth\":2}}},\"title\":{\"font\":{\"color\":\"#4D5663\"}},\"xaxis\":{\"gridcolor\":\"#E1E5ED\",\"showgrid\":true,\"tickfont\":{\"color\":\"#4D5663\"},\"title\":{\"font\":{\"color\":\"#4D5663\"},\"text\":\"\"},\"zerolinecolor\":\"#E1E5ED\"},\"yaxis\":{\"gridcolor\":\"#E1E5ED\",\"showgrid\":true,\"tickfont\":{\"color\":\"#4D5663\"},\"title\":{\"font\":{\"color\":\"#4D5663\"},\"text\":\"\"},\"zerolinecolor\":\"#E1E5ED\"}},                        {\"showLink\": true, \"linkText\": \"Export to plot.ly\", \"plotlyServerURL\": \"https://plot.ly\", \"responsive\": true}                    ).then(function(){\n",
       "                            \n",
       "var gd = document.getElementById('b02313dd-57a3-4604-af55-6434adc1163b');\n",
       "var x = new MutationObserver(function (mutations, observer) {{\n",
       "        var display = window.getComputedStyle(gd).display;\n",
       "        if (!display || display === 'none') {{\n",
       "            console.log([gd, 'removed!']);\n",
       "            Plotly.purge(gd);\n",
       "            observer.disconnect();\n",
       "        }}\n",
       "}});\n",
       "\n",
       "// Listen for the removal of the full notebook cells\n",
       "var notebookContainer = gd.closest('#notebook-container');\n",
       "if (notebookContainer) {{\n",
       "    x.observe(notebookContainer, {childList: true});\n",
       "}}\n",
       "\n",
       "// Listen for the clearing of the current output cell\n",
       "var outputEl = gd.closest('.output');\n",
       "if (outputEl) {{\n",
       "    x.observe(outputEl, {childList: true});\n",
       "}}\n",
       "\n",
       "                        })                };                });            </script>        </div>"
      ]
     },
     "metadata": {},
     "output_type": "display_data"
    }
   ],
   "source": [
    "df3 = pd.DataFrame({'x':[1,2,3,4,5],'y':[10,20,30,20,10],'z':[5,4,3,2,1]})\n",
    "df3.iplot(kind='surface',colorscale='rdylbu')"
   ]
  },
  {
   "cell_type": "markdown",
   "metadata": {},
   "source": [
    "## Spread"
   ]
  },
  {
   "cell_type": "code",
   "execution_count": 20,
   "metadata": {},
   "outputs": [
    {
     "name": "stderr",
     "output_type": "stream",
     "text": [
      "C:\\anaconda\\lib\\site-packages\\cufflinks\\plotlytools.py:849: FutureWarning:\n",
      "\n",
      "The pandas.np module is deprecated and will be removed from pandas in a future version. Import numpy directly instead\n",
      "\n",
      "C:\\anaconda\\lib\\site-packages\\cufflinks\\plotlytools.py:850: FutureWarning:\n",
      "\n",
      "The pandas.np module is deprecated and will be removed from pandas in a future version. Import numpy directly instead\n",
      "\n"
     ]
    },
    {
     "data": {
      "application/vnd.plotly.v1+json": {
       "config": {
        "linkText": "Export to plot.ly",
        "plotlyServerURL": "https://plot.ly",
        "showLink": true
       },
       "data": [
        {
         "line": {
          "color": "rgba(255, 153, 51, 1.0)",
          "dash": "solid",
          "shape": "linear",
          "width": 1.3
         },
         "mode": "lines",
         "name": "A",
         "text": "",
         "type": "scatter",
         "x": [
          0,
          1,
          2,
          3,
          4,
          5,
          6,
          7,
          8,
          9,
          10,
          11,
          12,
          13,
          14,
          15,
          16,
          17,
          18,
          19,
          20,
          21,
          22,
          23,
          24,
          25,
          26,
          27,
          28,
          29,
          30,
          31,
          32,
          33,
          34,
          35,
          36,
          37,
          38,
          39,
          40,
          41,
          42,
          43,
          44,
          45,
          46,
          47,
          48,
          49,
          50,
          51,
          52,
          53,
          54,
          55,
          56,
          57,
          58,
          59,
          60,
          61,
          62,
          63,
          64,
          65,
          66,
          67,
          68,
          69,
          70,
          71,
          72,
          73,
          74,
          75,
          76,
          77,
          78,
          79,
          80,
          81,
          82,
          83,
          84,
          85,
          86,
          87,
          88,
          89,
          90,
          91,
          92,
          93,
          94,
          95,
          96,
          97,
          98,
          99
         ],
         "y": [
          0.6609269625981522,
          -0.6283942023252015,
          0.5958289057467888,
          -0.25235480998017024,
          -0.4991144493410042,
          1.5167690595310814,
          1.5862310771988744,
          -2.0038547936463633,
          0.15151721273618973,
          0.2589386222594662,
          -0.8055696610930111,
          0.8312013344819981,
          0.1303733282983725,
          -1.0396818423548286,
          0.6530713205398567,
          -0.6505989805969854,
          -0.18596098484788937,
          0.6054617971802655,
          -0.2811898686118027,
          -0.13912634769480767,
          0.8446396122125646,
          -0.68578985663953,
          -0.6531203665961344,
          -1.6731759119240543,
          2.209985229565079,
          0.3404983837596926,
          -0.6791549259903613,
          0.626551904680079,
          0.4365449907031151,
          0.22223603549504206,
          -0.05514042399957164,
          -0.5478591051219441,
          -0.272608358787428,
          0.13624914914319483,
          2.0107444355148316,
          -1.1295515219688383,
          -1.9308731102338974,
          -0.869451665441127,
          0.24225048593408174,
          0.5277492128113745,
          -0.39944870589815207,
          -0.3028181745654215,
          -0.36208010777438204,
          -0.6371805534587353,
          -0.5694189831819202,
          1.461096225783802,
          -0.4994736094715912,
          0.29929114541333546,
          1.2041695390914506,
          -0.9793564598366558,
          0.01807837432378152,
          -1.103587706826982,
          -0.18817011528619612,
          2.5352245967487885,
          -1.4285113376487508,
          0.1361915367915166,
          0.9006406460730992,
          -0.5298534434558503,
          -1.213528288936742,
          1.8601487302024202,
          0.3695423990074541,
          1.296044763586415,
          0.1395186998537509,
          1.719413311595714,
          1.2114653178792933,
          0.03910624479884292,
          0.2545787261537919,
          0.023686667231006552,
          0.8541797670508043,
          0.4593274411390989,
          1.0033874555379092,
          -0.2873415179522952,
          -0.9384778704654327,
          -0.40658629235198673,
          -2.158070369516635,
          -1.0527523510456966,
          -1.210264349440857,
          -0.8228197170689329,
          0.1435983858401079,
          0.08212759198765562,
          0.5047104711807551,
          -0.1288060629054838,
          1.6932702499770058,
          -0.6471071694000822,
          -0.6856545007792552,
          -1.4449240018310907,
          0.05111083881877059,
          -0.08977932715227151,
          1.2448916134290704,
          -0.10907787099641833,
          0.41576838297650387,
          0.034355047528476276,
          1.737306222848453,
          1.2879506488485895,
          -0.5445920228908319,
          -0.011791285460258594,
          -1.3429356371363272,
          0.340923499794586,
          0.7271609744140205,
          0.11415981620587828
         ]
        },
        {
         "line": {
          "color": "rgba(55, 128, 191, 1.0)",
          "dash": "solid",
          "shape": "linear",
          "width": 1.3
         },
         "mode": "lines",
         "name": "B",
         "text": "",
         "type": "scatter",
         "x": [
          0,
          1,
          2,
          3,
          4,
          5,
          6,
          7,
          8,
          9,
          10,
          11,
          12,
          13,
          14,
          15,
          16,
          17,
          18,
          19,
          20,
          21,
          22,
          23,
          24,
          25,
          26,
          27,
          28,
          29,
          30,
          31,
          32,
          33,
          34,
          35,
          36,
          37,
          38,
          39,
          40,
          41,
          42,
          43,
          44,
          45,
          46,
          47,
          48,
          49,
          50,
          51,
          52,
          53,
          54,
          55,
          56,
          57,
          58,
          59,
          60,
          61,
          62,
          63,
          64,
          65,
          66,
          67,
          68,
          69,
          70,
          71,
          72,
          73,
          74,
          75,
          76,
          77,
          78,
          79,
          80,
          81,
          82,
          83,
          84,
          85,
          86,
          87,
          88,
          89,
          90,
          91,
          92,
          93,
          94,
          95,
          96,
          97,
          98,
          99
         ],
         "y": [
          2.1369138719324097,
          1.1218232241102921,
          0.26572688661593546,
          -0.6305003101378791,
          2.167181040671889,
          -0.23150609074463332,
          1.5260914845192142,
          1.8996590584310187,
          -0.5308756528251863,
          -1.1285592958279023,
          -0.7791266507171293,
          -1.6911442048922218,
          0.03259993470017688,
          -1.5301542368770833,
          -0.943124496564741,
          0.6401111021980387,
          0.5555916097716914,
          -0.47944004993930484,
          -0.3734154861180155,
          -2.3193218374592033,
          -0.25769903978196274,
          1.0901689928043339,
          -0.3787309412507085,
          0.6941815251138934,
          -0.41055317577509276,
          -0.7938391689626703,
          -0.09216651037745185,
          1.0536237513050577,
          -0.01771299556433199,
          -1.1354493905039764,
          0.36405402739491627,
          -0.25022937939597756,
          1.5460158671741624,
          -0.08797194860936755,
          -0.2693182997508638,
          -1.6945406701465857,
          -1.6654886030470293,
          -0.8449708912564343,
          0.9057644458698647,
          0.4930488497054626,
          -0.514550577625808,
          0.08399712687451115,
          -0.7120181921708862,
          -0.22188650000595753,
          -0.996247575974823,
          -2.6283366939612494,
          -0.3806094830267701,
          0.1410881180140036,
          0.5544826175873403,
          0.32787605876710624,
          0.04302194321889322,
          1.4248894903070992,
          -1.2159827938969654,
          0.37057004231054885,
          -0.3998796372393718,
          0.09013059092878399,
          0.897677474178713,
          1.0996054030628408,
          0.04685669530975385,
          0.8705743484320358,
          -1.2928816250304203,
          -1.993744959568647,
          1.3576023433880942,
          0.5270461933088814,
          -1.1143133576599562,
          -0.4535757125183196,
          -1.9473052612596844,
          -0.1578392966742072,
          1.3490461776070415,
          0.49834492043962886,
          -0.3176243733857624,
          0.14317832901426178,
          1.9711251053897287,
          -0.6960179115421854,
          0.5202843097161529,
          0.7294212209929505,
          -0.02206115315984238,
          -1.7717378674646553,
          1.741175628507748,
          1.0629352168952446,
          0.1386737629402777,
          0.644833401664853,
          -1.158732454088803,
          -0.8893251447971611,
          -0.09115194355746586,
          -0.8369650243486435,
          0.18727737894972848,
          2.1398181622064754,
          0.9045169788207471,
          0.6135187489031853,
          -0.0163735787247299,
          -0.048123225921188305,
          -0.1934586058706064,
          -1.3068728615356302,
          -0.16814932656604875,
          -1.7608336285547592,
          -0.9560428706568221,
          -2.4038775493786373,
          -0.24616587387684877,
          0.9363418620845582
         ]
        },
        {
         "connectgaps": false,
         "fill": "tozeroy",
         "line": {
          "color": "green",
          "dash": "solid",
          "shape": "linear",
          "width": 0.5
         },
         "mode": "lines",
         "name": "Spread",
         "showlegend": false,
         "type": "scatter",
         "x": [
          0,
          1,
          2,
          3,
          4,
          5,
          6,
          7,
          8,
          9,
          10,
          11,
          12,
          13,
          14,
          15,
          16,
          17,
          18,
          19,
          20,
          21,
          22,
          23,
          24,
          25,
          26,
          27,
          28,
          29,
          30,
          31,
          32,
          33,
          34,
          35,
          36,
          37,
          38,
          39,
          40,
          41,
          42,
          43,
          44,
          45,
          46,
          47,
          48,
          49,
          50,
          51,
          52,
          53,
          54,
          55,
          56,
          57,
          58,
          59,
          60,
          61,
          62,
          63,
          64,
          65,
          66,
          67,
          68,
          69,
          70,
          71,
          72,
          73,
          74,
          75,
          76,
          77,
          78,
          79,
          80,
          81,
          82,
          83,
          84,
          85,
          86,
          87,
          88,
          89,
          90,
          91,
          92,
          93,
          94,
          95,
          96,
          97,
          98,
          99
         ],
         "xaxis": "x2",
         "y": [
          "",
          "",
          0.33010201913085335,
          0.37814550015770887,
          "",
          1.7482751502757148,
          0.06013959267966018,
          "",
          0.682392865561376,
          1.3874979180873686,
          "",
          2.52234553937422,
          0.09777339359819562,
          0.49047239452225466,
          1.5961958171045976,
          "",
          "",
          1.0849018471195704,
          0.09222561750621283,
          2.1801954897643956,
          1.1023386519945273,
          "",
          "",
          "",
          2.620538405340172,
          1.134337552722363,
          "",
          "",
          0.45425798626744707,
          1.3576854259990185,
          "",
          "",
          "",
          0.22422109775256238,
          2.2800627352656955,
          0.5649891481777474,
          "",
          "",
          "",
          0.03470036310591196,
          0.11510187172765596,
          "",
          0.3499380843965042,
          "",
          0.42682859279290286,
          4.089432919745051,
          "",
          0.15820302739933187,
          0.6496869215041103,
          "",
          "",
          "",
          1.0278126786107693,
          2.16465455443824,
          "",
          0.046060945862732613,
          0.0029631718943862184,
          "",
          "",
          0.9895743817703844,
          1.6624240240378745,
          3.289789723155062,
          "",
          1.1923671182868327,
          2.3257786755392496,
          0.49268195731716247,
          2.2018839874134764,
          0.18152596390521375,
          "",
          "",
          1.3210118289236716,
          "",
          "",
          0.28943161919019866,
          "",
          "",
          "",
          0.9489181503957225,
          "",
          "",
          0.3660367082404774,
          "",
          2.852002704065809,
          0.2422179753970789,
          "",
          "",
          "",
          "",
          0.3403746346083233,
          "",
          0.43214196170123376,
          0.08247827344966457,
          1.9307648287190595,
          2.5948235103842197,
          "",
          1.7490423430945006,
          "",
          2.7448010491732235,
          0.9733268482908692,
          ""
         ],
         "yaxis": "y2"
        },
        {
         "connectgaps": false,
         "fill": "tozeroy",
         "line": {
          "color": "red",
          "dash": "solid",
          "shape": "linear",
          "width": 0.5
         },
         "mode": "lines",
         "name": "Spread",
         "showlegend": false,
         "type": "scatter",
         "x": [
          0,
          1,
          2,
          3,
          4,
          5,
          6,
          7,
          8,
          9,
          10,
          11,
          12,
          13,
          14,
          15,
          16,
          17,
          18,
          19,
          20,
          21,
          22,
          23,
          24,
          25,
          26,
          27,
          28,
          29,
          30,
          31,
          32,
          33,
          34,
          35,
          36,
          37,
          38,
          39,
          40,
          41,
          42,
          43,
          44,
          45,
          46,
          47,
          48,
          49,
          50,
          51,
          52,
          53,
          54,
          55,
          56,
          57,
          58,
          59,
          60,
          61,
          62,
          63,
          64,
          65,
          66,
          67,
          68,
          69,
          70,
          71,
          72,
          73,
          74,
          75,
          76,
          77,
          78,
          79,
          80,
          81,
          82,
          83,
          84,
          85,
          86,
          87,
          88,
          89,
          90,
          91,
          92,
          93,
          94,
          95,
          96,
          97,
          98,
          99
         ],
         "xaxis": "x2",
         "y": [
          -1.4759869093342575,
          -1.7502174264354937,
          "",
          "",
          -2.6662954900128932,
          "",
          "",
          -3.903513852077382,
          "",
          "",
          -0.026443010375881815,
          "",
          "",
          "",
          "",
          -1.290710082795024,
          -0.7415525946195808,
          "",
          "",
          "",
          "",
          -1.7759588494438638,
          -0.2743894253454259,
          -2.3673574370379478,
          "",
          "",
          -0.5869884156129095,
          -0.42707184662497866,
          "",
          "",
          -0.4191944513944879,
          -0.2976297257259666,
          -1.8186242259615903,
          "",
          "",
          "",
          -0.2653845071868681,
          -0.024480774184692633,
          -0.663513959935783,
          "",
          "",
          -0.38681530143993265,
          "",
          -0.4152940534527777,
          "",
          "",
          -0.11886412644482108,
          "",
          "",
          -1.307232518603762,
          -0.024943568895111703,
          -2.528477197134081,
          "",
          "",
          -1.028631700409379,
          "",
          "",
          -1.6294588465186912,
          -1.2603849842464958,
          "",
          "",
          "",
          -1.2180836435343432,
          "",
          "",
          "",
          "",
          "",
          -0.49486641055623715,
          -0.039017479300529956,
          "",
          -0.430519846966557,
          -2.9096029758551616,
          "",
          -2.678354679232788,
          -1.7821735720386471,
          -1.1882031962810145,
          "",
          -1.59757724266764,
          -0.980807624907589,
          "",
          -0.7736394645703368,
          "",
          "",
          -0.5945025572217892,
          -0.6079589774824472,
          -0.13616654013095789,
          -2.229597489358747,
          "",
          -0.7225966198996036,
          "",
          "",
          "",
          "",
          -0.3764426963247831,
          "",
          -0.3868927664795051,
          "",
          "",
          -0.8221820458786799
         ],
         "yaxis": "y2"
        }
       ],
       "layout": {
        "hovermode": "x",
        "legend": {
         "bgcolor": "#F5F6F9",
         "font": {
          "color": "#4D5663"
         }
        },
        "paper_bgcolor": "#F5F6F9",
        "plot_bgcolor": "#F5F6F9",
        "template": {
         "data": {
          "bar": [
           {
            "error_x": {
             "color": "#2a3f5f"
            },
            "error_y": {
             "color": "#2a3f5f"
            },
            "marker": {
             "line": {
              "color": "#E5ECF6",
              "width": 0.5
             },
             "pattern": {
              "fillmode": "overlay",
              "size": 10,
              "solidity": 0.2
             }
            },
            "type": "bar"
           }
          ],
          "barpolar": [
           {
            "marker": {
             "line": {
              "color": "#E5ECF6",
              "width": 0.5
             },
             "pattern": {
              "fillmode": "overlay",
              "size": 10,
              "solidity": 0.2
             }
            },
            "type": "barpolar"
           }
          ],
          "carpet": [
           {
            "aaxis": {
             "endlinecolor": "#2a3f5f",
             "gridcolor": "white",
             "linecolor": "white",
             "minorgridcolor": "white",
             "startlinecolor": "#2a3f5f"
            },
            "baxis": {
             "endlinecolor": "#2a3f5f",
             "gridcolor": "white",
             "linecolor": "white",
             "minorgridcolor": "white",
             "startlinecolor": "#2a3f5f"
            },
            "type": "carpet"
           }
          ],
          "choropleth": [
           {
            "colorbar": {
             "outlinewidth": 0,
             "ticks": ""
            },
            "type": "choropleth"
           }
          ],
          "contour": [
           {
            "colorbar": {
             "outlinewidth": 0,
             "ticks": ""
            },
            "colorscale": [
             [
              0,
              "#0d0887"
             ],
             [
              0.1111111111111111,
              "#46039f"
             ],
             [
              0.2222222222222222,
              "#7201a8"
             ],
             [
              0.3333333333333333,
              "#9c179e"
             ],
             [
              0.4444444444444444,
              "#bd3786"
             ],
             [
              0.5555555555555556,
              "#d8576b"
             ],
             [
              0.6666666666666666,
              "#ed7953"
             ],
             [
              0.7777777777777778,
              "#fb9f3a"
             ],
             [
              0.8888888888888888,
              "#fdca26"
             ],
             [
              1,
              "#f0f921"
             ]
            ],
            "type": "contour"
           }
          ],
          "contourcarpet": [
           {
            "colorbar": {
             "outlinewidth": 0,
             "ticks": ""
            },
            "type": "contourcarpet"
           }
          ],
          "heatmap": [
           {
            "colorbar": {
             "outlinewidth": 0,
             "ticks": ""
            },
            "colorscale": [
             [
              0,
              "#0d0887"
             ],
             [
              0.1111111111111111,
              "#46039f"
             ],
             [
              0.2222222222222222,
              "#7201a8"
             ],
             [
              0.3333333333333333,
              "#9c179e"
             ],
             [
              0.4444444444444444,
              "#bd3786"
             ],
             [
              0.5555555555555556,
              "#d8576b"
             ],
             [
              0.6666666666666666,
              "#ed7953"
             ],
             [
              0.7777777777777778,
              "#fb9f3a"
             ],
             [
              0.8888888888888888,
              "#fdca26"
             ],
             [
              1,
              "#f0f921"
             ]
            ],
            "type": "heatmap"
           }
          ],
          "heatmapgl": [
           {
            "colorbar": {
             "outlinewidth": 0,
             "ticks": ""
            },
            "colorscale": [
             [
              0,
              "#0d0887"
             ],
             [
              0.1111111111111111,
              "#46039f"
             ],
             [
              0.2222222222222222,
              "#7201a8"
             ],
             [
              0.3333333333333333,
              "#9c179e"
             ],
             [
              0.4444444444444444,
              "#bd3786"
             ],
             [
              0.5555555555555556,
              "#d8576b"
             ],
             [
              0.6666666666666666,
              "#ed7953"
             ],
             [
              0.7777777777777778,
              "#fb9f3a"
             ],
             [
              0.8888888888888888,
              "#fdca26"
             ],
             [
              1,
              "#f0f921"
             ]
            ],
            "type": "heatmapgl"
           }
          ],
          "histogram": [
           {
            "marker": {
             "pattern": {
              "fillmode": "overlay",
              "size": 10,
              "solidity": 0.2
             }
            },
            "type": "histogram"
           }
          ],
          "histogram2d": [
           {
            "colorbar": {
             "outlinewidth": 0,
             "ticks": ""
            },
            "colorscale": [
             [
              0,
              "#0d0887"
             ],
             [
              0.1111111111111111,
              "#46039f"
             ],
             [
              0.2222222222222222,
              "#7201a8"
             ],
             [
              0.3333333333333333,
              "#9c179e"
             ],
             [
              0.4444444444444444,
              "#bd3786"
             ],
             [
              0.5555555555555556,
              "#d8576b"
             ],
             [
              0.6666666666666666,
              "#ed7953"
             ],
             [
              0.7777777777777778,
              "#fb9f3a"
             ],
             [
              0.8888888888888888,
              "#fdca26"
             ],
             [
              1,
              "#f0f921"
             ]
            ],
            "type": "histogram2d"
           }
          ],
          "histogram2dcontour": [
           {
            "colorbar": {
             "outlinewidth": 0,
             "ticks": ""
            },
            "colorscale": [
             [
              0,
              "#0d0887"
             ],
             [
              0.1111111111111111,
              "#46039f"
             ],
             [
              0.2222222222222222,
              "#7201a8"
             ],
             [
              0.3333333333333333,
              "#9c179e"
             ],
             [
              0.4444444444444444,
              "#bd3786"
             ],
             [
              0.5555555555555556,
              "#d8576b"
             ],
             [
              0.6666666666666666,
              "#ed7953"
             ],
             [
              0.7777777777777778,
              "#fb9f3a"
             ],
             [
              0.8888888888888888,
              "#fdca26"
             ],
             [
              1,
              "#f0f921"
             ]
            ],
            "type": "histogram2dcontour"
           }
          ],
          "mesh3d": [
           {
            "colorbar": {
             "outlinewidth": 0,
             "ticks": ""
            },
            "type": "mesh3d"
           }
          ],
          "parcoords": [
           {
            "line": {
             "colorbar": {
              "outlinewidth": 0,
              "ticks": ""
             }
            },
            "type": "parcoords"
           }
          ],
          "pie": [
           {
            "automargin": true,
            "type": "pie"
           }
          ],
          "scatter": [
           {
            "marker": {
             "colorbar": {
              "outlinewidth": 0,
              "ticks": ""
             }
            },
            "type": "scatter"
           }
          ],
          "scatter3d": [
           {
            "line": {
             "colorbar": {
              "outlinewidth": 0,
              "ticks": ""
             }
            },
            "marker": {
             "colorbar": {
              "outlinewidth": 0,
              "ticks": ""
             }
            },
            "type": "scatter3d"
           }
          ],
          "scattercarpet": [
           {
            "marker": {
             "colorbar": {
              "outlinewidth": 0,
              "ticks": ""
             }
            },
            "type": "scattercarpet"
           }
          ],
          "scattergeo": [
           {
            "marker": {
             "colorbar": {
              "outlinewidth": 0,
              "ticks": ""
             }
            },
            "type": "scattergeo"
           }
          ],
          "scattergl": [
           {
            "marker": {
             "colorbar": {
              "outlinewidth": 0,
              "ticks": ""
             }
            },
            "type": "scattergl"
           }
          ],
          "scattermapbox": [
           {
            "marker": {
             "colorbar": {
              "outlinewidth": 0,
              "ticks": ""
             }
            },
            "type": "scattermapbox"
           }
          ],
          "scatterpolar": [
           {
            "marker": {
             "colorbar": {
              "outlinewidth": 0,
              "ticks": ""
             }
            },
            "type": "scatterpolar"
           }
          ],
          "scatterpolargl": [
           {
            "marker": {
             "colorbar": {
              "outlinewidth": 0,
              "ticks": ""
             }
            },
            "type": "scatterpolargl"
           }
          ],
          "scatterternary": [
           {
            "marker": {
             "colorbar": {
              "outlinewidth": 0,
              "ticks": ""
             }
            },
            "type": "scatterternary"
           }
          ],
          "surface": [
           {
            "colorbar": {
             "outlinewidth": 0,
             "ticks": ""
            },
            "colorscale": [
             [
              0,
              "#0d0887"
             ],
             [
              0.1111111111111111,
              "#46039f"
             ],
             [
              0.2222222222222222,
              "#7201a8"
             ],
             [
              0.3333333333333333,
              "#9c179e"
             ],
             [
              0.4444444444444444,
              "#bd3786"
             ],
             [
              0.5555555555555556,
              "#d8576b"
             ],
             [
              0.6666666666666666,
              "#ed7953"
             ],
             [
              0.7777777777777778,
              "#fb9f3a"
             ],
             [
              0.8888888888888888,
              "#fdca26"
             ],
             [
              1,
              "#f0f921"
             ]
            ],
            "type": "surface"
           }
          ],
          "table": [
           {
            "cells": {
             "fill": {
              "color": "#EBF0F8"
             },
             "line": {
              "color": "white"
             }
            },
            "header": {
             "fill": {
              "color": "#C8D4E3"
             },
             "line": {
              "color": "white"
             }
            },
            "type": "table"
           }
          ]
         },
         "layout": {
          "annotationdefaults": {
           "arrowcolor": "#2a3f5f",
           "arrowhead": 0,
           "arrowwidth": 1
          },
          "autotypenumbers": "strict",
          "coloraxis": {
           "colorbar": {
            "outlinewidth": 0,
            "ticks": ""
           }
          },
          "colorscale": {
           "diverging": [
            [
             0,
             "#8e0152"
            ],
            [
             0.1,
             "#c51b7d"
            ],
            [
             0.2,
             "#de77ae"
            ],
            [
             0.3,
             "#f1b6da"
            ],
            [
             0.4,
             "#fde0ef"
            ],
            [
             0.5,
             "#f7f7f7"
            ],
            [
             0.6,
             "#e6f5d0"
            ],
            [
             0.7,
             "#b8e186"
            ],
            [
             0.8,
             "#7fbc41"
            ],
            [
             0.9,
             "#4d9221"
            ],
            [
             1,
             "#276419"
            ]
           ],
           "sequential": [
            [
             0,
             "#0d0887"
            ],
            [
             0.1111111111111111,
             "#46039f"
            ],
            [
             0.2222222222222222,
             "#7201a8"
            ],
            [
             0.3333333333333333,
             "#9c179e"
            ],
            [
             0.4444444444444444,
             "#bd3786"
            ],
            [
             0.5555555555555556,
             "#d8576b"
            ],
            [
             0.6666666666666666,
             "#ed7953"
            ],
            [
             0.7777777777777778,
             "#fb9f3a"
            ],
            [
             0.8888888888888888,
             "#fdca26"
            ],
            [
             1,
             "#f0f921"
            ]
           ],
           "sequentialminus": [
            [
             0,
             "#0d0887"
            ],
            [
             0.1111111111111111,
             "#46039f"
            ],
            [
             0.2222222222222222,
             "#7201a8"
            ],
            [
             0.3333333333333333,
             "#9c179e"
            ],
            [
             0.4444444444444444,
             "#bd3786"
            ],
            [
             0.5555555555555556,
             "#d8576b"
            ],
            [
             0.6666666666666666,
             "#ed7953"
            ],
            [
             0.7777777777777778,
             "#fb9f3a"
            ],
            [
             0.8888888888888888,
             "#fdca26"
            ],
            [
             1,
             "#f0f921"
            ]
           ]
          },
          "colorway": [
           "#636efa",
           "#EF553B",
           "#00cc96",
           "#ab63fa",
           "#FFA15A",
           "#19d3f3",
           "#FF6692",
           "#B6E880",
           "#FF97FF",
           "#FECB52"
          ],
          "font": {
           "color": "#2a3f5f"
          },
          "geo": {
           "bgcolor": "white",
           "lakecolor": "white",
           "landcolor": "#E5ECF6",
           "showlakes": true,
           "showland": true,
           "subunitcolor": "white"
          },
          "hoverlabel": {
           "align": "left"
          },
          "hovermode": "closest",
          "mapbox": {
           "style": "light"
          },
          "paper_bgcolor": "white",
          "plot_bgcolor": "#E5ECF6",
          "polar": {
           "angularaxis": {
            "gridcolor": "white",
            "linecolor": "white",
            "ticks": ""
           },
           "bgcolor": "#E5ECF6",
           "radialaxis": {
            "gridcolor": "white",
            "linecolor": "white",
            "ticks": ""
           }
          },
          "scene": {
           "xaxis": {
            "backgroundcolor": "#E5ECF6",
            "gridcolor": "white",
            "gridwidth": 2,
            "linecolor": "white",
            "showbackground": true,
            "ticks": "",
            "zerolinecolor": "white"
           },
           "yaxis": {
            "backgroundcolor": "#E5ECF6",
            "gridcolor": "white",
            "gridwidth": 2,
            "linecolor": "white",
            "showbackground": true,
            "ticks": "",
            "zerolinecolor": "white"
           },
           "zaxis": {
            "backgroundcolor": "#E5ECF6",
            "gridcolor": "white",
            "gridwidth": 2,
            "linecolor": "white",
            "showbackground": true,
            "ticks": "",
            "zerolinecolor": "white"
           }
          },
          "shapedefaults": {
           "line": {
            "color": "#2a3f5f"
           }
          },
          "ternary": {
           "aaxis": {
            "gridcolor": "white",
            "linecolor": "white",
            "ticks": ""
           },
           "baxis": {
            "gridcolor": "white",
            "linecolor": "white",
            "ticks": ""
           },
           "bgcolor": "#E5ECF6",
           "caxis": {
            "gridcolor": "white",
            "linecolor": "white",
            "ticks": ""
           }
          },
          "title": {
           "x": 0.05
          },
          "xaxis": {
           "automargin": true,
           "gridcolor": "white",
           "linecolor": "white",
           "ticks": "",
           "title": {
            "standoff": 15
           },
           "zerolinecolor": "white",
           "zerolinewidth": 2
          },
          "yaxis": {
           "automargin": true,
           "gridcolor": "white",
           "linecolor": "white",
           "ticks": "",
           "title": {
            "standoff": 15
           },
           "zerolinecolor": "white",
           "zerolinewidth": 2
          }
         }
        },
        "title": {
         "font": {
          "color": "#4D5663"
         }
        },
        "xaxis": {
         "gridcolor": "#E1E5ED",
         "showgrid": true,
         "tickfont": {
          "color": "#4D5663"
         },
         "title": {
          "font": {
           "color": "#4D5663"
          },
          "text": ""
         },
         "zerolinecolor": "#E1E5ED"
        },
        "xaxis2": {
         "anchor": "y2",
         "gridcolor": "#E1E5ED",
         "showgrid": true,
         "showticklabels": false,
         "tickfont": {
          "color": "#4D5663"
         },
         "title": {
          "font": {
           "color": "#4D5663"
          },
          "text": ""
         },
         "zerolinecolor": "#E1E5ED"
        },
        "yaxis": {
         "domain": [
          0.3,
          1
         ],
         "gridcolor": "#E1E5ED",
         "showgrid": true,
         "tickfont": {
          "color": "#4D5663"
         },
         "title": {
          "font": {
           "color": "#4D5663"
          },
          "text": ""
         },
         "zerolinecolor": "#E1E5ED"
        },
        "yaxis2": {
         "domain": [
          0,
          0.25
         ],
         "gridcolor": "#E1E5ED",
         "showgrid": true,
         "tickfont": {
          "color": "#4D5663"
         },
         "title": {
          "font": {
           "color": "#4D5663"
          },
          "text": "Spread"
         },
         "zerolinecolor": "#E1E5ED"
        }
       }
      },
      "text/html": [
       "<div>                            <div id=\"6c265786-c8f1-4b8e-84c7-bfa79c637eb2\" class=\"plotly-graph-div\" style=\"height:525px; width:100%;\"></div>            <script type=\"text/javascript\">                require([\"plotly\"], function(Plotly) {                    window.PLOTLYENV=window.PLOTLYENV || {};\n",
       "                    window.PLOTLYENV.BASE_URL='https://plot.ly';                                    if (document.getElementById(\"6c265786-c8f1-4b8e-84c7-bfa79c637eb2\")) {                    Plotly.newPlot(                        \"6c265786-c8f1-4b8e-84c7-bfa79c637eb2\",                        [{\"line\":{\"color\":\"rgba(255, 153, 51, 1.0)\",\"dash\":\"solid\",\"shape\":\"linear\",\"width\":1.3},\"mode\":\"lines\",\"name\":\"A\",\"text\":\"\",\"x\":[0,1,2,3,4,5,6,7,8,9,10,11,12,13,14,15,16,17,18,19,20,21,22,23,24,25,26,27,28,29,30,31,32,33,34,35,36,37,38,39,40,41,42,43,44,45,46,47,48,49,50,51,52,53,54,55,56,57,58,59,60,61,62,63,64,65,66,67,68,69,70,71,72,73,74,75,76,77,78,79,80,81,82,83,84,85,86,87,88,89,90,91,92,93,94,95,96,97,98,99],\"y\":[0.6609269625981522,-0.6283942023252015,0.5958289057467888,-0.25235480998017024,-0.4991144493410042,1.5167690595310814,1.5862310771988744,-2.0038547936463633,0.15151721273618973,0.2589386222594662,-0.8055696610930111,0.8312013344819981,0.1303733282983725,-1.0396818423548286,0.6530713205398567,-0.6505989805969854,-0.18596098484788937,0.6054617971802655,-0.2811898686118027,-0.13912634769480767,0.8446396122125646,-0.68578985663953,-0.6531203665961344,-1.6731759119240543,2.209985229565079,0.3404983837596926,-0.6791549259903613,0.626551904680079,0.4365449907031151,0.22223603549504206,-0.05514042399957164,-0.5478591051219441,-0.272608358787428,0.13624914914319483,2.0107444355148316,-1.1295515219688383,-1.9308731102338974,-0.869451665441127,0.24225048593408174,0.5277492128113745,-0.39944870589815207,-0.3028181745654215,-0.36208010777438204,-0.6371805534587353,-0.5694189831819202,1.461096225783802,-0.4994736094715912,0.29929114541333546,1.2041695390914506,-0.9793564598366558,0.01807837432378152,-1.103587706826982,-0.18817011528619612,2.5352245967487885,-1.4285113376487508,0.1361915367915166,0.9006406460730992,-0.5298534434558503,-1.213528288936742,1.8601487302024202,0.3695423990074541,1.296044763586415,0.1395186998537509,1.719413311595714,1.2114653178792933,0.03910624479884292,0.2545787261537919,0.023686667231006552,0.8541797670508043,0.4593274411390989,1.0033874555379092,-0.2873415179522952,-0.9384778704654327,-0.40658629235198673,-2.158070369516635,-1.0527523510456966,-1.210264349440857,-0.8228197170689329,0.1435983858401079,0.08212759198765562,0.5047104711807551,-0.1288060629054838,1.6932702499770058,-0.6471071694000822,-0.6856545007792552,-1.4449240018310907,0.05111083881877059,-0.08977932715227151,1.2448916134290704,-0.10907787099641833,0.41576838297650387,0.034355047528476276,1.737306222848453,1.2879506488485895,-0.5445920228908319,-0.011791285460258594,-1.3429356371363272,0.340923499794586,0.7271609744140205,0.11415981620587828],\"type\":\"scatter\"},{\"line\":{\"color\":\"rgba(55, 128, 191, 1.0)\",\"dash\":\"solid\",\"shape\":\"linear\",\"width\":1.3},\"mode\":\"lines\",\"name\":\"B\",\"text\":\"\",\"x\":[0,1,2,3,4,5,6,7,8,9,10,11,12,13,14,15,16,17,18,19,20,21,22,23,24,25,26,27,28,29,30,31,32,33,34,35,36,37,38,39,40,41,42,43,44,45,46,47,48,49,50,51,52,53,54,55,56,57,58,59,60,61,62,63,64,65,66,67,68,69,70,71,72,73,74,75,76,77,78,79,80,81,82,83,84,85,86,87,88,89,90,91,92,93,94,95,96,97,98,99],\"y\":[2.1369138719324097,1.1218232241102921,0.26572688661593546,-0.6305003101378791,2.167181040671889,-0.23150609074463332,1.5260914845192142,1.8996590584310187,-0.5308756528251863,-1.1285592958279023,-0.7791266507171293,-1.6911442048922218,0.03259993470017688,-1.5301542368770833,-0.943124496564741,0.6401111021980387,0.5555916097716914,-0.47944004993930484,-0.3734154861180155,-2.3193218374592033,-0.25769903978196274,1.0901689928043339,-0.3787309412507085,0.6941815251138934,-0.41055317577509276,-0.7938391689626703,-0.09216651037745185,1.0536237513050577,-0.01771299556433199,-1.1354493905039764,0.36405402739491627,-0.25022937939597756,1.5460158671741624,-0.08797194860936755,-0.2693182997508638,-1.6945406701465857,-1.6654886030470293,-0.8449708912564343,0.9057644458698647,0.4930488497054626,-0.514550577625808,0.08399712687451115,-0.7120181921708862,-0.22188650000595753,-0.996247575974823,-2.6283366939612494,-0.3806094830267701,0.1410881180140036,0.5544826175873403,0.32787605876710624,0.04302194321889322,1.4248894903070992,-1.2159827938969654,0.37057004231054885,-0.3998796372393718,0.09013059092878399,0.897677474178713,1.0996054030628408,0.04685669530975385,0.8705743484320358,-1.2928816250304203,-1.993744959568647,1.3576023433880942,0.5270461933088814,-1.1143133576599562,-0.4535757125183196,-1.9473052612596844,-0.1578392966742072,1.3490461776070415,0.49834492043962886,-0.3176243733857624,0.14317832901426178,1.9711251053897287,-0.6960179115421854,0.5202843097161529,0.7294212209929505,-0.02206115315984238,-1.7717378674646553,1.741175628507748,1.0629352168952446,0.1386737629402777,0.644833401664853,-1.158732454088803,-0.8893251447971611,-0.09115194355746586,-0.8369650243486435,0.18727737894972848,2.1398181622064754,0.9045169788207471,0.6135187489031853,-0.0163735787247299,-0.048123225921188305,-0.1934586058706064,-1.3068728615356302,-0.16814932656604875,-1.7608336285547592,-0.9560428706568221,-2.4038775493786373,-0.24616587387684877,0.9363418620845582],\"type\":\"scatter\"},{\"connectgaps\":false,\"fill\":\"tozeroy\",\"line\":{\"color\":\"green\",\"dash\":\"solid\",\"shape\":\"linear\",\"width\":0.5},\"mode\":\"lines\",\"name\":\"Spread\",\"showlegend\":false,\"x\":[0,1,2,3,4,5,6,7,8,9,10,11,12,13,14,15,16,17,18,19,20,21,22,23,24,25,26,27,28,29,30,31,32,33,34,35,36,37,38,39,40,41,42,43,44,45,46,47,48,49,50,51,52,53,54,55,56,57,58,59,60,61,62,63,64,65,66,67,68,69,70,71,72,73,74,75,76,77,78,79,80,81,82,83,84,85,86,87,88,89,90,91,92,93,94,95,96,97,98,99],\"xaxis\":\"x2\",\"y\":[\"\",\"\",0.33010201913085335,0.37814550015770887,\"\",1.7482751502757148,0.06013959267966018,\"\",0.682392865561376,1.3874979180873686,\"\",2.52234553937422,0.09777339359819562,0.49047239452225466,1.5961958171045976,\"\",\"\",1.0849018471195704,0.09222561750621283,2.1801954897643956,1.1023386519945273,\"\",\"\",\"\",2.620538405340172,1.134337552722363,\"\",\"\",0.45425798626744707,1.3576854259990185,\"\",\"\",\"\",0.22422109775256238,2.2800627352656955,0.5649891481777474,\"\",\"\",\"\",0.03470036310591196,0.11510187172765596,\"\",0.3499380843965042,\"\",0.42682859279290286,4.089432919745051,\"\",0.15820302739933187,0.6496869215041103,\"\",\"\",\"\",1.0278126786107693,2.16465455443824,\"\",0.046060945862732613,0.0029631718943862184,\"\",\"\",0.9895743817703844,1.6624240240378745,3.289789723155062,\"\",1.1923671182868327,2.3257786755392496,0.49268195731716247,2.2018839874134764,0.18152596390521375,\"\",\"\",1.3210118289236716,\"\",\"\",0.28943161919019866,\"\",\"\",\"\",0.9489181503957225,\"\",\"\",0.3660367082404774,\"\",2.852002704065809,0.2422179753970789,\"\",\"\",\"\",\"\",0.3403746346083233,\"\",0.43214196170123376,0.08247827344966457,1.9307648287190595,2.5948235103842197,\"\",1.7490423430945006,\"\",2.7448010491732235,0.9733268482908692,\"\"],\"yaxis\":\"y2\",\"type\":\"scatter\"},{\"connectgaps\":false,\"fill\":\"tozeroy\",\"line\":{\"color\":\"red\",\"dash\":\"solid\",\"shape\":\"linear\",\"width\":0.5},\"mode\":\"lines\",\"name\":\"Spread\",\"showlegend\":false,\"x\":[0,1,2,3,4,5,6,7,8,9,10,11,12,13,14,15,16,17,18,19,20,21,22,23,24,25,26,27,28,29,30,31,32,33,34,35,36,37,38,39,40,41,42,43,44,45,46,47,48,49,50,51,52,53,54,55,56,57,58,59,60,61,62,63,64,65,66,67,68,69,70,71,72,73,74,75,76,77,78,79,80,81,82,83,84,85,86,87,88,89,90,91,92,93,94,95,96,97,98,99],\"xaxis\":\"x2\",\"y\":[-1.4759869093342575,-1.7502174264354937,\"\",\"\",-2.6662954900128932,\"\",\"\",-3.903513852077382,\"\",\"\",-0.026443010375881815,\"\",\"\",\"\",\"\",-1.290710082795024,-0.7415525946195808,\"\",\"\",\"\",\"\",-1.7759588494438638,-0.2743894253454259,-2.3673574370379478,\"\",\"\",-0.5869884156129095,-0.42707184662497866,\"\",\"\",-0.4191944513944879,-0.2976297257259666,-1.8186242259615903,\"\",\"\",\"\",-0.2653845071868681,-0.024480774184692633,-0.663513959935783,\"\",\"\",-0.38681530143993265,\"\",-0.4152940534527777,\"\",\"\",-0.11886412644482108,\"\",\"\",-1.307232518603762,-0.024943568895111703,-2.528477197134081,\"\",\"\",-1.028631700409379,\"\",\"\",-1.6294588465186912,-1.2603849842464958,\"\",\"\",\"\",-1.2180836435343432,\"\",\"\",\"\",\"\",\"\",-0.49486641055623715,-0.039017479300529956,\"\",-0.430519846966557,-2.9096029758551616,\"\",-2.678354679232788,-1.7821735720386471,-1.1882031962810145,\"\",-1.59757724266764,-0.980807624907589,\"\",-0.7736394645703368,\"\",\"\",-0.5945025572217892,-0.6079589774824472,-0.13616654013095789,-2.229597489358747,\"\",-0.7225966198996036,\"\",\"\",\"\",\"\",-0.3764426963247831,\"\",-0.3868927664795051,\"\",\"\",-0.8221820458786799],\"yaxis\":\"y2\",\"type\":\"scatter\"}],                        {\"hovermode\":\"x\",\"legend\":{\"bgcolor\":\"#F5F6F9\",\"font\":{\"color\":\"#4D5663\"}},\"paper_bgcolor\":\"#F5F6F9\",\"plot_bgcolor\":\"#F5F6F9\",\"template\":{\"data\":{\"barpolar\":[{\"marker\":{\"line\":{\"color\":\"#E5ECF6\",\"width\":0.5},\"pattern\":{\"fillmode\":\"overlay\",\"size\":10,\"solidity\":0.2}},\"type\":\"barpolar\"}],\"bar\":[{\"error_x\":{\"color\":\"#2a3f5f\"},\"error_y\":{\"color\":\"#2a3f5f\"},\"marker\":{\"line\":{\"color\":\"#E5ECF6\",\"width\":0.5},\"pattern\":{\"fillmode\":\"overlay\",\"size\":10,\"solidity\":0.2}},\"type\":\"bar\"}],\"carpet\":[{\"aaxis\":{\"endlinecolor\":\"#2a3f5f\",\"gridcolor\":\"white\",\"linecolor\":\"white\",\"minorgridcolor\":\"white\",\"startlinecolor\":\"#2a3f5f\"},\"baxis\":{\"endlinecolor\":\"#2a3f5f\",\"gridcolor\":\"white\",\"linecolor\":\"white\",\"minorgridcolor\":\"white\",\"startlinecolor\":\"#2a3f5f\"},\"type\":\"carpet\"}],\"choropleth\":[{\"colorbar\":{\"outlinewidth\":0,\"ticks\":\"\"},\"type\":\"choropleth\"}],\"contourcarpet\":[{\"colorbar\":{\"outlinewidth\":0,\"ticks\":\"\"},\"type\":\"contourcarpet\"}],\"contour\":[{\"colorbar\":{\"outlinewidth\":0,\"ticks\":\"\"},\"colorscale\":[[0.0,\"#0d0887\"],[0.1111111111111111,\"#46039f\"],[0.2222222222222222,\"#7201a8\"],[0.3333333333333333,\"#9c179e\"],[0.4444444444444444,\"#bd3786\"],[0.5555555555555556,\"#d8576b\"],[0.6666666666666666,\"#ed7953\"],[0.7777777777777778,\"#fb9f3a\"],[0.8888888888888888,\"#fdca26\"],[1.0,\"#f0f921\"]],\"type\":\"contour\"}],\"heatmapgl\":[{\"colorbar\":{\"outlinewidth\":0,\"ticks\":\"\"},\"colorscale\":[[0.0,\"#0d0887\"],[0.1111111111111111,\"#46039f\"],[0.2222222222222222,\"#7201a8\"],[0.3333333333333333,\"#9c179e\"],[0.4444444444444444,\"#bd3786\"],[0.5555555555555556,\"#d8576b\"],[0.6666666666666666,\"#ed7953\"],[0.7777777777777778,\"#fb9f3a\"],[0.8888888888888888,\"#fdca26\"],[1.0,\"#f0f921\"]],\"type\":\"heatmapgl\"}],\"heatmap\":[{\"colorbar\":{\"outlinewidth\":0,\"ticks\":\"\"},\"colorscale\":[[0.0,\"#0d0887\"],[0.1111111111111111,\"#46039f\"],[0.2222222222222222,\"#7201a8\"],[0.3333333333333333,\"#9c179e\"],[0.4444444444444444,\"#bd3786\"],[0.5555555555555556,\"#d8576b\"],[0.6666666666666666,\"#ed7953\"],[0.7777777777777778,\"#fb9f3a\"],[0.8888888888888888,\"#fdca26\"],[1.0,\"#f0f921\"]],\"type\":\"heatmap\"}],\"histogram2dcontour\":[{\"colorbar\":{\"outlinewidth\":0,\"ticks\":\"\"},\"colorscale\":[[0.0,\"#0d0887\"],[0.1111111111111111,\"#46039f\"],[0.2222222222222222,\"#7201a8\"],[0.3333333333333333,\"#9c179e\"],[0.4444444444444444,\"#bd3786\"],[0.5555555555555556,\"#d8576b\"],[0.6666666666666666,\"#ed7953\"],[0.7777777777777778,\"#fb9f3a\"],[0.8888888888888888,\"#fdca26\"],[1.0,\"#f0f921\"]],\"type\":\"histogram2dcontour\"}],\"histogram2d\":[{\"colorbar\":{\"outlinewidth\":0,\"ticks\":\"\"},\"colorscale\":[[0.0,\"#0d0887\"],[0.1111111111111111,\"#46039f\"],[0.2222222222222222,\"#7201a8\"],[0.3333333333333333,\"#9c179e\"],[0.4444444444444444,\"#bd3786\"],[0.5555555555555556,\"#d8576b\"],[0.6666666666666666,\"#ed7953\"],[0.7777777777777778,\"#fb9f3a\"],[0.8888888888888888,\"#fdca26\"],[1.0,\"#f0f921\"]],\"type\":\"histogram2d\"}],\"histogram\":[{\"marker\":{\"pattern\":{\"fillmode\":\"overlay\",\"size\":10,\"solidity\":0.2}},\"type\":\"histogram\"}],\"mesh3d\":[{\"colorbar\":{\"outlinewidth\":0,\"ticks\":\"\"},\"type\":\"mesh3d\"}],\"parcoords\":[{\"line\":{\"colorbar\":{\"outlinewidth\":0,\"ticks\":\"\"}},\"type\":\"parcoords\"}],\"pie\":[{\"automargin\":true,\"type\":\"pie\"}],\"scatter3d\":[{\"line\":{\"colorbar\":{\"outlinewidth\":0,\"ticks\":\"\"}},\"marker\":{\"colorbar\":{\"outlinewidth\":0,\"ticks\":\"\"}},\"type\":\"scatter3d\"}],\"scattercarpet\":[{\"marker\":{\"colorbar\":{\"outlinewidth\":0,\"ticks\":\"\"}},\"type\":\"scattercarpet\"}],\"scattergeo\":[{\"marker\":{\"colorbar\":{\"outlinewidth\":0,\"ticks\":\"\"}},\"type\":\"scattergeo\"}],\"scattergl\":[{\"marker\":{\"colorbar\":{\"outlinewidth\":0,\"ticks\":\"\"}},\"type\":\"scattergl\"}],\"scattermapbox\":[{\"marker\":{\"colorbar\":{\"outlinewidth\":0,\"ticks\":\"\"}},\"type\":\"scattermapbox\"}],\"scatterpolargl\":[{\"marker\":{\"colorbar\":{\"outlinewidth\":0,\"ticks\":\"\"}},\"type\":\"scatterpolargl\"}],\"scatterpolar\":[{\"marker\":{\"colorbar\":{\"outlinewidth\":0,\"ticks\":\"\"}},\"type\":\"scatterpolar\"}],\"scatter\":[{\"marker\":{\"colorbar\":{\"outlinewidth\":0,\"ticks\":\"\"}},\"type\":\"scatter\"}],\"scatterternary\":[{\"marker\":{\"colorbar\":{\"outlinewidth\":0,\"ticks\":\"\"}},\"type\":\"scatterternary\"}],\"surface\":[{\"colorbar\":{\"outlinewidth\":0,\"ticks\":\"\"},\"colorscale\":[[0.0,\"#0d0887\"],[0.1111111111111111,\"#46039f\"],[0.2222222222222222,\"#7201a8\"],[0.3333333333333333,\"#9c179e\"],[0.4444444444444444,\"#bd3786\"],[0.5555555555555556,\"#d8576b\"],[0.6666666666666666,\"#ed7953\"],[0.7777777777777778,\"#fb9f3a\"],[0.8888888888888888,\"#fdca26\"],[1.0,\"#f0f921\"]],\"type\":\"surface\"}],\"table\":[{\"cells\":{\"fill\":{\"color\":\"#EBF0F8\"},\"line\":{\"color\":\"white\"}},\"header\":{\"fill\":{\"color\":\"#C8D4E3\"},\"line\":{\"color\":\"white\"}},\"type\":\"table\"}]},\"layout\":{\"annotationdefaults\":{\"arrowcolor\":\"#2a3f5f\",\"arrowhead\":0,\"arrowwidth\":1},\"autotypenumbers\":\"strict\",\"coloraxis\":{\"colorbar\":{\"outlinewidth\":0,\"ticks\":\"\"}},\"colorscale\":{\"diverging\":[[0,\"#8e0152\"],[0.1,\"#c51b7d\"],[0.2,\"#de77ae\"],[0.3,\"#f1b6da\"],[0.4,\"#fde0ef\"],[0.5,\"#f7f7f7\"],[0.6,\"#e6f5d0\"],[0.7,\"#b8e186\"],[0.8,\"#7fbc41\"],[0.9,\"#4d9221\"],[1,\"#276419\"]],\"sequential\":[[0.0,\"#0d0887\"],[0.1111111111111111,\"#46039f\"],[0.2222222222222222,\"#7201a8\"],[0.3333333333333333,\"#9c179e\"],[0.4444444444444444,\"#bd3786\"],[0.5555555555555556,\"#d8576b\"],[0.6666666666666666,\"#ed7953\"],[0.7777777777777778,\"#fb9f3a\"],[0.8888888888888888,\"#fdca26\"],[1.0,\"#f0f921\"]],\"sequentialminus\":[[0.0,\"#0d0887\"],[0.1111111111111111,\"#46039f\"],[0.2222222222222222,\"#7201a8\"],[0.3333333333333333,\"#9c179e\"],[0.4444444444444444,\"#bd3786\"],[0.5555555555555556,\"#d8576b\"],[0.6666666666666666,\"#ed7953\"],[0.7777777777777778,\"#fb9f3a\"],[0.8888888888888888,\"#fdca26\"],[1.0,\"#f0f921\"]]},\"colorway\":[\"#636efa\",\"#EF553B\",\"#00cc96\",\"#ab63fa\",\"#FFA15A\",\"#19d3f3\",\"#FF6692\",\"#B6E880\",\"#FF97FF\",\"#FECB52\"],\"font\":{\"color\":\"#2a3f5f\"},\"geo\":{\"bgcolor\":\"white\",\"lakecolor\":\"white\",\"landcolor\":\"#E5ECF6\",\"showlakes\":true,\"showland\":true,\"subunitcolor\":\"white\"},\"hoverlabel\":{\"align\":\"left\"},\"hovermode\":\"closest\",\"mapbox\":{\"style\":\"light\"},\"paper_bgcolor\":\"white\",\"plot_bgcolor\":\"#E5ECF6\",\"polar\":{\"angularaxis\":{\"gridcolor\":\"white\",\"linecolor\":\"white\",\"ticks\":\"\"},\"bgcolor\":\"#E5ECF6\",\"radialaxis\":{\"gridcolor\":\"white\",\"linecolor\":\"white\",\"ticks\":\"\"}},\"scene\":{\"xaxis\":{\"backgroundcolor\":\"#E5ECF6\",\"gridcolor\":\"white\",\"gridwidth\":2,\"linecolor\":\"white\",\"showbackground\":true,\"ticks\":\"\",\"zerolinecolor\":\"white\"},\"yaxis\":{\"backgroundcolor\":\"#E5ECF6\",\"gridcolor\":\"white\",\"gridwidth\":2,\"linecolor\":\"white\",\"showbackground\":true,\"ticks\":\"\",\"zerolinecolor\":\"white\"},\"zaxis\":{\"backgroundcolor\":\"#E5ECF6\",\"gridcolor\":\"white\",\"gridwidth\":2,\"linecolor\":\"white\",\"showbackground\":true,\"ticks\":\"\",\"zerolinecolor\":\"white\"}},\"shapedefaults\":{\"line\":{\"color\":\"#2a3f5f\"}},\"ternary\":{\"aaxis\":{\"gridcolor\":\"white\",\"linecolor\":\"white\",\"ticks\":\"\"},\"baxis\":{\"gridcolor\":\"white\",\"linecolor\":\"white\",\"ticks\":\"\"},\"bgcolor\":\"#E5ECF6\",\"caxis\":{\"gridcolor\":\"white\",\"linecolor\":\"white\",\"ticks\":\"\"}},\"title\":{\"x\":0.05},\"xaxis\":{\"automargin\":true,\"gridcolor\":\"white\",\"linecolor\":\"white\",\"ticks\":\"\",\"title\":{\"standoff\":15},\"zerolinecolor\":\"white\",\"zerolinewidth\":2},\"yaxis\":{\"automargin\":true,\"gridcolor\":\"white\",\"linecolor\":\"white\",\"ticks\":\"\",\"title\":{\"standoff\":15},\"zerolinecolor\":\"white\",\"zerolinewidth\":2}}},\"title\":{\"font\":{\"color\":\"#4D5663\"}},\"xaxis\":{\"gridcolor\":\"#E1E5ED\",\"showgrid\":true,\"tickfont\":{\"color\":\"#4D5663\"},\"title\":{\"font\":{\"color\":\"#4D5663\"},\"text\":\"\"},\"zerolinecolor\":\"#E1E5ED\"},\"yaxis\":{\"domain\":[0.3,1],\"gridcolor\":\"#E1E5ED\",\"showgrid\":true,\"tickfont\":{\"color\":\"#4D5663\"},\"title\":{\"font\":{\"color\":\"#4D5663\"},\"text\":\"\"},\"zerolinecolor\":\"#E1E5ED\"},\"yaxis2\":{\"domain\":[0,0.25],\"gridcolor\":\"#E1E5ED\",\"showgrid\":true,\"tickfont\":{\"color\":\"#4D5663\"},\"title\":{\"font\":{\"color\":\"#4D5663\"},\"text\":\"Spread\"},\"zerolinecolor\":\"#E1E5ED\"},\"xaxis2\":{\"anchor\":\"y2\",\"gridcolor\":\"#E1E5ED\",\"showgrid\":true,\"showticklabels\":false,\"tickfont\":{\"color\":\"#4D5663\"},\"title\":{\"font\":{\"color\":\"#4D5663\"},\"text\":\"\"},\"zerolinecolor\":\"#E1E5ED\"}},                        {\"showLink\": true, \"linkText\": \"Export to plot.ly\", \"plotlyServerURL\": \"https://plot.ly\", \"responsive\": true}                    ).then(function(){\n",
       "                            \n",
       "var gd = document.getElementById('6c265786-c8f1-4b8e-84c7-bfa79c637eb2');\n",
       "var x = new MutationObserver(function (mutations, observer) {{\n",
       "        var display = window.getComputedStyle(gd).display;\n",
       "        if (!display || display === 'none') {{\n",
       "            console.log([gd, 'removed!']);\n",
       "            Plotly.purge(gd);\n",
       "            observer.disconnect();\n",
       "        }}\n",
       "}});\n",
       "\n",
       "// Listen for the removal of the full notebook cells\n",
       "var notebookContainer = gd.closest('#notebook-container');\n",
       "if (notebookContainer) {{\n",
       "    x.observe(notebookContainer, {childList: true});\n",
       "}}\n",
       "\n",
       "// Listen for the clearing of the current output cell\n",
       "var outputEl = gd.closest('.output');\n",
       "if (outputEl) {{\n",
       "    x.observe(outputEl, {childList: true});\n",
       "}}\n",
       "\n",
       "                        })                };                });            </script>        </div>"
      ]
     },
     "metadata": {},
     "output_type": "display_data"
    }
   ],
   "source": [
    "df[['A','B']].iplot(kind='spread')"
   ]
  },
  {
   "cell_type": "markdown",
   "metadata": {},
   "source": [
    "## histogram"
   ]
  },
  {
   "cell_type": "code",
   "execution_count": 21,
   "metadata": {},
   "outputs": [
    {
     "data": {
      "application/vnd.plotly.v1+json": {
       "config": {
        "linkText": "Export to plot.ly",
        "plotlyServerURL": "https://plot.ly",
        "showLink": true
       },
       "data": [
        {
         "histfunc": "count",
         "histnorm": "",
         "marker": {
          "color": "rgba(255, 153, 51, 1.0)",
          "line": {
           "color": "#4D5663",
           "width": 1.3
          }
         },
         "name": "A",
         "nbinsx": 25,
         "opacity": 0.8,
         "orientation": "v",
         "type": "histogram",
         "x": [
          0.6609269625981522,
          -0.6283942023252015,
          0.5958289057467888,
          -0.25235480998017024,
          -0.4991144493410042,
          1.5167690595310814,
          1.5862310771988744,
          -2.0038547936463633,
          0.15151721273618973,
          0.2589386222594662,
          -0.8055696610930111,
          0.8312013344819981,
          0.1303733282983725,
          -1.0396818423548286,
          0.6530713205398567,
          -0.6505989805969854,
          -0.18596098484788937,
          0.6054617971802655,
          -0.2811898686118027,
          -0.13912634769480767,
          0.8446396122125646,
          -0.68578985663953,
          -0.6531203665961344,
          -1.6731759119240543,
          2.209985229565079,
          0.3404983837596926,
          -0.6791549259903613,
          0.626551904680079,
          0.4365449907031151,
          0.22223603549504206,
          -0.05514042399957164,
          -0.5478591051219441,
          -0.272608358787428,
          0.13624914914319483,
          2.0107444355148316,
          -1.1295515219688383,
          -1.9308731102338974,
          -0.869451665441127,
          0.24225048593408174,
          0.5277492128113745,
          -0.39944870589815207,
          -0.3028181745654215,
          -0.36208010777438204,
          -0.6371805534587353,
          -0.5694189831819202,
          1.461096225783802,
          -0.4994736094715912,
          0.29929114541333546,
          1.2041695390914506,
          -0.9793564598366558,
          0.01807837432378152,
          -1.103587706826982,
          -0.18817011528619612,
          2.5352245967487885,
          -1.4285113376487508,
          0.1361915367915166,
          0.9006406460730992,
          -0.5298534434558503,
          -1.213528288936742,
          1.8601487302024202,
          0.3695423990074541,
          1.296044763586415,
          0.1395186998537509,
          1.719413311595714,
          1.2114653178792933,
          0.03910624479884292,
          0.2545787261537919,
          0.023686667231006552,
          0.8541797670508043,
          0.4593274411390989,
          1.0033874555379092,
          -0.2873415179522952,
          -0.9384778704654327,
          -0.40658629235198673,
          -2.158070369516635,
          -1.0527523510456966,
          -1.210264349440857,
          -0.8228197170689329,
          0.1435983858401079,
          0.08212759198765562,
          0.5047104711807551,
          -0.1288060629054838,
          1.6932702499770058,
          -0.6471071694000822,
          -0.6856545007792552,
          -1.4449240018310907,
          0.05111083881877059,
          -0.08977932715227151,
          1.2448916134290704,
          -0.10907787099641833,
          0.41576838297650387,
          0.034355047528476276,
          1.737306222848453,
          1.2879506488485895,
          -0.5445920228908319,
          -0.011791285460258594,
          -1.3429356371363272,
          0.340923499794586,
          0.7271609744140205,
          0.11415981620587828
         ]
        }
       ],
       "layout": {
        "barmode": "overlay",
        "legend": {
         "bgcolor": "#F5F6F9",
         "font": {
          "color": "#4D5663"
         }
        },
        "paper_bgcolor": "#F5F6F9",
        "plot_bgcolor": "#F5F6F9",
        "template": {
         "data": {
          "bar": [
           {
            "error_x": {
             "color": "#2a3f5f"
            },
            "error_y": {
             "color": "#2a3f5f"
            },
            "marker": {
             "line": {
              "color": "#E5ECF6",
              "width": 0.5
             },
             "pattern": {
              "fillmode": "overlay",
              "size": 10,
              "solidity": 0.2
             }
            },
            "type": "bar"
           }
          ],
          "barpolar": [
           {
            "marker": {
             "line": {
              "color": "#E5ECF6",
              "width": 0.5
             },
             "pattern": {
              "fillmode": "overlay",
              "size": 10,
              "solidity": 0.2
             }
            },
            "type": "barpolar"
           }
          ],
          "carpet": [
           {
            "aaxis": {
             "endlinecolor": "#2a3f5f",
             "gridcolor": "white",
             "linecolor": "white",
             "minorgridcolor": "white",
             "startlinecolor": "#2a3f5f"
            },
            "baxis": {
             "endlinecolor": "#2a3f5f",
             "gridcolor": "white",
             "linecolor": "white",
             "minorgridcolor": "white",
             "startlinecolor": "#2a3f5f"
            },
            "type": "carpet"
           }
          ],
          "choropleth": [
           {
            "colorbar": {
             "outlinewidth": 0,
             "ticks": ""
            },
            "type": "choropleth"
           }
          ],
          "contour": [
           {
            "colorbar": {
             "outlinewidth": 0,
             "ticks": ""
            },
            "colorscale": [
             [
              0,
              "#0d0887"
             ],
             [
              0.1111111111111111,
              "#46039f"
             ],
             [
              0.2222222222222222,
              "#7201a8"
             ],
             [
              0.3333333333333333,
              "#9c179e"
             ],
             [
              0.4444444444444444,
              "#bd3786"
             ],
             [
              0.5555555555555556,
              "#d8576b"
             ],
             [
              0.6666666666666666,
              "#ed7953"
             ],
             [
              0.7777777777777778,
              "#fb9f3a"
             ],
             [
              0.8888888888888888,
              "#fdca26"
             ],
             [
              1,
              "#f0f921"
             ]
            ],
            "type": "contour"
           }
          ],
          "contourcarpet": [
           {
            "colorbar": {
             "outlinewidth": 0,
             "ticks": ""
            },
            "type": "contourcarpet"
           }
          ],
          "heatmap": [
           {
            "colorbar": {
             "outlinewidth": 0,
             "ticks": ""
            },
            "colorscale": [
             [
              0,
              "#0d0887"
             ],
             [
              0.1111111111111111,
              "#46039f"
             ],
             [
              0.2222222222222222,
              "#7201a8"
             ],
             [
              0.3333333333333333,
              "#9c179e"
             ],
             [
              0.4444444444444444,
              "#bd3786"
             ],
             [
              0.5555555555555556,
              "#d8576b"
             ],
             [
              0.6666666666666666,
              "#ed7953"
             ],
             [
              0.7777777777777778,
              "#fb9f3a"
             ],
             [
              0.8888888888888888,
              "#fdca26"
             ],
             [
              1,
              "#f0f921"
             ]
            ],
            "type": "heatmap"
           }
          ],
          "heatmapgl": [
           {
            "colorbar": {
             "outlinewidth": 0,
             "ticks": ""
            },
            "colorscale": [
             [
              0,
              "#0d0887"
             ],
             [
              0.1111111111111111,
              "#46039f"
             ],
             [
              0.2222222222222222,
              "#7201a8"
             ],
             [
              0.3333333333333333,
              "#9c179e"
             ],
             [
              0.4444444444444444,
              "#bd3786"
             ],
             [
              0.5555555555555556,
              "#d8576b"
             ],
             [
              0.6666666666666666,
              "#ed7953"
             ],
             [
              0.7777777777777778,
              "#fb9f3a"
             ],
             [
              0.8888888888888888,
              "#fdca26"
             ],
             [
              1,
              "#f0f921"
             ]
            ],
            "type": "heatmapgl"
           }
          ],
          "histogram": [
           {
            "marker": {
             "pattern": {
              "fillmode": "overlay",
              "size": 10,
              "solidity": 0.2
             }
            },
            "type": "histogram"
           }
          ],
          "histogram2d": [
           {
            "colorbar": {
             "outlinewidth": 0,
             "ticks": ""
            },
            "colorscale": [
             [
              0,
              "#0d0887"
             ],
             [
              0.1111111111111111,
              "#46039f"
             ],
             [
              0.2222222222222222,
              "#7201a8"
             ],
             [
              0.3333333333333333,
              "#9c179e"
             ],
             [
              0.4444444444444444,
              "#bd3786"
             ],
             [
              0.5555555555555556,
              "#d8576b"
             ],
             [
              0.6666666666666666,
              "#ed7953"
             ],
             [
              0.7777777777777778,
              "#fb9f3a"
             ],
             [
              0.8888888888888888,
              "#fdca26"
             ],
             [
              1,
              "#f0f921"
             ]
            ],
            "type": "histogram2d"
           }
          ],
          "histogram2dcontour": [
           {
            "colorbar": {
             "outlinewidth": 0,
             "ticks": ""
            },
            "colorscale": [
             [
              0,
              "#0d0887"
             ],
             [
              0.1111111111111111,
              "#46039f"
             ],
             [
              0.2222222222222222,
              "#7201a8"
             ],
             [
              0.3333333333333333,
              "#9c179e"
             ],
             [
              0.4444444444444444,
              "#bd3786"
             ],
             [
              0.5555555555555556,
              "#d8576b"
             ],
             [
              0.6666666666666666,
              "#ed7953"
             ],
             [
              0.7777777777777778,
              "#fb9f3a"
             ],
             [
              0.8888888888888888,
              "#fdca26"
             ],
             [
              1,
              "#f0f921"
             ]
            ],
            "type": "histogram2dcontour"
           }
          ],
          "mesh3d": [
           {
            "colorbar": {
             "outlinewidth": 0,
             "ticks": ""
            },
            "type": "mesh3d"
           }
          ],
          "parcoords": [
           {
            "line": {
             "colorbar": {
              "outlinewidth": 0,
              "ticks": ""
             }
            },
            "type": "parcoords"
           }
          ],
          "pie": [
           {
            "automargin": true,
            "type": "pie"
           }
          ],
          "scatter": [
           {
            "marker": {
             "colorbar": {
              "outlinewidth": 0,
              "ticks": ""
             }
            },
            "type": "scatter"
           }
          ],
          "scatter3d": [
           {
            "line": {
             "colorbar": {
              "outlinewidth": 0,
              "ticks": ""
             }
            },
            "marker": {
             "colorbar": {
              "outlinewidth": 0,
              "ticks": ""
             }
            },
            "type": "scatter3d"
           }
          ],
          "scattercarpet": [
           {
            "marker": {
             "colorbar": {
              "outlinewidth": 0,
              "ticks": ""
             }
            },
            "type": "scattercarpet"
           }
          ],
          "scattergeo": [
           {
            "marker": {
             "colorbar": {
              "outlinewidth": 0,
              "ticks": ""
             }
            },
            "type": "scattergeo"
           }
          ],
          "scattergl": [
           {
            "marker": {
             "colorbar": {
              "outlinewidth": 0,
              "ticks": ""
             }
            },
            "type": "scattergl"
           }
          ],
          "scattermapbox": [
           {
            "marker": {
             "colorbar": {
              "outlinewidth": 0,
              "ticks": ""
             }
            },
            "type": "scattermapbox"
           }
          ],
          "scatterpolar": [
           {
            "marker": {
             "colorbar": {
              "outlinewidth": 0,
              "ticks": ""
             }
            },
            "type": "scatterpolar"
           }
          ],
          "scatterpolargl": [
           {
            "marker": {
             "colorbar": {
              "outlinewidth": 0,
              "ticks": ""
             }
            },
            "type": "scatterpolargl"
           }
          ],
          "scatterternary": [
           {
            "marker": {
             "colorbar": {
              "outlinewidth": 0,
              "ticks": ""
             }
            },
            "type": "scatterternary"
           }
          ],
          "surface": [
           {
            "colorbar": {
             "outlinewidth": 0,
             "ticks": ""
            },
            "colorscale": [
             [
              0,
              "#0d0887"
             ],
             [
              0.1111111111111111,
              "#46039f"
             ],
             [
              0.2222222222222222,
              "#7201a8"
             ],
             [
              0.3333333333333333,
              "#9c179e"
             ],
             [
              0.4444444444444444,
              "#bd3786"
             ],
             [
              0.5555555555555556,
              "#d8576b"
             ],
             [
              0.6666666666666666,
              "#ed7953"
             ],
             [
              0.7777777777777778,
              "#fb9f3a"
             ],
             [
              0.8888888888888888,
              "#fdca26"
             ],
             [
              1,
              "#f0f921"
             ]
            ],
            "type": "surface"
           }
          ],
          "table": [
           {
            "cells": {
             "fill": {
              "color": "#EBF0F8"
             },
             "line": {
              "color": "white"
             }
            },
            "header": {
             "fill": {
              "color": "#C8D4E3"
             },
             "line": {
              "color": "white"
             }
            },
            "type": "table"
           }
          ]
         },
         "layout": {
          "annotationdefaults": {
           "arrowcolor": "#2a3f5f",
           "arrowhead": 0,
           "arrowwidth": 1
          },
          "autotypenumbers": "strict",
          "coloraxis": {
           "colorbar": {
            "outlinewidth": 0,
            "ticks": ""
           }
          },
          "colorscale": {
           "diverging": [
            [
             0,
             "#8e0152"
            ],
            [
             0.1,
             "#c51b7d"
            ],
            [
             0.2,
             "#de77ae"
            ],
            [
             0.3,
             "#f1b6da"
            ],
            [
             0.4,
             "#fde0ef"
            ],
            [
             0.5,
             "#f7f7f7"
            ],
            [
             0.6,
             "#e6f5d0"
            ],
            [
             0.7,
             "#b8e186"
            ],
            [
             0.8,
             "#7fbc41"
            ],
            [
             0.9,
             "#4d9221"
            ],
            [
             1,
             "#276419"
            ]
           ],
           "sequential": [
            [
             0,
             "#0d0887"
            ],
            [
             0.1111111111111111,
             "#46039f"
            ],
            [
             0.2222222222222222,
             "#7201a8"
            ],
            [
             0.3333333333333333,
             "#9c179e"
            ],
            [
             0.4444444444444444,
             "#bd3786"
            ],
            [
             0.5555555555555556,
             "#d8576b"
            ],
            [
             0.6666666666666666,
             "#ed7953"
            ],
            [
             0.7777777777777778,
             "#fb9f3a"
            ],
            [
             0.8888888888888888,
             "#fdca26"
            ],
            [
             1,
             "#f0f921"
            ]
           ],
           "sequentialminus": [
            [
             0,
             "#0d0887"
            ],
            [
             0.1111111111111111,
             "#46039f"
            ],
            [
             0.2222222222222222,
             "#7201a8"
            ],
            [
             0.3333333333333333,
             "#9c179e"
            ],
            [
             0.4444444444444444,
             "#bd3786"
            ],
            [
             0.5555555555555556,
             "#d8576b"
            ],
            [
             0.6666666666666666,
             "#ed7953"
            ],
            [
             0.7777777777777778,
             "#fb9f3a"
            ],
            [
             0.8888888888888888,
             "#fdca26"
            ],
            [
             1,
             "#f0f921"
            ]
           ]
          },
          "colorway": [
           "#636efa",
           "#EF553B",
           "#00cc96",
           "#ab63fa",
           "#FFA15A",
           "#19d3f3",
           "#FF6692",
           "#B6E880",
           "#FF97FF",
           "#FECB52"
          ],
          "font": {
           "color": "#2a3f5f"
          },
          "geo": {
           "bgcolor": "white",
           "lakecolor": "white",
           "landcolor": "#E5ECF6",
           "showlakes": true,
           "showland": true,
           "subunitcolor": "white"
          },
          "hoverlabel": {
           "align": "left"
          },
          "hovermode": "closest",
          "mapbox": {
           "style": "light"
          },
          "paper_bgcolor": "white",
          "plot_bgcolor": "#E5ECF6",
          "polar": {
           "angularaxis": {
            "gridcolor": "white",
            "linecolor": "white",
            "ticks": ""
           },
           "bgcolor": "#E5ECF6",
           "radialaxis": {
            "gridcolor": "white",
            "linecolor": "white",
            "ticks": ""
           }
          },
          "scene": {
           "xaxis": {
            "backgroundcolor": "#E5ECF6",
            "gridcolor": "white",
            "gridwidth": 2,
            "linecolor": "white",
            "showbackground": true,
            "ticks": "",
            "zerolinecolor": "white"
           },
           "yaxis": {
            "backgroundcolor": "#E5ECF6",
            "gridcolor": "white",
            "gridwidth": 2,
            "linecolor": "white",
            "showbackground": true,
            "ticks": "",
            "zerolinecolor": "white"
           },
           "zaxis": {
            "backgroundcolor": "#E5ECF6",
            "gridcolor": "white",
            "gridwidth": 2,
            "linecolor": "white",
            "showbackground": true,
            "ticks": "",
            "zerolinecolor": "white"
           }
          },
          "shapedefaults": {
           "line": {
            "color": "#2a3f5f"
           }
          },
          "ternary": {
           "aaxis": {
            "gridcolor": "white",
            "linecolor": "white",
            "ticks": ""
           },
           "baxis": {
            "gridcolor": "white",
            "linecolor": "white",
            "ticks": ""
           },
           "bgcolor": "#E5ECF6",
           "caxis": {
            "gridcolor": "white",
            "linecolor": "white",
            "ticks": ""
           }
          },
          "title": {
           "x": 0.05
          },
          "xaxis": {
           "automargin": true,
           "gridcolor": "white",
           "linecolor": "white",
           "ticks": "",
           "title": {
            "standoff": 15
           },
           "zerolinecolor": "white",
           "zerolinewidth": 2
          },
          "yaxis": {
           "automargin": true,
           "gridcolor": "white",
           "linecolor": "white",
           "ticks": "",
           "title": {
            "standoff": 15
           },
           "zerolinecolor": "white",
           "zerolinewidth": 2
          }
         }
        },
        "title": {
         "font": {
          "color": "#4D5663"
         }
        },
        "xaxis": {
         "gridcolor": "#E1E5ED",
         "showgrid": true,
         "tickfont": {
          "color": "#4D5663"
         },
         "title": {
          "font": {
           "color": "#4D5663"
          },
          "text": ""
         },
         "zerolinecolor": "#E1E5ED"
        },
        "yaxis": {
         "gridcolor": "#E1E5ED",
         "showgrid": true,
         "tickfont": {
          "color": "#4D5663"
         },
         "title": {
          "font": {
           "color": "#4D5663"
          },
          "text": ""
         },
         "zerolinecolor": "#E1E5ED"
        }
       }
      },
      "text/html": [
       "<div>                            <div id=\"9d1b138d-dc61-4357-8bca-eebfd2e714be\" class=\"plotly-graph-div\" style=\"height:525px; width:100%;\"></div>            <script type=\"text/javascript\">                require([\"plotly\"], function(Plotly) {                    window.PLOTLYENV=window.PLOTLYENV || {};\n",
       "                    window.PLOTLYENV.BASE_URL='https://plot.ly';                                    if (document.getElementById(\"9d1b138d-dc61-4357-8bca-eebfd2e714be\")) {                    Plotly.newPlot(                        \"9d1b138d-dc61-4357-8bca-eebfd2e714be\",                        [{\"histfunc\":\"count\",\"histnorm\":\"\",\"marker\":{\"color\":\"rgba(255, 153, 51, 1.0)\",\"line\":{\"color\":\"#4D5663\",\"width\":1.3}},\"name\":\"A\",\"nbinsx\":25,\"opacity\":0.8,\"orientation\":\"v\",\"x\":[0.6609269625981522,-0.6283942023252015,0.5958289057467888,-0.25235480998017024,-0.4991144493410042,1.5167690595310814,1.5862310771988744,-2.0038547936463633,0.15151721273618973,0.2589386222594662,-0.8055696610930111,0.8312013344819981,0.1303733282983725,-1.0396818423548286,0.6530713205398567,-0.6505989805969854,-0.18596098484788937,0.6054617971802655,-0.2811898686118027,-0.13912634769480767,0.8446396122125646,-0.68578985663953,-0.6531203665961344,-1.6731759119240543,2.209985229565079,0.3404983837596926,-0.6791549259903613,0.626551904680079,0.4365449907031151,0.22223603549504206,-0.05514042399957164,-0.5478591051219441,-0.272608358787428,0.13624914914319483,2.0107444355148316,-1.1295515219688383,-1.9308731102338974,-0.869451665441127,0.24225048593408174,0.5277492128113745,-0.39944870589815207,-0.3028181745654215,-0.36208010777438204,-0.6371805534587353,-0.5694189831819202,1.461096225783802,-0.4994736094715912,0.29929114541333546,1.2041695390914506,-0.9793564598366558,0.01807837432378152,-1.103587706826982,-0.18817011528619612,2.5352245967487885,-1.4285113376487508,0.1361915367915166,0.9006406460730992,-0.5298534434558503,-1.213528288936742,1.8601487302024202,0.3695423990074541,1.296044763586415,0.1395186998537509,1.719413311595714,1.2114653178792933,0.03910624479884292,0.2545787261537919,0.023686667231006552,0.8541797670508043,0.4593274411390989,1.0033874555379092,-0.2873415179522952,-0.9384778704654327,-0.40658629235198673,-2.158070369516635,-1.0527523510456966,-1.210264349440857,-0.8228197170689329,0.1435983858401079,0.08212759198765562,0.5047104711807551,-0.1288060629054838,1.6932702499770058,-0.6471071694000822,-0.6856545007792552,-1.4449240018310907,0.05111083881877059,-0.08977932715227151,1.2448916134290704,-0.10907787099641833,0.41576838297650387,0.034355047528476276,1.737306222848453,1.2879506488485895,-0.5445920228908319,-0.011791285460258594,-1.3429356371363272,0.340923499794586,0.7271609744140205,0.11415981620587828],\"type\":\"histogram\"}],                        {\"barmode\":\"overlay\",\"legend\":{\"bgcolor\":\"#F5F6F9\",\"font\":{\"color\":\"#4D5663\"}},\"paper_bgcolor\":\"#F5F6F9\",\"plot_bgcolor\":\"#F5F6F9\",\"template\":{\"data\":{\"barpolar\":[{\"marker\":{\"line\":{\"color\":\"#E5ECF6\",\"width\":0.5},\"pattern\":{\"fillmode\":\"overlay\",\"size\":10,\"solidity\":0.2}},\"type\":\"barpolar\"}],\"bar\":[{\"error_x\":{\"color\":\"#2a3f5f\"},\"error_y\":{\"color\":\"#2a3f5f\"},\"marker\":{\"line\":{\"color\":\"#E5ECF6\",\"width\":0.5},\"pattern\":{\"fillmode\":\"overlay\",\"size\":10,\"solidity\":0.2}},\"type\":\"bar\"}],\"carpet\":[{\"aaxis\":{\"endlinecolor\":\"#2a3f5f\",\"gridcolor\":\"white\",\"linecolor\":\"white\",\"minorgridcolor\":\"white\",\"startlinecolor\":\"#2a3f5f\"},\"baxis\":{\"endlinecolor\":\"#2a3f5f\",\"gridcolor\":\"white\",\"linecolor\":\"white\",\"minorgridcolor\":\"white\",\"startlinecolor\":\"#2a3f5f\"},\"type\":\"carpet\"}],\"choropleth\":[{\"colorbar\":{\"outlinewidth\":0,\"ticks\":\"\"},\"type\":\"choropleth\"}],\"contourcarpet\":[{\"colorbar\":{\"outlinewidth\":0,\"ticks\":\"\"},\"type\":\"contourcarpet\"}],\"contour\":[{\"colorbar\":{\"outlinewidth\":0,\"ticks\":\"\"},\"colorscale\":[[0.0,\"#0d0887\"],[0.1111111111111111,\"#46039f\"],[0.2222222222222222,\"#7201a8\"],[0.3333333333333333,\"#9c179e\"],[0.4444444444444444,\"#bd3786\"],[0.5555555555555556,\"#d8576b\"],[0.6666666666666666,\"#ed7953\"],[0.7777777777777778,\"#fb9f3a\"],[0.8888888888888888,\"#fdca26\"],[1.0,\"#f0f921\"]],\"type\":\"contour\"}],\"heatmapgl\":[{\"colorbar\":{\"outlinewidth\":0,\"ticks\":\"\"},\"colorscale\":[[0.0,\"#0d0887\"],[0.1111111111111111,\"#46039f\"],[0.2222222222222222,\"#7201a8\"],[0.3333333333333333,\"#9c179e\"],[0.4444444444444444,\"#bd3786\"],[0.5555555555555556,\"#d8576b\"],[0.6666666666666666,\"#ed7953\"],[0.7777777777777778,\"#fb9f3a\"],[0.8888888888888888,\"#fdca26\"],[1.0,\"#f0f921\"]],\"type\":\"heatmapgl\"}],\"heatmap\":[{\"colorbar\":{\"outlinewidth\":0,\"ticks\":\"\"},\"colorscale\":[[0.0,\"#0d0887\"],[0.1111111111111111,\"#46039f\"],[0.2222222222222222,\"#7201a8\"],[0.3333333333333333,\"#9c179e\"],[0.4444444444444444,\"#bd3786\"],[0.5555555555555556,\"#d8576b\"],[0.6666666666666666,\"#ed7953\"],[0.7777777777777778,\"#fb9f3a\"],[0.8888888888888888,\"#fdca26\"],[1.0,\"#f0f921\"]],\"type\":\"heatmap\"}],\"histogram2dcontour\":[{\"colorbar\":{\"outlinewidth\":0,\"ticks\":\"\"},\"colorscale\":[[0.0,\"#0d0887\"],[0.1111111111111111,\"#46039f\"],[0.2222222222222222,\"#7201a8\"],[0.3333333333333333,\"#9c179e\"],[0.4444444444444444,\"#bd3786\"],[0.5555555555555556,\"#d8576b\"],[0.6666666666666666,\"#ed7953\"],[0.7777777777777778,\"#fb9f3a\"],[0.8888888888888888,\"#fdca26\"],[1.0,\"#f0f921\"]],\"type\":\"histogram2dcontour\"}],\"histogram2d\":[{\"colorbar\":{\"outlinewidth\":0,\"ticks\":\"\"},\"colorscale\":[[0.0,\"#0d0887\"],[0.1111111111111111,\"#46039f\"],[0.2222222222222222,\"#7201a8\"],[0.3333333333333333,\"#9c179e\"],[0.4444444444444444,\"#bd3786\"],[0.5555555555555556,\"#d8576b\"],[0.6666666666666666,\"#ed7953\"],[0.7777777777777778,\"#fb9f3a\"],[0.8888888888888888,\"#fdca26\"],[1.0,\"#f0f921\"]],\"type\":\"histogram2d\"}],\"histogram\":[{\"marker\":{\"pattern\":{\"fillmode\":\"overlay\",\"size\":10,\"solidity\":0.2}},\"type\":\"histogram\"}],\"mesh3d\":[{\"colorbar\":{\"outlinewidth\":0,\"ticks\":\"\"},\"type\":\"mesh3d\"}],\"parcoords\":[{\"line\":{\"colorbar\":{\"outlinewidth\":0,\"ticks\":\"\"}},\"type\":\"parcoords\"}],\"pie\":[{\"automargin\":true,\"type\":\"pie\"}],\"scatter3d\":[{\"line\":{\"colorbar\":{\"outlinewidth\":0,\"ticks\":\"\"}},\"marker\":{\"colorbar\":{\"outlinewidth\":0,\"ticks\":\"\"}},\"type\":\"scatter3d\"}],\"scattercarpet\":[{\"marker\":{\"colorbar\":{\"outlinewidth\":0,\"ticks\":\"\"}},\"type\":\"scattercarpet\"}],\"scattergeo\":[{\"marker\":{\"colorbar\":{\"outlinewidth\":0,\"ticks\":\"\"}},\"type\":\"scattergeo\"}],\"scattergl\":[{\"marker\":{\"colorbar\":{\"outlinewidth\":0,\"ticks\":\"\"}},\"type\":\"scattergl\"}],\"scattermapbox\":[{\"marker\":{\"colorbar\":{\"outlinewidth\":0,\"ticks\":\"\"}},\"type\":\"scattermapbox\"}],\"scatterpolargl\":[{\"marker\":{\"colorbar\":{\"outlinewidth\":0,\"ticks\":\"\"}},\"type\":\"scatterpolargl\"}],\"scatterpolar\":[{\"marker\":{\"colorbar\":{\"outlinewidth\":0,\"ticks\":\"\"}},\"type\":\"scatterpolar\"}],\"scatter\":[{\"marker\":{\"colorbar\":{\"outlinewidth\":0,\"ticks\":\"\"}},\"type\":\"scatter\"}],\"scatterternary\":[{\"marker\":{\"colorbar\":{\"outlinewidth\":0,\"ticks\":\"\"}},\"type\":\"scatterternary\"}],\"surface\":[{\"colorbar\":{\"outlinewidth\":0,\"ticks\":\"\"},\"colorscale\":[[0.0,\"#0d0887\"],[0.1111111111111111,\"#46039f\"],[0.2222222222222222,\"#7201a8\"],[0.3333333333333333,\"#9c179e\"],[0.4444444444444444,\"#bd3786\"],[0.5555555555555556,\"#d8576b\"],[0.6666666666666666,\"#ed7953\"],[0.7777777777777778,\"#fb9f3a\"],[0.8888888888888888,\"#fdca26\"],[1.0,\"#f0f921\"]],\"type\":\"surface\"}],\"table\":[{\"cells\":{\"fill\":{\"color\":\"#EBF0F8\"},\"line\":{\"color\":\"white\"}},\"header\":{\"fill\":{\"color\":\"#C8D4E3\"},\"line\":{\"color\":\"white\"}},\"type\":\"table\"}]},\"layout\":{\"annotationdefaults\":{\"arrowcolor\":\"#2a3f5f\",\"arrowhead\":0,\"arrowwidth\":1},\"autotypenumbers\":\"strict\",\"coloraxis\":{\"colorbar\":{\"outlinewidth\":0,\"ticks\":\"\"}},\"colorscale\":{\"diverging\":[[0,\"#8e0152\"],[0.1,\"#c51b7d\"],[0.2,\"#de77ae\"],[0.3,\"#f1b6da\"],[0.4,\"#fde0ef\"],[0.5,\"#f7f7f7\"],[0.6,\"#e6f5d0\"],[0.7,\"#b8e186\"],[0.8,\"#7fbc41\"],[0.9,\"#4d9221\"],[1,\"#276419\"]],\"sequential\":[[0.0,\"#0d0887\"],[0.1111111111111111,\"#46039f\"],[0.2222222222222222,\"#7201a8\"],[0.3333333333333333,\"#9c179e\"],[0.4444444444444444,\"#bd3786\"],[0.5555555555555556,\"#d8576b\"],[0.6666666666666666,\"#ed7953\"],[0.7777777777777778,\"#fb9f3a\"],[0.8888888888888888,\"#fdca26\"],[1.0,\"#f0f921\"]],\"sequentialminus\":[[0.0,\"#0d0887\"],[0.1111111111111111,\"#46039f\"],[0.2222222222222222,\"#7201a8\"],[0.3333333333333333,\"#9c179e\"],[0.4444444444444444,\"#bd3786\"],[0.5555555555555556,\"#d8576b\"],[0.6666666666666666,\"#ed7953\"],[0.7777777777777778,\"#fb9f3a\"],[0.8888888888888888,\"#fdca26\"],[1.0,\"#f0f921\"]]},\"colorway\":[\"#636efa\",\"#EF553B\",\"#00cc96\",\"#ab63fa\",\"#FFA15A\",\"#19d3f3\",\"#FF6692\",\"#B6E880\",\"#FF97FF\",\"#FECB52\"],\"font\":{\"color\":\"#2a3f5f\"},\"geo\":{\"bgcolor\":\"white\",\"lakecolor\":\"white\",\"landcolor\":\"#E5ECF6\",\"showlakes\":true,\"showland\":true,\"subunitcolor\":\"white\"},\"hoverlabel\":{\"align\":\"left\"},\"hovermode\":\"closest\",\"mapbox\":{\"style\":\"light\"},\"paper_bgcolor\":\"white\",\"plot_bgcolor\":\"#E5ECF6\",\"polar\":{\"angularaxis\":{\"gridcolor\":\"white\",\"linecolor\":\"white\",\"ticks\":\"\"},\"bgcolor\":\"#E5ECF6\",\"radialaxis\":{\"gridcolor\":\"white\",\"linecolor\":\"white\",\"ticks\":\"\"}},\"scene\":{\"xaxis\":{\"backgroundcolor\":\"#E5ECF6\",\"gridcolor\":\"white\",\"gridwidth\":2,\"linecolor\":\"white\",\"showbackground\":true,\"ticks\":\"\",\"zerolinecolor\":\"white\"},\"yaxis\":{\"backgroundcolor\":\"#E5ECF6\",\"gridcolor\":\"white\",\"gridwidth\":2,\"linecolor\":\"white\",\"showbackground\":true,\"ticks\":\"\",\"zerolinecolor\":\"white\"},\"zaxis\":{\"backgroundcolor\":\"#E5ECF6\",\"gridcolor\":\"white\",\"gridwidth\":2,\"linecolor\":\"white\",\"showbackground\":true,\"ticks\":\"\",\"zerolinecolor\":\"white\"}},\"shapedefaults\":{\"line\":{\"color\":\"#2a3f5f\"}},\"ternary\":{\"aaxis\":{\"gridcolor\":\"white\",\"linecolor\":\"white\",\"ticks\":\"\"},\"baxis\":{\"gridcolor\":\"white\",\"linecolor\":\"white\",\"ticks\":\"\"},\"bgcolor\":\"#E5ECF6\",\"caxis\":{\"gridcolor\":\"white\",\"linecolor\":\"white\",\"ticks\":\"\"}},\"title\":{\"x\":0.05},\"xaxis\":{\"automargin\":true,\"gridcolor\":\"white\",\"linecolor\":\"white\",\"ticks\":\"\",\"title\":{\"standoff\":15},\"zerolinecolor\":\"white\",\"zerolinewidth\":2},\"yaxis\":{\"automargin\":true,\"gridcolor\":\"white\",\"linecolor\":\"white\",\"ticks\":\"\",\"title\":{\"standoff\":15},\"zerolinecolor\":\"white\",\"zerolinewidth\":2}}},\"title\":{\"font\":{\"color\":\"#4D5663\"}},\"xaxis\":{\"gridcolor\":\"#E1E5ED\",\"showgrid\":true,\"tickfont\":{\"color\":\"#4D5663\"},\"title\":{\"font\":{\"color\":\"#4D5663\"},\"text\":\"\"},\"zerolinecolor\":\"#E1E5ED\"},\"yaxis\":{\"gridcolor\":\"#E1E5ED\",\"showgrid\":true,\"tickfont\":{\"color\":\"#4D5663\"},\"title\":{\"font\":{\"color\":\"#4D5663\"},\"text\":\"\"},\"zerolinecolor\":\"#E1E5ED\"}},                        {\"showLink\": true, \"linkText\": \"Export to plot.ly\", \"plotlyServerURL\": \"https://plot.ly\", \"responsive\": true}                    ).then(function(){\n",
       "                            \n",
       "var gd = document.getElementById('9d1b138d-dc61-4357-8bca-eebfd2e714be');\n",
       "var x = new MutationObserver(function (mutations, observer) {{\n",
       "        var display = window.getComputedStyle(gd).display;\n",
       "        if (!display || display === 'none') {{\n",
       "            console.log([gd, 'removed!']);\n",
       "            Plotly.purge(gd);\n",
       "            observer.disconnect();\n",
       "        }}\n",
       "}});\n",
       "\n",
       "// Listen for the removal of the full notebook cells\n",
       "var notebookContainer = gd.closest('#notebook-container');\n",
       "if (notebookContainer) {{\n",
       "    x.observe(notebookContainer, {childList: true});\n",
       "}}\n",
       "\n",
       "// Listen for the clearing of the current output cell\n",
       "var outputEl = gd.closest('.output');\n",
       "if (outputEl) {{\n",
       "    x.observe(outputEl, {childList: true});\n",
       "}}\n",
       "\n",
       "                        })                };                });            </script>        </div>"
      ]
     },
     "metadata": {},
     "output_type": "display_data"
    }
   ],
   "source": [
    "df['A'].iplot(kind='hist',bins=25)"
   ]
  },
  {
   "cell_type": "code",
   "execution_count": 60,
   "metadata": {},
   "outputs": [
    {
     "data": {
      "text/html": [
       "<div id=\"e508143e-bcba-4c40-9488-bfdc4040e078\" style=\"height: 525px; width: 100%;\" class=\"plotly-graph-div\"></div><script type=\"text/javascript\">require([\"plotly\"], function(Plotly) { window.PLOTLYENV=window.PLOTLYENV || {};window.PLOTLYENV.BASE_URL=\"https://plot.ly\";Plotly.newPlot(\"e508143e-bcba-4c40-9488-bfdc4040e078\", [{\"mode\": \"markers\", \"text\": \"\", \"y\": [0.6887194376286498, 0.1040535242504629, 0.38792642015276635, 1.3934230260395444, -0.5375976688704683, -1.1493608786796612, 0.01342890849383506, -0.47231861415738574, 0.24793169472844812, -0.6232083144122951, -1.2121596694710122, -2.4542371001007464, 0.29855785553142483, 1.2997620162676498, 0.9168047366909585, -0.41040614900130634, 1.3147531456519106, -0.12455263569370086, 0.9366143523054554, 0.23573463729990726, -0.8244746170540388, -0.32685668230128845, 1.501781503113865, 0.9830012153240587, 0.6020112305361386, 0.3688304138086671, 1.0090827131320237, -0.5811720111587422, 0.0512884505619472, -1.6917643070157176, -0.25322144257612356, -0.2937357494665306, 0.7368726362448421, 0.5763424997076779, 0.16472110066593693, -0.374254076023172, 1.1280304809680426, 0.6455371548668151, -0.18000225503004413, -0.9128911232313937, -0.5670695205365133, 0.16138491502455474, 1.2118733837294762, 0.4444506280024997, 0.6834767601409083, 1.8020727241195935, 2.4230878273709062, 0.27701889696287213, 1.4067122280705426, -0.33728919328412016, 0.5154870435338148, 0.7751019637809062, 1.400130435077449, 0.8276591566099151, 1.1268119555303864, 0.7016118169589718, 0.476169530704683, -0.5261125753709399, -1.2129692872143456, 0.6126338497954396, 1.5825905557818922, -0.8173630045970658, 0.1075602248072928, 1.2716988894407462, -0.15615948990467535, -0.2968566839654392, 1.7204934641303604, -0.869876624137026, 0.28935077735906545, -1.2052876742800458, -0.263979336251353, -0.02815365780209253, -0.04062347728476395, 0.943760296027789, -1.7797735906553165, 0.4485755919087686, 0.14778332986993048, 0.5305019463041807, 1.6359913516932165, -0.3437427119285297, 1.9109783094330681, 0.6818924480193401, -0.42214824562337705, 0.8935317581184008, 1.2587495288352297, -0.5992845246668753, 2.7851237345776405, -1.5158096238899554, 0.04177421570103183, 0.48980398157362903, 1.063643861677667, -0.8486329162129157, -1.86936339853131, 0.24761777046722996, 1.290606988097702, 0.17046338292604407, 0.14181179559597848, 0.6505415244850333, -2.5850581533594545, -0.30813091794721653], \"x\": [1.8787246669561561, 0.028733616663923985, -0.1587931161277573, -1.2219723462024636, 1.2531523973363488, 0.8312132082951045, 1.1740170898586173, -0.24393002059589958, -0.296966543277261, 0.7621695759158762, 0.04210347865555278, -0.7791970481917073, 0.3943032396655093, -1.0146190736152443, -0.4841710096782867, 0.5522466668361006, -2.77187556758784, -0.5181226698708166, -0.49722040792422156, -1.6534757596659548, -0.06027439377033132, 1.4769243769038323, 1.1796346669498379, -0.7816898015019265, 0.8630132212967984, 0.6590246731638996, -1.1013906677685679, -0.9446804895542242, -1.788022470413331, 0.8775002821729455, 0.3546715768521251, -0.16532125735222183, 1.8914747239632839, -1.1251772915449791, 0.8888981026894395, -0.6066117727706714, 0.8314777742724779, 0.3830457069359529, -0.937459527593053, -0.844561047334305, 1.1280232245052606, -1.640427972598561, 0.8971269652786067, 0.4848047458342485, 0.19373507090654035, -0.7387091317560727, -0.3566733282792827, -0.43158335134818315, -0.4899640124314907, 0.5488715658495908, 0.2821768987731658, -0.8832439438038343, 1.271863067044618, 0.10680856505919414, 0.8269478103679717, -0.03266751467505833, -0.34021520002722894, -0.6769186069469743, 0.7126188256918854, 1.8871150025438166, -0.06742662656190869, -1.4789736197389265, 0.346978601690099, -0.3757389938313092, 0.715285859520045, 1.5994858611908638, -0.3692558358591885, 0.13827360227735647, -0.40690530542342296, 0.636973800943974, 0.14658752987818605, -0.3949906255692418, 1.5076392623927681, -0.15486042602397807, 0.22159940179664614, -1.0878244818277978, -0.03354417910293162, 1.2258839316932069, -0.048951028800266715, -1.1089870994157809, 0.021452684803338333, 1.2548854256528554, -1.0913797662237141, -0.539059741192553, 0.6901269187662552, -1.4810451728120602, -0.8468654201203714, 0.3763927872506507, 0.8120568488462931, 0.0031767062628090745, 0.697742291538818, -0.7429703118062226, -0.842231117346612, -0.0666718362166121, 1.8829720647783421, 1.320112956074407, 0.42394324402947475, 0.466299928509142, 0.9415282138953815, -0.7707938096473991], \"type\": \"scatter\", \"marker\": {\"size\": [90, 70, 57, 64, 75, 45, 79, 60, 101, 50, 41, 59, 68, 84, 87, 12, 62, 71, 75, 47, 64, 96, 63, 84, 80, 61, 54, 67, 83, 52, 81, 66, 72, 68, 86, 86, 74, 46, 88, 88, 74, 51, 66, 62, 79, 60, 27, 109, 80, 90, 64, 72, 50, 112, 67, 77, 84, 56, 54, 74, 94, 88, 64, 61, 44, 87, 109, 74, 86, 77, 75, 88, 77, 90, 96, 66, 52, 75, 77, 52, 37, 69, 49, 60, 77, 71, 55, 66, 78, 32, 40, 85, 69, 80, 61, 67, 67, 67, 56, 64], \"line\": {\"width\": 1.3}, \"color\": [\"rgb(226, 74, 51)\", \"rgb(226, 74, 51)\", \"rgb(226, 74, 51)\", \"rgb(226, 74, 51)\", \"rgb(226, 74, 51)\", \"rgb(226, 74, 51)\", \"rgb(226, 74, 51)\", \"rgb(226, 74, 51)\", \"rgb(226, 74, 51)\", \"rgb(226, 74, 51)\", \"rgb(226, 74, 51)\", \"rgb(226, 74, 51)\", \"rgb(226, 74, 51)\", \"rgb(226, 74, 51)\", \"rgb(226, 74, 51)\", \"rgb(226, 74, 51)\", \"rgb(226, 74, 51)\", \"rgb(226, 74, 51)\", \"rgb(226, 74, 51)\", \"rgb(226, 74, 51)\", \"rgb(226, 74, 51)\", \"rgb(226, 74, 51)\", \"rgb(226, 74, 51)\", \"rgb(226, 74, 51)\", \"rgb(226, 74, 51)\", \"rgb(226, 74, 51)\", \"rgb(226, 74, 51)\", \"rgb(226, 74, 51)\", \"rgb(226, 74, 51)\", \"rgb(226, 74, 51)\", \"rgb(226, 74, 51)\", \"rgb(226, 74, 51)\", \"rgb(226, 74, 51)\", \"rgb(226, 74, 51)\", \"rgb(226, 74, 51)\", \"rgb(226, 74, 51)\", \"rgb(226, 74, 51)\", \"rgb(226, 74, 51)\", \"rgb(226, 74, 51)\", \"rgb(226, 74, 51)\", \"rgb(226, 74, 51)\", \"rgb(226, 74, 51)\", \"rgb(226, 74, 51)\", \"rgb(226, 74, 51)\", \"rgb(226, 74, 51)\", \"rgb(226, 74, 51)\", \"rgb(226, 74, 51)\", \"rgb(226, 74, 51)\", \"rgb(226, 74, 51)\", \"rgb(226, 74, 51)\", \"rgb(226, 74, 51)\", \"rgb(226, 74, 51)\", \"rgb(226, 74, 51)\", \"rgb(226, 74, 51)\", \"rgb(226, 74, 51)\", \"rgb(226, 74, 51)\", \"rgb(226, 74, 51)\", \"rgb(226, 74, 51)\", \"rgb(226, 74, 51)\", \"rgb(226, 74, 51)\", \"rgb(226, 74, 51)\", \"rgb(226, 74, 51)\", \"rgb(226, 74, 51)\", \"rgb(226, 74, 51)\", \"rgb(226, 74, 51)\", \"rgb(226, 74, 51)\", \"rgb(226, 74, 51)\", \"rgb(226, 74, 51)\", \"rgb(226, 74, 51)\", \"rgb(226, 74, 51)\", \"rgb(226, 74, 51)\", \"rgb(226, 74, 51)\", \"rgb(226, 74, 51)\", \"rgb(226, 74, 51)\", \"rgb(226, 74, 51)\", \"rgb(226, 74, 51)\", \"rgb(226, 74, 51)\", \"rgb(226, 74, 51)\", \"rgb(226, 74, 51)\", \"rgb(226, 74, 51)\", \"rgb(226, 74, 51)\", \"rgb(226, 74, 51)\", \"rgb(226, 74, 51)\", \"rgb(226, 74, 51)\", \"rgb(226, 74, 51)\", \"rgb(226, 74, 51)\", \"rgb(226, 74, 51)\", \"rgb(226, 74, 51)\", \"rgb(226, 74, 51)\", \"rgb(226, 74, 51)\", \"rgb(226, 74, 51)\", \"rgb(226, 74, 51)\", \"rgb(226, 74, 51)\", \"rgb(226, 74, 51)\", \"rgb(226, 74, 51)\", \"rgb(226, 74, 51)\", \"rgb(226, 74, 51)\", \"rgb(226, 74, 51)\", \"rgb(226, 74, 51)\", \"rgb(226, 74, 51)\"], \"symbol\": \"dot\"}}], {\"legend\": {\"font\": {\"color\": \"#666666\"}, \"bgcolor\": \"#FFFFFF\"}, \"titlefont\": {\"color\": \"#151516\"}, \"xaxis1\": {\"titlefont\": {\"color\": \"#666666\"}, \"zerolinecolor\": \"#F6F6F6\", \"title\": \"\", \"tickfont\": {\"color\": \"#666666\"}, \"showgrid\": true, \"gridcolor\": \"#F6F6F6\"}, \"paper_bgcolor\": \"#FFFFFF\", \"plot_bgcolor\": \"#E5E5E5\", \"yaxis1\": {\"titlefont\": {\"color\": \"#666666\"}, \"zerolinecolor\": \"#F6F6F6\", \"title\": \"\", \"tickfont\": {\"color\": \"#666666\"}, \"showgrid\": true, \"gridcolor\": \"#F6F6F6\"}}, {\"showLink\": true, \"linkText\": \"Export to plot.ly\"})});</script>"
      ],
      "text/plain": [
       "<IPython.core.display.HTML object>"
      ]
     },
     "metadata": {},
     "output_type": "display_data"
    }
   ],
   "source": [
    "df.iplot(kind='bubble',x='A',y='B',size='C')"
   ]
  },
  {
   "cell_type": "markdown",
   "metadata": {},
   "source": [
    "## scatter_matrix()\n",
    "\n",
    "Similar to sns.pairplot()"
   ]
  },
  {
   "cell_type": "code",
   "execution_count": 22,
   "metadata": {},
   "outputs": [
    {
     "data": {
      "application/vnd.plotly.v1+json": {
       "config": {
        "linkText": "Export to plot.ly",
        "plotlyServerURL": "https://plot.ly",
        "showLink": true
       },
       "data": [
        {
         "histfunc": "count",
         "histnorm": "",
         "marker": {
          "color": "rgba(255, 153, 51, 1.0)",
          "line": {
           "color": "#4D5663",
           "width": 1.3
          }
         },
         "name": "A",
         "nbinsx": 10,
         "opacity": 0.8,
         "orientation": "v",
         "type": "histogram",
         "x": [
          0.6609269625981522,
          -0.6283942023252015,
          0.5958289057467888,
          -0.25235480998017024,
          -0.4991144493410042,
          1.5167690595310814,
          1.5862310771988744,
          -2.0038547936463633,
          0.15151721273618973,
          0.2589386222594662,
          -0.8055696610930111,
          0.8312013344819981,
          0.1303733282983725,
          -1.0396818423548286,
          0.6530713205398567,
          -0.6505989805969854,
          -0.18596098484788937,
          0.6054617971802655,
          -0.2811898686118027,
          -0.13912634769480767,
          0.8446396122125646,
          -0.68578985663953,
          -0.6531203665961344,
          -1.6731759119240543,
          2.209985229565079,
          0.3404983837596926,
          -0.6791549259903613,
          0.626551904680079,
          0.4365449907031151,
          0.22223603549504206,
          -0.05514042399957164,
          -0.5478591051219441,
          -0.272608358787428,
          0.13624914914319483,
          2.0107444355148316,
          -1.1295515219688383,
          -1.9308731102338974,
          -0.869451665441127,
          0.24225048593408174,
          0.5277492128113745,
          -0.39944870589815207,
          -0.3028181745654215,
          -0.36208010777438204,
          -0.6371805534587353,
          -0.5694189831819202,
          1.461096225783802,
          -0.4994736094715912,
          0.29929114541333546,
          1.2041695390914506,
          -0.9793564598366558,
          0.01807837432378152,
          -1.103587706826982,
          -0.18817011528619612,
          2.5352245967487885,
          -1.4285113376487508,
          0.1361915367915166,
          0.9006406460730992,
          -0.5298534434558503,
          -1.213528288936742,
          1.8601487302024202,
          0.3695423990074541,
          1.296044763586415,
          0.1395186998537509,
          1.719413311595714,
          1.2114653178792933,
          0.03910624479884292,
          0.2545787261537919,
          0.023686667231006552,
          0.8541797670508043,
          0.4593274411390989,
          1.0033874555379092,
          -0.2873415179522952,
          -0.9384778704654327,
          -0.40658629235198673,
          -2.158070369516635,
          -1.0527523510456966,
          -1.210264349440857,
          -0.8228197170689329,
          0.1435983858401079,
          0.08212759198765562,
          0.5047104711807551,
          -0.1288060629054838,
          1.6932702499770058,
          -0.6471071694000822,
          -0.6856545007792552,
          -1.4449240018310907,
          0.05111083881877059,
          -0.08977932715227151,
          1.2448916134290704,
          -0.10907787099641833,
          0.41576838297650387,
          0.034355047528476276,
          1.737306222848453,
          1.2879506488485895,
          -0.5445920228908319,
          -0.011791285460258594,
          -1.3429356371363272,
          0.340923499794586,
          0.7271609744140205,
          0.11415981620587828
         ],
         "xaxis": "x",
         "yaxis": "y"
        },
        {
         "line": {
          "color": "rgba(128, 128, 128, 1.0)",
          "dash": "solid",
          "shape": "linear",
          "width": 1.3
         },
         "marker": {
          "size": 2,
          "symbol": "circle"
         },
         "mode": "markers",
         "name": "A",
         "text": "",
         "type": "scatter",
         "x": [
          2.1369138719324097,
          1.1218232241102921,
          0.26572688661593546,
          -0.6305003101378791,
          2.167181040671889,
          -0.23150609074463332,
          1.5260914845192142,
          1.8996590584310187,
          -0.5308756528251863,
          -1.1285592958279023,
          -0.7791266507171293,
          -1.6911442048922218,
          0.03259993470017688,
          -1.5301542368770833,
          -0.943124496564741,
          0.6401111021980387,
          0.5555916097716914,
          -0.47944004993930484,
          -0.3734154861180155,
          -2.3193218374592033,
          -0.25769903978196274,
          1.0901689928043339,
          -0.3787309412507085,
          0.6941815251138934,
          -0.41055317577509276,
          -0.7938391689626703,
          -0.09216651037745185,
          1.0536237513050577,
          -0.01771299556433199,
          -1.1354493905039764,
          0.36405402739491627,
          -0.25022937939597756,
          1.5460158671741624,
          -0.08797194860936755,
          -0.2693182997508638,
          -1.6945406701465857,
          -1.6654886030470293,
          -0.8449708912564343,
          0.9057644458698647,
          0.4930488497054626,
          -0.514550577625808,
          0.08399712687451115,
          -0.7120181921708862,
          -0.22188650000595753,
          -0.996247575974823,
          -2.6283366939612494,
          -0.3806094830267701,
          0.1410881180140036,
          0.5544826175873403,
          0.32787605876710624,
          0.04302194321889322,
          1.4248894903070992,
          -1.2159827938969654,
          0.37057004231054885,
          -0.3998796372393718,
          0.09013059092878399,
          0.897677474178713,
          1.0996054030628408,
          0.04685669530975385,
          0.8705743484320358,
          -1.2928816250304203,
          -1.993744959568647,
          1.3576023433880942,
          0.5270461933088814,
          -1.1143133576599562,
          -0.4535757125183196,
          -1.9473052612596844,
          -0.1578392966742072,
          1.3490461776070415,
          0.49834492043962886,
          -0.3176243733857624,
          0.14317832901426178,
          1.9711251053897287,
          -0.6960179115421854,
          0.5202843097161529,
          0.7294212209929505,
          -0.02206115315984238,
          -1.7717378674646553,
          1.741175628507748,
          1.0629352168952446,
          0.1386737629402777,
          0.644833401664853,
          -1.158732454088803,
          -0.8893251447971611,
          -0.09115194355746586,
          -0.8369650243486435,
          0.18727737894972848,
          2.1398181622064754,
          0.9045169788207471,
          0.6135187489031853,
          -0.0163735787247299,
          -0.048123225921188305,
          -0.1934586058706064,
          -1.3068728615356302,
          -0.16814932656604875,
          -1.7608336285547592,
          -0.9560428706568221,
          -2.4038775493786373,
          -0.24616587387684877,
          0.9363418620845582
         ],
         "xaxis": "x2",
         "y": [
          0.6609269625981522,
          -0.6283942023252015,
          0.5958289057467888,
          -0.25235480998017024,
          -0.4991144493410042,
          1.5167690595310814,
          1.5862310771988744,
          -2.0038547936463633,
          0.15151721273618973,
          0.2589386222594662,
          -0.8055696610930111,
          0.8312013344819981,
          0.1303733282983725,
          -1.0396818423548286,
          0.6530713205398567,
          -0.6505989805969854,
          -0.18596098484788937,
          0.6054617971802655,
          -0.2811898686118027,
          -0.13912634769480767,
          0.8446396122125646,
          -0.68578985663953,
          -0.6531203665961344,
          -1.6731759119240543,
          2.209985229565079,
          0.3404983837596926,
          -0.6791549259903613,
          0.626551904680079,
          0.4365449907031151,
          0.22223603549504206,
          -0.05514042399957164,
          -0.5478591051219441,
          -0.272608358787428,
          0.13624914914319483,
          2.0107444355148316,
          -1.1295515219688383,
          -1.9308731102338974,
          -0.869451665441127,
          0.24225048593408174,
          0.5277492128113745,
          -0.39944870589815207,
          -0.3028181745654215,
          -0.36208010777438204,
          -0.6371805534587353,
          -0.5694189831819202,
          1.461096225783802,
          -0.4994736094715912,
          0.29929114541333546,
          1.2041695390914506,
          -0.9793564598366558,
          0.01807837432378152,
          -1.103587706826982,
          -0.18817011528619612,
          2.5352245967487885,
          -1.4285113376487508,
          0.1361915367915166,
          0.9006406460730992,
          -0.5298534434558503,
          -1.213528288936742,
          1.8601487302024202,
          0.3695423990074541,
          1.296044763586415,
          0.1395186998537509,
          1.719413311595714,
          1.2114653178792933,
          0.03910624479884292,
          0.2545787261537919,
          0.023686667231006552,
          0.8541797670508043,
          0.4593274411390989,
          1.0033874555379092,
          -0.2873415179522952,
          -0.9384778704654327,
          -0.40658629235198673,
          -2.158070369516635,
          -1.0527523510456966,
          -1.210264349440857,
          -0.8228197170689329,
          0.1435983858401079,
          0.08212759198765562,
          0.5047104711807551,
          -0.1288060629054838,
          1.6932702499770058,
          -0.6471071694000822,
          -0.6856545007792552,
          -1.4449240018310907,
          0.05111083881877059,
          -0.08977932715227151,
          1.2448916134290704,
          -0.10907787099641833,
          0.41576838297650387,
          0.034355047528476276,
          1.737306222848453,
          1.2879506488485895,
          -0.5445920228908319,
          -0.011791285460258594,
          -1.3429356371363272,
          0.340923499794586,
          0.7271609744140205,
          0.11415981620587828
         ],
         "yaxis": "y2"
        },
        {
         "line": {
          "color": "rgba(128, 128, 128, 1.0)",
          "dash": "solid",
          "shape": "linear",
          "width": 1.3
         },
         "marker": {
          "size": 2,
          "symbol": "circle"
         },
         "mode": "markers",
         "name": "A",
         "text": "",
         "type": "scatter",
         "x": [
          0.2439544173558018,
          -0.5684860107771211,
          -0.39898336378134686,
          1.470445041967711,
          -0.8773646037251458,
          -1.3143521510244864,
          -0.6404540305233106,
          0.4208695834921709,
          0.1369830135697895,
          0.16164426437240773,
          -0.48579684965386133,
          0.10355648639856779,
          -0.7710465929877407,
          -0.19655171644819658,
          -1.6874712292595653,
          0.16757349392598925,
          1.2352849658466538,
          1.9574703413992662,
          1.2545877496858209,
          -0.5533735282763952,
          -1.9491838402304684,
          1.244690755258954,
          -2.092936179509895,
          -0.49658554221157797,
          -0.10746330738245898,
          1.8763769603952432,
          -0.7580830324982493,
          0.06806291941946263,
          -0.6752128028794379,
          -0.27883481594403464,
          0.24875502527288698,
          0.9934733870085766,
          1.1283205574627364,
          -1.1035597601588403,
          0.2816885607013435,
          -0.8319620583099021,
          -0.40064131378379686,
          1.4038953274465265,
          1.3998944991431672,
          -1.601486589007531,
          0.47391924423921605,
          0.466746114389561,
          0.9706083084817316,
          -0.04422878710039364,
          1.2676192525955698,
          -0.639408276402107,
          0.07520932095837224,
          -0.31907617311424424,
          -1.27764933100713,
          -0.5735550334589399,
          -0.026513052803373932,
          0.14937265522033397,
          0.13953507121983863,
          0.41307879494989813,
          0.45338753498149464,
          0.6234672068628964,
          -2.2765535658276685,
          0.7274341648676981,
          1.004824722296655,
          0.3954456500779527,
          2.3305354500608817,
          -1.8379781873764833,
          -0.7011796333379808,
          -1.0694965445897895,
          -0.388901381539195,
          -1.0462176218354262,
          0.6491021007853509,
          -0.8977083133767135,
          -1.4110833048295905,
          0.7149029038856394,
          -0.3910418380594732,
          1.253219176603211,
          -1.0296354258652898,
          -1.2588421948687074,
          0.3838126435700305,
          2.1439286995244116,
          0.7971571704041353,
          2.237661163598857,
          0.6427542650076359,
          1.2442294164108993,
          -0.22921932764592964,
          -0.44381739891857996,
          0.3906272403800916,
          0.4019060087220604,
          -0.1757975914727586,
          0.39091530437661526,
          0.8840655686042812,
          0.05371136442471388,
          0.7474346171342512,
          0.8997005175577352,
          1.2818203813912323,
          2.450606354714322,
          0.11240836638800612,
          0.3887304812772784,
          0.11356804428669474,
          0.08523393662899097,
          0.7643488562233913,
          -0.5167860270016906,
          -0.9161526975648713,
          -0.09325293782302599
         ],
         "xaxis": "x3",
         "y": [
          0.6609269625981522,
          -0.6283942023252015,
          0.5958289057467888,
          -0.25235480998017024,
          -0.4991144493410042,
          1.5167690595310814,
          1.5862310771988744,
          -2.0038547936463633,
          0.15151721273618973,
          0.2589386222594662,
          -0.8055696610930111,
          0.8312013344819981,
          0.1303733282983725,
          -1.0396818423548286,
          0.6530713205398567,
          -0.6505989805969854,
          -0.18596098484788937,
          0.6054617971802655,
          -0.2811898686118027,
          -0.13912634769480767,
          0.8446396122125646,
          -0.68578985663953,
          -0.6531203665961344,
          -1.6731759119240543,
          2.209985229565079,
          0.3404983837596926,
          -0.6791549259903613,
          0.626551904680079,
          0.4365449907031151,
          0.22223603549504206,
          -0.05514042399957164,
          -0.5478591051219441,
          -0.272608358787428,
          0.13624914914319483,
          2.0107444355148316,
          -1.1295515219688383,
          -1.9308731102338974,
          -0.869451665441127,
          0.24225048593408174,
          0.5277492128113745,
          -0.39944870589815207,
          -0.3028181745654215,
          -0.36208010777438204,
          -0.6371805534587353,
          -0.5694189831819202,
          1.461096225783802,
          -0.4994736094715912,
          0.29929114541333546,
          1.2041695390914506,
          -0.9793564598366558,
          0.01807837432378152,
          -1.103587706826982,
          -0.18817011528619612,
          2.5352245967487885,
          -1.4285113376487508,
          0.1361915367915166,
          0.9006406460730992,
          -0.5298534434558503,
          -1.213528288936742,
          1.8601487302024202,
          0.3695423990074541,
          1.296044763586415,
          0.1395186998537509,
          1.719413311595714,
          1.2114653178792933,
          0.03910624479884292,
          0.2545787261537919,
          0.023686667231006552,
          0.8541797670508043,
          0.4593274411390989,
          1.0033874555379092,
          -0.2873415179522952,
          -0.9384778704654327,
          -0.40658629235198673,
          -2.158070369516635,
          -1.0527523510456966,
          -1.210264349440857,
          -0.8228197170689329,
          0.1435983858401079,
          0.08212759198765562,
          0.5047104711807551,
          -0.1288060629054838,
          1.6932702499770058,
          -0.6471071694000822,
          -0.6856545007792552,
          -1.4449240018310907,
          0.05111083881877059,
          -0.08977932715227151,
          1.2448916134290704,
          -0.10907787099641833,
          0.41576838297650387,
          0.034355047528476276,
          1.737306222848453,
          1.2879506488485895,
          -0.5445920228908319,
          -0.011791285460258594,
          -1.3429356371363272,
          0.340923499794586,
          0.7271609744140205,
          0.11415981620587828
         ],
         "yaxis": "y3"
        },
        {
         "line": {
          "color": "rgba(128, 128, 128, 1.0)",
          "dash": "solid",
          "shape": "linear",
          "width": 1.3
         },
         "marker": {
          "size": 2,
          "symbol": "circle"
         },
         "mode": "markers",
         "name": "A",
         "text": "",
         "type": "scatter",
         "x": [
          -0.38938243741545403,
          0.8489870102957672,
          -0.3037458275459016,
          -0.6601049835781777,
          2.3580169677027394,
          0.5199439178609391,
          -0.3264757284875137,
          0.08630614808557951,
          -0.07995943538715375,
          0.9075978302810658,
          -0.6869005754865015,
          0.5204940139574966,
          -1.4761755865027963,
          0.31485011426256515,
          -0.521991690547675,
          -0.8130119308449821,
          -0.8511772824913525,
          0.4412605402390498,
          0.20492502248403782,
          -0.7600969305704209,
          1.3650806344044095,
          1.5839595788195793,
          -0.9255533579202732,
          1.4260526921993562,
          0.2211794800671896,
          -1.0057678764610622,
          -0.3172025255670704,
          0.35567762720637663,
          -1.256020916493353,
          -0.9431848440272603,
          -0.44312395586168113,
          0.5413545937825133,
          0.29866464427822986,
          0.9309374378225036,
          1.0927320222137886,
          0.6816329826138551,
          0.16945769860772733,
          -1.0562541561312082,
          0.43800782817833045,
          -0.614934475248173,
          -1.842040183576977,
          -0.36461688319188806,
          0.11804081037877812,
          -1.927908187932504,
          0.3875613384845141,
          2.3166938534833545,
          0.25507309886563106,
          -0.06376455573532246,
          0.22324627350088297,
          0.057930036902700044,
          0.26628277279917173,
          1.2990220920644695,
          0.2628516155084871,
          -0.2704546918745566,
          0.5331619389656265,
          -0.7149920309330231,
          0.10510439172378729,
          0.041384538695561884,
          0.6962859355005034,
          0.13714925026171573,
          -0.6758391677591793,
          0.3911853570002575,
          2.090479530429213,
          0.5677335771284356,
          -0.5662444899254707,
          -0.2243214040452147,
          0.476652994096476,
          -0.6313101423242503,
          -1.0956168384509517,
          -0.3473630783534499,
          -0.0913453019635285,
          0.1660749685581784,
          -0.6324153506118001,
          1.336531017436755,
          -0.48529282414607117,
          0.05226631998588901,
          0.1786405084274815,
          1.4112386708662197,
          0.6557611592320337,
          -0.3601867173190986,
          0.44016375794179113,
          0.0625280426120296,
          -0.5805898085736471,
          -1.8303599503308512,
          0.35565673033556766,
          -1.7749873678146948,
          -0.008702600419621702,
          -0.946621571415386,
          0.28732863502550626,
          0.680168656572631,
          -1.639659854305356,
          -0.43267660234242605,
          0.7339263210111374,
          0.9403153768938592,
          0.03896750343386187,
          0.9915484870007537,
          -0.21926305314552225,
          1.5997595841722492,
          0.5061382897962495,
          0.11521369883971239
         ],
         "xaxis": "x4",
         "y": [
          0.6609269625981522,
          -0.6283942023252015,
          0.5958289057467888,
          -0.25235480998017024,
          -0.4991144493410042,
          1.5167690595310814,
          1.5862310771988744,
          -2.0038547936463633,
          0.15151721273618973,
          0.2589386222594662,
          -0.8055696610930111,
          0.8312013344819981,
          0.1303733282983725,
          -1.0396818423548286,
          0.6530713205398567,
          -0.6505989805969854,
          -0.18596098484788937,
          0.6054617971802655,
          -0.2811898686118027,
          -0.13912634769480767,
          0.8446396122125646,
          -0.68578985663953,
          -0.6531203665961344,
          -1.6731759119240543,
          2.209985229565079,
          0.3404983837596926,
          -0.6791549259903613,
          0.626551904680079,
          0.4365449907031151,
          0.22223603549504206,
          -0.05514042399957164,
          -0.5478591051219441,
          -0.272608358787428,
          0.13624914914319483,
          2.0107444355148316,
          -1.1295515219688383,
          -1.9308731102338974,
          -0.869451665441127,
          0.24225048593408174,
          0.5277492128113745,
          -0.39944870589815207,
          -0.3028181745654215,
          -0.36208010777438204,
          -0.6371805534587353,
          -0.5694189831819202,
          1.461096225783802,
          -0.4994736094715912,
          0.29929114541333546,
          1.2041695390914506,
          -0.9793564598366558,
          0.01807837432378152,
          -1.103587706826982,
          -0.18817011528619612,
          2.5352245967487885,
          -1.4285113376487508,
          0.1361915367915166,
          0.9006406460730992,
          -0.5298534434558503,
          -1.213528288936742,
          1.8601487302024202,
          0.3695423990074541,
          1.296044763586415,
          0.1395186998537509,
          1.719413311595714,
          1.2114653178792933,
          0.03910624479884292,
          0.2545787261537919,
          0.023686667231006552,
          0.8541797670508043,
          0.4593274411390989,
          1.0033874555379092,
          -0.2873415179522952,
          -0.9384778704654327,
          -0.40658629235198673,
          -2.158070369516635,
          -1.0527523510456966,
          -1.210264349440857,
          -0.8228197170689329,
          0.1435983858401079,
          0.08212759198765562,
          0.5047104711807551,
          -0.1288060629054838,
          1.6932702499770058,
          -0.6471071694000822,
          -0.6856545007792552,
          -1.4449240018310907,
          0.05111083881877059,
          -0.08977932715227151,
          1.2448916134290704,
          -0.10907787099641833,
          0.41576838297650387,
          0.034355047528476276,
          1.737306222848453,
          1.2879506488485895,
          -0.5445920228908319,
          -0.011791285460258594,
          -1.3429356371363272,
          0.340923499794586,
          0.7271609744140205,
          0.11415981620587828
         ],
         "yaxis": "y4"
        },
        {
         "line": {
          "color": "rgba(128, 128, 128, 1.0)",
          "dash": "solid",
          "shape": "linear",
          "width": 1.3
         },
         "marker": {
          "size": 2,
          "symbol": "circle"
         },
         "mode": "markers",
         "name": "B",
         "text": "",
         "type": "scatter",
         "x": [
          0.6609269625981522,
          -0.6283942023252015,
          0.5958289057467888,
          -0.25235480998017024,
          -0.4991144493410042,
          1.5167690595310814,
          1.5862310771988744,
          -2.0038547936463633,
          0.15151721273618973,
          0.2589386222594662,
          -0.8055696610930111,
          0.8312013344819981,
          0.1303733282983725,
          -1.0396818423548286,
          0.6530713205398567,
          -0.6505989805969854,
          -0.18596098484788937,
          0.6054617971802655,
          -0.2811898686118027,
          -0.13912634769480767,
          0.8446396122125646,
          -0.68578985663953,
          -0.6531203665961344,
          -1.6731759119240543,
          2.209985229565079,
          0.3404983837596926,
          -0.6791549259903613,
          0.626551904680079,
          0.4365449907031151,
          0.22223603549504206,
          -0.05514042399957164,
          -0.5478591051219441,
          -0.272608358787428,
          0.13624914914319483,
          2.0107444355148316,
          -1.1295515219688383,
          -1.9308731102338974,
          -0.869451665441127,
          0.24225048593408174,
          0.5277492128113745,
          -0.39944870589815207,
          -0.3028181745654215,
          -0.36208010777438204,
          -0.6371805534587353,
          -0.5694189831819202,
          1.461096225783802,
          -0.4994736094715912,
          0.29929114541333546,
          1.2041695390914506,
          -0.9793564598366558,
          0.01807837432378152,
          -1.103587706826982,
          -0.18817011528619612,
          2.5352245967487885,
          -1.4285113376487508,
          0.1361915367915166,
          0.9006406460730992,
          -0.5298534434558503,
          -1.213528288936742,
          1.8601487302024202,
          0.3695423990074541,
          1.296044763586415,
          0.1395186998537509,
          1.719413311595714,
          1.2114653178792933,
          0.03910624479884292,
          0.2545787261537919,
          0.023686667231006552,
          0.8541797670508043,
          0.4593274411390989,
          1.0033874555379092,
          -0.2873415179522952,
          -0.9384778704654327,
          -0.40658629235198673,
          -2.158070369516635,
          -1.0527523510456966,
          -1.210264349440857,
          -0.8228197170689329,
          0.1435983858401079,
          0.08212759198765562,
          0.5047104711807551,
          -0.1288060629054838,
          1.6932702499770058,
          -0.6471071694000822,
          -0.6856545007792552,
          -1.4449240018310907,
          0.05111083881877059,
          -0.08977932715227151,
          1.2448916134290704,
          -0.10907787099641833,
          0.41576838297650387,
          0.034355047528476276,
          1.737306222848453,
          1.2879506488485895,
          -0.5445920228908319,
          -0.011791285460258594,
          -1.3429356371363272,
          0.340923499794586,
          0.7271609744140205,
          0.11415981620587828
         ],
         "xaxis": "x5",
         "y": [
          2.1369138719324097,
          1.1218232241102921,
          0.26572688661593546,
          -0.6305003101378791,
          2.167181040671889,
          -0.23150609074463332,
          1.5260914845192142,
          1.8996590584310187,
          -0.5308756528251863,
          -1.1285592958279023,
          -0.7791266507171293,
          -1.6911442048922218,
          0.03259993470017688,
          -1.5301542368770833,
          -0.943124496564741,
          0.6401111021980387,
          0.5555916097716914,
          -0.47944004993930484,
          -0.3734154861180155,
          -2.3193218374592033,
          -0.25769903978196274,
          1.0901689928043339,
          -0.3787309412507085,
          0.6941815251138934,
          -0.41055317577509276,
          -0.7938391689626703,
          -0.09216651037745185,
          1.0536237513050577,
          -0.01771299556433199,
          -1.1354493905039764,
          0.36405402739491627,
          -0.25022937939597756,
          1.5460158671741624,
          -0.08797194860936755,
          -0.2693182997508638,
          -1.6945406701465857,
          -1.6654886030470293,
          -0.8449708912564343,
          0.9057644458698647,
          0.4930488497054626,
          -0.514550577625808,
          0.08399712687451115,
          -0.7120181921708862,
          -0.22188650000595753,
          -0.996247575974823,
          -2.6283366939612494,
          -0.3806094830267701,
          0.1410881180140036,
          0.5544826175873403,
          0.32787605876710624,
          0.04302194321889322,
          1.4248894903070992,
          -1.2159827938969654,
          0.37057004231054885,
          -0.3998796372393718,
          0.09013059092878399,
          0.897677474178713,
          1.0996054030628408,
          0.04685669530975385,
          0.8705743484320358,
          -1.2928816250304203,
          -1.993744959568647,
          1.3576023433880942,
          0.5270461933088814,
          -1.1143133576599562,
          -0.4535757125183196,
          -1.9473052612596844,
          -0.1578392966742072,
          1.3490461776070415,
          0.49834492043962886,
          -0.3176243733857624,
          0.14317832901426178,
          1.9711251053897287,
          -0.6960179115421854,
          0.5202843097161529,
          0.7294212209929505,
          -0.02206115315984238,
          -1.7717378674646553,
          1.741175628507748,
          1.0629352168952446,
          0.1386737629402777,
          0.644833401664853,
          -1.158732454088803,
          -0.8893251447971611,
          -0.09115194355746586,
          -0.8369650243486435,
          0.18727737894972848,
          2.1398181622064754,
          0.9045169788207471,
          0.6135187489031853,
          -0.0163735787247299,
          -0.048123225921188305,
          -0.1934586058706064,
          -1.3068728615356302,
          -0.16814932656604875,
          -1.7608336285547592,
          -0.9560428706568221,
          -2.4038775493786373,
          -0.24616587387684877,
          0.9363418620845582
         ],
         "yaxis": "y5"
        },
        {
         "histfunc": "count",
         "histnorm": "",
         "marker": {
          "color": "rgba(55, 128, 191, 1.0)",
          "line": {
           "color": "#4D5663",
           "width": 1.3
          }
         },
         "name": "B",
         "nbinsx": 10,
         "opacity": 0.8,
         "orientation": "v",
         "type": "histogram",
         "x": [
          2.1369138719324097,
          1.1218232241102921,
          0.26572688661593546,
          -0.6305003101378791,
          2.167181040671889,
          -0.23150609074463332,
          1.5260914845192142,
          1.8996590584310187,
          -0.5308756528251863,
          -1.1285592958279023,
          -0.7791266507171293,
          -1.6911442048922218,
          0.03259993470017688,
          -1.5301542368770833,
          -0.943124496564741,
          0.6401111021980387,
          0.5555916097716914,
          -0.47944004993930484,
          -0.3734154861180155,
          -2.3193218374592033,
          -0.25769903978196274,
          1.0901689928043339,
          -0.3787309412507085,
          0.6941815251138934,
          -0.41055317577509276,
          -0.7938391689626703,
          -0.09216651037745185,
          1.0536237513050577,
          -0.01771299556433199,
          -1.1354493905039764,
          0.36405402739491627,
          -0.25022937939597756,
          1.5460158671741624,
          -0.08797194860936755,
          -0.2693182997508638,
          -1.6945406701465857,
          -1.6654886030470293,
          -0.8449708912564343,
          0.9057644458698647,
          0.4930488497054626,
          -0.514550577625808,
          0.08399712687451115,
          -0.7120181921708862,
          -0.22188650000595753,
          -0.996247575974823,
          -2.6283366939612494,
          -0.3806094830267701,
          0.1410881180140036,
          0.5544826175873403,
          0.32787605876710624,
          0.04302194321889322,
          1.4248894903070992,
          -1.2159827938969654,
          0.37057004231054885,
          -0.3998796372393718,
          0.09013059092878399,
          0.897677474178713,
          1.0996054030628408,
          0.04685669530975385,
          0.8705743484320358,
          -1.2928816250304203,
          -1.993744959568647,
          1.3576023433880942,
          0.5270461933088814,
          -1.1143133576599562,
          -0.4535757125183196,
          -1.9473052612596844,
          -0.1578392966742072,
          1.3490461776070415,
          0.49834492043962886,
          -0.3176243733857624,
          0.14317832901426178,
          1.9711251053897287,
          -0.6960179115421854,
          0.5202843097161529,
          0.7294212209929505,
          -0.02206115315984238,
          -1.7717378674646553,
          1.741175628507748,
          1.0629352168952446,
          0.1386737629402777,
          0.644833401664853,
          -1.158732454088803,
          -0.8893251447971611,
          -0.09115194355746586,
          -0.8369650243486435,
          0.18727737894972848,
          2.1398181622064754,
          0.9045169788207471,
          0.6135187489031853,
          -0.0163735787247299,
          -0.048123225921188305,
          -0.1934586058706064,
          -1.3068728615356302,
          -0.16814932656604875,
          -1.7608336285547592,
          -0.9560428706568221,
          -2.4038775493786373,
          -0.24616587387684877,
          0.9363418620845582
         ],
         "xaxis": "x6",
         "yaxis": "y6"
        },
        {
         "line": {
          "color": "rgba(128, 128, 128, 1.0)",
          "dash": "solid",
          "shape": "linear",
          "width": 1.3
         },
         "marker": {
          "size": 2,
          "symbol": "circle"
         },
         "mode": "markers",
         "name": "B",
         "text": "",
         "type": "scatter",
         "x": [
          0.2439544173558018,
          -0.5684860107771211,
          -0.39898336378134686,
          1.470445041967711,
          -0.8773646037251458,
          -1.3143521510244864,
          -0.6404540305233106,
          0.4208695834921709,
          0.1369830135697895,
          0.16164426437240773,
          -0.48579684965386133,
          0.10355648639856779,
          -0.7710465929877407,
          -0.19655171644819658,
          -1.6874712292595653,
          0.16757349392598925,
          1.2352849658466538,
          1.9574703413992662,
          1.2545877496858209,
          -0.5533735282763952,
          -1.9491838402304684,
          1.244690755258954,
          -2.092936179509895,
          -0.49658554221157797,
          -0.10746330738245898,
          1.8763769603952432,
          -0.7580830324982493,
          0.06806291941946263,
          -0.6752128028794379,
          -0.27883481594403464,
          0.24875502527288698,
          0.9934733870085766,
          1.1283205574627364,
          -1.1035597601588403,
          0.2816885607013435,
          -0.8319620583099021,
          -0.40064131378379686,
          1.4038953274465265,
          1.3998944991431672,
          -1.601486589007531,
          0.47391924423921605,
          0.466746114389561,
          0.9706083084817316,
          -0.04422878710039364,
          1.2676192525955698,
          -0.639408276402107,
          0.07520932095837224,
          -0.31907617311424424,
          -1.27764933100713,
          -0.5735550334589399,
          -0.026513052803373932,
          0.14937265522033397,
          0.13953507121983863,
          0.41307879494989813,
          0.45338753498149464,
          0.6234672068628964,
          -2.2765535658276685,
          0.7274341648676981,
          1.004824722296655,
          0.3954456500779527,
          2.3305354500608817,
          -1.8379781873764833,
          -0.7011796333379808,
          -1.0694965445897895,
          -0.388901381539195,
          -1.0462176218354262,
          0.6491021007853509,
          -0.8977083133767135,
          -1.4110833048295905,
          0.7149029038856394,
          -0.3910418380594732,
          1.253219176603211,
          -1.0296354258652898,
          -1.2588421948687074,
          0.3838126435700305,
          2.1439286995244116,
          0.7971571704041353,
          2.237661163598857,
          0.6427542650076359,
          1.2442294164108993,
          -0.22921932764592964,
          -0.44381739891857996,
          0.3906272403800916,
          0.4019060087220604,
          -0.1757975914727586,
          0.39091530437661526,
          0.8840655686042812,
          0.05371136442471388,
          0.7474346171342512,
          0.8997005175577352,
          1.2818203813912323,
          2.450606354714322,
          0.11240836638800612,
          0.3887304812772784,
          0.11356804428669474,
          0.08523393662899097,
          0.7643488562233913,
          -0.5167860270016906,
          -0.9161526975648713,
          -0.09325293782302599
         ],
         "xaxis": "x7",
         "y": [
          2.1369138719324097,
          1.1218232241102921,
          0.26572688661593546,
          -0.6305003101378791,
          2.167181040671889,
          -0.23150609074463332,
          1.5260914845192142,
          1.8996590584310187,
          -0.5308756528251863,
          -1.1285592958279023,
          -0.7791266507171293,
          -1.6911442048922218,
          0.03259993470017688,
          -1.5301542368770833,
          -0.943124496564741,
          0.6401111021980387,
          0.5555916097716914,
          -0.47944004993930484,
          -0.3734154861180155,
          -2.3193218374592033,
          -0.25769903978196274,
          1.0901689928043339,
          -0.3787309412507085,
          0.6941815251138934,
          -0.41055317577509276,
          -0.7938391689626703,
          -0.09216651037745185,
          1.0536237513050577,
          -0.01771299556433199,
          -1.1354493905039764,
          0.36405402739491627,
          -0.25022937939597756,
          1.5460158671741624,
          -0.08797194860936755,
          -0.2693182997508638,
          -1.6945406701465857,
          -1.6654886030470293,
          -0.8449708912564343,
          0.9057644458698647,
          0.4930488497054626,
          -0.514550577625808,
          0.08399712687451115,
          -0.7120181921708862,
          -0.22188650000595753,
          -0.996247575974823,
          -2.6283366939612494,
          -0.3806094830267701,
          0.1410881180140036,
          0.5544826175873403,
          0.32787605876710624,
          0.04302194321889322,
          1.4248894903070992,
          -1.2159827938969654,
          0.37057004231054885,
          -0.3998796372393718,
          0.09013059092878399,
          0.897677474178713,
          1.0996054030628408,
          0.04685669530975385,
          0.8705743484320358,
          -1.2928816250304203,
          -1.993744959568647,
          1.3576023433880942,
          0.5270461933088814,
          -1.1143133576599562,
          -0.4535757125183196,
          -1.9473052612596844,
          -0.1578392966742072,
          1.3490461776070415,
          0.49834492043962886,
          -0.3176243733857624,
          0.14317832901426178,
          1.9711251053897287,
          -0.6960179115421854,
          0.5202843097161529,
          0.7294212209929505,
          -0.02206115315984238,
          -1.7717378674646553,
          1.741175628507748,
          1.0629352168952446,
          0.1386737629402777,
          0.644833401664853,
          -1.158732454088803,
          -0.8893251447971611,
          -0.09115194355746586,
          -0.8369650243486435,
          0.18727737894972848,
          2.1398181622064754,
          0.9045169788207471,
          0.6135187489031853,
          -0.0163735787247299,
          -0.048123225921188305,
          -0.1934586058706064,
          -1.3068728615356302,
          -0.16814932656604875,
          -1.7608336285547592,
          -0.9560428706568221,
          -2.4038775493786373,
          -0.24616587387684877,
          0.9363418620845582
         ],
         "yaxis": "y7"
        },
        {
         "line": {
          "color": "rgba(128, 128, 128, 1.0)",
          "dash": "solid",
          "shape": "linear",
          "width": 1.3
         },
         "marker": {
          "size": 2,
          "symbol": "circle"
         },
         "mode": "markers",
         "name": "B",
         "text": "",
         "type": "scatter",
         "x": [
          -0.38938243741545403,
          0.8489870102957672,
          -0.3037458275459016,
          -0.6601049835781777,
          2.3580169677027394,
          0.5199439178609391,
          -0.3264757284875137,
          0.08630614808557951,
          -0.07995943538715375,
          0.9075978302810658,
          -0.6869005754865015,
          0.5204940139574966,
          -1.4761755865027963,
          0.31485011426256515,
          -0.521991690547675,
          -0.8130119308449821,
          -0.8511772824913525,
          0.4412605402390498,
          0.20492502248403782,
          -0.7600969305704209,
          1.3650806344044095,
          1.5839595788195793,
          -0.9255533579202732,
          1.4260526921993562,
          0.2211794800671896,
          -1.0057678764610622,
          -0.3172025255670704,
          0.35567762720637663,
          -1.256020916493353,
          -0.9431848440272603,
          -0.44312395586168113,
          0.5413545937825133,
          0.29866464427822986,
          0.9309374378225036,
          1.0927320222137886,
          0.6816329826138551,
          0.16945769860772733,
          -1.0562541561312082,
          0.43800782817833045,
          -0.614934475248173,
          -1.842040183576977,
          -0.36461688319188806,
          0.11804081037877812,
          -1.927908187932504,
          0.3875613384845141,
          2.3166938534833545,
          0.25507309886563106,
          -0.06376455573532246,
          0.22324627350088297,
          0.057930036902700044,
          0.26628277279917173,
          1.2990220920644695,
          0.2628516155084871,
          -0.2704546918745566,
          0.5331619389656265,
          -0.7149920309330231,
          0.10510439172378729,
          0.041384538695561884,
          0.6962859355005034,
          0.13714925026171573,
          -0.6758391677591793,
          0.3911853570002575,
          2.090479530429213,
          0.5677335771284356,
          -0.5662444899254707,
          -0.2243214040452147,
          0.476652994096476,
          -0.6313101423242503,
          -1.0956168384509517,
          -0.3473630783534499,
          -0.0913453019635285,
          0.1660749685581784,
          -0.6324153506118001,
          1.336531017436755,
          -0.48529282414607117,
          0.05226631998588901,
          0.1786405084274815,
          1.4112386708662197,
          0.6557611592320337,
          -0.3601867173190986,
          0.44016375794179113,
          0.0625280426120296,
          -0.5805898085736471,
          -1.8303599503308512,
          0.35565673033556766,
          -1.7749873678146948,
          -0.008702600419621702,
          -0.946621571415386,
          0.28732863502550626,
          0.680168656572631,
          -1.639659854305356,
          -0.43267660234242605,
          0.7339263210111374,
          0.9403153768938592,
          0.03896750343386187,
          0.9915484870007537,
          -0.21926305314552225,
          1.5997595841722492,
          0.5061382897962495,
          0.11521369883971239
         ],
         "xaxis": "x8",
         "y": [
          2.1369138719324097,
          1.1218232241102921,
          0.26572688661593546,
          -0.6305003101378791,
          2.167181040671889,
          -0.23150609074463332,
          1.5260914845192142,
          1.8996590584310187,
          -0.5308756528251863,
          -1.1285592958279023,
          -0.7791266507171293,
          -1.6911442048922218,
          0.03259993470017688,
          -1.5301542368770833,
          -0.943124496564741,
          0.6401111021980387,
          0.5555916097716914,
          -0.47944004993930484,
          -0.3734154861180155,
          -2.3193218374592033,
          -0.25769903978196274,
          1.0901689928043339,
          -0.3787309412507085,
          0.6941815251138934,
          -0.41055317577509276,
          -0.7938391689626703,
          -0.09216651037745185,
          1.0536237513050577,
          -0.01771299556433199,
          -1.1354493905039764,
          0.36405402739491627,
          -0.25022937939597756,
          1.5460158671741624,
          -0.08797194860936755,
          -0.2693182997508638,
          -1.6945406701465857,
          -1.6654886030470293,
          -0.8449708912564343,
          0.9057644458698647,
          0.4930488497054626,
          -0.514550577625808,
          0.08399712687451115,
          -0.7120181921708862,
          -0.22188650000595753,
          -0.996247575974823,
          -2.6283366939612494,
          -0.3806094830267701,
          0.1410881180140036,
          0.5544826175873403,
          0.32787605876710624,
          0.04302194321889322,
          1.4248894903070992,
          -1.2159827938969654,
          0.37057004231054885,
          -0.3998796372393718,
          0.09013059092878399,
          0.897677474178713,
          1.0996054030628408,
          0.04685669530975385,
          0.8705743484320358,
          -1.2928816250304203,
          -1.993744959568647,
          1.3576023433880942,
          0.5270461933088814,
          -1.1143133576599562,
          -0.4535757125183196,
          -1.9473052612596844,
          -0.1578392966742072,
          1.3490461776070415,
          0.49834492043962886,
          -0.3176243733857624,
          0.14317832901426178,
          1.9711251053897287,
          -0.6960179115421854,
          0.5202843097161529,
          0.7294212209929505,
          -0.02206115315984238,
          -1.7717378674646553,
          1.741175628507748,
          1.0629352168952446,
          0.1386737629402777,
          0.644833401664853,
          -1.158732454088803,
          -0.8893251447971611,
          -0.09115194355746586,
          -0.8369650243486435,
          0.18727737894972848,
          2.1398181622064754,
          0.9045169788207471,
          0.6135187489031853,
          -0.0163735787247299,
          -0.048123225921188305,
          -0.1934586058706064,
          -1.3068728615356302,
          -0.16814932656604875,
          -1.7608336285547592,
          -0.9560428706568221,
          -2.4038775493786373,
          -0.24616587387684877,
          0.9363418620845582
         ],
         "yaxis": "y8"
        },
        {
         "line": {
          "color": "rgba(128, 128, 128, 1.0)",
          "dash": "solid",
          "shape": "linear",
          "width": 1.3
         },
         "marker": {
          "size": 2,
          "symbol": "circle"
         },
         "mode": "markers",
         "name": "C",
         "text": "",
         "type": "scatter",
         "x": [
          0.6609269625981522,
          -0.6283942023252015,
          0.5958289057467888,
          -0.25235480998017024,
          -0.4991144493410042,
          1.5167690595310814,
          1.5862310771988744,
          -2.0038547936463633,
          0.15151721273618973,
          0.2589386222594662,
          -0.8055696610930111,
          0.8312013344819981,
          0.1303733282983725,
          -1.0396818423548286,
          0.6530713205398567,
          -0.6505989805969854,
          -0.18596098484788937,
          0.6054617971802655,
          -0.2811898686118027,
          -0.13912634769480767,
          0.8446396122125646,
          -0.68578985663953,
          -0.6531203665961344,
          -1.6731759119240543,
          2.209985229565079,
          0.3404983837596926,
          -0.6791549259903613,
          0.626551904680079,
          0.4365449907031151,
          0.22223603549504206,
          -0.05514042399957164,
          -0.5478591051219441,
          -0.272608358787428,
          0.13624914914319483,
          2.0107444355148316,
          -1.1295515219688383,
          -1.9308731102338974,
          -0.869451665441127,
          0.24225048593408174,
          0.5277492128113745,
          -0.39944870589815207,
          -0.3028181745654215,
          -0.36208010777438204,
          -0.6371805534587353,
          -0.5694189831819202,
          1.461096225783802,
          -0.4994736094715912,
          0.29929114541333546,
          1.2041695390914506,
          -0.9793564598366558,
          0.01807837432378152,
          -1.103587706826982,
          -0.18817011528619612,
          2.5352245967487885,
          -1.4285113376487508,
          0.1361915367915166,
          0.9006406460730992,
          -0.5298534434558503,
          -1.213528288936742,
          1.8601487302024202,
          0.3695423990074541,
          1.296044763586415,
          0.1395186998537509,
          1.719413311595714,
          1.2114653178792933,
          0.03910624479884292,
          0.2545787261537919,
          0.023686667231006552,
          0.8541797670508043,
          0.4593274411390989,
          1.0033874555379092,
          -0.2873415179522952,
          -0.9384778704654327,
          -0.40658629235198673,
          -2.158070369516635,
          -1.0527523510456966,
          -1.210264349440857,
          -0.8228197170689329,
          0.1435983858401079,
          0.08212759198765562,
          0.5047104711807551,
          -0.1288060629054838,
          1.6932702499770058,
          -0.6471071694000822,
          -0.6856545007792552,
          -1.4449240018310907,
          0.05111083881877059,
          -0.08977932715227151,
          1.2448916134290704,
          -0.10907787099641833,
          0.41576838297650387,
          0.034355047528476276,
          1.737306222848453,
          1.2879506488485895,
          -0.5445920228908319,
          -0.011791285460258594,
          -1.3429356371363272,
          0.340923499794586,
          0.7271609744140205,
          0.11415981620587828
         ],
         "xaxis": "x9",
         "y": [
          0.2439544173558018,
          -0.5684860107771211,
          -0.39898336378134686,
          1.470445041967711,
          -0.8773646037251458,
          -1.3143521510244864,
          -0.6404540305233106,
          0.4208695834921709,
          0.1369830135697895,
          0.16164426437240773,
          -0.48579684965386133,
          0.10355648639856779,
          -0.7710465929877407,
          -0.19655171644819658,
          -1.6874712292595653,
          0.16757349392598925,
          1.2352849658466538,
          1.9574703413992662,
          1.2545877496858209,
          -0.5533735282763952,
          -1.9491838402304684,
          1.244690755258954,
          -2.092936179509895,
          -0.49658554221157797,
          -0.10746330738245898,
          1.8763769603952432,
          -0.7580830324982493,
          0.06806291941946263,
          -0.6752128028794379,
          -0.27883481594403464,
          0.24875502527288698,
          0.9934733870085766,
          1.1283205574627364,
          -1.1035597601588403,
          0.2816885607013435,
          -0.8319620583099021,
          -0.40064131378379686,
          1.4038953274465265,
          1.3998944991431672,
          -1.601486589007531,
          0.47391924423921605,
          0.466746114389561,
          0.9706083084817316,
          -0.04422878710039364,
          1.2676192525955698,
          -0.639408276402107,
          0.07520932095837224,
          -0.31907617311424424,
          -1.27764933100713,
          -0.5735550334589399,
          -0.026513052803373932,
          0.14937265522033397,
          0.13953507121983863,
          0.41307879494989813,
          0.45338753498149464,
          0.6234672068628964,
          -2.2765535658276685,
          0.7274341648676981,
          1.004824722296655,
          0.3954456500779527,
          2.3305354500608817,
          -1.8379781873764833,
          -0.7011796333379808,
          -1.0694965445897895,
          -0.388901381539195,
          -1.0462176218354262,
          0.6491021007853509,
          -0.8977083133767135,
          -1.4110833048295905,
          0.7149029038856394,
          -0.3910418380594732,
          1.253219176603211,
          -1.0296354258652898,
          -1.2588421948687074,
          0.3838126435700305,
          2.1439286995244116,
          0.7971571704041353,
          2.237661163598857,
          0.6427542650076359,
          1.2442294164108993,
          -0.22921932764592964,
          -0.44381739891857996,
          0.3906272403800916,
          0.4019060087220604,
          -0.1757975914727586,
          0.39091530437661526,
          0.8840655686042812,
          0.05371136442471388,
          0.7474346171342512,
          0.8997005175577352,
          1.2818203813912323,
          2.450606354714322,
          0.11240836638800612,
          0.3887304812772784,
          0.11356804428669474,
          0.08523393662899097,
          0.7643488562233913,
          -0.5167860270016906,
          -0.9161526975648713,
          -0.09325293782302599
         ],
         "yaxis": "y9"
        },
        {
         "line": {
          "color": "rgba(128, 128, 128, 1.0)",
          "dash": "solid",
          "shape": "linear",
          "width": 1.3
         },
         "marker": {
          "size": 2,
          "symbol": "circle"
         },
         "mode": "markers",
         "name": "C",
         "text": "",
         "type": "scatter",
         "x": [
          2.1369138719324097,
          1.1218232241102921,
          0.26572688661593546,
          -0.6305003101378791,
          2.167181040671889,
          -0.23150609074463332,
          1.5260914845192142,
          1.8996590584310187,
          -0.5308756528251863,
          -1.1285592958279023,
          -0.7791266507171293,
          -1.6911442048922218,
          0.03259993470017688,
          -1.5301542368770833,
          -0.943124496564741,
          0.6401111021980387,
          0.5555916097716914,
          -0.47944004993930484,
          -0.3734154861180155,
          -2.3193218374592033,
          -0.25769903978196274,
          1.0901689928043339,
          -0.3787309412507085,
          0.6941815251138934,
          -0.41055317577509276,
          -0.7938391689626703,
          -0.09216651037745185,
          1.0536237513050577,
          -0.01771299556433199,
          -1.1354493905039764,
          0.36405402739491627,
          -0.25022937939597756,
          1.5460158671741624,
          -0.08797194860936755,
          -0.2693182997508638,
          -1.6945406701465857,
          -1.6654886030470293,
          -0.8449708912564343,
          0.9057644458698647,
          0.4930488497054626,
          -0.514550577625808,
          0.08399712687451115,
          -0.7120181921708862,
          -0.22188650000595753,
          -0.996247575974823,
          -2.6283366939612494,
          -0.3806094830267701,
          0.1410881180140036,
          0.5544826175873403,
          0.32787605876710624,
          0.04302194321889322,
          1.4248894903070992,
          -1.2159827938969654,
          0.37057004231054885,
          -0.3998796372393718,
          0.09013059092878399,
          0.897677474178713,
          1.0996054030628408,
          0.04685669530975385,
          0.8705743484320358,
          -1.2928816250304203,
          -1.993744959568647,
          1.3576023433880942,
          0.5270461933088814,
          -1.1143133576599562,
          -0.4535757125183196,
          -1.9473052612596844,
          -0.1578392966742072,
          1.3490461776070415,
          0.49834492043962886,
          -0.3176243733857624,
          0.14317832901426178,
          1.9711251053897287,
          -0.6960179115421854,
          0.5202843097161529,
          0.7294212209929505,
          -0.02206115315984238,
          -1.7717378674646553,
          1.741175628507748,
          1.0629352168952446,
          0.1386737629402777,
          0.644833401664853,
          -1.158732454088803,
          -0.8893251447971611,
          -0.09115194355746586,
          -0.8369650243486435,
          0.18727737894972848,
          2.1398181622064754,
          0.9045169788207471,
          0.6135187489031853,
          -0.0163735787247299,
          -0.048123225921188305,
          -0.1934586058706064,
          -1.3068728615356302,
          -0.16814932656604875,
          -1.7608336285547592,
          -0.9560428706568221,
          -2.4038775493786373,
          -0.24616587387684877,
          0.9363418620845582
         ],
         "xaxis": "x10",
         "y": [
          0.2439544173558018,
          -0.5684860107771211,
          -0.39898336378134686,
          1.470445041967711,
          -0.8773646037251458,
          -1.3143521510244864,
          -0.6404540305233106,
          0.4208695834921709,
          0.1369830135697895,
          0.16164426437240773,
          -0.48579684965386133,
          0.10355648639856779,
          -0.7710465929877407,
          -0.19655171644819658,
          -1.6874712292595653,
          0.16757349392598925,
          1.2352849658466538,
          1.9574703413992662,
          1.2545877496858209,
          -0.5533735282763952,
          -1.9491838402304684,
          1.244690755258954,
          -2.092936179509895,
          -0.49658554221157797,
          -0.10746330738245898,
          1.8763769603952432,
          -0.7580830324982493,
          0.06806291941946263,
          -0.6752128028794379,
          -0.27883481594403464,
          0.24875502527288698,
          0.9934733870085766,
          1.1283205574627364,
          -1.1035597601588403,
          0.2816885607013435,
          -0.8319620583099021,
          -0.40064131378379686,
          1.4038953274465265,
          1.3998944991431672,
          -1.601486589007531,
          0.47391924423921605,
          0.466746114389561,
          0.9706083084817316,
          -0.04422878710039364,
          1.2676192525955698,
          -0.639408276402107,
          0.07520932095837224,
          -0.31907617311424424,
          -1.27764933100713,
          -0.5735550334589399,
          -0.026513052803373932,
          0.14937265522033397,
          0.13953507121983863,
          0.41307879494989813,
          0.45338753498149464,
          0.6234672068628964,
          -2.2765535658276685,
          0.7274341648676981,
          1.004824722296655,
          0.3954456500779527,
          2.3305354500608817,
          -1.8379781873764833,
          -0.7011796333379808,
          -1.0694965445897895,
          -0.388901381539195,
          -1.0462176218354262,
          0.6491021007853509,
          -0.8977083133767135,
          -1.4110833048295905,
          0.7149029038856394,
          -0.3910418380594732,
          1.253219176603211,
          -1.0296354258652898,
          -1.2588421948687074,
          0.3838126435700305,
          2.1439286995244116,
          0.7971571704041353,
          2.237661163598857,
          0.6427542650076359,
          1.2442294164108993,
          -0.22921932764592964,
          -0.44381739891857996,
          0.3906272403800916,
          0.4019060087220604,
          -0.1757975914727586,
          0.39091530437661526,
          0.8840655686042812,
          0.05371136442471388,
          0.7474346171342512,
          0.8997005175577352,
          1.2818203813912323,
          2.450606354714322,
          0.11240836638800612,
          0.3887304812772784,
          0.11356804428669474,
          0.08523393662899097,
          0.7643488562233913,
          -0.5167860270016906,
          -0.9161526975648713,
          -0.09325293782302599
         ],
         "yaxis": "y10"
        },
        {
         "histfunc": "count",
         "histnorm": "",
         "marker": {
          "color": "rgba(50, 171, 96, 1.0)",
          "line": {
           "color": "#4D5663",
           "width": 1.3
          }
         },
         "name": "C",
         "nbinsx": 10,
         "opacity": 0.8,
         "orientation": "v",
         "type": "histogram",
         "x": [
          0.2439544173558018,
          -0.5684860107771211,
          -0.39898336378134686,
          1.470445041967711,
          -0.8773646037251458,
          -1.3143521510244864,
          -0.6404540305233106,
          0.4208695834921709,
          0.1369830135697895,
          0.16164426437240773,
          -0.48579684965386133,
          0.10355648639856779,
          -0.7710465929877407,
          -0.19655171644819658,
          -1.6874712292595653,
          0.16757349392598925,
          1.2352849658466538,
          1.9574703413992662,
          1.2545877496858209,
          -0.5533735282763952,
          -1.9491838402304684,
          1.244690755258954,
          -2.092936179509895,
          -0.49658554221157797,
          -0.10746330738245898,
          1.8763769603952432,
          -0.7580830324982493,
          0.06806291941946263,
          -0.6752128028794379,
          -0.27883481594403464,
          0.24875502527288698,
          0.9934733870085766,
          1.1283205574627364,
          -1.1035597601588403,
          0.2816885607013435,
          -0.8319620583099021,
          -0.40064131378379686,
          1.4038953274465265,
          1.3998944991431672,
          -1.601486589007531,
          0.47391924423921605,
          0.466746114389561,
          0.9706083084817316,
          -0.04422878710039364,
          1.2676192525955698,
          -0.639408276402107,
          0.07520932095837224,
          -0.31907617311424424,
          -1.27764933100713,
          -0.5735550334589399,
          -0.026513052803373932,
          0.14937265522033397,
          0.13953507121983863,
          0.41307879494989813,
          0.45338753498149464,
          0.6234672068628964,
          -2.2765535658276685,
          0.7274341648676981,
          1.004824722296655,
          0.3954456500779527,
          2.3305354500608817,
          -1.8379781873764833,
          -0.7011796333379808,
          -1.0694965445897895,
          -0.388901381539195,
          -1.0462176218354262,
          0.6491021007853509,
          -0.8977083133767135,
          -1.4110833048295905,
          0.7149029038856394,
          -0.3910418380594732,
          1.253219176603211,
          -1.0296354258652898,
          -1.2588421948687074,
          0.3838126435700305,
          2.1439286995244116,
          0.7971571704041353,
          2.237661163598857,
          0.6427542650076359,
          1.2442294164108993,
          -0.22921932764592964,
          -0.44381739891857996,
          0.3906272403800916,
          0.4019060087220604,
          -0.1757975914727586,
          0.39091530437661526,
          0.8840655686042812,
          0.05371136442471388,
          0.7474346171342512,
          0.8997005175577352,
          1.2818203813912323,
          2.450606354714322,
          0.11240836638800612,
          0.3887304812772784,
          0.11356804428669474,
          0.08523393662899097,
          0.7643488562233913,
          -0.5167860270016906,
          -0.9161526975648713,
          -0.09325293782302599
         ],
         "xaxis": "x11",
         "yaxis": "y11"
        },
        {
         "line": {
          "color": "rgba(128, 128, 128, 1.0)",
          "dash": "solid",
          "shape": "linear",
          "width": 1.3
         },
         "marker": {
          "size": 2,
          "symbol": "circle"
         },
         "mode": "markers",
         "name": "C",
         "text": "",
         "type": "scatter",
         "x": [
          -0.38938243741545403,
          0.8489870102957672,
          -0.3037458275459016,
          -0.6601049835781777,
          2.3580169677027394,
          0.5199439178609391,
          -0.3264757284875137,
          0.08630614808557951,
          -0.07995943538715375,
          0.9075978302810658,
          -0.6869005754865015,
          0.5204940139574966,
          -1.4761755865027963,
          0.31485011426256515,
          -0.521991690547675,
          -0.8130119308449821,
          -0.8511772824913525,
          0.4412605402390498,
          0.20492502248403782,
          -0.7600969305704209,
          1.3650806344044095,
          1.5839595788195793,
          -0.9255533579202732,
          1.4260526921993562,
          0.2211794800671896,
          -1.0057678764610622,
          -0.3172025255670704,
          0.35567762720637663,
          -1.256020916493353,
          -0.9431848440272603,
          -0.44312395586168113,
          0.5413545937825133,
          0.29866464427822986,
          0.9309374378225036,
          1.0927320222137886,
          0.6816329826138551,
          0.16945769860772733,
          -1.0562541561312082,
          0.43800782817833045,
          -0.614934475248173,
          -1.842040183576977,
          -0.36461688319188806,
          0.11804081037877812,
          -1.927908187932504,
          0.3875613384845141,
          2.3166938534833545,
          0.25507309886563106,
          -0.06376455573532246,
          0.22324627350088297,
          0.057930036902700044,
          0.26628277279917173,
          1.2990220920644695,
          0.2628516155084871,
          -0.2704546918745566,
          0.5331619389656265,
          -0.7149920309330231,
          0.10510439172378729,
          0.041384538695561884,
          0.6962859355005034,
          0.13714925026171573,
          -0.6758391677591793,
          0.3911853570002575,
          2.090479530429213,
          0.5677335771284356,
          -0.5662444899254707,
          -0.2243214040452147,
          0.476652994096476,
          -0.6313101423242503,
          -1.0956168384509517,
          -0.3473630783534499,
          -0.0913453019635285,
          0.1660749685581784,
          -0.6324153506118001,
          1.336531017436755,
          -0.48529282414607117,
          0.05226631998588901,
          0.1786405084274815,
          1.4112386708662197,
          0.6557611592320337,
          -0.3601867173190986,
          0.44016375794179113,
          0.0625280426120296,
          -0.5805898085736471,
          -1.8303599503308512,
          0.35565673033556766,
          -1.7749873678146948,
          -0.008702600419621702,
          -0.946621571415386,
          0.28732863502550626,
          0.680168656572631,
          -1.639659854305356,
          -0.43267660234242605,
          0.7339263210111374,
          0.9403153768938592,
          0.03896750343386187,
          0.9915484870007537,
          -0.21926305314552225,
          1.5997595841722492,
          0.5061382897962495,
          0.11521369883971239
         ],
         "xaxis": "x12",
         "y": [
          0.2439544173558018,
          -0.5684860107771211,
          -0.39898336378134686,
          1.470445041967711,
          -0.8773646037251458,
          -1.3143521510244864,
          -0.6404540305233106,
          0.4208695834921709,
          0.1369830135697895,
          0.16164426437240773,
          -0.48579684965386133,
          0.10355648639856779,
          -0.7710465929877407,
          -0.19655171644819658,
          -1.6874712292595653,
          0.16757349392598925,
          1.2352849658466538,
          1.9574703413992662,
          1.2545877496858209,
          -0.5533735282763952,
          -1.9491838402304684,
          1.244690755258954,
          -2.092936179509895,
          -0.49658554221157797,
          -0.10746330738245898,
          1.8763769603952432,
          -0.7580830324982493,
          0.06806291941946263,
          -0.6752128028794379,
          -0.27883481594403464,
          0.24875502527288698,
          0.9934733870085766,
          1.1283205574627364,
          -1.1035597601588403,
          0.2816885607013435,
          -0.8319620583099021,
          -0.40064131378379686,
          1.4038953274465265,
          1.3998944991431672,
          -1.601486589007531,
          0.47391924423921605,
          0.466746114389561,
          0.9706083084817316,
          -0.04422878710039364,
          1.2676192525955698,
          -0.639408276402107,
          0.07520932095837224,
          -0.31907617311424424,
          -1.27764933100713,
          -0.5735550334589399,
          -0.026513052803373932,
          0.14937265522033397,
          0.13953507121983863,
          0.41307879494989813,
          0.45338753498149464,
          0.6234672068628964,
          -2.2765535658276685,
          0.7274341648676981,
          1.004824722296655,
          0.3954456500779527,
          2.3305354500608817,
          -1.8379781873764833,
          -0.7011796333379808,
          -1.0694965445897895,
          -0.388901381539195,
          -1.0462176218354262,
          0.6491021007853509,
          -0.8977083133767135,
          -1.4110833048295905,
          0.7149029038856394,
          -0.3910418380594732,
          1.253219176603211,
          -1.0296354258652898,
          -1.2588421948687074,
          0.3838126435700305,
          2.1439286995244116,
          0.7971571704041353,
          2.237661163598857,
          0.6427542650076359,
          1.2442294164108993,
          -0.22921932764592964,
          -0.44381739891857996,
          0.3906272403800916,
          0.4019060087220604,
          -0.1757975914727586,
          0.39091530437661526,
          0.8840655686042812,
          0.05371136442471388,
          0.7474346171342512,
          0.8997005175577352,
          1.2818203813912323,
          2.450606354714322,
          0.11240836638800612,
          0.3887304812772784,
          0.11356804428669474,
          0.08523393662899097,
          0.7643488562233913,
          -0.5167860270016906,
          -0.9161526975648713,
          -0.09325293782302599
         ],
         "yaxis": "y12"
        },
        {
         "line": {
          "color": "rgba(128, 128, 128, 1.0)",
          "dash": "solid",
          "shape": "linear",
          "width": 1.3
         },
         "marker": {
          "size": 2,
          "symbol": "circle"
         },
         "mode": "markers",
         "name": "D",
         "text": "",
         "type": "scatter",
         "x": [
          0.6609269625981522,
          -0.6283942023252015,
          0.5958289057467888,
          -0.25235480998017024,
          -0.4991144493410042,
          1.5167690595310814,
          1.5862310771988744,
          -2.0038547936463633,
          0.15151721273618973,
          0.2589386222594662,
          -0.8055696610930111,
          0.8312013344819981,
          0.1303733282983725,
          -1.0396818423548286,
          0.6530713205398567,
          -0.6505989805969854,
          -0.18596098484788937,
          0.6054617971802655,
          -0.2811898686118027,
          -0.13912634769480767,
          0.8446396122125646,
          -0.68578985663953,
          -0.6531203665961344,
          -1.6731759119240543,
          2.209985229565079,
          0.3404983837596926,
          -0.6791549259903613,
          0.626551904680079,
          0.4365449907031151,
          0.22223603549504206,
          -0.05514042399957164,
          -0.5478591051219441,
          -0.272608358787428,
          0.13624914914319483,
          2.0107444355148316,
          -1.1295515219688383,
          -1.9308731102338974,
          -0.869451665441127,
          0.24225048593408174,
          0.5277492128113745,
          -0.39944870589815207,
          -0.3028181745654215,
          -0.36208010777438204,
          -0.6371805534587353,
          -0.5694189831819202,
          1.461096225783802,
          -0.4994736094715912,
          0.29929114541333546,
          1.2041695390914506,
          -0.9793564598366558,
          0.01807837432378152,
          -1.103587706826982,
          -0.18817011528619612,
          2.5352245967487885,
          -1.4285113376487508,
          0.1361915367915166,
          0.9006406460730992,
          -0.5298534434558503,
          -1.213528288936742,
          1.8601487302024202,
          0.3695423990074541,
          1.296044763586415,
          0.1395186998537509,
          1.719413311595714,
          1.2114653178792933,
          0.03910624479884292,
          0.2545787261537919,
          0.023686667231006552,
          0.8541797670508043,
          0.4593274411390989,
          1.0033874555379092,
          -0.2873415179522952,
          -0.9384778704654327,
          -0.40658629235198673,
          -2.158070369516635,
          -1.0527523510456966,
          -1.210264349440857,
          -0.8228197170689329,
          0.1435983858401079,
          0.08212759198765562,
          0.5047104711807551,
          -0.1288060629054838,
          1.6932702499770058,
          -0.6471071694000822,
          -0.6856545007792552,
          -1.4449240018310907,
          0.05111083881877059,
          -0.08977932715227151,
          1.2448916134290704,
          -0.10907787099641833,
          0.41576838297650387,
          0.034355047528476276,
          1.737306222848453,
          1.2879506488485895,
          -0.5445920228908319,
          -0.011791285460258594,
          -1.3429356371363272,
          0.340923499794586,
          0.7271609744140205,
          0.11415981620587828
         ],
         "xaxis": "x13",
         "y": [
          -0.38938243741545403,
          0.8489870102957672,
          -0.3037458275459016,
          -0.6601049835781777,
          2.3580169677027394,
          0.5199439178609391,
          -0.3264757284875137,
          0.08630614808557951,
          -0.07995943538715375,
          0.9075978302810658,
          -0.6869005754865015,
          0.5204940139574966,
          -1.4761755865027963,
          0.31485011426256515,
          -0.521991690547675,
          -0.8130119308449821,
          -0.8511772824913525,
          0.4412605402390498,
          0.20492502248403782,
          -0.7600969305704209,
          1.3650806344044095,
          1.5839595788195793,
          -0.9255533579202732,
          1.4260526921993562,
          0.2211794800671896,
          -1.0057678764610622,
          -0.3172025255670704,
          0.35567762720637663,
          -1.256020916493353,
          -0.9431848440272603,
          -0.44312395586168113,
          0.5413545937825133,
          0.29866464427822986,
          0.9309374378225036,
          1.0927320222137886,
          0.6816329826138551,
          0.16945769860772733,
          -1.0562541561312082,
          0.43800782817833045,
          -0.614934475248173,
          -1.842040183576977,
          -0.36461688319188806,
          0.11804081037877812,
          -1.927908187932504,
          0.3875613384845141,
          2.3166938534833545,
          0.25507309886563106,
          -0.06376455573532246,
          0.22324627350088297,
          0.057930036902700044,
          0.26628277279917173,
          1.2990220920644695,
          0.2628516155084871,
          -0.2704546918745566,
          0.5331619389656265,
          -0.7149920309330231,
          0.10510439172378729,
          0.041384538695561884,
          0.6962859355005034,
          0.13714925026171573,
          -0.6758391677591793,
          0.3911853570002575,
          2.090479530429213,
          0.5677335771284356,
          -0.5662444899254707,
          -0.2243214040452147,
          0.476652994096476,
          -0.6313101423242503,
          -1.0956168384509517,
          -0.3473630783534499,
          -0.0913453019635285,
          0.1660749685581784,
          -0.6324153506118001,
          1.336531017436755,
          -0.48529282414607117,
          0.05226631998588901,
          0.1786405084274815,
          1.4112386708662197,
          0.6557611592320337,
          -0.3601867173190986,
          0.44016375794179113,
          0.0625280426120296,
          -0.5805898085736471,
          -1.8303599503308512,
          0.35565673033556766,
          -1.7749873678146948,
          -0.008702600419621702,
          -0.946621571415386,
          0.28732863502550626,
          0.680168656572631,
          -1.639659854305356,
          -0.43267660234242605,
          0.7339263210111374,
          0.9403153768938592,
          0.03896750343386187,
          0.9915484870007537,
          -0.21926305314552225,
          1.5997595841722492,
          0.5061382897962495,
          0.11521369883971239
         ],
         "yaxis": "y13"
        },
        {
         "line": {
          "color": "rgba(128, 128, 128, 1.0)",
          "dash": "solid",
          "shape": "linear",
          "width": 1.3
         },
         "marker": {
          "size": 2,
          "symbol": "circle"
         },
         "mode": "markers",
         "name": "D",
         "text": "",
         "type": "scatter",
         "x": [
          2.1369138719324097,
          1.1218232241102921,
          0.26572688661593546,
          -0.6305003101378791,
          2.167181040671889,
          -0.23150609074463332,
          1.5260914845192142,
          1.8996590584310187,
          -0.5308756528251863,
          -1.1285592958279023,
          -0.7791266507171293,
          -1.6911442048922218,
          0.03259993470017688,
          -1.5301542368770833,
          -0.943124496564741,
          0.6401111021980387,
          0.5555916097716914,
          -0.47944004993930484,
          -0.3734154861180155,
          -2.3193218374592033,
          -0.25769903978196274,
          1.0901689928043339,
          -0.3787309412507085,
          0.6941815251138934,
          -0.41055317577509276,
          -0.7938391689626703,
          -0.09216651037745185,
          1.0536237513050577,
          -0.01771299556433199,
          -1.1354493905039764,
          0.36405402739491627,
          -0.25022937939597756,
          1.5460158671741624,
          -0.08797194860936755,
          -0.2693182997508638,
          -1.6945406701465857,
          -1.6654886030470293,
          -0.8449708912564343,
          0.9057644458698647,
          0.4930488497054626,
          -0.514550577625808,
          0.08399712687451115,
          -0.7120181921708862,
          -0.22188650000595753,
          -0.996247575974823,
          -2.6283366939612494,
          -0.3806094830267701,
          0.1410881180140036,
          0.5544826175873403,
          0.32787605876710624,
          0.04302194321889322,
          1.4248894903070992,
          -1.2159827938969654,
          0.37057004231054885,
          -0.3998796372393718,
          0.09013059092878399,
          0.897677474178713,
          1.0996054030628408,
          0.04685669530975385,
          0.8705743484320358,
          -1.2928816250304203,
          -1.993744959568647,
          1.3576023433880942,
          0.5270461933088814,
          -1.1143133576599562,
          -0.4535757125183196,
          -1.9473052612596844,
          -0.1578392966742072,
          1.3490461776070415,
          0.49834492043962886,
          -0.3176243733857624,
          0.14317832901426178,
          1.9711251053897287,
          -0.6960179115421854,
          0.5202843097161529,
          0.7294212209929505,
          -0.02206115315984238,
          -1.7717378674646553,
          1.741175628507748,
          1.0629352168952446,
          0.1386737629402777,
          0.644833401664853,
          -1.158732454088803,
          -0.8893251447971611,
          -0.09115194355746586,
          -0.8369650243486435,
          0.18727737894972848,
          2.1398181622064754,
          0.9045169788207471,
          0.6135187489031853,
          -0.0163735787247299,
          -0.048123225921188305,
          -0.1934586058706064,
          -1.3068728615356302,
          -0.16814932656604875,
          -1.7608336285547592,
          -0.9560428706568221,
          -2.4038775493786373,
          -0.24616587387684877,
          0.9363418620845582
         ],
         "xaxis": "x14",
         "y": [
          -0.38938243741545403,
          0.8489870102957672,
          -0.3037458275459016,
          -0.6601049835781777,
          2.3580169677027394,
          0.5199439178609391,
          -0.3264757284875137,
          0.08630614808557951,
          -0.07995943538715375,
          0.9075978302810658,
          -0.6869005754865015,
          0.5204940139574966,
          -1.4761755865027963,
          0.31485011426256515,
          -0.521991690547675,
          -0.8130119308449821,
          -0.8511772824913525,
          0.4412605402390498,
          0.20492502248403782,
          -0.7600969305704209,
          1.3650806344044095,
          1.5839595788195793,
          -0.9255533579202732,
          1.4260526921993562,
          0.2211794800671896,
          -1.0057678764610622,
          -0.3172025255670704,
          0.35567762720637663,
          -1.256020916493353,
          -0.9431848440272603,
          -0.44312395586168113,
          0.5413545937825133,
          0.29866464427822986,
          0.9309374378225036,
          1.0927320222137886,
          0.6816329826138551,
          0.16945769860772733,
          -1.0562541561312082,
          0.43800782817833045,
          -0.614934475248173,
          -1.842040183576977,
          -0.36461688319188806,
          0.11804081037877812,
          -1.927908187932504,
          0.3875613384845141,
          2.3166938534833545,
          0.25507309886563106,
          -0.06376455573532246,
          0.22324627350088297,
          0.057930036902700044,
          0.26628277279917173,
          1.2990220920644695,
          0.2628516155084871,
          -0.2704546918745566,
          0.5331619389656265,
          -0.7149920309330231,
          0.10510439172378729,
          0.041384538695561884,
          0.6962859355005034,
          0.13714925026171573,
          -0.6758391677591793,
          0.3911853570002575,
          2.090479530429213,
          0.5677335771284356,
          -0.5662444899254707,
          -0.2243214040452147,
          0.476652994096476,
          -0.6313101423242503,
          -1.0956168384509517,
          -0.3473630783534499,
          -0.0913453019635285,
          0.1660749685581784,
          -0.6324153506118001,
          1.336531017436755,
          -0.48529282414607117,
          0.05226631998588901,
          0.1786405084274815,
          1.4112386708662197,
          0.6557611592320337,
          -0.3601867173190986,
          0.44016375794179113,
          0.0625280426120296,
          -0.5805898085736471,
          -1.8303599503308512,
          0.35565673033556766,
          -1.7749873678146948,
          -0.008702600419621702,
          -0.946621571415386,
          0.28732863502550626,
          0.680168656572631,
          -1.639659854305356,
          -0.43267660234242605,
          0.7339263210111374,
          0.9403153768938592,
          0.03896750343386187,
          0.9915484870007537,
          -0.21926305314552225,
          1.5997595841722492,
          0.5061382897962495,
          0.11521369883971239
         ],
         "yaxis": "y14"
        },
        {
         "line": {
          "color": "rgba(128, 128, 128, 1.0)",
          "dash": "solid",
          "shape": "linear",
          "width": 1.3
         },
         "marker": {
          "size": 2,
          "symbol": "circle"
         },
         "mode": "markers",
         "name": "D",
         "text": "",
         "type": "scatter",
         "x": [
          0.2439544173558018,
          -0.5684860107771211,
          -0.39898336378134686,
          1.470445041967711,
          -0.8773646037251458,
          -1.3143521510244864,
          -0.6404540305233106,
          0.4208695834921709,
          0.1369830135697895,
          0.16164426437240773,
          -0.48579684965386133,
          0.10355648639856779,
          -0.7710465929877407,
          -0.19655171644819658,
          -1.6874712292595653,
          0.16757349392598925,
          1.2352849658466538,
          1.9574703413992662,
          1.2545877496858209,
          -0.5533735282763952,
          -1.9491838402304684,
          1.244690755258954,
          -2.092936179509895,
          -0.49658554221157797,
          -0.10746330738245898,
          1.8763769603952432,
          -0.7580830324982493,
          0.06806291941946263,
          -0.6752128028794379,
          -0.27883481594403464,
          0.24875502527288698,
          0.9934733870085766,
          1.1283205574627364,
          -1.1035597601588403,
          0.2816885607013435,
          -0.8319620583099021,
          -0.40064131378379686,
          1.4038953274465265,
          1.3998944991431672,
          -1.601486589007531,
          0.47391924423921605,
          0.466746114389561,
          0.9706083084817316,
          -0.04422878710039364,
          1.2676192525955698,
          -0.639408276402107,
          0.07520932095837224,
          -0.31907617311424424,
          -1.27764933100713,
          -0.5735550334589399,
          -0.026513052803373932,
          0.14937265522033397,
          0.13953507121983863,
          0.41307879494989813,
          0.45338753498149464,
          0.6234672068628964,
          -2.2765535658276685,
          0.7274341648676981,
          1.004824722296655,
          0.3954456500779527,
          2.3305354500608817,
          -1.8379781873764833,
          -0.7011796333379808,
          -1.0694965445897895,
          -0.388901381539195,
          -1.0462176218354262,
          0.6491021007853509,
          -0.8977083133767135,
          -1.4110833048295905,
          0.7149029038856394,
          -0.3910418380594732,
          1.253219176603211,
          -1.0296354258652898,
          -1.2588421948687074,
          0.3838126435700305,
          2.1439286995244116,
          0.7971571704041353,
          2.237661163598857,
          0.6427542650076359,
          1.2442294164108993,
          -0.22921932764592964,
          -0.44381739891857996,
          0.3906272403800916,
          0.4019060087220604,
          -0.1757975914727586,
          0.39091530437661526,
          0.8840655686042812,
          0.05371136442471388,
          0.7474346171342512,
          0.8997005175577352,
          1.2818203813912323,
          2.450606354714322,
          0.11240836638800612,
          0.3887304812772784,
          0.11356804428669474,
          0.08523393662899097,
          0.7643488562233913,
          -0.5167860270016906,
          -0.9161526975648713,
          -0.09325293782302599
         ],
         "xaxis": "x15",
         "y": [
          -0.38938243741545403,
          0.8489870102957672,
          -0.3037458275459016,
          -0.6601049835781777,
          2.3580169677027394,
          0.5199439178609391,
          -0.3264757284875137,
          0.08630614808557951,
          -0.07995943538715375,
          0.9075978302810658,
          -0.6869005754865015,
          0.5204940139574966,
          -1.4761755865027963,
          0.31485011426256515,
          -0.521991690547675,
          -0.8130119308449821,
          -0.8511772824913525,
          0.4412605402390498,
          0.20492502248403782,
          -0.7600969305704209,
          1.3650806344044095,
          1.5839595788195793,
          -0.9255533579202732,
          1.4260526921993562,
          0.2211794800671896,
          -1.0057678764610622,
          -0.3172025255670704,
          0.35567762720637663,
          -1.256020916493353,
          -0.9431848440272603,
          -0.44312395586168113,
          0.5413545937825133,
          0.29866464427822986,
          0.9309374378225036,
          1.0927320222137886,
          0.6816329826138551,
          0.16945769860772733,
          -1.0562541561312082,
          0.43800782817833045,
          -0.614934475248173,
          -1.842040183576977,
          -0.36461688319188806,
          0.11804081037877812,
          -1.927908187932504,
          0.3875613384845141,
          2.3166938534833545,
          0.25507309886563106,
          -0.06376455573532246,
          0.22324627350088297,
          0.057930036902700044,
          0.26628277279917173,
          1.2990220920644695,
          0.2628516155084871,
          -0.2704546918745566,
          0.5331619389656265,
          -0.7149920309330231,
          0.10510439172378729,
          0.041384538695561884,
          0.6962859355005034,
          0.13714925026171573,
          -0.6758391677591793,
          0.3911853570002575,
          2.090479530429213,
          0.5677335771284356,
          -0.5662444899254707,
          -0.2243214040452147,
          0.476652994096476,
          -0.6313101423242503,
          -1.0956168384509517,
          -0.3473630783534499,
          -0.0913453019635285,
          0.1660749685581784,
          -0.6324153506118001,
          1.336531017436755,
          -0.48529282414607117,
          0.05226631998588901,
          0.1786405084274815,
          1.4112386708662197,
          0.6557611592320337,
          -0.3601867173190986,
          0.44016375794179113,
          0.0625280426120296,
          -0.5805898085736471,
          -1.8303599503308512,
          0.35565673033556766,
          -1.7749873678146948,
          -0.008702600419621702,
          -0.946621571415386,
          0.28732863502550626,
          0.680168656572631,
          -1.639659854305356,
          -0.43267660234242605,
          0.7339263210111374,
          0.9403153768938592,
          0.03896750343386187,
          0.9915484870007537,
          -0.21926305314552225,
          1.5997595841722492,
          0.5061382897962495,
          0.11521369883971239
         ],
         "yaxis": "y15"
        },
        {
         "histfunc": "count",
         "histnorm": "",
         "marker": {
          "color": "rgba(128, 0, 128, 1.0)",
          "line": {
           "color": "#4D5663",
           "width": 1.3
          }
         },
         "name": "D",
         "nbinsx": 10,
         "opacity": 0.8,
         "orientation": "v",
         "type": "histogram",
         "x": [
          -0.38938243741545403,
          0.8489870102957672,
          -0.3037458275459016,
          -0.6601049835781777,
          2.3580169677027394,
          0.5199439178609391,
          -0.3264757284875137,
          0.08630614808557951,
          -0.07995943538715375,
          0.9075978302810658,
          -0.6869005754865015,
          0.5204940139574966,
          -1.4761755865027963,
          0.31485011426256515,
          -0.521991690547675,
          -0.8130119308449821,
          -0.8511772824913525,
          0.4412605402390498,
          0.20492502248403782,
          -0.7600969305704209,
          1.3650806344044095,
          1.5839595788195793,
          -0.9255533579202732,
          1.4260526921993562,
          0.2211794800671896,
          -1.0057678764610622,
          -0.3172025255670704,
          0.35567762720637663,
          -1.256020916493353,
          -0.9431848440272603,
          -0.44312395586168113,
          0.5413545937825133,
          0.29866464427822986,
          0.9309374378225036,
          1.0927320222137886,
          0.6816329826138551,
          0.16945769860772733,
          -1.0562541561312082,
          0.43800782817833045,
          -0.614934475248173,
          -1.842040183576977,
          -0.36461688319188806,
          0.11804081037877812,
          -1.927908187932504,
          0.3875613384845141,
          2.3166938534833545,
          0.25507309886563106,
          -0.06376455573532246,
          0.22324627350088297,
          0.057930036902700044,
          0.26628277279917173,
          1.2990220920644695,
          0.2628516155084871,
          -0.2704546918745566,
          0.5331619389656265,
          -0.7149920309330231,
          0.10510439172378729,
          0.041384538695561884,
          0.6962859355005034,
          0.13714925026171573,
          -0.6758391677591793,
          0.3911853570002575,
          2.090479530429213,
          0.5677335771284356,
          -0.5662444899254707,
          -0.2243214040452147,
          0.476652994096476,
          -0.6313101423242503,
          -1.0956168384509517,
          -0.3473630783534499,
          -0.0913453019635285,
          0.1660749685581784,
          -0.6324153506118001,
          1.336531017436755,
          -0.48529282414607117,
          0.05226631998588901,
          0.1786405084274815,
          1.4112386708662197,
          0.6557611592320337,
          -0.3601867173190986,
          0.44016375794179113,
          0.0625280426120296,
          -0.5805898085736471,
          -1.8303599503308512,
          0.35565673033556766,
          -1.7749873678146948,
          -0.008702600419621702,
          -0.946621571415386,
          0.28732863502550626,
          0.680168656572631,
          -1.639659854305356,
          -0.43267660234242605,
          0.7339263210111374,
          0.9403153768938592,
          0.03896750343386187,
          0.9915484870007537,
          -0.21926305314552225,
          1.5997595841722492,
          0.5061382897962495,
          0.11521369883971239
         ],
         "xaxis": "x16",
         "yaxis": "y16"
        }
       ],
       "layout": {
        "bargap": 0.02,
        "legend": {
         "bgcolor": "#F5F6F9",
         "font": {
          "color": "#4D5663"
         }
        },
        "paper_bgcolor": "#F5F6F9",
        "plot_bgcolor": "#F5F6F9",
        "showlegend": false,
        "template": {
         "data": {
          "bar": [
           {
            "error_x": {
             "color": "#2a3f5f"
            },
            "error_y": {
             "color": "#2a3f5f"
            },
            "marker": {
             "line": {
              "color": "#E5ECF6",
              "width": 0.5
             },
             "pattern": {
              "fillmode": "overlay",
              "size": 10,
              "solidity": 0.2
             }
            },
            "type": "bar"
           }
          ],
          "barpolar": [
           {
            "marker": {
             "line": {
              "color": "#E5ECF6",
              "width": 0.5
             },
             "pattern": {
              "fillmode": "overlay",
              "size": 10,
              "solidity": 0.2
             }
            },
            "type": "barpolar"
           }
          ],
          "carpet": [
           {
            "aaxis": {
             "endlinecolor": "#2a3f5f",
             "gridcolor": "white",
             "linecolor": "white",
             "minorgridcolor": "white",
             "startlinecolor": "#2a3f5f"
            },
            "baxis": {
             "endlinecolor": "#2a3f5f",
             "gridcolor": "white",
             "linecolor": "white",
             "minorgridcolor": "white",
             "startlinecolor": "#2a3f5f"
            },
            "type": "carpet"
           }
          ],
          "choropleth": [
           {
            "colorbar": {
             "outlinewidth": 0,
             "ticks": ""
            },
            "type": "choropleth"
           }
          ],
          "contour": [
           {
            "colorbar": {
             "outlinewidth": 0,
             "ticks": ""
            },
            "colorscale": [
             [
              0,
              "#0d0887"
             ],
             [
              0.1111111111111111,
              "#46039f"
             ],
             [
              0.2222222222222222,
              "#7201a8"
             ],
             [
              0.3333333333333333,
              "#9c179e"
             ],
             [
              0.4444444444444444,
              "#bd3786"
             ],
             [
              0.5555555555555556,
              "#d8576b"
             ],
             [
              0.6666666666666666,
              "#ed7953"
             ],
             [
              0.7777777777777778,
              "#fb9f3a"
             ],
             [
              0.8888888888888888,
              "#fdca26"
             ],
             [
              1,
              "#f0f921"
             ]
            ],
            "type": "contour"
           }
          ],
          "contourcarpet": [
           {
            "colorbar": {
             "outlinewidth": 0,
             "ticks": ""
            },
            "type": "contourcarpet"
           }
          ],
          "heatmap": [
           {
            "colorbar": {
             "outlinewidth": 0,
             "ticks": ""
            },
            "colorscale": [
             [
              0,
              "#0d0887"
             ],
             [
              0.1111111111111111,
              "#46039f"
             ],
             [
              0.2222222222222222,
              "#7201a8"
             ],
             [
              0.3333333333333333,
              "#9c179e"
             ],
             [
              0.4444444444444444,
              "#bd3786"
             ],
             [
              0.5555555555555556,
              "#d8576b"
             ],
             [
              0.6666666666666666,
              "#ed7953"
             ],
             [
              0.7777777777777778,
              "#fb9f3a"
             ],
             [
              0.8888888888888888,
              "#fdca26"
             ],
             [
              1,
              "#f0f921"
             ]
            ],
            "type": "heatmap"
           }
          ],
          "heatmapgl": [
           {
            "colorbar": {
             "outlinewidth": 0,
             "ticks": ""
            },
            "colorscale": [
             [
              0,
              "#0d0887"
             ],
             [
              0.1111111111111111,
              "#46039f"
             ],
             [
              0.2222222222222222,
              "#7201a8"
             ],
             [
              0.3333333333333333,
              "#9c179e"
             ],
             [
              0.4444444444444444,
              "#bd3786"
             ],
             [
              0.5555555555555556,
              "#d8576b"
             ],
             [
              0.6666666666666666,
              "#ed7953"
             ],
             [
              0.7777777777777778,
              "#fb9f3a"
             ],
             [
              0.8888888888888888,
              "#fdca26"
             ],
             [
              1,
              "#f0f921"
             ]
            ],
            "type": "heatmapgl"
           }
          ],
          "histogram": [
           {
            "marker": {
             "pattern": {
              "fillmode": "overlay",
              "size": 10,
              "solidity": 0.2
             }
            },
            "type": "histogram"
           }
          ],
          "histogram2d": [
           {
            "colorbar": {
             "outlinewidth": 0,
             "ticks": ""
            },
            "colorscale": [
             [
              0,
              "#0d0887"
             ],
             [
              0.1111111111111111,
              "#46039f"
             ],
             [
              0.2222222222222222,
              "#7201a8"
             ],
             [
              0.3333333333333333,
              "#9c179e"
             ],
             [
              0.4444444444444444,
              "#bd3786"
             ],
             [
              0.5555555555555556,
              "#d8576b"
             ],
             [
              0.6666666666666666,
              "#ed7953"
             ],
             [
              0.7777777777777778,
              "#fb9f3a"
             ],
             [
              0.8888888888888888,
              "#fdca26"
             ],
             [
              1,
              "#f0f921"
             ]
            ],
            "type": "histogram2d"
           }
          ],
          "histogram2dcontour": [
           {
            "colorbar": {
             "outlinewidth": 0,
             "ticks": ""
            },
            "colorscale": [
             [
              0,
              "#0d0887"
             ],
             [
              0.1111111111111111,
              "#46039f"
             ],
             [
              0.2222222222222222,
              "#7201a8"
             ],
             [
              0.3333333333333333,
              "#9c179e"
             ],
             [
              0.4444444444444444,
              "#bd3786"
             ],
             [
              0.5555555555555556,
              "#d8576b"
             ],
             [
              0.6666666666666666,
              "#ed7953"
             ],
             [
              0.7777777777777778,
              "#fb9f3a"
             ],
             [
              0.8888888888888888,
              "#fdca26"
             ],
             [
              1,
              "#f0f921"
             ]
            ],
            "type": "histogram2dcontour"
           }
          ],
          "mesh3d": [
           {
            "colorbar": {
             "outlinewidth": 0,
             "ticks": ""
            },
            "type": "mesh3d"
           }
          ],
          "parcoords": [
           {
            "line": {
             "colorbar": {
              "outlinewidth": 0,
              "ticks": ""
             }
            },
            "type": "parcoords"
           }
          ],
          "pie": [
           {
            "automargin": true,
            "type": "pie"
           }
          ],
          "scatter": [
           {
            "marker": {
             "colorbar": {
              "outlinewidth": 0,
              "ticks": ""
             }
            },
            "type": "scatter"
           }
          ],
          "scatter3d": [
           {
            "line": {
             "colorbar": {
              "outlinewidth": 0,
              "ticks": ""
             }
            },
            "marker": {
             "colorbar": {
              "outlinewidth": 0,
              "ticks": ""
             }
            },
            "type": "scatter3d"
           }
          ],
          "scattercarpet": [
           {
            "marker": {
             "colorbar": {
              "outlinewidth": 0,
              "ticks": ""
             }
            },
            "type": "scattercarpet"
           }
          ],
          "scattergeo": [
           {
            "marker": {
             "colorbar": {
              "outlinewidth": 0,
              "ticks": ""
             }
            },
            "type": "scattergeo"
           }
          ],
          "scattergl": [
           {
            "marker": {
             "colorbar": {
              "outlinewidth": 0,
              "ticks": ""
             }
            },
            "type": "scattergl"
           }
          ],
          "scattermapbox": [
           {
            "marker": {
             "colorbar": {
              "outlinewidth": 0,
              "ticks": ""
             }
            },
            "type": "scattermapbox"
           }
          ],
          "scatterpolar": [
           {
            "marker": {
             "colorbar": {
              "outlinewidth": 0,
              "ticks": ""
             }
            },
            "type": "scatterpolar"
           }
          ],
          "scatterpolargl": [
           {
            "marker": {
             "colorbar": {
              "outlinewidth": 0,
              "ticks": ""
             }
            },
            "type": "scatterpolargl"
           }
          ],
          "scatterternary": [
           {
            "marker": {
             "colorbar": {
              "outlinewidth": 0,
              "ticks": ""
             }
            },
            "type": "scatterternary"
           }
          ],
          "surface": [
           {
            "colorbar": {
             "outlinewidth": 0,
             "ticks": ""
            },
            "colorscale": [
             [
              0,
              "#0d0887"
             ],
             [
              0.1111111111111111,
              "#46039f"
             ],
             [
              0.2222222222222222,
              "#7201a8"
             ],
             [
              0.3333333333333333,
              "#9c179e"
             ],
             [
              0.4444444444444444,
              "#bd3786"
             ],
             [
              0.5555555555555556,
              "#d8576b"
             ],
             [
              0.6666666666666666,
              "#ed7953"
             ],
             [
              0.7777777777777778,
              "#fb9f3a"
             ],
             [
              0.8888888888888888,
              "#fdca26"
             ],
             [
              1,
              "#f0f921"
             ]
            ],
            "type": "surface"
           }
          ],
          "table": [
           {
            "cells": {
             "fill": {
              "color": "#EBF0F8"
             },
             "line": {
              "color": "white"
             }
            },
            "header": {
             "fill": {
              "color": "#C8D4E3"
             },
             "line": {
              "color": "white"
             }
            },
            "type": "table"
           }
          ]
         },
         "layout": {
          "annotationdefaults": {
           "arrowcolor": "#2a3f5f",
           "arrowhead": 0,
           "arrowwidth": 1
          },
          "autotypenumbers": "strict",
          "coloraxis": {
           "colorbar": {
            "outlinewidth": 0,
            "ticks": ""
           }
          },
          "colorscale": {
           "diverging": [
            [
             0,
             "#8e0152"
            ],
            [
             0.1,
             "#c51b7d"
            ],
            [
             0.2,
             "#de77ae"
            ],
            [
             0.3,
             "#f1b6da"
            ],
            [
             0.4,
             "#fde0ef"
            ],
            [
             0.5,
             "#f7f7f7"
            ],
            [
             0.6,
             "#e6f5d0"
            ],
            [
             0.7,
             "#b8e186"
            ],
            [
             0.8,
             "#7fbc41"
            ],
            [
             0.9,
             "#4d9221"
            ],
            [
             1,
             "#276419"
            ]
           ],
           "sequential": [
            [
             0,
             "#0d0887"
            ],
            [
             0.1111111111111111,
             "#46039f"
            ],
            [
             0.2222222222222222,
             "#7201a8"
            ],
            [
             0.3333333333333333,
             "#9c179e"
            ],
            [
             0.4444444444444444,
             "#bd3786"
            ],
            [
             0.5555555555555556,
             "#d8576b"
            ],
            [
             0.6666666666666666,
             "#ed7953"
            ],
            [
             0.7777777777777778,
             "#fb9f3a"
            ],
            [
             0.8888888888888888,
             "#fdca26"
            ],
            [
             1,
             "#f0f921"
            ]
           ],
           "sequentialminus": [
            [
             0,
             "#0d0887"
            ],
            [
             0.1111111111111111,
             "#46039f"
            ],
            [
             0.2222222222222222,
             "#7201a8"
            ],
            [
             0.3333333333333333,
             "#9c179e"
            ],
            [
             0.4444444444444444,
             "#bd3786"
            ],
            [
             0.5555555555555556,
             "#d8576b"
            ],
            [
             0.6666666666666666,
             "#ed7953"
            ],
            [
             0.7777777777777778,
             "#fb9f3a"
            ],
            [
             0.8888888888888888,
             "#fdca26"
            ],
            [
             1,
             "#f0f921"
            ]
           ]
          },
          "colorway": [
           "#636efa",
           "#EF553B",
           "#00cc96",
           "#ab63fa",
           "#FFA15A",
           "#19d3f3",
           "#FF6692",
           "#B6E880",
           "#FF97FF",
           "#FECB52"
          ],
          "font": {
           "color": "#2a3f5f"
          },
          "geo": {
           "bgcolor": "white",
           "lakecolor": "white",
           "landcolor": "#E5ECF6",
           "showlakes": true,
           "showland": true,
           "subunitcolor": "white"
          },
          "hoverlabel": {
           "align": "left"
          },
          "hovermode": "closest",
          "mapbox": {
           "style": "light"
          },
          "paper_bgcolor": "white",
          "plot_bgcolor": "#E5ECF6",
          "polar": {
           "angularaxis": {
            "gridcolor": "white",
            "linecolor": "white",
            "ticks": ""
           },
           "bgcolor": "#E5ECF6",
           "radialaxis": {
            "gridcolor": "white",
            "linecolor": "white",
            "ticks": ""
           }
          },
          "scene": {
           "xaxis": {
            "backgroundcolor": "#E5ECF6",
            "gridcolor": "white",
            "gridwidth": 2,
            "linecolor": "white",
            "showbackground": true,
            "ticks": "",
            "zerolinecolor": "white"
           },
           "yaxis": {
            "backgroundcolor": "#E5ECF6",
            "gridcolor": "white",
            "gridwidth": 2,
            "linecolor": "white",
            "showbackground": true,
            "ticks": "",
            "zerolinecolor": "white"
           },
           "zaxis": {
            "backgroundcolor": "#E5ECF6",
            "gridcolor": "white",
            "gridwidth": 2,
            "linecolor": "white",
            "showbackground": true,
            "ticks": "",
            "zerolinecolor": "white"
           }
          },
          "shapedefaults": {
           "line": {
            "color": "#2a3f5f"
           }
          },
          "ternary": {
           "aaxis": {
            "gridcolor": "white",
            "linecolor": "white",
            "ticks": ""
           },
           "baxis": {
            "gridcolor": "white",
            "linecolor": "white",
            "ticks": ""
           },
           "bgcolor": "#E5ECF6",
           "caxis": {
            "gridcolor": "white",
            "linecolor": "white",
            "ticks": ""
           }
          },
          "title": {
           "x": 0.05
          },
          "xaxis": {
           "automargin": true,
           "gridcolor": "white",
           "linecolor": "white",
           "ticks": "",
           "title": {
            "standoff": 15
           },
           "zerolinecolor": "white",
           "zerolinewidth": 2
          },
          "yaxis": {
           "automargin": true,
           "gridcolor": "white",
           "linecolor": "white",
           "ticks": "",
           "title": {
            "standoff": 15
           },
           "zerolinecolor": "white",
           "zerolinewidth": 2
          }
         }
        },
        "title": {
         "font": {
          "color": "#4D5663"
         }
        },
        "xaxis": {
         "anchor": "y",
         "domain": [
          0,
          0.2125
         ],
         "gridcolor": "#E1E5ED",
         "showgrid": false,
         "tickfont": {
          "color": "#4D5663"
         },
         "title": {
          "font": {
           "color": "#4D5663"
          },
          "text": ""
         },
         "zerolinecolor": "#E1E5ED"
        },
        "xaxis10": {
         "anchor": "y10",
         "domain": [
          0.2625,
          0.475
         ],
         "gridcolor": "#E1E5ED",
         "showgrid": false,
         "tickfont": {
          "color": "#4D5663"
         },
         "title": {
          "font": {
           "color": "#4D5663"
          },
          "text": ""
         },
         "zerolinecolor": "#E1E5ED"
        },
        "xaxis11": {
         "anchor": "y11",
         "domain": [
          0.525,
          0.7375
         ],
         "gridcolor": "#E1E5ED",
         "showgrid": false,
         "tickfont": {
          "color": "#4D5663"
         },
         "title": {
          "font": {
           "color": "#4D5663"
          },
          "text": ""
         },
         "zerolinecolor": "#E1E5ED"
        },
        "xaxis12": {
         "anchor": "y12",
         "domain": [
          0.7875,
          1
         ],
         "gridcolor": "#E1E5ED",
         "showgrid": false,
         "tickfont": {
          "color": "#4D5663"
         },
         "title": {
          "font": {
           "color": "#4D5663"
          },
          "text": ""
         },
         "zerolinecolor": "#E1E5ED"
        },
        "xaxis13": {
         "anchor": "y13",
         "domain": [
          0,
          0.2125
         ],
         "gridcolor": "#E1E5ED",
         "showgrid": false,
         "tickfont": {
          "color": "#4D5663"
         },
         "title": {
          "font": {
           "color": "#4D5663"
          },
          "text": ""
         },
         "zerolinecolor": "#E1E5ED"
        },
        "xaxis14": {
         "anchor": "y14",
         "domain": [
          0.2625,
          0.475
         ],
         "gridcolor": "#E1E5ED",
         "showgrid": false,
         "tickfont": {
          "color": "#4D5663"
         },
         "title": {
          "font": {
           "color": "#4D5663"
          },
          "text": ""
         },
         "zerolinecolor": "#E1E5ED"
        },
        "xaxis15": {
         "anchor": "y15",
         "domain": [
          0.525,
          0.7375
         ],
         "gridcolor": "#E1E5ED",
         "showgrid": false,
         "tickfont": {
          "color": "#4D5663"
         },
         "title": {
          "font": {
           "color": "#4D5663"
          },
          "text": ""
         },
         "zerolinecolor": "#E1E5ED"
        },
        "xaxis16": {
         "anchor": "y16",
         "domain": [
          0.7875,
          1
         ],
         "gridcolor": "#E1E5ED",
         "showgrid": false,
         "tickfont": {
          "color": "#4D5663"
         },
         "title": {
          "font": {
           "color": "#4D5663"
          },
          "text": ""
         },
         "zerolinecolor": "#E1E5ED"
        },
        "xaxis2": {
         "anchor": "y2",
         "domain": [
          0.2625,
          0.475
         ],
         "gridcolor": "#E1E5ED",
         "showgrid": false,
         "tickfont": {
          "color": "#4D5663"
         },
         "title": {
          "font": {
           "color": "#4D5663"
          },
          "text": ""
         },
         "zerolinecolor": "#E1E5ED"
        },
        "xaxis3": {
         "anchor": "y3",
         "domain": [
          0.525,
          0.7375
         ],
         "gridcolor": "#E1E5ED",
         "showgrid": false,
         "tickfont": {
          "color": "#4D5663"
         },
         "title": {
          "font": {
           "color": "#4D5663"
          },
          "text": ""
         },
         "zerolinecolor": "#E1E5ED"
        },
        "xaxis4": {
         "anchor": "y4",
         "domain": [
          0.7875,
          1
         ],
         "gridcolor": "#E1E5ED",
         "showgrid": false,
         "tickfont": {
          "color": "#4D5663"
         },
         "title": {
          "font": {
           "color": "#4D5663"
          },
          "text": ""
         },
         "zerolinecolor": "#E1E5ED"
        },
        "xaxis5": {
         "anchor": "y5",
         "domain": [
          0,
          0.2125
         ],
         "gridcolor": "#E1E5ED",
         "showgrid": false,
         "tickfont": {
          "color": "#4D5663"
         },
         "title": {
          "font": {
           "color": "#4D5663"
          },
          "text": ""
         },
         "zerolinecolor": "#E1E5ED"
        },
        "xaxis6": {
         "anchor": "y6",
         "domain": [
          0.2625,
          0.475
         ],
         "gridcolor": "#E1E5ED",
         "showgrid": false,
         "tickfont": {
          "color": "#4D5663"
         },
         "title": {
          "font": {
           "color": "#4D5663"
          },
          "text": ""
         },
         "zerolinecolor": "#E1E5ED"
        },
        "xaxis7": {
         "anchor": "y7",
         "domain": [
          0.525,
          0.7375
         ],
         "gridcolor": "#E1E5ED",
         "showgrid": false,
         "tickfont": {
          "color": "#4D5663"
         },
         "title": {
          "font": {
           "color": "#4D5663"
          },
          "text": ""
         },
         "zerolinecolor": "#E1E5ED"
        },
        "xaxis8": {
         "anchor": "y8",
         "domain": [
          0.7875,
          1
         ],
         "gridcolor": "#E1E5ED",
         "showgrid": false,
         "tickfont": {
          "color": "#4D5663"
         },
         "title": {
          "font": {
           "color": "#4D5663"
          },
          "text": ""
         },
         "zerolinecolor": "#E1E5ED"
        },
        "xaxis9": {
         "anchor": "y9",
         "domain": [
          0,
          0.2125
         ],
         "gridcolor": "#E1E5ED",
         "showgrid": false,
         "tickfont": {
          "color": "#4D5663"
         },
         "title": {
          "font": {
           "color": "#4D5663"
          },
          "text": ""
         },
         "zerolinecolor": "#E1E5ED"
        },
        "yaxis": {
         "anchor": "x",
         "domain": [
          0.8025,
          1
         ],
         "gridcolor": "#E1E5ED",
         "showgrid": false,
         "tickfont": {
          "color": "#4D5663"
         },
         "title": {
          "font": {
           "color": "#4D5663"
          },
          "text": ""
         },
         "zerolinecolor": "#E1E5ED"
        },
        "yaxis10": {
         "anchor": "x10",
         "domain": [
          0.2675,
          0.465
         ],
         "gridcolor": "#E1E5ED",
         "showgrid": false,
         "tickfont": {
          "color": "#4D5663"
         },
         "title": {
          "font": {
           "color": "#4D5663"
          },
          "text": ""
         },
         "zerolinecolor": "#E1E5ED"
        },
        "yaxis11": {
         "anchor": "x11",
         "domain": [
          0.2675,
          0.465
         ],
         "gridcolor": "#E1E5ED",
         "showgrid": false,
         "tickfont": {
          "color": "#4D5663"
         },
         "title": {
          "font": {
           "color": "#4D5663"
          },
          "text": ""
         },
         "zerolinecolor": "#E1E5ED"
        },
        "yaxis12": {
         "anchor": "x12",
         "domain": [
          0.2675,
          0.465
         ],
         "gridcolor": "#E1E5ED",
         "showgrid": false,
         "tickfont": {
          "color": "#4D5663"
         },
         "title": {
          "font": {
           "color": "#4D5663"
          },
          "text": ""
         },
         "zerolinecolor": "#E1E5ED"
        },
        "yaxis13": {
         "anchor": "x13",
         "domain": [
          0,
          0.1975
         ],
         "gridcolor": "#E1E5ED",
         "showgrid": false,
         "tickfont": {
          "color": "#4D5663"
         },
         "title": {
          "font": {
           "color": "#4D5663"
          },
          "text": ""
         },
         "zerolinecolor": "#E1E5ED"
        },
        "yaxis14": {
         "anchor": "x14",
         "domain": [
          0,
          0.1975
         ],
         "gridcolor": "#E1E5ED",
         "showgrid": false,
         "tickfont": {
          "color": "#4D5663"
         },
         "title": {
          "font": {
           "color": "#4D5663"
          },
          "text": ""
         },
         "zerolinecolor": "#E1E5ED"
        },
        "yaxis15": {
         "anchor": "x15",
         "domain": [
          0,
          0.1975
         ],
         "gridcolor": "#E1E5ED",
         "showgrid": false,
         "tickfont": {
          "color": "#4D5663"
         },
         "title": {
          "font": {
           "color": "#4D5663"
          },
          "text": ""
         },
         "zerolinecolor": "#E1E5ED"
        },
        "yaxis16": {
         "anchor": "x16",
         "domain": [
          0,
          0.1975
         ],
         "gridcolor": "#E1E5ED",
         "showgrid": false,
         "tickfont": {
          "color": "#4D5663"
         },
         "title": {
          "font": {
           "color": "#4D5663"
          },
          "text": ""
         },
         "zerolinecolor": "#E1E5ED"
        },
        "yaxis2": {
         "anchor": "x2",
         "domain": [
          0.8025,
          1
         ],
         "gridcolor": "#E1E5ED",
         "showgrid": false,
         "tickfont": {
          "color": "#4D5663"
         },
         "title": {
          "font": {
           "color": "#4D5663"
          },
          "text": ""
         },
         "zerolinecolor": "#E1E5ED"
        },
        "yaxis3": {
         "anchor": "x3",
         "domain": [
          0.8025,
          1
         ],
         "gridcolor": "#E1E5ED",
         "showgrid": false,
         "tickfont": {
          "color": "#4D5663"
         },
         "title": {
          "font": {
           "color": "#4D5663"
          },
          "text": ""
         },
         "zerolinecolor": "#E1E5ED"
        },
        "yaxis4": {
         "anchor": "x4",
         "domain": [
          0.8025,
          1
         ],
         "gridcolor": "#E1E5ED",
         "showgrid": false,
         "tickfont": {
          "color": "#4D5663"
         },
         "title": {
          "font": {
           "color": "#4D5663"
          },
          "text": ""
         },
         "zerolinecolor": "#E1E5ED"
        },
        "yaxis5": {
         "anchor": "x5",
         "domain": [
          0.535,
          0.7325
         ],
         "gridcolor": "#E1E5ED",
         "showgrid": false,
         "tickfont": {
          "color": "#4D5663"
         },
         "title": {
          "font": {
           "color": "#4D5663"
          },
          "text": ""
         },
         "zerolinecolor": "#E1E5ED"
        },
        "yaxis6": {
         "anchor": "x6",
         "domain": [
          0.535,
          0.7325
         ],
         "gridcolor": "#E1E5ED",
         "showgrid": false,
         "tickfont": {
          "color": "#4D5663"
         },
         "title": {
          "font": {
           "color": "#4D5663"
          },
          "text": ""
         },
         "zerolinecolor": "#E1E5ED"
        },
        "yaxis7": {
         "anchor": "x7",
         "domain": [
          0.535,
          0.7325
         ],
         "gridcolor": "#E1E5ED",
         "showgrid": false,
         "tickfont": {
          "color": "#4D5663"
         },
         "title": {
          "font": {
           "color": "#4D5663"
          },
          "text": ""
         },
         "zerolinecolor": "#E1E5ED"
        },
        "yaxis8": {
         "anchor": "x8",
         "domain": [
          0.535,
          0.7325
         ],
         "gridcolor": "#E1E5ED",
         "showgrid": false,
         "tickfont": {
          "color": "#4D5663"
         },
         "title": {
          "font": {
           "color": "#4D5663"
          },
          "text": ""
         },
         "zerolinecolor": "#E1E5ED"
        },
        "yaxis9": {
         "anchor": "x9",
         "domain": [
          0.2675,
          0.465
         ],
         "gridcolor": "#E1E5ED",
         "showgrid": false,
         "tickfont": {
          "color": "#4D5663"
         },
         "title": {
          "font": {
           "color": "#4D5663"
          },
          "text": ""
         },
         "zerolinecolor": "#E1E5ED"
        }
       }
      },
      "text/html": [
       "<div>                            <div id=\"7639f9dc-7802-4b64-b4fd-35aef0eb603a\" class=\"plotly-graph-div\" style=\"height:525px; width:100%;\"></div>            <script type=\"text/javascript\">                require([\"plotly\"], function(Plotly) {                    window.PLOTLYENV=window.PLOTLYENV || {};\n",
       "                    window.PLOTLYENV.BASE_URL='https://plot.ly';                                    if (document.getElementById(\"7639f9dc-7802-4b64-b4fd-35aef0eb603a\")) {                    Plotly.newPlot(                        \"7639f9dc-7802-4b64-b4fd-35aef0eb603a\",                        [{\"histfunc\":\"count\",\"histnorm\":\"\",\"marker\":{\"color\":\"rgba(255, 153, 51, 1.0)\",\"line\":{\"color\":\"#4D5663\",\"width\":1.3}},\"name\":\"A\",\"nbinsx\":10,\"opacity\":0.8,\"orientation\":\"v\",\"x\":[0.6609269625981522,-0.6283942023252015,0.5958289057467888,-0.25235480998017024,-0.4991144493410042,1.5167690595310814,1.5862310771988744,-2.0038547936463633,0.15151721273618973,0.2589386222594662,-0.8055696610930111,0.8312013344819981,0.1303733282983725,-1.0396818423548286,0.6530713205398567,-0.6505989805969854,-0.18596098484788937,0.6054617971802655,-0.2811898686118027,-0.13912634769480767,0.8446396122125646,-0.68578985663953,-0.6531203665961344,-1.6731759119240543,2.209985229565079,0.3404983837596926,-0.6791549259903613,0.626551904680079,0.4365449907031151,0.22223603549504206,-0.05514042399957164,-0.5478591051219441,-0.272608358787428,0.13624914914319483,2.0107444355148316,-1.1295515219688383,-1.9308731102338974,-0.869451665441127,0.24225048593408174,0.5277492128113745,-0.39944870589815207,-0.3028181745654215,-0.36208010777438204,-0.6371805534587353,-0.5694189831819202,1.461096225783802,-0.4994736094715912,0.29929114541333546,1.2041695390914506,-0.9793564598366558,0.01807837432378152,-1.103587706826982,-0.18817011528619612,2.5352245967487885,-1.4285113376487508,0.1361915367915166,0.9006406460730992,-0.5298534434558503,-1.213528288936742,1.8601487302024202,0.3695423990074541,1.296044763586415,0.1395186998537509,1.719413311595714,1.2114653178792933,0.03910624479884292,0.2545787261537919,0.023686667231006552,0.8541797670508043,0.4593274411390989,1.0033874555379092,-0.2873415179522952,-0.9384778704654327,-0.40658629235198673,-2.158070369516635,-1.0527523510456966,-1.210264349440857,-0.8228197170689329,0.1435983858401079,0.08212759198765562,0.5047104711807551,-0.1288060629054838,1.6932702499770058,-0.6471071694000822,-0.6856545007792552,-1.4449240018310907,0.05111083881877059,-0.08977932715227151,1.2448916134290704,-0.10907787099641833,0.41576838297650387,0.034355047528476276,1.737306222848453,1.2879506488485895,-0.5445920228908319,-0.011791285460258594,-1.3429356371363272,0.340923499794586,0.7271609744140205,0.11415981620587828],\"xaxis\":\"x\",\"yaxis\":\"y\",\"type\":\"histogram\"},{\"line\":{\"color\":\"rgba(128, 128, 128, 1.0)\",\"dash\":\"solid\",\"shape\":\"linear\",\"width\":1.3},\"marker\":{\"size\":2,\"symbol\":\"circle\"},\"mode\":\"markers\",\"name\":\"A\",\"text\":\"\",\"x\":[2.1369138719324097,1.1218232241102921,0.26572688661593546,-0.6305003101378791,2.167181040671889,-0.23150609074463332,1.5260914845192142,1.8996590584310187,-0.5308756528251863,-1.1285592958279023,-0.7791266507171293,-1.6911442048922218,0.03259993470017688,-1.5301542368770833,-0.943124496564741,0.6401111021980387,0.5555916097716914,-0.47944004993930484,-0.3734154861180155,-2.3193218374592033,-0.25769903978196274,1.0901689928043339,-0.3787309412507085,0.6941815251138934,-0.41055317577509276,-0.7938391689626703,-0.09216651037745185,1.0536237513050577,-0.01771299556433199,-1.1354493905039764,0.36405402739491627,-0.25022937939597756,1.5460158671741624,-0.08797194860936755,-0.2693182997508638,-1.6945406701465857,-1.6654886030470293,-0.8449708912564343,0.9057644458698647,0.4930488497054626,-0.514550577625808,0.08399712687451115,-0.7120181921708862,-0.22188650000595753,-0.996247575974823,-2.6283366939612494,-0.3806094830267701,0.1410881180140036,0.5544826175873403,0.32787605876710624,0.04302194321889322,1.4248894903070992,-1.2159827938969654,0.37057004231054885,-0.3998796372393718,0.09013059092878399,0.897677474178713,1.0996054030628408,0.04685669530975385,0.8705743484320358,-1.2928816250304203,-1.993744959568647,1.3576023433880942,0.5270461933088814,-1.1143133576599562,-0.4535757125183196,-1.9473052612596844,-0.1578392966742072,1.3490461776070415,0.49834492043962886,-0.3176243733857624,0.14317832901426178,1.9711251053897287,-0.6960179115421854,0.5202843097161529,0.7294212209929505,-0.02206115315984238,-1.7717378674646553,1.741175628507748,1.0629352168952446,0.1386737629402777,0.644833401664853,-1.158732454088803,-0.8893251447971611,-0.09115194355746586,-0.8369650243486435,0.18727737894972848,2.1398181622064754,0.9045169788207471,0.6135187489031853,-0.0163735787247299,-0.048123225921188305,-0.1934586058706064,-1.3068728615356302,-0.16814932656604875,-1.7608336285547592,-0.9560428706568221,-2.4038775493786373,-0.24616587387684877,0.9363418620845582],\"xaxis\":\"x2\",\"y\":[0.6609269625981522,-0.6283942023252015,0.5958289057467888,-0.25235480998017024,-0.4991144493410042,1.5167690595310814,1.5862310771988744,-2.0038547936463633,0.15151721273618973,0.2589386222594662,-0.8055696610930111,0.8312013344819981,0.1303733282983725,-1.0396818423548286,0.6530713205398567,-0.6505989805969854,-0.18596098484788937,0.6054617971802655,-0.2811898686118027,-0.13912634769480767,0.8446396122125646,-0.68578985663953,-0.6531203665961344,-1.6731759119240543,2.209985229565079,0.3404983837596926,-0.6791549259903613,0.626551904680079,0.4365449907031151,0.22223603549504206,-0.05514042399957164,-0.5478591051219441,-0.272608358787428,0.13624914914319483,2.0107444355148316,-1.1295515219688383,-1.9308731102338974,-0.869451665441127,0.24225048593408174,0.5277492128113745,-0.39944870589815207,-0.3028181745654215,-0.36208010777438204,-0.6371805534587353,-0.5694189831819202,1.461096225783802,-0.4994736094715912,0.29929114541333546,1.2041695390914506,-0.9793564598366558,0.01807837432378152,-1.103587706826982,-0.18817011528619612,2.5352245967487885,-1.4285113376487508,0.1361915367915166,0.9006406460730992,-0.5298534434558503,-1.213528288936742,1.8601487302024202,0.3695423990074541,1.296044763586415,0.1395186998537509,1.719413311595714,1.2114653178792933,0.03910624479884292,0.2545787261537919,0.023686667231006552,0.8541797670508043,0.4593274411390989,1.0033874555379092,-0.2873415179522952,-0.9384778704654327,-0.40658629235198673,-2.158070369516635,-1.0527523510456966,-1.210264349440857,-0.8228197170689329,0.1435983858401079,0.08212759198765562,0.5047104711807551,-0.1288060629054838,1.6932702499770058,-0.6471071694000822,-0.6856545007792552,-1.4449240018310907,0.05111083881877059,-0.08977932715227151,1.2448916134290704,-0.10907787099641833,0.41576838297650387,0.034355047528476276,1.737306222848453,1.2879506488485895,-0.5445920228908319,-0.011791285460258594,-1.3429356371363272,0.340923499794586,0.7271609744140205,0.11415981620587828],\"yaxis\":\"y2\",\"type\":\"scatter\"},{\"line\":{\"color\":\"rgba(128, 128, 128, 1.0)\",\"dash\":\"solid\",\"shape\":\"linear\",\"width\":1.3},\"marker\":{\"size\":2,\"symbol\":\"circle\"},\"mode\":\"markers\",\"name\":\"A\",\"text\":\"\",\"x\":[0.2439544173558018,-0.5684860107771211,-0.39898336378134686,1.470445041967711,-0.8773646037251458,-1.3143521510244864,-0.6404540305233106,0.4208695834921709,0.1369830135697895,0.16164426437240773,-0.48579684965386133,0.10355648639856779,-0.7710465929877407,-0.19655171644819658,-1.6874712292595653,0.16757349392598925,1.2352849658466538,1.9574703413992662,1.2545877496858209,-0.5533735282763952,-1.9491838402304684,1.244690755258954,-2.092936179509895,-0.49658554221157797,-0.10746330738245898,1.8763769603952432,-0.7580830324982493,0.06806291941946263,-0.6752128028794379,-0.27883481594403464,0.24875502527288698,0.9934733870085766,1.1283205574627364,-1.1035597601588403,0.2816885607013435,-0.8319620583099021,-0.40064131378379686,1.4038953274465265,1.3998944991431672,-1.601486589007531,0.47391924423921605,0.466746114389561,0.9706083084817316,-0.04422878710039364,1.2676192525955698,-0.639408276402107,0.07520932095837224,-0.31907617311424424,-1.27764933100713,-0.5735550334589399,-0.026513052803373932,0.14937265522033397,0.13953507121983863,0.41307879494989813,0.45338753498149464,0.6234672068628964,-2.2765535658276685,0.7274341648676981,1.004824722296655,0.3954456500779527,2.3305354500608817,-1.8379781873764833,-0.7011796333379808,-1.0694965445897895,-0.388901381539195,-1.0462176218354262,0.6491021007853509,-0.8977083133767135,-1.4110833048295905,0.7149029038856394,-0.3910418380594732,1.253219176603211,-1.0296354258652898,-1.2588421948687074,0.3838126435700305,2.1439286995244116,0.7971571704041353,2.237661163598857,0.6427542650076359,1.2442294164108993,-0.22921932764592964,-0.44381739891857996,0.3906272403800916,0.4019060087220604,-0.1757975914727586,0.39091530437661526,0.8840655686042812,0.05371136442471388,0.7474346171342512,0.8997005175577352,1.2818203813912323,2.450606354714322,0.11240836638800612,0.3887304812772784,0.11356804428669474,0.08523393662899097,0.7643488562233913,-0.5167860270016906,-0.9161526975648713,-0.09325293782302599],\"xaxis\":\"x3\",\"y\":[0.6609269625981522,-0.6283942023252015,0.5958289057467888,-0.25235480998017024,-0.4991144493410042,1.5167690595310814,1.5862310771988744,-2.0038547936463633,0.15151721273618973,0.2589386222594662,-0.8055696610930111,0.8312013344819981,0.1303733282983725,-1.0396818423548286,0.6530713205398567,-0.6505989805969854,-0.18596098484788937,0.6054617971802655,-0.2811898686118027,-0.13912634769480767,0.8446396122125646,-0.68578985663953,-0.6531203665961344,-1.6731759119240543,2.209985229565079,0.3404983837596926,-0.6791549259903613,0.626551904680079,0.4365449907031151,0.22223603549504206,-0.05514042399957164,-0.5478591051219441,-0.272608358787428,0.13624914914319483,2.0107444355148316,-1.1295515219688383,-1.9308731102338974,-0.869451665441127,0.24225048593408174,0.5277492128113745,-0.39944870589815207,-0.3028181745654215,-0.36208010777438204,-0.6371805534587353,-0.5694189831819202,1.461096225783802,-0.4994736094715912,0.29929114541333546,1.2041695390914506,-0.9793564598366558,0.01807837432378152,-1.103587706826982,-0.18817011528619612,2.5352245967487885,-1.4285113376487508,0.1361915367915166,0.9006406460730992,-0.5298534434558503,-1.213528288936742,1.8601487302024202,0.3695423990074541,1.296044763586415,0.1395186998537509,1.719413311595714,1.2114653178792933,0.03910624479884292,0.2545787261537919,0.023686667231006552,0.8541797670508043,0.4593274411390989,1.0033874555379092,-0.2873415179522952,-0.9384778704654327,-0.40658629235198673,-2.158070369516635,-1.0527523510456966,-1.210264349440857,-0.8228197170689329,0.1435983858401079,0.08212759198765562,0.5047104711807551,-0.1288060629054838,1.6932702499770058,-0.6471071694000822,-0.6856545007792552,-1.4449240018310907,0.05111083881877059,-0.08977932715227151,1.2448916134290704,-0.10907787099641833,0.41576838297650387,0.034355047528476276,1.737306222848453,1.2879506488485895,-0.5445920228908319,-0.011791285460258594,-1.3429356371363272,0.340923499794586,0.7271609744140205,0.11415981620587828],\"yaxis\":\"y3\",\"type\":\"scatter\"},{\"line\":{\"color\":\"rgba(128, 128, 128, 1.0)\",\"dash\":\"solid\",\"shape\":\"linear\",\"width\":1.3},\"marker\":{\"size\":2,\"symbol\":\"circle\"},\"mode\":\"markers\",\"name\":\"A\",\"text\":\"\",\"x\":[-0.38938243741545403,0.8489870102957672,-0.3037458275459016,-0.6601049835781777,2.3580169677027394,0.5199439178609391,-0.3264757284875137,0.08630614808557951,-0.07995943538715375,0.9075978302810658,-0.6869005754865015,0.5204940139574966,-1.4761755865027963,0.31485011426256515,-0.521991690547675,-0.8130119308449821,-0.8511772824913525,0.4412605402390498,0.20492502248403782,-0.7600969305704209,1.3650806344044095,1.5839595788195793,-0.9255533579202732,1.4260526921993562,0.2211794800671896,-1.0057678764610622,-0.3172025255670704,0.35567762720637663,-1.256020916493353,-0.9431848440272603,-0.44312395586168113,0.5413545937825133,0.29866464427822986,0.9309374378225036,1.0927320222137886,0.6816329826138551,0.16945769860772733,-1.0562541561312082,0.43800782817833045,-0.614934475248173,-1.842040183576977,-0.36461688319188806,0.11804081037877812,-1.927908187932504,0.3875613384845141,2.3166938534833545,0.25507309886563106,-0.06376455573532246,0.22324627350088297,0.057930036902700044,0.26628277279917173,1.2990220920644695,0.2628516155084871,-0.2704546918745566,0.5331619389656265,-0.7149920309330231,0.10510439172378729,0.041384538695561884,0.6962859355005034,0.13714925026171573,-0.6758391677591793,0.3911853570002575,2.090479530429213,0.5677335771284356,-0.5662444899254707,-0.2243214040452147,0.476652994096476,-0.6313101423242503,-1.0956168384509517,-0.3473630783534499,-0.0913453019635285,0.1660749685581784,-0.6324153506118001,1.336531017436755,-0.48529282414607117,0.05226631998588901,0.1786405084274815,1.4112386708662197,0.6557611592320337,-0.3601867173190986,0.44016375794179113,0.0625280426120296,-0.5805898085736471,-1.8303599503308512,0.35565673033556766,-1.7749873678146948,-0.008702600419621702,-0.946621571415386,0.28732863502550626,0.680168656572631,-1.639659854305356,-0.43267660234242605,0.7339263210111374,0.9403153768938592,0.03896750343386187,0.9915484870007537,-0.21926305314552225,1.5997595841722492,0.5061382897962495,0.11521369883971239],\"xaxis\":\"x4\",\"y\":[0.6609269625981522,-0.6283942023252015,0.5958289057467888,-0.25235480998017024,-0.4991144493410042,1.5167690595310814,1.5862310771988744,-2.0038547936463633,0.15151721273618973,0.2589386222594662,-0.8055696610930111,0.8312013344819981,0.1303733282983725,-1.0396818423548286,0.6530713205398567,-0.6505989805969854,-0.18596098484788937,0.6054617971802655,-0.2811898686118027,-0.13912634769480767,0.8446396122125646,-0.68578985663953,-0.6531203665961344,-1.6731759119240543,2.209985229565079,0.3404983837596926,-0.6791549259903613,0.626551904680079,0.4365449907031151,0.22223603549504206,-0.05514042399957164,-0.5478591051219441,-0.272608358787428,0.13624914914319483,2.0107444355148316,-1.1295515219688383,-1.9308731102338974,-0.869451665441127,0.24225048593408174,0.5277492128113745,-0.39944870589815207,-0.3028181745654215,-0.36208010777438204,-0.6371805534587353,-0.5694189831819202,1.461096225783802,-0.4994736094715912,0.29929114541333546,1.2041695390914506,-0.9793564598366558,0.01807837432378152,-1.103587706826982,-0.18817011528619612,2.5352245967487885,-1.4285113376487508,0.1361915367915166,0.9006406460730992,-0.5298534434558503,-1.213528288936742,1.8601487302024202,0.3695423990074541,1.296044763586415,0.1395186998537509,1.719413311595714,1.2114653178792933,0.03910624479884292,0.2545787261537919,0.023686667231006552,0.8541797670508043,0.4593274411390989,1.0033874555379092,-0.2873415179522952,-0.9384778704654327,-0.40658629235198673,-2.158070369516635,-1.0527523510456966,-1.210264349440857,-0.8228197170689329,0.1435983858401079,0.08212759198765562,0.5047104711807551,-0.1288060629054838,1.6932702499770058,-0.6471071694000822,-0.6856545007792552,-1.4449240018310907,0.05111083881877059,-0.08977932715227151,1.2448916134290704,-0.10907787099641833,0.41576838297650387,0.034355047528476276,1.737306222848453,1.2879506488485895,-0.5445920228908319,-0.011791285460258594,-1.3429356371363272,0.340923499794586,0.7271609744140205,0.11415981620587828],\"yaxis\":\"y4\",\"type\":\"scatter\"},{\"line\":{\"color\":\"rgba(128, 128, 128, 1.0)\",\"dash\":\"solid\",\"shape\":\"linear\",\"width\":1.3},\"marker\":{\"size\":2,\"symbol\":\"circle\"},\"mode\":\"markers\",\"name\":\"B\",\"text\":\"\",\"x\":[0.6609269625981522,-0.6283942023252015,0.5958289057467888,-0.25235480998017024,-0.4991144493410042,1.5167690595310814,1.5862310771988744,-2.0038547936463633,0.15151721273618973,0.2589386222594662,-0.8055696610930111,0.8312013344819981,0.1303733282983725,-1.0396818423548286,0.6530713205398567,-0.6505989805969854,-0.18596098484788937,0.6054617971802655,-0.2811898686118027,-0.13912634769480767,0.8446396122125646,-0.68578985663953,-0.6531203665961344,-1.6731759119240543,2.209985229565079,0.3404983837596926,-0.6791549259903613,0.626551904680079,0.4365449907031151,0.22223603549504206,-0.05514042399957164,-0.5478591051219441,-0.272608358787428,0.13624914914319483,2.0107444355148316,-1.1295515219688383,-1.9308731102338974,-0.869451665441127,0.24225048593408174,0.5277492128113745,-0.39944870589815207,-0.3028181745654215,-0.36208010777438204,-0.6371805534587353,-0.5694189831819202,1.461096225783802,-0.4994736094715912,0.29929114541333546,1.2041695390914506,-0.9793564598366558,0.01807837432378152,-1.103587706826982,-0.18817011528619612,2.5352245967487885,-1.4285113376487508,0.1361915367915166,0.9006406460730992,-0.5298534434558503,-1.213528288936742,1.8601487302024202,0.3695423990074541,1.296044763586415,0.1395186998537509,1.719413311595714,1.2114653178792933,0.03910624479884292,0.2545787261537919,0.023686667231006552,0.8541797670508043,0.4593274411390989,1.0033874555379092,-0.2873415179522952,-0.9384778704654327,-0.40658629235198673,-2.158070369516635,-1.0527523510456966,-1.210264349440857,-0.8228197170689329,0.1435983858401079,0.08212759198765562,0.5047104711807551,-0.1288060629054838,1.6932702499770058,-0.6471071694000822,-0.6856545007792552,-1.4449240018310907,0.05111083881877059,-0.08977932715227151,1.2448916134290704,-0.10907787099641833,0.41576838297650387,0.034355047528476276,1.737306222848453,1.2879506488485895,-0.5445920228908319,-0.011791285460258594,-1.3429356371363272,0.340923499794586,0.7271609744140205,0.11415981620587828],\"xaxis\":\"x5\",\"y\":[2.1369138719324097,1.1218232241102921,0.26572688661593546,-0.6305003101378791,2.167181040671889,-0.23150609074463332,1.5260914845192142,1.8996590584310187,-0.5308756528251863,-1.1285592958279023,-0.7791266507171293,-1.6911442048922218,0.03259993470017688,-1.5301542368770833,-0.943124496564741,0.6401111021980387,0.5555916097716914,-0.47944004993930484,-0.3734154861180155,-2.3193218374592033,-0.25769903978196274,1.0901689928043339,-0.3787309412507085,0.6941815251138934,-0.41055317577509276,-0.7938391689626703,-0.09216651037745185,1.0536237513050577,-0.01771299556433199,-1.1354493905039764,0.36405402739491627,-0.25022937939597756,1.5460158671741624,-0.08797194860936755,-0.2693182997508638,-1.6945406701465857,-1.6654886030470293,-0.8449708912564343,0.9057644458698647,0.4930488497054626,-0.514550577625808,0.08399712687451115,-0.7120181921708862,-0.22188650000595753,-0.996247575974823,-2.6283366939612494,-0.3806094830267701,0.1410881180140036,0.5544826175873403,0.32787605876710624,0.04302194321889322,1.4248894903070992,-1.2159827938969654,0.37057004231054885,-0.3998796372393718,0.09013059092878399,0.897677474178713,1.0996054030628408,0.04685669530975385,0.8705743484320358,-1.2928816250304203,-1.993744959568647,1.3576023433880942,0.5270461933088814,-1.1143133576599562,-0.4535757125183196,-1.9473052612596844,-0.1578392966742072,1.3490461776070415,0.49834492043962886,-0.3176243733857624,0.14317832901426178,1.9711251053897287,-0.6960179115421854,0.5202843097161529,0.7294212209929505,-0.02206115315984238,-1.7717378674646553,1.741175628507748,1.0629352168952446,0.1386737629402777,0.644833401664853,-1.158732454088803,-0.8893251447971611,-0.09115194355746586,-0.8369650243486435,0.18727737894972848,2.1398181622064754,0.9045169788207471,0.6135187489031853,-0.0163735787247299,-0.048123225921188305,-0.1934586058706064,-1.3068728615356302,-0.16814932656604875,-1.7608336285547592,-0.9560428706568221,-2.4038775493786373,-0.24616587387684877,0.9363418620845582],\"yaxis\":\"y5\",\"type\":\"scatter\"},{\"histfunc\":\"count\",\"histnorm\":\"\",\"marker\":{\"color\":\"rgba(55, 128, 191, 1.0)\",\"line\":{\"color\":\"#4D5663\",\"width\":1.3}},\"name\":\"B\",\"nbinsx\":10,\"opacity\":0.8,\"orientation\":\"v\",\"x\":[2.1369138719324097,1.1218232241102921,0.26572688661593546,-0.6305003101378791,2.167181040671889,-0.23150609074463332,1.5260914845192142,1.8996590584310187,-0.5308756528251863,-1.1285592958279023,-0.7791266507171293,-1.6911442048922218,0.03259993470017688,-1.5301542368770833,-0.943124496564741,0.6401111021980387,0.5555916097716914,-0.47944004993930484,-0.3734154861180155,-2.3193218374592033,-0.25769903978196274,1.0901689928043339,-0.3787309412507085,0.6941815251138934,-0.41055317577509276,-0.7938391689626703,-0.09216651037745185,1.0536237513050577,-0.01771299556433199,-1.1354493905039764,0.36405402739491627,-0.25022937939597756,1.5460158671741624,-0.08797194860936755,-0.2693182997508638,-1.6945406701465857,-1.6654886030470293,-0.8449708912564343,0.9057644458698647,0.4930488497054626,-0.514550577625808,0.08399712687451115,-0.7120181921708862,-0.22188650000595753,-0.996247575974823,-2.6283366939612494,-0.3806094830267701,0.1410881180140036,0.5544826175873403,0.32787605876710624,0.04302194321889322,1.4248894903070992,-1.2159827938969654,0.37057004231054885,-0.3998796372393718,0.09013059092878399,0.897677474178713,1.0996054030628408,0.04685669530975385,0.8705743484320358,-1.2928816250304203,-1.993744959568647,1.3576023433880942,0.5270461933088814,-1.1143133576599562,-0.4535757125183196,-1.9473052612596844,-0.1578392966742072,1.3490461776070415,0.49834492043962886,-0.3176243733857624,0.14317832901426178,1.9711251053897287,-0.6960179115421854,0.5202843097161529,0.7294212209929505,-0.02206115315984238,-1.7717378674646553,1.741175628507748,1.0629352168952446,0.1386737629402777,0.644833401664853,-1.158732454088803,-0.8893251447971611,-0.09115194355746586,-0.8369650243486435,0.18727737894972848,2.1398181622064754,0.9045169788207471,0.6135187489031853,-0.0163735787247299,-0.048123225921188305,-0.1934586058706064,-1.3068728615356302,-0.16814932656604875,-1.7608336285547592,-0.9560428706568221,-2.4038775493786373,-0.24616587387684877,0.9363418620845582],\"xaxis\":\"x6\",\"yaxis\":\"y6\",\"type\":\"histogram\"},{\"line\":{\"color\":\"rgba(128, 128, 128, 1.0)\",\"dash\":\"solid\",\"shape\":\"linear\",\"width\":1.3},\"marker\":{\"size\":2,\"symbol\":\"circle\"},\"mode\":\"markers\",\"name\":\"B\",\"text\":\"\",\"x\":[0.2439544173558018,-0.5684860107771211,-0.39898336378134686,1.470445041967711,-0.8773646037251458,-1.3143521510244864,-0.6404540305233106,0.4208695834921709,0.1369830135697895,0.16164426437240773,-0.48579684965386133,0.10355648639856779,-0.7710465929877407,-0.19655171644819658,-1.6874712292595653,0.16757349392598925,1.2352849658466538,1.9574703413992662,1.2545877496858209,-0.5533735282763952,-1.9491838402304684,1.244690755258954,-2.092936179509895,-0.49658554221157797,-0.10746330738245898,1.8763769603952432,-0.7580830324982493,0.06806291941946263,-0.6752128028794379,-0.27883481594403464,0.24875502527288698,0.9934733870085766,1.1283205574627364,-1.1035597601588403,0.2816885607013435,-0.8319620583099021,-0.40064131378379686,1.4038953274465265,1.3998944991431672,-1.601486589007531,0.47391924423921605,0.466746114389561,0.9706083084817316,-0.04422878710039364,1.2676192525955698,-0.639408276402107,0.07520932095837224,-0.31907617311424424,-1.27764933100713,-0.5735550334589399,-0.026513052803373932,0.14937265522033397,0.13953507121983863,0.41307879494989813,0.45338753498149464,0.6234672068628964,-2.2765535658276685,0.7274341648676981,1.004824722296655,0.3954456500779527,2.3305354500608817,-1.8379781873764833,-0.7011796333379808,-1.0694965445897895,-0.388901381539195,-1.0462176218354262,0.6491021007853509,-0.8977083133767135,-1.4110833048295905,0.7149029038856394,-0.3910418380594732,1.253219176603211,-1.0296354258652898,-1.2588421948687074,0.3838126435700305,2.1439286995244116,0.7971571704041353,2.237661163598857,0.6427542650076359,1.2442294164108993,-0.22921932764592964,-0.44381739891857996,0.3906272403800916,0.4019060087220604,-0.1757975914727586,0.39091530437661526,0.8840655686042812,0.05371136442471388,0.7474346171342512,0.8997005175577352,1.2818203813912323,2.450606354714322,0.11240836638800612,0.3887304812772784,0.11356804428669474,0.08523393662899097,0.7643488562233913,-0.5167860270016906,-0.9161526975648713,-0.09325293782302599],\"xaxis\":\"x7\",\"y\":[2.1369138719324097,1.1218232241102921,0.26572688661593546,-0.6305003101378791,2.167181040671889,-0.23150609074463332,1.5260914845192142,1.8996590584310187,-0.5308756528251863,-1.1285592958279023,-0.7791266507171293,-1.6911442048922218,0.03259993470017688,-1.5301542368770833,-0.943124496564741,0.6401111021980387,0.5555916097716914,-0.47944004993930484,-0.3734154861180155,-2.3193218374592033,-0.25769903978196274,1.0901689928043339,-0.3787309412507085,0.6941815251138934,-0.41055317577509276,-0.7938391689626703,-0.09216651037745185,1.0536237513050577,-0.01771299556433199,-1.1354493905039764,0.36405402739491627,-0.25022937939597756,1.5460158671741624,-0.08797194860936755,-0.2693182997508638,-1.6945406701465857,-1.6654886030470293,-0.8449708912564343,0.9057644458698647,0.4930488497054626,-0.514550577625808,0.08399712687451115,-0.7120181921708862,-0.22188650000595753,-0.996247575974823,-2.6283366939612494,-0.3806094830267701,0.1410881180140036,0.5544826175873403,0.32787605876710624,0.04302194321889322,1.4248894903070992,-1.2159827938969654,0.37057004231054885,-0.3998796372393718,0.09013059092878399,0.897677474178713,1.0996054030628408,0.04685669530975385,0.8705743484320358,-1.2928816250304203,-1.993744959568647,1.3576023433880942,0.5270461933088814,-1.1143133576599562,-0.4535757125183196,-1.9473052612596844,-0.1578392966742072,1.3490461776070415,0.49834492043962886,-0.3176243733857624,0.14317832901426178,1.9711251053897287,-0.6960179115421854,0.5202843097161529,0.7294212209929505,-0.02206115315984238,-1.7717378674646553,1.741175628507748,1.0629352168952446,0.1386737629402777,0.644833401664853,-1.158732454088803,-0.8893251447971611,-0.09115194355746586,-0.8369650243486435,0.18727737894972848,2.1398181622064754,0.9045169788207471,0.6135187489031853,-0.0163735787247299,-0.048123225921188305,-0.1934586058706064,-1.3068728615356302,-0.16814932656604875,-1.7608336285547592,-0.9560428706568221,-2.4038775493786373,-0.24616587387684877,0.9363418620845582],\"yaxis\":\"y7\",\"type\":\"scatter\"},{\"line\":{\"color\":\"rgba(128, 128, 128, 1.0)\",\"dash\":\"solid\",\"shape\":\"linear\",\"width\":1.3},\"marker\":{\"size\":2,\"symbol\":\"circle\"},\"mode\":\"markers\",\"name\":\"B\",\"text\":\"\",\"x\":[-0.38938243741545403,0.8489870102957672,-0.3037458275459016,-0.6601049835781777,2.3580169677027394,0.5199439178609391,-0.3264757284875137,0.08630614808557951,-0.07995943538715375,0.9075978302810658,-0.6869005754865015,0.5204940139574966,-1.4761755865027963,0.31485011426256515,-0.521991690547675,-0.8130119308449821,-0.8511772824913525,0.4412605402390498,0.20492502248403782,-0.7600969305704209,1.3650806344044095,1.5839595788195793,-0.9255533579202732,1.4260526921993562,0.2211794800671896,-1.0057678764610622,-0.3172025255670704,0.35567762720637663,-1.256020916493353,-0.9431848440272603,-0.44312395586168113,0.5413545937825133,0.29866464427822986,0.9309374378225036,1.0927320222137886,0.6816329826138551,0.16945769860772733,-1.0562541561312082,0.43800782817833045,-0.614934475248173,-1.842040183576977,-0.36461688319188806,0.11804081037877812,-1.927908187932504,0.3875613384845141,2.3166938534833545,0.25507309886563106,-0.06376455573532246,0.22324627350088297,0.057930036902700044,0.26628277279917173,1.2990220920644695,0.2628516155084871,-0.2704546918745566,0.5331619389656265,-0.7149920309330231,0.10510439172378729,0.041384538695561884,0.6962859355005034,0.13714925026171573,-0.6758391677591793,0.3911853570002575,2.090479530429213,0.5677335771284356,-0.5662444899254707,-0.2243214040452147,0.476652994096476,-0.6313101423242503,-1.0956168384509517,-0.3473630783534499,-0.0913453019635285,0.1660749685581784,-0.6324153506118001,1.336531017436755,-0.48529282414607117,0.05226631998588901,0.1786405084274815,1.4112386708662197,0.6557611592320337,-0.3601867173190986,0.44016375794179113,0.0625280426120296,-0.5805898085736471,-1.8303599503308512,0.35565673033556766,-1.7749873678146948,-0.008702600419621702,-0.946621571415386,0.28732863502550626,0.680168656572631,-1.639659854305356,-0.43267660234242605,0.7339263210111374,0.9403153768938592,0.03896750343386187,0.9915484870007537,-0.21926305314552225,1.5997595841722492,0.5061382897962495,0.11521369883971239],\"xaxis\":\"x8\",\"y\":[2.1369138719324097,1.1218232241102921,0.26572688661593546,-0.6305003101378791,2.167181040671889,-0.23150609074463332,1.5260914845192142,1.8996590584310187,-0.5308756528251863,-1.1285592958279023,-0.7791266507171293,-1.6911442048922218,0.03259993470017688,-1.5301542368770833,-0.943124496564741,0.6401111021980387,0.5555916097716914,-0.47944004993930484,-0.3734154861180155,-2.3193218374592033,-0.25769903978196274,1.0901689928043339,-0.3787309412507085,0.6941815251138934,-0.41055317577509276,-0.7938391689626703,-0.09216651037745185,1.0536237513050577,-0.01771299556433199,-1.1354493905039764,0.36405402739491627,-0.25022937939597756,1.5460158671741624,-0.08797194860936755,-0.2693182997508638,-1.6945406701465857,-1.6654886030470293,-0.8449708912564343,0.9057644458698647,0.4930488497054626,-0.514550577625808,0.08399712687451115,-0.7120181921708862,-0.22188650000595753,-0.996247575974823,-2.6283366939612494,-0.3806094830267701,0.1410881180140036,0.5544826175873403,0.32787605876710624,0.04302194321889322,1.4248894903070992,-1.2159827938969654,0.37057004231054885,-0.3998796372393718,0.09013059092878399,0.897677474178713,1.0996054030628408,0.04685669530975385,0.8705743484320358,-1.2928816250304203,-1.993744959568647,1.3576023433880942,0.5270461933088814,-1.1143133576599562,-0.4535757125183196,-1.9473052612596844,-0.1578392966742072,1.3490461776070415,0.49834492043962886,-0.3176243733857624,0.14317832901426178,1.9711251053897287,-0.6960179115421854,0.5202843097161529,0.7294212209929505,-0.02206115315984238,-1.7717378674646553,1.741175628507748,1.0629352168952446,0.1386737629402777,0.644833401664853,-1.158732454088803,-0.8893251447971611,-0.09115194355746586,-0.8369650243486435,0.18727737894972848,2.1398181622064754,0.9045169788207471,0.6135187489031853,-0.0163735787247299,-0.048123225921188305,-0.1934586058706064,-1.3068728615356302,-0.16814932656604875,-1.7608336285547592,-0.9560428706568221,-2.4038775493786373,-0.24616587387684877,0.9363418620845582],\"yaxis\":\"y8\",\"type\":\"scatter\"},{\"line\":{\"color\":\"rgba(128, 128, 128, 1.0)\",\"dash\":\"solid\",\"shape\":\"linear\",\"width\":1.3},\"marker\":{\"size\":2,\"symbol\":\"circle\"},\"mode\":\"markers\",\"name\":\"C\",\"text\":\"\",\"x\":[0.6609269625981522,-0.6283942023252015,0.5958289057467888,-0.25235480998017024,-0.4991144493410042,1.5167690595310814,1.5862310771988744,-2.0038547936463633,0.15151721273618973,0.2589386222594662,-0.8055696610930111,0.8312013344819981,0.1303733282983725,-1.0396818423548286,0.6530713205398567,-0.6505989805969854,-0.18596098484788937,0.6054617971802655,-0.2811898686118027,-0.13912634769480767,0.8446396122125646,-0.68578985663953,-0.6531203665961344,-1.6731759119240543,2.209985229565079,0.3404983837596926,-0.6791549259903613,0.626551904680079,0.4365449907031151,0.22223603549504206,-0.05514042399957164,-0.5478591051219441,-0.272608358787428,0.13624914914319483,2.0107444355148316,-1.1295515219688383,-1.9308731102338974,-0.869451665441127,0.24225048593408174,0.5277492128113745,-0.39944870589815207,-0.3028181745654215,-0.36208010777438204,-0.6371805534587353,-0.5694189831819202,1.461096225783802,-0.4994736094715912,0.29929114541333546,1.2041695390914506,-0.9793564598366558,0.01807837432378152,-1.103587706826982,-0.18817011528619612,2.5352245967487885,-1.4285113376487508,0.1361915367915166,0.9006406460730992,-0.5298534434558503,-1.213528288936742,1.8601487302024202,0.3695423990074541,1.296044763586415,0.1395186998537509,1.719413311595714,1.2114653178792933,0.03910624479884292,0.2545787261537919,0.023686667231006552,0.8541797670508043,0.4593274411390989,1.0033874555379092,-0.2873415179522952,-0.9384778704654327,-0.40658629235198673,-2.158070369516635,-1.0527523510456966,-1.210264349440857,-0.8228197170689329,0.1435983858401079,0.08212759198765562,0.5047104711807551,-0.1288060629054838,1.6932702499770058,-0.6471071694000822,-0.6856545007792552,-1.4449240018310907,0.05111083881877059,-0.08977932715227151,1.2448916134290704,-0.10907787099641833,0.41576838297650387,0.034355047528476276,1.737306222848453,1.2879506488485895,-0.5445920228908319,-0.011791285460258594,-1.3429356371363272,0.340923499794586,0.7271609744140205,0.11415981620587828],\"xaxis\":\"x9\",\"y\":[0.2439544173558018,-0.5684860107771211,-0.39898336378134686,1.470445041967711,-0.8773646037251458,-1.3143521510244864,-0.6404540305233106,0.4208695834921709,0.1369830135697895,0.16164426437240773,-0.48579684965386133,0.10355648639856779,-0.7710465929877407,-0.19655171644819658,-1.6874712292595653,0.16757349392598925,1.2352849658466538,1.9574703413992662,1.2545877496858209,-0.5533735282763952,-1.9491838402304684,1.244690755258954,-2.092936179509895,-0.49658554221157797,-0.10746330738245898,1.8763769603952432,-0.7580830324982493,0.06806291941946263,-0.6752128028794379,-0.27883481594403464,0.24875502527288698,0.9934733870085766,1.1283205574627364,-1.1035597601588403,0.2816885607013435,-0.8319620583099021,-0.40064131378379686,1.4038953274465265,1.3998944991431672,-1.601486589007531,0.47391924423921605,0.466746114389561,0.9706083084817316,-0.04422878710039364,1.2676192525955698,-0.639408276402107,0.07520932095837224,-0.31907617311424424,-1.27764933100713,-0.5735550334589399,-0.026513052803373932,0.14937265522033397,0.13953507121983863,0.41307879494989813,0.45338753498149464,0.6234672068628964,-2.2765535658276685,0.7274341648676981,1.004824722296655,0.3954456500779527,2.3305354500608817,-1.8379781873764833,-0.7011796333379808,-1.0694965445897895,-0.388901381539195,-1.0462176218354262,0.6491021007853509,-0.8977083133767135,-1.4110833048295905,0.7149029038856394,-0.3910418380594732,1.253219176603211,-1.0296354258652898,-1.2588421948687074,0.3838126435700305,2.1439286995244116,0.7971571704041353,2.237661163598857,0.6427542650076359,1.2442294164108993,-0.22921932764592964,-0.44381739891857996,0.3906272403800916,0.4019060087220604,-0.1757975914727586,0.39091530437661526,0.8840655686042812,0.05371136442471388,0.7474346171342512,0.8997005175577352,1.2818203813912323,2.450606354714322,0.11240836638800612,0.3887304812772784,0.11356804428669474,0.08523393662899097,0.7643488562233913,-0.5167860270016906,-0.9161526975648713,-0.09325293782302599],\"yaxis\":\"y9\",\"type\":\"scatter\"},{\"line\":{\"color\":\"rgba(128, 128, 128, 1.0)\",\"dash\":\"solid\",\"shape\":\"linear\",\"width\":1.3},\"marker\":{\"size\":2,\"symbol\":\"circle\"},\"mode\":\"markers\",\"name\":\"C\",\"text\":\"\",\"x\":[2.1369138719324097,1.1218232241102921,0.26572688661593546,-0.6305003101378791,2.167181040671889,-0.23150609074463332,1.5260914845192142,1.8996590584310187,-0.5308756528251863,-1.1285592958279023,-0.7791266507171293,-1.6911442048922218,0.03259993470017688,-1.5301542368770833,-0.943124496564741,0.6401111021980387,0.5555916097716914,-0.47944004993930484,-0.3734154861180155,-2.3193218374592033,-0.25769903978196274,1.0901689928043339,-0.3787309412507085,0.6941815251138934,-0.41055317577509276,-0.7938391689626703,-0.09216651037745185,1.0536237513050577,-0.01771299556433199,-1.1354493905039764,0.36405402739491627,-0.25022937939597756,1.5460158671741624,-0.08797194860936755,-0.2693182997508638,-1.6945406701465857,-1.6654886030470293,-0.8449708912564343,0.9057644458698647,0.4930488497054626,-0.514550577625808,0.08399712687451115,-0.7120181921708862,-0.22188650000595753,-0.996247575974823,-2.6283366939612494,-0.3806094830267701,0.1410881180140036,0.5544826175873403,0.32787605876710624,0.04302194321889322,1.4248894903070992,-1.2159827938969654,0.37057004231054885,-0.3998796372393718,0.09013059092878399,0.897677474178713,1.0996054030628408,0.04685669530975385,0.8705743484320358,-1.2928816250304203,-1.993744959568647,1.3576023433880942,0.5270461933088814,-1.1143133576599562,-0.4535757125183196,-1.9473052612596844,-0.1578392966742072,1.3490461776070415,0.49834492043962886,-0.3176243733857624,0.14317832901426178,1.9711251053897287,-0.6960179115421854,0.5202843097161529,0.7294212209929505,-0.02206115315984238,-1.7717378674646553,1.741175628507748,1.0629352168952446,0.1386737629402777,0.644833401664853,-1.158732454088803,-0.8893251447971611,-0.09115194355746586,-0.8369650243486435,0.18727737894972848,2.1398181622064754,0.9045169788207471,0.6135187489031853,-0.0163735787247299,-0.048123225921188305,-0.1934586058706064,-1.3068728615356302,-0.16814932656604875,-1.7608336285547592,-0.9560428706568221,-2.4038775493786373,-0.24616587387684877,0.9363418620845582],\"xaxis\":\"x10\",\"y\":[0.2439544173558018,-0.5684860107771211,-0.39898336378134686,1.470445041967711,-0.8773646037251458,-1.3143521510244864,-0.6404540305233106,0.4208695834921709,0.1369830135697895,0.16164426437240773,-0.48579684965386133,0.10355648639856779,-0.7710465929877407,-0.19655171644819658,-1.6874712292595653,0.16757349392598925,1.2352849658466538,1.9574703413992662,1.2545877496858209,-0.5533735282763952,-1.9491838402304684,1.244690755258954,-2.092936179509895,-0.49658554221157797,-0.10746330738245898,1.8763769603952432,-0.7580830324982493,0.06806291941946263,-0.6752128028794379,-0.27883481594403464,0.24875502527288698,0.9934733870085766,1.1283205574627364,-1.1035597601588403,0.2816885607013435,-0.8319620583099021,-0.40064131378379686,1.4038953274465265,1.3998944991431672,-1.601486589007531,0.47391924423921605,0.466746114389561,0.9706083084817316,-0.04422878710039364,1.2676192525955698,-0.639408276402107,0.07520932095837224,-0.31907617311424424,-1.27764933100713,-0.5735550334589399,-0.026513052803373932,0.14937265522033397,0.13953507121983863,0.41307879494989813,0.45338753498149464,0.6234672068628964,-2.2765535658276685,0.7274341648676981,1.004824722296655,0.3954456500779527,2.3305354500608817,-1.8379781873764833,-0.7011796333379808,-1.0694965445897895,-0.388901381539195,-1.0462176218354262,0.6491021007853509,-0.8977083133767135,-1.4110833048295905,0.7149029038856394,-0.3910418380594732,1.253219176603211,-1.0296354258652898,-1.2588421948687074,0.3838126435700305,2.1439286995244116,0.7971571704041353,2.237661163598857,0.6427542650076359,1.2442294164108993,-0.22921932764592964,-0.44381739891857996,0.3906272403800916,0.4019060087220604,-0.1757975914727586,0.39091530437661526,0.8840655686042812,0.05371136442471388,0.7474346171342512,0.8997005175577352,1.2818203813912323,2.450606354714322,0.11240836638800612,0.3887304812772784,0.11356804428669474,0.08523393662899097,0.7643488562233913,-0.5167860270016906,-0.9161526975648713,-0.09325293782302599],\"yaxis\":\"y10\",\"type\":\"scatter\"},{\"histfunc\":\"count\",\"histnorm\":\"\",\"marker\":{\"color\":\"rgba(50, 171, 96, 1.0)\",\"line\":{\"color\":\"#4D5663\",\"width\":1.3}},\"name\":\"C\",\"nbinsx\":10,\"opacity\":0.8,\"orientation\":\"v\",\"x\":[0.2439544173558018,-0.5684860107771211,-0.39898336378134686,1.470445041967711,-0.8773646037251458,-1.3143521510244864,-0.6404540305233106,0.4208695834921709,0.1369830135697895,0.16164426437240773,-0.48579684965386133,0.10355648639856779,-0.7710465929877407,-0.19655171644819658,-1.6874712292595653,0.16757349392598925,1.2352849658466538,1.9574703413992662,1.2545877496858209,-0.5533735282763952,-1.9491838402304684,1.244690755258954,-2.092936179509895,-0.49658554221157797,-0.10746330738245898,1.8763769603952432,-0.7580830324982493,0.06806291941946263,-0.6752128028794379,-0.27883481594403464,0.24875502527288698,0.9934733870085766,1.1283205574627364,-1.1035597601588403,0.2816885607013435,-0.8319620583099021,-0.40064131378379686,1.4038953274465265,1.3998944991431672,-1.601486589007531,0.47391924423921605,0.466746114389561,0.9706083084817316,-0.04422878710039364,1.2676192525955698,-0.639408276402107,0.07520932095837224,-0.31907617311424424,-1.27764933100713,-0.5735550334589399,-0.026513052803373932,0.14937265522033397,0.13953507121983863,0.41307879494989813,0.45338753498149464,0.6234672068628964,-2.2765535658276685,0.7274341648676981,1.004824722296655,0.3954456500779527,2.3305354500608817,-1.8379781873764833,-0.7011796333379808,-1.0694965445897895,-0.388901381539195,-1.0462176218354262,0.6491021007853509,-0.8977083133767135,-1.4110833048295905,0.7149029038856394,-0.3910418380594732,1.253219176603211,-1.0296354258652898,-1.2588421948687074,0.3838126435700305,2.1439286995244116,0.7971571704041353,2.237661163598857,0.6427542650076359,1.2442294164108993,-0.22921932764592964,-0.44381739891857996,0.3906272403800916,0.4019060087220604,-0.1757975914727586,0.39091530437661526,0.8840655686042812,0.05371136442471388,0.7474346171342512,0.8997005175577352,1.2818203813912323,2.450606354714322,0.11240836638800612,0.3887304812772784,0.11356804428669474,0.08523393662899097,0.7643488562233913,-0.5167860270016906,-0.9161526975648713,-0.09325293782302599],\"xaxis\":\"x11\",\"yaxis\":\"y11\",\"type\":\"histogram\"},{\"line\":{\"color\":\"rgba(128, 128, 128, 1.0)\",\"dash\":\"solid\",\"shape\":\"linear\",\"width\":1.3},\"marker\":{\"size\":2,\"symbol\":\"circle\"},\"mode\":\"markers\",\"name\":\"C\",\"text\":\"\",\"x\":[-0.38938243741545403,0.8489870102957672,-0.3037458275459016,-0.6601049835781777,2.3580169677027394,0.5199439178609391,-0.3264757284875137,0.08630614808557951,-0.07995943538715375,0.9075978302810658,-0.6869005754865015,0.5204940139574966,-1.4761755865027963,0.31485011426256515,-0.521991690547675,-0.8130119308449821,-0.8511772824913525,0.4412605402390498,0.20492502248403782,-0.7600969305704209,1.3650806344044095,1.5839595788195793,-0.9255533579202732,1.4260526921993562,0.2211794800671896,-1.0057678764610622,-0.3172025255670704,0.35567762720637663,-1.256020916493353,-0.9431848440272603,-0.44312395586168113,0.5413545937825133,0.29866464427822986,0.9309374378225036,1.0927320222137886,0.6816329826138551,0.16945769860772733,-1.0562541561312082,0.43800782817833045,-0.614934475248173,-1.842040183576977,-0.36461688319188806,0.11804081037877812,-1.927908187932504,0.3875613384845141,2.3166938534833545,0.25507309886563106,-0.06376455573532246,0.22324627350088297,0.057930036902700044,0.26628277279917173,1.2990220920644695,0.2628516155084871,-0.2704546918745566,0.5331619389656265,-0.7149920309330231,0.10510439172378729,0.041384538695561884,0.6962859355005034,0.13714925026171573,-0.6758391677591793,0.3911853570002575,2.090479530429213,0.5677335771284356,-0.5662444899254707,-0.2243214040452147,0.476652994096476,-0.6313101423242503,-1.0956168384509517,-0.3473630783534499,-0.0913453019635285,0.1660749685581784,-0.6324153506118001,1.336531017436755,-0.48529282414607117,0.05226631998588901,0.1786405084274815,1.4112386708662197,0.6557611592320337,-0.3601867173190986,0.44016375794179113,0.0625280426120296,-0.5805898085736471,-1.8303599503308512,0.35565673033556766,-1.7749873678146948,-0.008702600419621702,-0.946621571415386,0.28732863502550626,0.680168656572631,-1.639659854305356,-0.43267660234242605,0.7339263210111374,0.9403153768938592,0.03896750343386187,0.9915484870007537,-0.21926305314552225,1.5997595841722492,0.5061382897962495,0.11521369883971239],\"xaxis\":\"x12\",\"y\":[0.2439544173558018,-0.5684860107771211,-0.39898336378134686,1.470445041967711,-0.8773646037251458,-1.3143521510244864,-0.6404540305233106,0.4208695834921709,0.1369830135697895,0.16164426437240773,-0.48579684965386133,0.10355648639856779,-0.7710465929877407,-0.19655171644819658,-1.6874712292595653,0.16757349392598925,1.2352849658466538,1.9574703413992662,1.2545877496858209,-0.5533735282763952,-1.9491838402304684,1.244690755258954,-2.092936179509895,-0.49658554221157797,-0.10746330738245898,1.8763769603952432,-0.7580830324982493,0.06806291941946263,-0.6752128028794379,-0.27883481594403464,0.24875502527288698,0.9934733870085766,1.1283205574627364,-1.1035597601588403,0.2816885607013435,-0.8319620583099021,-0.40064131378379686,1.4038953274465265,1.3998944991431672,-1.601486589007531,0.47391924423921605,0.466746114389561,0.9706083084817316,-0.04422878710039364,1.2676192525955698,-0.639408276402107,0.07520932095837224,-0.31907617311424424,-1.27764933100713,-0.5735550334589399,-0.026513052803373932,0.14937265522033397,0.13953507121983863,0.41307879494989813,0.45338753498149464,0.6234672068628964,-2.2765535658276685,0.7274341648676981,1.004824722296655,0.3954456500779527,2.3305354500608817,-1.8379781873764833,-0.7011796333379808,-1.0694965445897895,-0.388901381539195,-1.0462176218354262,0.6491021007853509,-0.8977083133767135,-1.4110833048295905,0.7149029038856394,-0.3910418380594732,1.253219176603211,-1.0296354258652898,-1.2588421948687074,0.3838126435700305,2.1439286995244116,0.7971571704041353,2.237661163598857,0.6427542650076359,1.2442294164108993,-0.22921932764592964,-0.44381739891857996,0.3906272403800916,0.4019060087220604,-0.1757975914727586,0.39091530437661526,0.8840655686042812,0.05371136442471388,0.7474346171342512,0.8997005175577352,1.2818203813912323,2.450606354714322,0.11240836638800612,0.3887304812772784,0.11356804428669474,0.08523393662899097,0.7643488562233913,-0.5167860270016906,-0.9161526975648713,-0.09325293782302599],\"yaxis\":\"y12\",\"type\":\"scatter\"},{\"line\":{\"color\":\"rgba(128, 128, 128, 1.0)\",\"dash\":\"solid\",\"shape\":\"linear\",\"width\":1.3},\"marker\":{\"size\":2,\"symbol\":\"circle\"},\"mode\":\"markers\",\"name\":\"D\",\"text\":\"\",\"x\":[0.6609269625981522,-0.6283942023252015,0.5958289057467888,-0.25235480998017024,-0.4991144493410042,1.5167690595310814,1.5862310771988744,-2.0038547936463633,0.15151721273618973,0.2589386222594662,-0.8055696610930111,0.8312013344819981,0.1303733282983725,-1.0396818423548286,0.6530713205398567,-0.6505989805969854,-0.18596098484788937,0.6054617971802655,-0.2811898686118027,-0.13912634769480767,0.8446396122125646,-0.68578985663953,-0.6531203665961344,-1.6731759119240543,2.209985229565079,0.3404983837596926,-0.6791549259903613,0.626551904680079,0.4365449907031151,0.22223603549504206,-0.05514042399957164,-0.5478591051219441,-0.272608358787428,0.13624914914319483,2.0107444355148316,-1.1295515219688383,-1.9308731102338974,-0.869451665441127,0.24225048593408174,0.5277492128113745,-0.39944870589815207,-0.3028181745654215,-0.36208010777438204,-0.6371805534587353,-0.5694189831819202,1.461096225783802,-0.4994736094715912,0.29929114541333546,1.2041695390914506,-0.9793564598366558,0.01807837432378152,-1.103587706826982,-0.18817011528619612,2.5352245967487885,-1.4285113376487508,0.1361915367915166,0.9006406460730992,-0.5298534434558503,-1.213528288936742,1.8601487302024202,0.3695423990074541,1.296044763586415,0.1395186998537509,1.719413311595714,1.2114653178792933,0.03910624479884292,0.2545787261537919,0.023686667231006552,0.8541797670508043,0.4593274411390989,1.0033874555379092,-0.2873415179522952,-0.9384778704654327,-0.40658629235198673,-2.158070369516635,-1.0527523510456966,-1.210264349440857,-0.8228197170689329,0.1435983858401079,0.08212759198765562,0.5047104711807551,-0.1288060629054838,1.6932702499770058,-0.6471071694000822,-0.6856545007792552,-1.4449240018310907,0.05111083881877059,-0.08977932715227151,1.2448916134290704,-0.10907787099641833,0.41576838297650387,0.034355047528476276,1.737306222848453,1.2879506488485895,-0.5445920228908319,-0.011791285460258594,-1.3429356371363272,0.340923499794586,0.7271609744140205,0.11415981620587828],\"xaxis\":\"x13\",\"y\":[-0.38938243741545403,0.8489870102957672,-0.3037458275459016,-0.6601049835781777,2.3580169677027394,0.5199439178609391,-0.3264757284875137,0.08630614808557951,-0.07995943538715375,0.9075978302810658,-0.6869005754865015,0.5204940139574966,-1.4761755865027963,0.31485011426256515,-0.521991690547675,-0.8130119308449821,-0.8511772824913525,0.4412605402390498,0.20492502248403782,-0.7600969305704209,1.3650806344044095,1.5839595788195793,-0.9255533579202732,1.4260526921993562,0.2211794800671896,-1.0057678764610622,-0.3172025255670704,0.35567762720637663,-1.256020916493353,-0.9431848440272603,-0.44312395586168113,0.5413545937825133,0.29866464427822986,0.9309374378225036,1.0927320222137886,0.6816329826138551,0.16945769860772733,-1.0562541561312082,0.43800782817833045,-0.614934475248173,-1.842040183576977,-0.36461688319188806,0.11804081037877812,-1.927908187932504,0.3875613384845141,2.3166938534833545,0.25507309886563106,-0.06376455573532246,0.22324627350088297,0.057930036902700044,0.26628277279917173,1.2990220920644695,0.2628516155084871,-0.2704546918745566,0.5331619389656265,-0.7149920309330231,0.10510439172378729,0.041384538695561884,0.6962859355005034,0.13714925026171573,-0.6758391677591793,0.3911853570002575,2.090479530429213,0.5677335771284356,-0.5662444899254707,-0.2243214040452147,0.476652994096476,-0.6313101423242503,-1.0956168384509517,-0.3473630783534499,-0.0913453019635285,0.1660749685581784,-0.6324153506118001,1.336531017436755,-0.48529282414607117,0.05226631998588901,0.1786405084274815,1.4112386708662197,0.6557611592320337,-0.3601867173190986,0.44016375794179113,0.0625280426120296,-0.5805898085736471,-1.8303599503308512,0.35565673033556766,-1.7749873678146948,-0.008702600419621702,-0.946621571415386,0.28732863502550626,0.680168656572631,-1.639659854305356,-0.43267660234242605,0.7339263210111374,0.9403153768938592,0.03896750343386187,0.9915484870007537,-0.21926305314552225,1.5997595841722492,0.5061382897962495,0.11521369883971239],\"yaxis\":\"y13\",\"type\":\"scatter\"},{\"line\":{\"color\":\"rgba(128, 128, 128, 1.0)\",\"dash\":\"solid\",\"shape\":\"linear\",\"width\":1.3},\"marker\":{\"size\":2,\"symbol\":\"circle\"},\"mode\":\"markers\",\"name\":\"D\",\"text\":\"\",\"x\":[2.1369138719324097,1.1218232241102921,0.26572688661593546,-0.6305003101378791,2.167181040671889,-0.23150609074463332,1.5260914845192142,1.8996590584310187,-0.5308756528251863,-1.1285592958279023,-0.7791266507171293,-1.6911442048922218,0.03259993470017688,-1.5301542368770833,-0.943124496564741,0.6401111021980387,0.5555916097716914,-0.47944004993930484,-0.3734154861180155,-2.3193218374592033,-0.25769903978196274,1.0901689928043339,-0.3787309412507085,0.6941815251138934,-0.41055317577509276,-0.7938391689626703,-0.09216651037745185,1.0536237513050577,-0.01771299556433199,-1.1354493905039764,0.36405402739491627,-0.25022937939597756,1.5460158671741624,-0.08797194860936755,-0.2693182997508638,-1.6945406701465857,-1.6654886030470293,-0.8449708912564343,0.9057644458698647,0.4930488497054626,-0.514550577625808,0.08399712687451115,-0.7120181921708862,-0.22188650000595753,-0.996247575974823,-2.6283366939612494,-0.3806094830267701,0.1410881180140036,0.5544826175873403,0.32787605876710624,0.04302194321889322,1.4248894903070992,-1.2159827938969654,0.37057004231054885,-0.3998796372393718,0.09013059092878399,0.897677474178713,1.0996054030628408,0.04685669530975385,0.8705743484320358,-1.2928816250304203,-1.993744959568647,1.3576023433880942,0.5270461933088814,-1.1143133576599562,-0.4535757125183196,-1.9473052612596844,-0.1578392966742072,1.3490461776070415,0.49834492043962886,-0.3176243733857624,0.14317832901426178,1.9711251053897287,-0.6960179115421854,0.5202843097161529,0.7294212209929505,-0.02206115315984238,-1.7717378674646553,1.741175628507748,1.0629352168952446,0.1386737629402777,0.644833401664853,-1.158732454088803,-0.8893251447971611,-0.09115194355746586,-0.8369650243486435,0.18727737894972848,2.1398181622064754,0.9045169788207471,0.6135187489031853,-0.0163735787247299,-0.048123225921188305,-0.1934586058706064,-1.3068728615356302,-0.16814932656604875,-1.7608336285547592,-0.9560428706568221,-2.4038775493786373,-0.24616587387684877,0.9363418620845582],\"xaxis\":\"x14\",\"y\":[-0.38938243741545403,0.8489870102957672,-0.3037458275459016,-0.6601049835781777,2.3580169677027394,0.5199439178609391,-0.3264757284875137,0.08630614808557951,-0.07995943538715375,0.9075978302810658,-0.6869005754865015,0.5204940139574966,-1.4761755865027963,0.31485011426256515,-0.521991690547675,-0.8130119308449821,-0.8511772824913525,0.4412605402390498,0.20492502248403782,-0.7600969305704209,1.3650806344044095,1.5839595788195793,-0.9255533579202732,1.4260526921993562,0.2211794800671896,-1.0057678764610622,-0.3172025255670704,0.35567762720637663,-1.256020916493353,-0.9431848440272603,-0.44312395586168113,0.5413545937825133,0.29866464427822986,0.9309374378225036,1.0927320222137886,0.6816329826138551,0.16945769860772733,-1.0562541561312082,0.43800782817833045,-0.614934475248173,-1.842040183576977,-0.36461688319188806,0.11804081037877812,-1.927908187932504,0.3875613384845141,2.3166938534833545,0.25507309886563106,-0.06376455573532246,0.22324627350088297,0.057930036902700044,0.26628277279917173,1.2990220920644695,0.2628516155084871,-0.2704546918745566,0.5331619389656265,-0.7149920309330231,0.10510439172378729,0.041384538695561884,0.6962859355005034,0.13714925026171573,-0.6758391677591793,0.3911853570002575,2.090479530429213,0.5677335771284356,-0.5662444899254707,-0.2243214040452147,0.476652994096476,-0.6313101423242503,-1.0956168384509517,-0.3473630783534499,-0.0913453019635285,0.1660749685581784,-0.6324153506118001,1.336531017436755,-0.48529282414607117,0.05226631998588901,0.1786405084274815,1.4112386708662197,0.6557611592320337,-0.3601867173190986,0.44016375794179113,0.0625280426120296,-0.5805898085736471,-1.8303599503308512,0.35565673033556766,-1.7749873678146948,-0.008702600419621702,-0.946621571415386,0.28732863502550626,0.680168656572631,-1.639659854305356,-0.43267660234242605,0.7339263210111374,0.9403153768938592,0.03896750343386187,0.9915484870007537,-0.21926305314552225,1.5997595841722492,0.5061382897962495,0.11521369883971239],\"yaxis\":\"y14\",\"type\":\"scatter\"},{\"line\":{\"color\":\"rgba(128, 128, 128, 1.0)\",\"dash\":\"solid\",\"shape\":\"linear\",\"width\":1.3},\"marker\":{\"size\":2,\"symbol\":\"circle\"},\"mode\":\"markers\",\"name\":\"D\",\"text\":\"\",\"x\":[0.2439544173558018,-0.5684860107771211,-0.39898336378134686,1.470445041967711,-0.8773646037251458,-1.3143521510244864,-0.6404540305233106,0.4208695834921709,0.1369830135697895,0.16164426437240773,-0.48579684965386133,0.10355648639856779,-0.7710465929877407,-0.19655171644819658,-1.6874712292595653,0.16757349392598925,1.2352849658466538,1.9574703413992662,1.2545877496858209,-0.5533735282763952,-1.9491838402304684,1.244690755258954,-2.092936179509895,-0.49658554221157797,-0.10746330738245898,1.8763769603952432,-0.7580830324982493,0.06806291941946263,-0.6752128028794379,-0.27883481594403464,0.24875502527288698,0.9934733870085766,1.1283205574627364,-1.1035597601588403,0.2816885607013435,-0.8319620583099021,-0.40064131378379686,1.4038953274465265,1.3998944991431672,-1.601486589007531,0.47391924423921605,0.466746114389561,0.9706083084817316,-0.04422878710039364,1.2676192525955698,-0.639408276402107,0.07520932095837224,-0.31907617311424424,-1.27764933100713,-0.5735550334589399,-0.026513052803373932,0.14937265522033397,0.13953507121983863,0.41307879494989813,0.45338753498149464,0.6234672068628964,-2.2765535658276685,0.7274341648676981,1.004824722296655,0.3954456500779527,2.3305354500608817,-1.8379781873764833,-0.7011796333379808,-1.0694965445897895,-0.388901381539195,-1.0462176218354262,0.6491021007853509,-0.8977083133767135,-1.4110833048295905,0.7149029038856394,-0.3910418380594732,1.253219176603211,-1.0296354258652898,-1.2588421948687074,0.3838126435700305,2.1439286995244116,0.7971571704041353,2.237661163598857,0.6427542650076359,1.2442294164108993,-0.22921932764592964,-0.44381739891857996,0.3906272403800916,0.4019060087220604,-0.1757975914727586,0.39091530437661526,0.8840655686042812,0.05371136442471388,0.7474346171342512,0.8997005175577352,1.2818203813912323,2.450606354714322,0.11240836638800612,0.3887304812772784,0.11356804428669474,0.08523393662899097,0.7643488562233913,-0.5167860270016906,-0.9161526975648713,-0.09325293782302599],\"xaxis\":\"x15\",\"y\":[-0.38938243741545403,0.8489870102957672,-0.3037458275459016,-0.6601049835781777,2.3580169677027394,0.5199439178609391,-0.3264757284875137,0.08630614808557951,-0.07995943538715375,0.9075978302810658,-0.6869005754865015,0.5204940139574966,-1.4761755865027963,0.31485011426256515,-0.521991690547675,-0.8130119308449821,-0.8511772824913525,0.4412605402390498,0.20492502248403782,-0.7600969305704209,1.3650806344044095,1.5839595788195793,-0.9255533579202732,1.4260526921993562,0.2211794800671896,-1.0057678764610622,-0.3172025255670704,0.35567762720637663,-1.256020916493353,-0.9431848440272603,-0.44312395586168113,0.5413545937825133,0.29866464427822986,0.9309374378225036,1.0927320222137886,0.6816329826138551,0.16945769860772733,-1.0562541561312082,0.43800782817833045,-0.614934475248173,-1.842040183576977,-0.36461688319188806,0.11804081037877812,-1.927908187932504,0.3875613384845141,2.3166938534833545,0.25507309886563106,-0.06376455573532246,0.22324627350088297,0.057930036902700044,0.26628277279917173,1.2990220920644695,0.2628516155084871,-0.2704546918745566,0.5331619389656265,-0.7149920309330231,0.10510439172378729,0.041384538695561884,0.6962859355005034,0.13714925026171573,-0.6758391677591793,0.3911853570002575,2.090479530429213,0.5677335771284356,-0.5662444899254707,-0.2243214040452147,0.476652994096476,-0.6313101423242503,-1.0956168384509517,-0.3473630783534499,-0.0913453019635285,0.1660749685581784,-0.6324153506118001,1.336531017436755,-0.48529282414607117,0.05226631998588901,0.1786405084274815,1.4112386708662197,0.6557611592320337,-0.3601867173190986,0.44016375794179113,0.0625280426120296,-0.5805898085736471,-1.8303599503308512,0.35565673033556766,-1.7749873678146948,-0.008702600419621702,-0.946621571415386,0.28732863502550626,0.680168656572631,-1.639659854305356,-0.43267660234242605,0.7339263210111374,0.9403153768938592,0.03896750343386187,0.9915484870007537,-0.21926305314552225,1.5997595841722492,0.5061382897962495,0.11521369883971239],\"yaxis\":\"y15\",\"type\":\"scatter\"},{\"histfunc\":\"count\",\"histnorm\":\"\",\"marker\":{\"color\":\"rgba(128, 0, 128, 1.0)\",\"line\":{\"color\":\"#4D5663\",\"width\":1.3}},\"name\":\"D\",\"nbinsx\":10,\"opacity\":0.8,\"orientation\":\"v\",\"x\":[-0.38938243741545403,0.8489870102957672,-0.3037458275459016,-0.6601049835781777,2.3580169677027394,0.5199439178609391,-0.3264757284875137,0.08630614808557951,-0.07995943538715375,0.9075978302810658,-0.6869005754865015,0.5204940139574966,-1.4761755865027963,0.31485011426256515,-0.521991690547675,-0.8130119308449821,-0.8511772824913525,0.4412605402390498,0.20492502248403782,-0.7600969305704209,1.3650806344044095,1.5839595788195793,-0.9255533579202732,1.4260526921993562,0.2211794800671896,-1.0057678764610622,-0.3172025255670704,0.35567762720637663,-1.256020916493353,-0.9431848440272603,-0.44312395586168113,0.5413545937825133,0.29866464427822986,0.9309374378225036,1.0927320222137886,0.6816329826138551,0.16945769860772733,-1.0562541561312082,0.43800782817833045,-0.614934475248173,-1.842040183576977,-0.36461688319188806,0.11804081037877812,-1.927908187932504,0.3875613384845141,2.3166938534833545,0.25507309886563106,-0.06376455573532246,0.22324627350088297,0.057930036902700044,0.26628277279917173,1.2990220920644695,0.2628516155084871,-0.2704546918745566,0.5331619389656265,-0.7149920309330231,0.10510439172378729,0.041384538695561884,0.6962859355005034,0.13714925026171573,-0.6758391677591793,0.3911853570002575,2.090479530429213,0.5677335771284356,-0.5662444899254707,-0.2243214040452147,0.476652994096476,-0.6313101423242503,-1.0956168384509517,-0.3473630783534499,-0.0913453019635285,0.1660749685581784,-0.6324153506118001,1.336531017436755,-0.48529282414607117,0.05226631998588901,0.1786405084274815,1.4112386708662197,0.6557611592320337,-0.3601867173190986,0.44016375794179113,0.0625280426120296,-0.5805898085736471,-1.8303599503308512,0.35565673033556766,-1.7749873678146948,-0.008702600419621702,-0.946621571415386,0.28732863502550626,0.680168656572631,-1.639659854305356,-0.43267660234242605,0.7339263210111374,0.9403153768938592,0.03896750343386187,0.9915484870007537,-0.21926305314552225,1.5997595841722492,0.5061382897962495,0.11521369883971239],\"xaxis\":\"x16\",\"yaxis\":\"y16\",\"type\":\"histogram\"}],                        {\"bargap\":0.02,\"legend\":{\"bgcolor\":\"#F5F6F9\",\"font\":{\"color\":\"#4D5663\"}},\"paper_bgcolor\":\"#F5F6F9\",\"plot_bgcolor\":\"#F5F6F9\",\"showlegend\":false,\"template\":{\"data\":{\"barpolar\":[{\"marker\":{\"line\":{\"color\":\"#E5ECF6\",\"width\":0.5},\"pattern\":{\"fillmode\":\"overlay\",\"size\":10,\"solidity\":0.2}},\"type\":\"barpolar\"}],\"bar\":[{\"error_x\":{\"color\":\"#2a3f5f\"},\"error_y\":{\"color\":\"#2a3f5f\"},\"marker\":{\"line\":{\"color\":\"#E5ECF6\",\"width\":0.5},\"pattern\":{\"fillmode\":\"overlay\",\"size\":10,\"solidity\":0.2}},\"type\":\"bar\"}],\"carpet\":[{\"aaxis\":{\"endlinecolor\":\"#2a3f5f\",\"gridcolor\":\"white\",\"linecolor\":\"white\",\"minorgridcolor\":\"white\",\"startlinecolor\":\"#2a3f5f\"},\"baxis\":{\"endlinecolor\":\"#2a3f5f\",\"gridcolor\":\"white\",\"linecolor\":\"white\",\"minorgridcolor\":\"white\",\"startlinecolor\":\"#2a3f5f\"},\"type\":\"carpet\"}],\"choropleth\":[{\"colorbar\":{\"outlinewidth\":0,\"ticks\":\"\"},\"type\":\"choropleth\"}],\"contourcarpet\":[{\"colorbar\":{\"outlinewidth\":0,\"ticks\":\"\"},\"type\":\"contourcarpet\"}],\"contour\":[{\"colorbar\":{\"outlinewidth\":0,\"ticks\":\"\"},\"colorscale\":[[0.0,\"#0d0887\"],[0.1111111111111111,\"#46039f\"],[0.2222222222222222,\"#7201a8\"],[0.3333333333333333,\"#9c179e\"],[0.4444444444444444,\"#bd3786\"],[0.5555555555555556,\"#d8576b\"],[0.6666666666666666,\"#ed7953\"],[0.7777777777777778,\"#fb9f3a\"],[0.8888888888888888,\"#fdca26\"],[1.0,\"#f0f921\"]],\"type\":\"contour\"}],\"heatmapgl\":[{\"colorbar\":{\"outlinewidth\":0,\"ticks\":\"\"},\"colorscale\":[[0.0,\"#0d0887\"],[0.1111111111111111,\"#46039f\"],[0.2222222222222222,\"#7201a8\"],[0.3333333333333333,\"#9c179e\"],[0.4444444444444444,\"#bd3786\"],[0.5555555555555556,\"#d8576b\"],[0.6666666666666666,\"#ed7953\"],[0.7777777777777778,\"#fb9f3a\"],[0.8888888888888888,\"#fdca26\"],[1.0,\"#f0f921\"]],\"type\":\"heatmapgl\"}],\"heatmap\":[{\"colorbar\":{\"outlinewidth\":0,\"ticks\":\"\"},\"colorscale\":[[0.0,\"#0d0887\"],[0.1111111111111111,\"#46039f\"],[0.2222222222222222,\"#7201a8\"],[0.3333333333333333,\"#9c179e\"],[0.4444444444444444,\"#bd3786\"],[0.5555555555555556,\"#d8576b\"],[0.6666666666666666,\"#ed7953\"],[0.7777777777777778,\"#fb9f3a\"],[0.8888888888888888,\"#fdca26\"],[1.0,\"#f0f921\"]],\"type\":\"heatmap\"}],\"histogram2dcontour\":[{\"colorbar\":{\"outlinewidth\":0,\"ticks\":\"\"},\"colorscale\":[[0.0,\"#0d0887\"],[0.1111111111111111,\"#46039f\"],[0.2222222222222222,\"#7201a8\"],[0.3333333333333333,\"#9c179e\"],[0.4444444444444444,\"#bd3786\"],[0.5555555555555556,\"#d8576b\"],[0.6666666666666666,\"#ed7953\"],[0.7777777777777778,\"#fb9f3a\"],[0.8888888888888888,\"#fdca26\"],[1.0,\"#f0f921\"]],\"type\":\"histogram2dcontour\"}],\"histogram2d\":[{\"colorbar\":{\"outlinewidth\":0,\"ticks\":\"\"},\"colorscale\":[[0.0,\"#0d0887\"],[0.1111111111111111,\"#46039f\"],[0.2222222222222222,\"#7201a8\"],[0.3333333333333333,\"#9c179e\"],[0.4444444444444444,\"#bd3786\"],[0.5555555555555556,\"#d8576b\"],[0.6666666666666666,\"#ed7953\"],[0.7777777777777778,\"#fb9f3a\"],[0.8888888888888888,\"#fdca26\"],[1.0,\"#f0f921\"]],\"type\":\"histogram2d\"}],\"histogram\":[{\"marker\":{\"pattern\":{\"fillmode\":\"overlay\",\"size\":10,\"solidity\":0.2}},\"type\":\"histogram\"}],\"mesh3d\":[{\"colorbar\":{\"outlinewidth\":0,\"ticks\":\"\"},\"type\":\"mesh3d\"}],\"parcoords\":[{\"line\":{\"colorbar\":{\"outlinewidth\":0,\"ticks\":\"\"}},\"type\":\"parcoords\"}],\"pie\":[{\"automargin\":true,\"type\":\"pie\"}],\"scatter3d\":[{\"line\":{\"colorbar\":{\"outlinewidth\":0,\"ticks\":\"\"}},\"marker\":{\"colorbar\":{\"outlinewidth\":0,\"ticks\":\"\"}},\"type\":\"scatter3d\"}],\"scattercarpet\":[{\"marker\":{\"colorbar\":{\"outlinewidth\":0,\"ticks\":\"\"}},\"type\":\"scattercarpet\"}],\"scattergeo\":[{\"marker\":{\"colorbar\":{\"outlinewidth\":0,\"ticks\":\"\"}},\"type\":\"scattergeo\"}],\"scattergl\":[{\"marker\":{\"colorbar\":{\"outlinewidth\":0,\"ticks\":\"\"}},\"type\":\"scattergl\"}],\"scattermapbox\":[{\"marker\":{\"colorbar\":{\"outlinewidth\":0,\"ticks\":\"\"}},\"type\":\"scattermapbox\"}],\"scatterpolargl\":[{\"marker\":{\"colorbar\":{\"outlinewidth\":0,\"ticks\":\"\"}},\"type\":\"scatterpolargl\"}],\"scatterpolar\":[{\"marker\":{\"colorbar\":{\"outlinewidth\":0,\"ticks\":\"\"}},\"type\":\"scatterpolar\"}],\"scatter\":[{\"marker\":{\"colorbar\":{\"outlinewidth\":0,\"ticks\":\"\"}},\"type\":\"scatter\"}],\"scatterternary\":[{\"marker\":{\"colorbar\":{\"outlinewidth\":0,\"ticks\":\"\"}},\"type\":\"scatterternary\"}],\"surface\":[{\"colorbar\":{\"outlinewidth\":0,\"ticks\":\"\"},\"colorscale\":[[0.0,\"#0d0887\"],[0.1111111111111111,\"#46039f\"],[0.2222222222222222,\"#7201a8\"],[0.3333333333333333,\"#9c179e\"],[0.4444444444444444,\"#bd3786\"],[0.5555555555555556,\"#d8576b\"],[0.6666666666666666,\"#ed7953\"],[0.7777777777777778,\"#fb9f3a\"],[0.8888888888888888,\"#fdca26\"],[1.0,\"#f0f921\"]],\"type\":\"surface\"}],\"table\":[{\"cells\":{\"fill\":{\"color\":\"#EBF0F8\"},\"line\":{\"color\":\"white\"}},\"header\":{\"fill\":{\"color\":\"#C8D4E3\"},\"line\":{\"color\":\"white\"}},\"type\":\"table\"}]},\"layout\":{\"annotationdefaults\":{\"arrowcolor\":\"#2a3f5f\",\"arrowhead\":0,\"arrowwidth\":1},\"autotypenumbers\":\"strict\",\"coloraxis\":{\"colorbar\":{\"outlinewidth\":0,\"ticks\":\"\"}},\"colorscale\":{\"diverging\":[[0,\"#8e0152\"],[0.1,\"#c51b7d\"],[0.2,\"#de77ae\"],[0.3,\"#f1b6da\"],[0.4,\"#fde0ef\"],[0.5,\"#f7f7f7\"],[0.6,\"#e6f5d0\"],[0.7,\"#b8e186\"],[0.8,\"#7fbc41\"],[0.9,\"#4d9221\"],[1,\"#276419\"]],\"sequential\":[[0.0,\"#0d0887\"],[0.1111111111111111,\"#46039f\"],[0.2222222222222222,\"#7201a8\"],[0.3333333333333333,\"#9c179e\"],[0.4444444444444444,\"#bd3786\"],[0.5555555555555556,\"#d8576b\"],[0.6666666666666666,\"#ed7953\"],[0.7777777777777778,\"#fb9f3a\"],[0.8888888888888888,\"#fdca26\"],[1.0,\"#f0f921\"]],\"sequentialminus\":[[0.0,\"#0d0887\"],[0.1111111111111111,\"#46039f\"],[0.2222222222222222,\"#7201a8\"],[0.3333333333333333,\"#9c179e\"],[0.4444444444444444,\"#bd3786\"],[0.5555555555555556,\"#d8576b\"],[0.6666666666666666,\"#ed7953\"],[0.7777777777777778,\"#fb9f3a\"],[0.8888888888888888,\"#fdca26\"],[1.0,\"#f0f921\"]]},\"colorway\":[\"#636efa\",\"#EF553B\",\"#00cc96\",\"#ab63fa\",\"#FFA15A\",\"#19d3f3\",\"#FF6692\",\"#B6E880\",\"#FF97FF\",\"#FECB52\"],\"font\":{\"color\":\"#2a3f5f\"},\"geo\":{\"bgcolor\":\"white\",\"lakecolor\":\"white\",\"landcolor\":\"#E5ECF6\",\"showlakes\":true,\"showland\":true,\"subunitcolor\":\"white\"},\"hoverlabel\":{\"align\":\"left\"},\"hovermode\":\"closest\",\"mapbox\":{\"style\":\"light\"},\"paper_bgcolor\":\"white\",\"plot_bgcolor\":\"#E5ECF6\",\"polar\":{\"angularaxis\":{\"gridcolor\":\"white\",\"linecolor\":\"white\",\"ticks\":\"\"},\"bgcolor\":\"#E5ECF6\",\"radialaxis\":{\"gridcolor\":\"white\",\"linecolor\":\"white\",\"ticks\":\"\"}},\"scene\":{\"xaxis\":{\"backgroundcolor\":\"#E5ECF6\",\"gridcolor\":\"white\",\"gridwidth\":2,\"linecolor\":\"white\",\"showbackground\":true,\"ticks\":\"\",\"zerolinecolor\":\"white\"},\"yaxis\":{\"backgroundcolor\":\"#E5ECF6\",\"gridcolor\":\"white\",\"gridwidth\":2,\"linecolor\":\"white\",\"showbackground\":true,\"ticks\":\"\",\"zerolinecolor\":\"white\"},\"zaxis\":{\"backgroundcolor\":\"#E5ECF6\",\"gridcolor\":\"white\",\"gridwidth\":2,\"linecolor\":\"white\",\"showbackground\":true,\"ticks\":\"\",\"zerolinecolor\":\"white\"}},\"shapedefaults\":{\"line\":{\"color\":\"#2a3f5f\"}},\"ternary\":{\"aaxis\":{\"gridcolor\":\"white\",\"linecolor\":\"white\",\"ticks\":\"\"},\"baxis\":{\"gridcolor\":\"white\",\"linecolor\":\"white\",\"ticks\":\"\"},\"bgcolor\":\"#E5ECF6\",\"caxis\":{\"gridcolor\":\"white\",\"linecolor\":\"white\",\"ticks\":\"\"}},\"title\":{\"x\":0.05},\"xaxis\":{\"automargin\":true,\"gridcolor\":\"white\",\"linecolor\":\"white\",\"ticks\":\"\",\"title\":{\"standoff\":15},\"zerolinecolor\":\"white\",\"zerolinewidth\":2},\"yaxis\":{\"automargin\":true,\"gridcolor\":\"white\",\"linecolor\":\"white\",\"ticks\":\"\",\"title\":{\"standoff\":15},\"zerolinecolor\":\"white\",\"zerolinewidth\":2}}},\"title\":{\"font\":{\"color\":\"#4D5663\"}},\"xaxis\":{\"anchor\":\"y\",\"domain\":[0.0,0.2125],\"gridcolor\":\"#E1E5ED\",\"showgrid\":false,\"tickfont\":{\"color\":\"#4D5663\"},\"title\":{\"font\":{\"color\":\"#4D5663\"},\"text\":\"\"},\"zerolinecolor\":\"#E1E5ED\"},\"yaxis\":{\"anchor\":\"x\",\"domain\":[0.8025,1.0],\"gridcolor\":\"#E1E5ED\",\"showgrid\":false,\"tickfont\":{\"color\":\"#4D5663\"},\"title\":{\"font\":{\"color\":\"#4D5663\"},\"text\":\"\"},\"zerolinecolor\":\"#E1E5ED\"},\"xaxis2\":{\"anchor\":\"y2\",\"domain\":[0.2625,0.475],\"gridcolor\":\"#E1E5ED\",\"showgrid\":false,\"tickfont\":{\"color\":\"#4D5663\"},\"title\":{\"font\":{\"color\":\"#4D5663\"},\"text\":\"\"},\"zerolinecolor\":\"#E1E5ED\"},\"yaxis2\":{\"anchor\":\"x2\",\"domain\":[0.8025,1.0],\"gridcolor\":\"#E1E5ED\",\"showgrid\":false,\"tickfont\":{\"color\":\"#4D5663\"},\"title\":{\"font\":{\"color\":\"#4D5663\"},\"text\":\"\"},\"zerolinecolor\":\"#E1E5ED\"},\"xaxis3\":{\"anchor\":\"y3\",\"domain\":[0.525,0.7375],\"gridcolor\":\"#E1E5ED\",\"showgrid\":false,\"tickfont\":{\"color\":\"#4D5663\"},\"title\":{\"font\":{\"color\":\"#4D5663\"},\"text\":\"\"},\"zerolinecolor\":\"#E1E5ED\"},\"yaxis3\":{\"anchor\":\"x3\",\"domain\":[0.8025,1.0],\"gridcolor\":\"#E1E5ED\",\"showgrid\":false,\"tickfont\":{\"color\":\"#4D5663\"},\"title\":{\"font\":{\"color\":\"#4D5663\"},\"text\":\"\"},\"zerolinecolor\":\"#E1E5ED\"},\"xaxis4\":{\"anchor\":\"y4\",\"domain\":[0.7875,1.0],\"gridcolor\":\"#E1E5ED\",\"showgrid\":false,\"tickfont\":{\"color\":\"#4D5663\"},\"title\":{\"font\":{\"color\":\"#4D5663\"},\"text\":\"\"},\"zerolinecolor\":\"#E1E5ED\"},\"yaxis4\":{\"anchor\":\"x4\",\"domain\":[0.8025,1.0],\"gridcolor\":\"#E1E5ED\",\"showgrid\":false,\"tickfont\":{\"color\":\"#4D5663\"},\"title\":{\"font\":{\"color\":\"#4D5663\"},\"text\":\"\"},\"zerolinecolor\":\"#E1E5ED\"},\"xaxis5\":{\"anchor\":\"y5\",\"domain\":[0.0,0.2125],\"gridcolor\":\"#E1E5ED\",\"showgrid\":false,\"tickfont\":{\"color\":\"#4D5663\"},\"title\":{\"font\":{\"color\":\"#4D5663\"},\"text\":\"\"},\"zerolinecolor\":\"#E1E5ED\"},\"yaxis5\":{\"anchor\":\"x5\",\"domain\":[0.535,0.7325],\"gridcolor\":\"#E1E5ED\",\"showgrid\":false,\"tickfont\":{\"color\":\"#4D5663\"},\"title\":{\"font\":{\"color\":\"#4D5663\"},\"text\":\"\"},\"zerolinecolor\":\"#E1E5ED\"},\"xaxis6\":{\"anchor\":\"y6\",\"domain\":[0.2625,0.475],\"gridcolor\":\"#E1E5ED\",\"showgrid\":false,\"tickfont\":{\"color\":\"#4D5663\"},\"title\":{\"font\":{\"color\":\"#4D5663\"},\"text\":\"\"},\"zerolinecolor\":\"#E1E5ED\"},\"yaxis6\":{\"anchor\":\"x6\",\"domain\":[0.535,0.7325],\"gridcolor\":\"#E1E5ED\",\"showgrid\":false,\"tickfont\":{\"color\":\"#4D5663\"},\"title\":{\"font\":{\"color\":\"#4D5663\"},\"text\":\"\"},\"zerolinecolor\":\"#E1E5ED\"},\"xaxis7\":{\"anchor\":\"y7\",\"domain\":[0.525,0.7375],\"gridcolor\":\"#E1E5ED\",\"showgrid\":false,\"tickfont\":{\"color\":\"#4D5663\"},\"title\":{\"font\":{\"color\":\"#4D5663\"},\"text\":\"\"},\"zerolinecolor\":\"#E1E5ED\"},\"yaxis7\":{\"anchor\":\"x7\",\"domain\":[0.535,0.7325],\"gridcolor\":\"#E1E5ED\",\"showgrid\":false,\"tickfont\":{\"color\":\"#4D5663\"},\"title\":{\"font\":{\"color\":\"#4D5663\"},\"text\":\"\"},\"zerolinecolor\":\"#E1E5ED\"},\"xaxis8\":{\"anchor\":\"y8\",\"domain\":[0.7875,1.0],\"gridcolor\":\"#E1E5ED\",\"showgrid\":false,\"tickfont\":{\"color\":\"#4D5663\"},\"title\":{\"font\":{\"color\":\"#4D5663\"},\"text\":\"\"},\"zerolinecolor\":\"#E1E5ED\"},\"yaxis8\":{\"anchor\":\"x8\",\"domain\":[0.535,0.7325],\"gridcolor\":\"#E1E5ED\",\"showgrid\":false,\"tickfont\":{\"color\":\"#4D5663\"},\"title\":{\"font\":{\"color\":\"#4D5663\"},\"text\":\"\"},\"zerolinecolor\":\"#E1E5ED\"},\"xaxis9\":{\"anchor\":\"y9\",\"domain\":[0.0,0.2125],\"gridcolor\":\"#E1E5ED\",\"showgrid\":false,\"tickfont\":{\"color\":\"#4D5663\"},\"title\":{\"font\":{\"color\":\"#4D5663\"},\"text\":\"\"},\"zerolinecolor\":\"#E1E5ED\"},\"yaxis9\":{\"anchor\":\"x9\",\"domain\":[0.2675,0.465],\"gridcolor\":\"#E1E5ED\",\"showgrid\":false,\"tickfont\":{\"color\":\"#4D5663\"},\"title\":{\"font\":{\"color\":\"#4D5663\"},\"text\":\"\"},\"zerolinecolor\":\"#E1E5ED\"},\"xaxis10\":{\"anchor\":\"y10\",\"domain\":[0.2625,0.475],\"gridcolor\":\"#E1E5ED\",\"showgrid\":false,\"tickfont\":{\"color\":\"#4D5663\"},\"title\":{\"font\":{\"color\":\"#4D5663\"},\"text\":\"\"},\"zerolinecolor\":\"#E1E5ED\"},\"yaxis10\":{\"anchor\":\"x10\",\"domain\":[0.2675,0.465],\"gridcolor\":\"#E1E5ED\",\"showgrid\":false,\"tickfont\":{\"color\":\"#4D5663\"},\"title\":{\"font\":{\"color\":\"#4D5663\"},\"text\":\"\"},\"zerolinecolor\":\"#E1E5ED\"},\"xaxis11\":{\"anchor\":\"y11\",\"domain\":[0.525,0.7375],\"gridcolor\":\"#E1E5ED\",\"showgrid\":false,\"tickfont\":{\"color\":\"#4D5663\"},\"title\":{\"font\":{\"color\":\"#4D5663\"},\"text\":\"\"},\"zerolinecolor\":\"#E1E5ED\"},\"yaxis11\":{\"anchor\":\"x11\",\"domain\":[0.2675,0.465],\"gridcolor\":\"#E1E5ED\",\"showgrid\":false,\"tickfont\":{\"color\":\"#4D5663\"},\"title\":{\"font\":{\"color\":\"#4D5663\"},\"text\":\"\"},\"zerolinecolor\":\"#E1E5ED\"},\"xaxis12\":{\"anchor\":\"y12\",\"domain\":[0.7875,1.0],\"gridcolor\":\"#E1E5ED\",\"showgrid\":false,\"tickfont\":{\"color\":\"#4D5663\"},\"title\":{\"font\":{\"color\":\"#4D5663\"},\"text\":\"\"},\"zerolinecolor\":\"#E1E5ED\"},\"yaxis12\":{\"anchor\":\"x12\",\"domain\":[0.2675,0.465],\"gridcolor\":\"#E1E5ED\",\"showgrid\":false,\"tickfont\":{\"color\":\"#4D5663\"},\"title\":{\"font\":{\"color\":\"#4D5663\"},\"text\":\"\"},\"zerolinecolor\":\"#E1E5ED\"},\"xaxis13\":{\"anchor\":\"y13\",\"domain\":[0.0,0.2125],\"gridcolor\":\"#E1E5ED\",\"showgrid\":false,\"tickfont\":{\"color\":\"#4D5663\"},\"title\":{\"font\":{\"color\":\"#4D5663\"},\"text\":\"\"},\"zerolinecolor\":\"#E1E5ED\"},\"yaxis13\":{\"anchor\":\"x13\",\"domain\":[0.0,0.1975],\"gridcolor\":\"#E1E5ED\",\"showgrid\":false,\"tickfont\":{\"color\":\"#4D5663\"},\"title\":{\"font\":{\"color\":\"#4D5663\"},\"text\":\"\"},\"zerolinecolor\":\"#E1E5ED\"},\"xaxis14\":{\"anchor\":\"y14\",\"domain\":[0.2625,0.475],\"gridcolor\":\"#E1E5ED\",\"showgrid\":false,\"tickfont\":{\"color\":\"#4D5663\"},\"title\":{\"font\":{\"color\":\"#4D5663\"},\"text\":\"\"},\"zerolinecolor\":\"#E1E5ED\"},\"yaxis14\":{\"anchor\":\"x14\",\"domain\":[0.0,0.1975],\"gridcolor\":\"#E1E5ED\",\"showgrid\":false,\"tickfont\":{\"color\":\"#4D5663\"},\"title\":{\"font\":{\"color\":\"#4D5663\"},\"text\":\"\"},\"zerolinecolor\":\"#E1E5ED\"},\"xaxis15\":{\"anchor\":\"y15\",\"domain\":[0.525,0.7375],\"gridcolor\":\"#E1E5ED\",\"showgrid\":false,\"tickfont\":{\"color\":\"#4D5663\"},\"title\":{\"font\":{\"color\":\"#4D5663\"},\"text\":\"\"},\"zerolinecolor\":\"#E1E5ED\"},\"yaxis15\":{\"anchor\":\"x15\",\"domain\":[0.0,0.1975],\"gridcolor\":\"#E1E5ED\",\"showgrid\":false,\"tickfont\":{\"color\":\"#4D5663\"},\"title\":{\"font\":{\"color\":\"#4D5663\"},\"text\":\"\"},\"zerolinecolor\":\"#E1E5ED\"},\"xaxis16\":{\"anchor\":\"y16\",\"domain\":[0.7875,1.0],\"gridcolor\":\"#E1E5ED\",\"showgrid\":false,\"tickfont\":{\"color\":\"#4D5663\"},\"title\":{\"font\":{\"color\":\"#4D5663\"},\"text\":\"\"},\"zerolinecolor\":\"#E1E5ED\"},\"yaxis16\":{\"anchor\":\"x16\",\"domain\":[0.0,0.1975],\"gridcolor\":\"#E1E5ED\",\"showgrid\":false,\"tickfont\":{\"color\":\"#4D5663\"},\"title\":{\"font\":{\"color\":\"#4D5663\"},\"text\":\"\"},\"zerolinecolor\":\"#E1E5ED\"}},                        {\"showLink\": true, \"linkText\": \"Export to plot.ly\", \"plotlyServerURL\": \"https://plot.ly\", \"responsive\": true}                    ).then(function(){\n",
       "                            \n",
       "var gd = document.getElementById('7639f9dc-7802-4b64-b4fd-35aef0eb603a');\n",
       "var x = new MutationObserver(function (mutations, observer) {{\n",
       "        var display = window.getComputedStyle(gd).display;\n",
       "        if (!display || display === 'none') {{\n",
       "            console.log([gd, 'removed!']);\n",
       "            Plotly.purge(gd);\n",
       "            observer.disconnect();\n",
       "        }}\n",
       "}});\n",
       "\n",
       "// Listen for the removal of the full notebook cells\n",
       "var notebookContainer = gd.closest('#notebook-container');\n",
       "if (notebookContainer) {{\n",
       "    x.observe(notebookContainer, {childList: true});\n",
       "}}\n",
       "\n",
       "// Listen for the clearing of the current output cell\n",
       "var outputEl = gd.closest('.output');\n",
       "if (outputEl) {{\n",
       "    x.observe(outputEl, {childList: true});\n",
       "}}\n",
       "\n",
       "                        })                };                });            </script>        </div>"
      ]
     },
     "metadata": {},
     "output_type": "display_data"
    }
   ],
   "source": [
    "df.scatter_matrix()"
   ]
  },
  {
   "cell_type": "markdown",
   "metadata": {
    "collapsed": true
   },
   "source": [
    "# Great Job!"
   ]
  }
 ],
 "metadata": {
  "kernelspec": {
   "display_name": "Python 3",
   "language": "python",
   "name": "python3"
  },
  "language_info": {
   "codemirror_mode": {
    "name": "ipython",
    "version": 3
   },
   "file_extension": ".py",
   "mimetype": "text/x-python",
   "name": "python",
   "nbconvert_exporter": "python",
   "pygments_lexer": "ipython3",
   "version": "3.8.5"
  }
 },
 "nbformat": 4,
 "nbformat_minor": 1
}
